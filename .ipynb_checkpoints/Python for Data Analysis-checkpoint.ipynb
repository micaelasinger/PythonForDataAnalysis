{
 "cells": [
  {
   "cell_type": "markdown",
   "id": "05c37d2d-a58f-4919-9af7-d1e61421a6e6",
   "metadata": {},
   "source": [
    "# Python for Data Analysis\n",
    "\n",
    "Based on Greg Hammel's Sessions: https://www.kaggle.com/hamelg/python-for-data-analysis-index"
   ]
  },
  {
   "cell_type": "markdown",
   "id": "9b548c81-c880-469b-949a-df9cb9e35b08",
   "metadata": {},
   "source": [
    "## 1. Getting started\n",
    "### Shortcuts\n",
    "* \"A\" to create a new cell above the current cell \n",
    "* \"B\" to create a new cell below the current cell \n",
    "* \"M\" to convert the current cell to Markdown \n",
    "* \"Y\" to convert the current cell to code \n",
    "* \"DD\" (press \"D\" twice) to delete the current cell"
   ]
  },
  {
   "cell_type": "markdown",
   "id": "34fbb005-87d9-4883-adff-1065180ba8db",
   "metadata": {},
   "source": [
    "## 2. Python Arithmetic\n",
    "### Operations\n",
    "* Substraction: 10 - 3\n",
    "* Addition: 10 + 3\n",
    "* Multiplication: 10 * 3\n",
    "* Decimal division: 10 / 3\n",
    "* Floor division: 10 // 3\n",
    "* Exponentiation: 10 ** 3\n",
    "* Modulus (produces the remainder you'd get when dividing two numbers): 100 % 75 = 25\n",
    "\n",
    "### Math module"
   ]
  },
  {
   "cell_type": "code",
   "execution_count": 2,
   "id": "950d0aa3-0b37-44be-9c95-7bfc6f77597f",
   "metadata": {},
   "outputs": [
    {
     "data": {
      "text/plain": [
       "0.9999698965391098"
      ]
     },
     "execution_count": 2,
     "metadata": {},
     "output_type": "execute_result"
    }
   ],
   "source": [
    "import math\n",
    "# Logarithm of argument\n",
    "math.log(2.7182)"
   ]
  },
  {
   "cell_type": "code",
   "execution_count": 3,
   "id": "9a9062ba-0563-4e50-af61-a685564edb75",
   "metadata": {},
   "outputs": [
    {
     "data": {
      "text/plain": [
       "2.0"
      ]
     },
     "execution_count": 3,
     "metadata": {},
     "output_type": "execute_result"
    }
   ],
   "source": [
    "# Add a second argument to specify the log base\n",
    "math.log(100,10)"
   ]
  },
  {
   "cell_type": "code",
   "execution_count": 4,
   "id": "525ecc0f-62a3-43d6-af70-354f1ec91395",
   "metadata": {},
   "outputs": [
    {
     "data": {
      "text/plain": [
       "22026.465794806718"
      ]
     },
     "execution_count": 4,
     "metadata": {},
     "output_type": "execute_result"
    }
   ],
   "source": [
    "# Raise e to the power of its argument\n",
    "math.exp(10)"
   ]
  },
  {
   "cell_type": "code",
   "execution_count": 5,
   "id": "8dd5f92a-36d7-4e57-b81e-47e42b631a72",
   "metadata": {},
   "outputs": [
    {
     "data": {
      "text/plain": [
       "8.0"
      ]
     },
     "execution_count": 5,
     "metadata": {},
     "output_type": "execute_result"
    }
   ],
   "source": [
    "# Take the root square of a number\n",
    "math.sqrt(64)"
   ]
  },
  {
   "cell_type": "code",
   "execution_count": 7,
   "id": "fb9acb8f-ae11-4483-bde9-aeb541b15f36",
   "metadata": {},
   "outputs": [
    {
     "data": {
      "text/plain": [
       "30"
      ]
     },
     "execution_count": 7,
     "metadata": {},
     "output_type": "execute_result"
    }
   ],
   "source": [
    "# Absolute value of a number\n",
    "abs(-30)"
   ]
  },
  {
   "cell_type": "code",
   "execution_count": 8,
   "id": "5ce420cc-690b-43ac-9546-a38d529c6a73",
   "metadata": {},
   "outputs": [
    {
     "data": {
      "text/plain": [
       "3.141592653589793"
      ]
     },
     "execution_count": 8,
     "metadata": {},
     "output_type": "execute_result"
    }
   ],
   "source": [
    "# Constant of pi\n",
    "math.pi"
   ]
  },
  {
   "cell_type": "code",
   "execution_count": 9,
   "id": "46c6ef62-9430-45cf-81fd-0d7522ea261b",
   "metadata": {},
   "outputs": [
    {
     "data": {
      "text/plain": [
       "11"
      ]
     },
     "execution_count": 9,
     "metadata": {},
     "output_type": "execute_result"
    }
   ],
   "source": [
    "# Round to nearest whole number\n",
    "round(10.6)"
   ]
  },
  {
   "cell_type": "code",
   "execution_count": 10,
   "id": "ce8d1198-12aa-4536-b475-517e03f10056",
   "metadata": {},
   "outputs": [
    {
     "data": {
      "text/plain": [
       "233.47"
      ]
     },
     "execution_count": 10,
     "metadata": {},
     "output_type": "execute_result"
    }
   ],
   "source": [
    "# Add a second number to specify number of decimals\n",
    "round(233.4678, 2)"
   ]
  },
  {
   "cell_type": "code",
   "execution_count": 11,
   "id": "7f4c53ac-f078-4b49-a804-154027e2eeae",
   "metadata": {},
   "outputs": [
    {
     "data": {
      "text/plain": [
       "100"
      ]
     },
     "execution_count": 11,
     "metadata": {},
     "output_type": "execute_result"
    }
   ],
   "source": [
    "# Round down to nearest whole number\n",
    "math.floor(100.5)"
   ]
  },
  {
   "cell_type": "markdown",
   "id": "c5844ad3-fa5a-4e65-bc4e-a69affdce8a8",
   "metadata": {},
   "source": [
    "## 3. Basic data types\n"
   ]
  },
  {
   "cell_type": "markdown",
   "id": "bf7f44c3-fce5-40fa-9338-fa86ce878124",
   "metadata": {},
   "source": [
    "* Integers: whole-numbered numeric values (positive or negative)\n",
    "* Floats: numbers with decimal values. Inf and -Inf (infinite values) are floats\n",
    "* Booleans: true/false values that result from logical statements. bool(1)=True, bool(0)=False\n",
    "* Strings: text value ('') or (\"\")\n",
    "* None: represents a missing value"
   ]
  },
  {
   "cell_type": "markdown",
   "id": "ba500b2a-d0ff-469b-bc28-56ef34e010e0",
   "metadata": {},
   "source": [
    "## 4. Variables\n",
    "A variable is a name you assign a value or object."
   ]
  },
  {
   "cell_type": "code",
   "execution_count": 1,
   "id": "4274d49e-67bd-4d9c-a89d-559e2b837ea1",
   "metadata": {},
   "outputs": [
    {
     "name": "stdout",
     "output_type": "stream",
     "text": [
      "10 Python is fun True\n"
     ]
    }
   ],
   "source": [
    "x = 10\n",
    "y = \"Python is fun\"\n",
    "z = 144**0.5 == 12\n",
    "\n",
    "print(x,y,z)"
   ]
  },
  {
   "cell_type": "code",
   "execution_count": 3,
   "id": "45f2257b-8ed6-46c8-bc29-bde2865afbd7",
   "metadata": {},
   "outputs": [
    {
     "name": "stdout",
     "output_type": "stream",
     "text": [
      "10\n",
      "20\n",
      "30\n"
     ]
    }
   ],
   "source": [
    "# 'Tuple unpacking' is the method of extracting variables from a comma separated sequence\n",
    "\n",
    "x, y, z = (10 ,20 ,30)\n",
    "\n",
    "print(x)\n",
    "print(y)\n",
    "print(z)"
   ]
  },
  {
   "cell_type": "code",
   "execution_count": 4,
   "id": "c0d2f221-5e3f-490a-9e56-a80c8476cdca",
   "metadata": {},
   "outputs": [
    {
     "name": "stdout",
     "output_type": "stream",
     "text": [
      "20\n",
      "10\n"
     ]
    }
   ],
   "source": [
    "# Swap values of two variables\n",
    "\n",
    "(x, y) = (y, x)\n",
    "\n",
    "print(x)\n",
    "print(y)"
   ]
  },
  {
   "cell_type": "markdown",
   "id": "d6987ece-720f-46e4-bd10-ddc26a335c3f",
   "metadata": {},
   "source": [
    "When assigning a variable in Python, the variable is a reference to a specific object in the computer's memory.\n",
    "Reassigning a variable simply switches the reference to a different object in memory.\n",
    "If the object a variable refers to in memory is altered, the value of the variable corresponding to the altered object will also change. \n",
    "All of the data types seen so far are inmutable (they cannot be changed after created).\n",
    "If an operations appears to be altering an inmutable object, it is actually creating a totally new object rather than altering the one that exists."
   ]
  },
  {
   "cell_type": "code",
   "execution_count": 8,
   "id": "d101530c-e53f-4486-933a-cc1fa05d0892",
   "metadata": {},
   "outputs": [
    {
     "name": "stdout",
     "output_type": "stream",
     "text": [
      "Hello\n",
      "hello\n"
     ]
    }
   ],
   "source": [
    "x = \"Hello\"\n",
    "y = x        # Assign y the same object as x\n",
    "y = y.lower() # Assing y the result of lower()\n",
    "\n",
    "# Strings are inmutable, Python creates an entirely new string \"hello\" and stores it somewhere else separate from \"Hello\"\n",
    "# x and y are different objects in memory\n",
    "\n",
    "print(x)\n",
    "print(y)"
   ]
  },
  {
   "cell_type": "markdown",
   "id": "04e094f8-5ef0-4881-8398-5c00f59b0cd5",
   "metadata": {},
   "source": [
    "Lists are a mutable data structure that can hold multiple objects. When altering a list, Python doesn't make an entirely new list in memory, it changes the actual list object itself."
   ]
  },
  {
   "cell_type": "code",
   "execution_count": 10,
   "id": "be91a23b-fa73-48d4-8041-07fa8b4be61d",
   "metadata": {},
   "outputs": [
    {
     "name": "stdout",
     "output_type": "stream",
     "text": [
      "[1, 2, 3, 4]\n",
      "[1, 2, 3, 4]\n"
     ]
    }
   ],
   "source": [
    "x = [1, 2, 3]  # Create a list\n",
    "y = x          # Assing y the same object as x\n",
    "y.append(4)    # Add 4 to the end of the list\n",
    "print(x)\n",
    "print(y)\n",
    "\n",
    "# x and y have the same value, even though it may appear that 4 was only added to y"
   ]
  },
  {
   "cell_type": "markdown",
   "id": "f7bbf1aa-b747-402d-86df-0686bc358498",
   "metadata": {},
   "source": [
    "## 5. Lists\n",
    "### List basics\n",
    "One of the most common sequenced data types in Python.\n",
    "* A list is a mutable, ordered collection of objects **it can be altered after created**\n",
    "* Lists are heterogenous, they can hold objects of different types\n",
    "* A list with no content is an empty list. Will return []"
   ]
  },
  {
   "cell_type": "code",
   "execution_count": 11,
   "id": "0f07b363-c6e6-4083-8398-1b8135c2cefa",
   "metadata": {},
   "outputs": [
    {
     "name": "stdout",
     "output_type": "stream",
     "text": [
      "['Lesson', 5, 'Is fun?', True]\n"
     ]
    }
   ],
   "source": [
    "my_list = [\"Lesson\", 5, \"Is fun?\", True]\n",
    "print(my_list)"
   ]
  },
  {
   "cell_type": "markdown",
   "id": "39b4ba12-029e-4c3f-9f21-c8a51275f1fd",
   "metadata": {},
   "source": [
    "Construct a list by passing some iterable into the list() function. An **iterable** is an object you can look through one item at a time (lists, tuples, strings...) "
   ]
  },
  {
   "cell_type": "code",
   "execution_count": 22,
   "id": "c1f8e847-aaf4-41de-a8ec-6a5e5b7e2a0a",
   "metadata": {},
   "outputs": [
    {
     "name": "stdout",
     "output_type": "stream",
     "text": [
      "['L', 'i', 'f', 'e', ' ', 'i', 's', ' ', 'a', 'w', 'e', 's', 'o', 'm', 'e']\n"
     ]
    }
   ],
   "source": [
    "second_list = list(\"Life is awesome\")\n",
    "print(second_list)"
   ]
  },
  {
   "cell_type": "code",
   "execution_count": 13,
   "id": "85596ae0-0c56-4a96-9837-28953697703b",
   "metadata": {},
   "outputs": [
    {
     "name": "stdout",
     "output_type": "stream",
     "text": [
      "['L', 'i', 'f', 'e', ' ', 'i', 's', ' ', 'a', 'w', 'e', 's', 'o', 'm', 'e', '!!!']\n"
     ]
    }
   ],
   "source": [
    "# Add an item to an existing list with the list.append() function\n",
    "\n",
    "second_list.append(\"!!!\")\n",
    "print(second_list)"
   ]
  },
  {
   "cell_type": "code",
   "execution_count": 21,
   "id": "3aef2f58-e5d9-4898-ba0e-a6c46c7c7c54",
   "metadata": {},
   "outputs": [
    {
     "name": "stdout",
     "output_type": "stream",
     "text": [
      "['f', 'e', ' ', 'i', 's', ' ', 'a', 'w', 'e', 's', 'o', 'm', 'e', '!!!']\n"
     ]
    }
   ],
   "source": [
    "# Remove a matching item from a list with list.remove()\n",
    "# It deletes the first matching item only\n",
    "\n",
    "second_list.remove('i')\n",
    "print(second_list)"
   ]
  },
  {
   "cell_type": "code",
   "execution_count": 23,
   "id": "8ecc2f72-bb36-4398-9f72-30a31d2d91be",
   "metadata": {},
   "outputs": [
    {
     "name": "stdout",
     "output_type": "stream",
     "text": [
      "['Lesson', 5, 'Is fun?', True, 'L', 'i', 'f', 'e', ' ', 'i', 's', ' ', 'a', 'w', 'e', 's', 'o', 'm', 'e']\n"
     ]
    }
   ],
   "source": [
    "# Join two lists together with the + operator\n",
    "\n",
    "combined_list = my_list + second_list\n",
    "print(combined_list)"
   ]
  },
  {
   "cell_type": "code",
   "execution_count": 24,
   "id": "6a5cb641-aed0-4438-8f7e-c407cc336b3b",
   "metadata": {},
   "outputs": [
    {
     "name": "stdout",
     "output_type": "stream",
     "text": [
      "['Lesson', 5, 'Is fun?', True, 'L', 'i', 'f', 'e', ' ', 'i', 's', ' ', 'a', 'w', 'e', 's', 'o', 'm', 'e', 1, 2, 3]\n"
     ]
    }
   ],
   "source": [
    "# Add a sequence to the end of an existing list with the list.extend() function\n",
    "\n",
    "combined_list.extend({1, 2, 3})\n",
    "print(combined_list)"
   ]
  },
  {
   "cell_type": "code",
   "execution_count": 27,
   "id": "0ba04729-427a-46af-aeba-72351a8555f3",
   "metadata": {},
   "outputs": [
    {
     "name": "stdout",
     "output_type": "stream",
     "text": [
      "5\n",
      "1\n",
      "9\n",
      "25\n",
      "5.0\n"
     ]
    }
   ],
   "source": [
    "# Check min, max, length\n",
    "\n",
    "num_list =[1, 3, 5, 7, 9]\n",
    "print(len(num_list))  # Get lenght of list\n",
    "print(min(num_list))  # Get min of list\n",
    "print(max(num_list))  # Get max of list\n",
    "print(sum(num_list))  # Get the sum of items in list\n",
    "print(sum(num_list)/len(num_list))  # Get the mean"
   ]
  },
  {
   "cell_type": "code",
   "execution_count": 28,
   "id": "479f0c76-ec7e-45a6-9bfe-d8a9d2dedfee",
   "metadata": {},
   "outputs": [
    {
     "data": {
      "text/plain": [
       "True"
      ]
     },
     "execution_count": 28,
     "metadata": {},
     "output_type": "execute_result"
    }
   ],
   "source": [
    "# Check wether a list contains a certain object with \"in\"\n",
    "\n",
    "1 in num_list"
   ]
  },
  {
   "cell_type": "code",
   "execution_count": 29,
   "id": "ca408e11-9c65-4a42-9f25-e3576eeabee4",
   "metadata": {},
   "outputs": [
    {
     "data": {
      "text/plain": [
       "True"
      ]
     },
     "execution_count": 29,
     "metadata": {},
     "output_type": "execute_result"
    }
   ],
   "source": [
    "# Check wether an object is not in a list \"not in\"\n",
    "8 not in num_list"
   ]
  },
  {
   "cell_type": "code",
   "execution_count": 30,
   "id": "6534a622-9e3d-466b-9e2e-833864fb95f0",
   "metadata": {},
   "outputs": [
    {
     "data": {
      "text/plain": [
       "1"
      ]
     },
     "execution_count": 30,
     "metadata": {},
     "output_type": "execute_result"
    }
   ],
   "source": [
    "# Count recurrence of an object in a list with lis.count()\n",
    "num_list.count(1)"
   ]
  },
  {
   "cell_type": "code",
   "execution_count": 34,
   "id": "15e575cd-1161-449e-8c6c-0ba96d2dadb6",
   "metadata": {},
   "outputs": [
    {
     "name": "stdout",
     "output_type": "stream",
     "text": [
      "Reversed list:  [4, 3, 2, 1]\n",
      "Sorted list:  [1, 2, 3, 4]\n"
     ]
    }
   ],
   "source": [
    "# Reverse and sort list\n",
    "\n",
    "new_list = [1, 2, 3, 4]\n",
    "new_list.reverse()\n",
    "print (\"Reversed list: \", new_list)\n",
    "\n",
    "new_list.sort()\n",
    "print(\"Sorted list: \", new_list)"
   ]
  },
  {
   "cell_type": "markdown",
   "id": "db70e13a-e856-4ecc-bd31-8d32455d217a",
   "metadata": {},
   "source": [
    "### List indexign and slicing\n",
    "* Indexed: each position in the sequence has a corresponding number called the \"index\", used to look up the value at that position\n",
    "* First element of a sequence in Python is 0"
   ]
  },
  {
   "cell_type": "code",
   "execution_count": 37,
   "id": "ccf30918-7d9e-43af-b245-b4d495e13488",
   "metadata": {},
   "outputs": [
    {
     "name": "stdout",
     "output_type": "stream",
     "text": [
      "Hello\n"
     ]
    }
   ],
   "source": [
    "another_list = [\"Hello\",\"my\",\"name\",\"is\",\"Micaela\"]\n",
    "\n",
    "print(another_list[0]) # Get the first object in list"
   ]
  },
  {
   "cell_type": "code",
   "execution_count": 38,
   "id": "d7a54080-1c25-492d-88b5-5d3b528ef0d7",
   "metadata": {},
   "outputs": [
    {
     "name": "stdout",
     "output_type": "stream",
     "text": [
      "Micaela\n"
     ]
    }
   ],
   "source": [
    "# When supplying a negative number while indexing, it accesses items from the other end of the list going backwards\n",
    "print(another_list[-1])"
   ]
  },
  {
   "cell_type": "code",
   "execution_count": 39,
   "id": "20ba52ef-3aba-4e21-ba31-6169c7664d9a",
   "metadata": {},
   "outputs": [],
   "source": [
    "# IndexError happens when supplying an index outside of the list's range"
   ]
  },
  {
   "cell_type": "code",
   "execution_count": 40,
   "id": "fd0950ba-996d-4847-ae12-253acde5b02b",
   "metadata": {},
   "outputs": [
    {
     "name": "stdout",
     "output_type": "stream",
     "text": [
      "1\n"
     ]
    }
   ],
   "source": [
    "# When list contains indexed numbers, you can supply additional indexes to get items contained within the nested objects\n",
    "\n",
    "nested_list = [[0, 1, 2], [3, 4, 5]]\n",
    "print(nested_list[0][1])"
   ]
  },
  {
   "cell_type": "markdown",
   "id": "c0dbf9cd-fe54-42f2-9ac9-9193f920d7a7",
   "metadata": {},
   "source": [
    "You can slice a list using the sintax [start:stop:step]:\n",
    "* Start: starting index\n",
    "* Stop: ending index\n",
    "* Step: controls how frequently to sample values along the slice. The default step size is one"
   ]
  },
  {
   "cell_type": "code",
   "execution_count": 41,
   "id": "d81b534e-75a2-4b6f-be60-bbca55491066",
   "metadata": {},
   "outputs": [
    {
     "data": {
      "text/plain": [
       "['Hello', 'my', 'name']"
      ]
     },
     "execution_count": 41,
     "metadata": {},
     "output_type": "execute_result"
    }
   ],
   "source": [
    "another_list[0:3]"
   ]
  },
  {
   "cell_type": "code",
   "execution_count": 42,
   "id": "71100d83-2954-432b-bb2a-24fdc316b040",
   "metadata": {},
   "outputs": [
    {
     "data": {
      "text/plain": [
       "['Hello', 'name']"
      ]
     },
     "execution_count": 42,
     "metadata": {},
     "output_type": "execute_result"
    }
   ],
   "source": [
    "another_list[0:3:2]"
   ]
  },
  {
   "cell_type": "code",
   "execution_count": 47,
   "id": "9fe4fee9-239d-4232-9a99-17f09f5b0a4b",
   "metadata": {},
   "outputs": [
    {
     "name": "stdout",
     "output_type": "stream",
     "text": [
      "['Hello', 'my', 'name', 'is']\n",
      "['is', 'Micaela']\n",
      "['Hello', 'my', 'name', 'is', 'Micaela']\n",
      "['Micaela', 'is', 'name', 'my', 'Hello']\n"
     ]
    }
   ],
   "source": [
    "# Leave the starting and ending index blank to slice from the beginning or up to the end of the list\n",
    "print(another_list[:4]) # End index is 4\n",
    "print(another_list[3:]) # Start index is 3\n",
    "print(another_list[:])  # To slice the entire list\n",
    "print(another_list[::-1]) # Slices and reverses the list"
   ]
  },
  {
   "cell_type": "code",
   "execution_count": 50,
   "id": "fc148b3c-340c-4c2d-b3b4-c4a58f968166",
   "metadata": {},
   "outputs": [
    {
     "name": "stdout",
     "output_type": "stream",
     "text": [
      "['Hello', 'my', 'name', 'new']\n",
      "['Hello', 'my', 'name']\n"
     ]
    }
   ],
   "source": [
    "# Index new items and delete items\n",
    "another_list[3]=\"new\" # Adding new index in position 3\n",
    "print(another_list)\n",
    "del(another_list[3]) # Delete from another_list index 3\n",
    "print(another_list)"
   ]
  },
  {
   "cell_type": "code",
   "execution_count": 52,
   "id": "e41cd600-f472-446f-ad6e-572d7a5be3f7",
   "metadata": {},
   "outputs": [
    {
     "name": "stdout",
     "output_type": "stream",
     "text": [
      "am\n",
      "['Hello', 'here', 'I']\n"
     ]
    }
   ],
   "source": [
    "# pop() function removes the final item in a list and returns it\n",
    "another_list = [\"Hello\", \"here\", \"I\", \"am\"]\n",
    "\n",
    "final_item = another_list.pop()\n",
    "print(final_item)\n",
    "print(another_list)"
   ]
  },
  {
   "cell_type": "markdown",
   "id": "186249e5-2b00-497d-b0bf-03d7f384574c",
   "metadata": {},
   "source": [
    "### Copying Lists"
   ]
  },
  {
   "cell_type": "code",
   "execution_count": 54,
   "id": "56dd2140-872e-4dfe-aa8b-cff686083423",
   "metadata": {},
   "outputs": [
    {
     "name": "stdout",
     "output_type": "stream",
     "text": [
      "List1:  [1, 2, 3, 4]\n",
      "List2:  [1, 2, 3]\n"
     ]
    }
   ],
   "source": [
    "# Copy a list with the list.copy() function\n",
    "list1 = [1, 2, 3]\n",
    "list2 = list1.copy() # Copy list\n",
    "list1.append(4)      # Add item to list 1\n",
    "print(\"List1: \", list1)\n",
    "print(\"List2: \", list2)"
   ]
  },
  {
   "cell_type": "markdown",
   "id": "d1b91763-01a0-4210-9d39-a276c26ee8e7",
   "metadata": {},
   "source": [
    "List2 (the copy) is not affected by the append() function, it's a **'shallow copy'**. A shallow copy makes a new list where each element refers to the object at the same position in the original list. Shallow copies can have *undisered effects* when they coppy lists that contain mutable objects, like other lists."
   ]
  },
  {
   "cell_type": "code",
   "execution_count": 56,
   "id": "8a579d7d-a4cc-4af9-8bfe-4eb5610bcaad",
   "metadata": {},
   "outputs": [
    {
     "name": "stdout",
     "output_type": "stream",
     "text": [
      "Before appending to list1: \n",
      "List2:  ['The list', [1, 2, 3]]\n",
      "List3:  ['The list', [1, 2, 3]] \n",
      "\n",
      "After appending to list1: \n",
      "List2:  ['The list', [1, 2, 3, 4]]\n",
      "List3:  ['The list', [1, 2, 3, 4]]\n"
     ]
    }
   ],
   "source": [
    "list1 = [1, 2, 3]\n",
    "list2 = [\"The list\", list1] # Nest list in another list\n",
    "list3 = list2.copy()        # Shallow copy list2\n",
    "\n",
    "print(\"Before appending to list1: \")\n",
    "print(\"List2: \", list2)\n",
    "print(\"List3: \", list3, \"\\n\")\n",
    "\n",
    "list1.append(4)\n",
    "print(\"After appending to list1: \")\n",
    "print(\"List2: \", list2)\n",
    "print(\"List3: \", list3)"
   ]
  },
  {
   "cell_type": "markdown",
   "id": "c8829a00-4610-4230-8096-d28d6f129351",
   "metadata": {},
   "source": [
    "When altering list 1, the copies list2 and list3 both change. \n",
    "**When working with nested lists, you have to make a deepcopy if you want to trully copy nested objects in the original to avoid this behavior.**"
   ]
  },
  {
   "cell_type": "code",
   "execution_count": 57,
   "id": "c85b2d55-fedb-4631-9bb5-fdfdbe36bb15",
   "metadata": {},
   "outputs": [
    {
     "name": "stdout",
     "output_type": "stream",
     "text": [
      "Before appending to list1:\n",
      "List2: ['List within a list', [1, 2, 3]]\n",
      "List3: ['List within a list', [1, 2, 3]] \n",
      "\n",
      "After appending to list1:\n",
      "List2: ['List within a list', [1, 2, 3, 4]]\n",
      "List3: ['List within a list', [1, 2, 3]]\n"
     ]
    }
   ],
   "source": [
    "import copy      # Load the copy module\n",
    "\n",
    "list1 = [1, 2, 3]\n",
    "\n",
    "list2 = [\"List within a list\", list1]   # Nest list1 into another list\n",
    "list3 = copy.deepcopy(list2)            # Deep copy list 2\n",
    "\n",
    "print(\"Before appending to list1:\")\n",
    "print(\"List2:\", list2)\n",
    "print(\"List3:\", list3, \"\\n\")\n",
    "\n",
    "list1.append(4)                        # Add an item to list1\n",
    "print(\"After appending to list1:\")\n",
    "print(\"List2:\", list2)\n",
    "print(\"List3:\", list3)"
   ]
  },
  {
   "cell_type": "markdown",
   "id": "8e1d4cc4-5803-446a-a20c-1b7a4d3c7cf8",
   "metadata": {},
   "source": [
    "List3 isn't altered by the change in list1, because list3 is a copy rather than a reference of list1."
   ]
  },
  {
   "cell_type": "markdown",
   "id": "db64f9fc-57ad-4189-8993-51b2d8525cad",
   "metadata": {},
   "source": [
    "## 6. Tuples and Strings\n",
    "### Tuples\n",
    "Tuples are an inmutable sequence data type used to hold short collections of related data (example: latitude and longitude coordinates). Recommended for values related and not likely to change. Tuples can store objects of different types. "
   ]
  },
  {
   "cell_type": "code",
   "execution_count": 1,
   "id": "ae571171-5438-49b5-a160-40ed377e2c59",
   "metadata": {},
   "outputs": [
    {
     "name": "stdout",
     "output_type": "stream",
     "text": [
      "(1, 3, 5)\n"
     ]
    }
   ],
   "source": [
    "my_tuple = (1, 3, 5)\n",
    "print(my_tuple)"
   ]
  },
  {
   "cell_type": "code",
   "execution_count": 2,
   "id": "9971c4f1-4180-4004-a630-5a6f56fdc3c8",
   "metadata": {},
   "outputs": [
    {
     "data": {
      "text/plain": [
       "(2, 3, 1)"
      ]
     },
     "execution_count": 2,
     "metadata": {},
     "output_type": "execute_result"
    }
   ],
   "source": [
    "# Change from list to tuple with the tuple() function\n",
    "\n",
    "my_list = [2, 3, 1]\n",
    "another_tuple = tuple(my_list)\n",
    "another_tuple"
   ]
  },
  {
   "cell_type": "markdown",
   "id": "6f92d122-e8f8-4f85-a4ba-b73a5864e6e1",
   "metadata": {},
   "source": [
    "Tuples have the same indexing and slicing operations as lists and some of the same functions. **However, tuples cannot be changed once created, so we can't append new values to them or remove values from them.** "
   ]
  },
  {
   "cell_type": "code",
   "execution_count": 3,
   "id": "7869725a-dd5c-4bdc-9ea6-58b0ef42ea70",
   "metadata": {},
   "outputs": [
    {
     "data": {
      "text/plain": [
       "1"
      ]
     },
     "execution_count": 3,
     "metadata": {},
     "output_type": "execute_result"
    }
   ],
   "source": [
    "another_tuple[2] # Index into tuples"
   ]
  },
  {
   "cell_type": "code",
   "execution_count": 5,
   "id": "b3170e81-4d9b-42d2-92f8-1f0f6b98ba0c",
   "metadata": {},
   "outputs": [
    {
     "data": {
      "text/plain": [
       "(2,)"
      ]
     },
     "execution_count": 5,
     "metadata": {},
     "output_type": "execute_result"
    }
   ],
   "source": [
    "another_tuple[0:1] # Slice tuples"
   ]
  },
  {
   "cell_type": "markdown",
   "id": "0f2b3bfd-b855-4710-8f1d-a4ee1d95549e",
   "metadata": {},
   "source": [
    "You can sort objects in tuple using the sorted() function, but doing so creates a new list containing the result rather than sorting the original tuple itself like the list.sort(). To avoid the \"shallow copy\" behaviour, you have to make a deepcopy using the copy library."
   ]
  },
  {
   "cell_type": "code",
   "execution_count": 7,
   "id": "89cdebb7-488a-45a4-8d27-6bcd11376a5b",
   "metadata": {},
   "outputs": [
    {
     "data": {
      "text/plain": [
       "[1, 2, 3]"
      ]
     },
     "execution_count": 7,
     "metadata": {},
     "output_type": "execute_result"
    }
   ],
   "source": [
    "sorted(another_tuple)"
   ]
  },
  {
   "cell_type": "code",
   "execution_count": 10,
   "id": "a154f55c-b40e-4fb4-a52c-4932608c7ff8",
   "metadata": {},
   "outputs": [
    {
     "name": "stdout",
     "output_type": "stream",
     "text": [
      "('Tuples are inmutable', [1, 2, 3])\n"
     ]
    }
   ],
   "source": [
    "import copy\n",
    "list1 = [1, 2, 3]\n",
    "\n",
    "tuple1 = (\"Tuples are inmutable\", list1)\n",
    "\n",
    "tuple2 = copy.deepcopy(tuple1) # Make a deep copy\n",
    "\n",
    "list1.append(\"But lists are mutable\") # The append won't change the tupple because you made a deepcopy and not a shallow one\n",
    "\n",
    "print(tuple2)"
   ]
  },
  {
   "cell_type": "markdown",
   "id": "42b07aa5-2b6b-45db-8299-f069f0b8513e",
   "metadata": {},
   "source": [
    "### Strings\n",
    "Strings are sequences: inmutable sequences of text characters. They support indexing operations, and start with index 0.\n",
    "**As inmutable objects, every time you transform a string with a function, Python makes a new string object rather than altering the original one in you computer's memory.**"
   ]
  },
  {
   "cell_type": "code",
   "execution_count": 11,
   "id": "819a7228-205a-4cf9-b5bf-48d67f701115",
   "metadata": {},
   "outputs": [
    {
     "name": "stdout",
     "output_type": "stream",
     "text": [
      "l\n",
      "lo world\n",
      "dlrow olleH\n"
     ]
    }
   ],
   "source": [
    "my_string = \"Hello world\"\n",
    "print(my_string[3]) # Get the character at index 3\n",
    "print(my_string[3:]) # Slice from index 3 to the end\n",
    "print(my_string[::-1]) # Reverse the string"
   ]
  },
  {
   "cell_type": "code",
   "execution_count": 13,
   "id": "9bc6546b-70ea-4284-96dc-2c0fac463ae2",
   "metadata": {},
   "outputs": [
    {
     "name": "stdout",
     "output_type": "stream",
     "text": [
      "11\n",
      "3\n"
     ]
    }
   ],
   "source": [
    "# Functions and len() and count() work on strings\n",
    "print(len(my_string))\n",
    "print(my_string.count(\"l\"))"
   ]
  },
  {
   "cell_type": "code",
   "execution_count": 15,
   "id": "95c7be5f-f537-47bb-8909-83ab810f88f7",
   "metadata": {},
   "outputs": [
    {
     "name": "stdout",
     "output_type": "stream",
     "text": [
      "hello world\n",
      "HELLO WORLD\n",
      "Hello World\n",
      "6\n",
      "-1\n"
     ]
    }
   ],
   "source": [
    "# Some other functions\n",
    "\n",
    "print(my_string.lower())    # Make all characters lowercase\n",
    "print(my_string.upper())    # Make all characters uppercase\n",
    "print(my_string.title())    # Make the first letter of each word uppercase\n",
    "\n",
    "# None of these functions change the original my_string\n",
    "\n",
    "# Find the index of the first appearing substring within a string with the str.find() function\n",
    "print(my_string.find(\"w\"))   # This one will work because \"w\" appears in the original my_string\n",
    "print(my_string.find(\"W\"))   # This will return -1 because it won't find it in my_string"
   ]
  },
  {
   "cell_type": "code",
   "execution_count": 16,
   "id": "20d1b988-3c31-4468-bffc-941ebc5bcb34",
   "metadata": {},
   "outputs": [
    {
     "data": {
      "text/plain": [
       "'Hello friend'"
      ]
     },
     "execution_count": 16,
     "metadata": {},
     "output_type": "execute_result"
    }
   ],
   "source": [
    "# Find and replace with the str.replace() function\n",
    "my_string.replace(\"world\", \"friend\")"
   ]
  },
  {
   "cell_type": "code",
   "execution_count": 17,
   "id": "2fc11982-d931-4986-aff1-9b2cfd572974",
   "metadata": {},
   "outputs": [
    {
     "name": "stdout",
     "output_type": "stream",
     "text": [
      "['Hello', 'world']\n",
      "['He', '', 'o wor', 'd']\n"
     ]
    }
   ],
   "source": [
    "# Split a string with str.split() function\n",
    "print(my_string.split())    # By default splits on spaces\n",
    "print(my_string.split(\"l\")) # Supply a substring to split on other values"
   ]
  },
  {
   "cell_type": "code",
   "execution_count": 18,
   "id": "21bc6b1d-5e7d-4c4e-9060-a6ee063ec4ae",
   "metadata": {},
   "outputs": [
    {
     "data": {
      "text/plain": [
       "['\"I am', 'a multiline\"', 'string!']"
      ]
     },
     "execution_count": 18,
     "metadata": {},
     "output_type": "execute_result"
    }
   ],
   "source": [
    "# Split a multi-line string into a list of lines using str.splitlines()\n",
    "\n",
    "multiline_string = \"\"\"\"I am\n",
    "a multiline\"\n",
    "string!\n",
    "\"\"\"\n",
    "\n",
    "multiline_string.splitlines()"
   ]
  },
  {
   "cell_type": "code",
   "execution_count": 19,
   "id": "34feabb6-0afb-40cf-ac63-8cada93ff4aa",
   "metadata": {},
   "outputs": [
    {
     "name": "stdout",
     "output_type": "stream",
     "text": [
      "['strip', 'white', 'space']\n"
     ]
    }
   ],
   "source": [
    "# Strip leading and trailing characters from both ends of a string with str.split()\n",
    "\n",
    "print(\"  strip white space  \".split())   # Removes white space by default"
   ]
  },
  {
   "cell_type": "code",
   "execution_count": 2,
   "id": "04176a4c-bae0-49f6-bd1d-f90881d32151",
   "metadata": {},
   "outputs": [
    {
     "name": "stdout",
     "output_type": "stream",
     "text": [
      "Helloworld\n",
      "Hello world please join me\n"
     ]
    }
   ],
   "source": [
    "# Join strings with + or with join() function\n",
    "print(\"Hello\"+\"world\")\n",
    "print(\" \".join([\"Hello\",\"world\",\"please\",\"join\",\"me\"]))"
   ]
  },
  {
   "cell_type": "code",
   "execution_count": 3,
   "id": "db7abbfa-2ceb-4c25-9828-ae11f371c0b2",
   "metadata": {},
   "outputs": [
    {
     "data": {
      "text/plain": [
       "'My name is Joe I am 29 and I live in Paris'"
      ]
     },
     "execution_count": 3,
     "metadata": {},
     "output_type": "execute_result"
    }
   ],
   "source": [
    "# For string operations it is recommended to use str.format()\n",
    "name = \"Joe\"\n",
    "age = 29\n",
    "city = \"Paris\"\n",
    "template_string = \"My name is {} I am {} and I live in {}\"\n",
    "template_string.format(name, age, city)"
   ]
  },
  {
   "cell_type": "markdown",
   "id": "665f74c1-0b83-46dd-a808-489e81f111aa",
   "metadata": {},
   "source": [
    "## 7. Data dictionaries and sets\n",
    "\n",
    "Lists, tuples and strings are ordered sequences. Ordering comes at a price, when searching through sequences, the computer goes through each element one at a time to find the object you're looking for.\n",
    "\n",
    "Dictionaries and sets are **unordered** Python data structures. They use a technique called *hashing*. They let you check wether they contain a certain object without having to search each element one at a time."
   ]
  },
  {
   "cell_type": "markdown",
   "id": "3ab51181-905d-4840-a161-6917e1201ae0",
   "metadata": {},
   "source": [
    "### Dictionaries\n",
    "A dictionary or dict maps a set of indexes called keys to a set of corresponding values. Dictionaries are **mutable**, so you can add or remove keys and their associated values. **A dictionaries keys are inmutable**, but they can be anything (strings, tuples, ints). "
   ]
  },
  {
   "cell_type": "code",
   "execution_count": 7,
   "id": "526752f3-c290-4a20-9640-620a01e575a2",
   "metadata": {},
   "outputs": [
    {
     "name": "stdout",
     "output_type": "stream",
     "text": [
      "{'name': 'Joe', 'age': 29, 'city': 'Paris'}\n"
     ]
    }
   ],
   "source": [
    "my_dict = {\"name\" : \"Joe\",\n",
    "          \"age\" : 29,\n",
    "          \"city\" : \"Paris\"}\n",
    "print(my_dict)"
   ]
  },
  {
   "cell_type": "code",
   "execution_count": 9,
   "id": "d8b13797-0177-45f1-9570-28443505eda4",
   "metadata": {},
   "outputs": [
    {
     "data": {
      "text/plain": [
       "'Joe'"
      ]
     },
     "execution_count": 9,
     "metadata": {},
     "output_type": "execute_result"
    }
   ],
   "source": [
    "# Index into a dictionary using keys rather than indexes\n",
    "my_dict[\"name\"]"
   ]
  },
  {
   "cell_type": "code",
   "execution_count": 10,
   "id": "c1db3c91-f2db-4b2f-b8f1-1fe8f2466fa2",
   "metadata": {},
   "outputs": [
    {
     "name": "stdout",
     "output_type": "stream",
     "text": [
      "{'name': 'Joe', 'age': 29, 'city': 'Paris', 'new key': 'new_value'}\n"
     ]
    }
   ],
   "source": [
    "# Add new items to an existing dictionary\n",
    "my_dict[\"new key\"] = \"new_value\"\n",
    "print(my_dict)"
   ]
  },
  {
   "cell_type": "code",
   "execution_count": 12,
   "id": "e23e9480-b441-42c6-987b-ba5f2f187350",
   "metadata": {},
   "outputs": [
    {
     "name": "stdout",
     "output_type": "stream",
     "text": [
      "{'name': 'Joe', 'age': 29, 'city': 'Paris'}\n"
     ]
    }
   ],
   "source": [
    "# Delete existing keys with del\n",
    "del my_dict[\"new key\"]\n",
    "print(my_dict)"
   ]
  },
  {
   "cell_type": "code",
   "execution_count": 13,
   "id": "8bd2a1b2-e64c-4591-a2f1-e068c48587eb",
   "metadata": {},
   "outputs": [
    {
     "data": {
      "text/plain": [
       "3"
      ]
     },
     "execution_count": 13,
     "metadata": {},
     "output_type": "execute_result"
    }
   ],
   "source": [
    "# Check number of items with len()\n",
    "len(my_dict)"
   ]
  },
  {
   "cell_type": "code",
   "execution_count": 14,
   "id": "e43acf02-c7e1-442a-bb00-38c2b31d52e3",
   "metadata": {},
   "outputs": [
    {
     "data": {
      "text/plain": [
       "True"
      ]
     },
     "execution_count": 14,
     "metadata": {},
     "output_type": "execute_result"
    }
   ],
   "source": [
    "# Check wether a certain key exists in the dictionary\n",
    "\"name\" in my_dict"
   ]
  },
  {
   "cell_type": "code",
   "execution_count": 15,
   "id": "e3ffbd5f-6f15-4e61-93a3-1b4f5f545eae",
   "metadata": {},
   "outputs": [
    {
     "name": "stdout",
     "output_type": "stream",
     "text": [
      "dict_keys(['name', 'age', 'city'])\n",
      "dict_values(['Joe', 29, 'Paris'])\n",
      "dict_items([('name', 'Joe'), ('age', 29), ('city', 'Paris')])\n"
     ]
    }
   ],
   "source": [
    "# Access keys\n",
    "print(my_dict.keys())\n",
    "\n",
    "# Acces values\n",
    "print(my_dict.values())\n",
    "\n",
    "# Access items\n",
    "print(my_dict.items())"
   ]
  },
  {
   "cell_type": "code",
   "execution_count": 18,
   "id": "449dc108-7bfd-4d1a-b0f9-911ed361cb41",
   "metadata": {},
   "outputs": [
    {
     "name": "stdout",
     "output_type": "stream",
     "text": [
      "{'name': ['Joe', 'Emily', 'Lupin'], 'age': [29, 27, 30], 'city': ['Paris', 'Paris', 'Paris']}\n"
     ]
    }
   ],
   "source": [
    "# Store data in a dictionary\n",
    "\n",
    "my_table_dict = {\"name\" : [\"Joe\", \"Emily\", \"Lupin\"],\n",
    "                \"age\" : [29, 27, 30],\n",
    "                \"city\" : [\"Paris\", \"Paris\", \"Paris\"]}\n",
    "print(my_table_dict)"
   ]
  },
  {
   "cell_type": "markdown",
   "id": "e8328b92-1ca9-4da7-9d0c-96811ff2150f",
   "metadata": {},
   "source": [
    "### Sets\n",
    "Sets are **unordered, mutable collections of inmutable objects that cannot contain duplicates.** Sets are useful for storing and performing operations on data where each value is unique. Sets do not support indexing but they do support max(), min(), len() and in operations."
   ]
  },
  {
   "cell_type": "code",
   "execution_count": 19,
   "id": "91713e85-4555-4c12-9630-05e925691fe5",
   "metadata": {},
   "outputs": [
    {
     "data": {
      "text/plain": [
       "set"
      ]
     },
     "execution_count": 19,
     "metadata": {},
     "output_type": "execute_result"
    }
   ],
   "source": [
    "# Create a set with {}\n",
    "my_set = {1,2,3,4,5,6}\n",
    "type(my_set)"
   ]
  },
  {
   "cell_type": "code",
   "execution_count": 20,
   "id": "6c1731da-7dcf-41d6-b17a-c915d79561b3",
   "metadata": {},
   "outputs": [
    {
     "name": "stdout",
     "output_type": "stream",
     "text": [
      "{1, 2, 3, 4, 5, 6, 7}\n"
     ]
    }
   ],
   "source": [
    "# Add items to a set\n",
    "\n",
    "my_set.add(7)\n",
    "\n",
    "print(my_set)"
   ]
  },
  {
   "cell_type": "code",
   "execution_count": 22,
   "id": "36fea45b-bd29-470b-a4f5-649950ea46f1",
   "metadata": {},
   "outputs": [
    {
     "name": "stdout",
     "output_type": "stream",
     "text": [
      "{1, 2, 3, 4, 5, 6}\n"
     ]
    }
   ],
   "source": [
    "# Remove items from set\n",
    "\n",
    "my_set.remove(7)\n",
    "print(my_set)"
   ]
  },
  {
   "cell_type": "markdown",
   "id": "d9a8d7c8-387a-4f5c-93c7-0d3dcff4b514",
   "metadata": {},
   "source": [
    "One of the main goals of sets is to perform set operations that compare or combine different sets. Operations like union, intersection, difference and checking wether a set is a subset from another."
   ]
  },
  {
   "cell_type": "code",
   "execution_count": 2,
   "id": "0e4eb568-d931-49f0-a3a8-7b91ad885fef",
   "metadata": {},
   "outputs": [
    {
     "data": {
      "text/plain": [
       "{1, 2, 3, 4, 5, 6}"
      ]
     },
     "execution_count": 2,
     "metadata": {},
     "output_type": "execute_result"
    }
   ],
   "source": [
    "set1 = {1,3,5,6}\n",
    "set2 = {1,2,3,4}\n",
    "\n",
    "# Get the union of two sets\n",
    "set1.union(set2)"
   ]
  },
  {
   "cell_type": "code",
   "execution_count": 3,
   "id": "cb9ea8b1-5d78-4edf-8f9e-f4db1ed2ab41",
   "metadata": {},
   "outputs": [
    {
     "data": {
      "text/plain": [
       "{1, 3}"
      ]
     },
     "execution_count": 3,
     "metadata": {},
     "output_type": "execute_result"
    }
   ],
   "source": [
    "# Get the intersection of two sets\n",
    "\n",
    "set1.intersection(set2)"
   ]
  },
  {
   "cell_type": "code",
   "execution_count": 5,
   "id": "6661c183-e857-4925-98b2-c952b40e8f5e",
   "metadata": {},
   "outputs": [
    {
     "data": {
      "text/plain": [
       "{5, 6}"
      ]
     },
     "execution_count": 5,
     "metadata": {},
     "output_type": "execute_result"
    }
   ],
   "source": [
    "# Get the difference between two sets\n",
    "\n",
    "set1.difference(set2)"
   ]
  },
  {
   "cell_type": "code",
   "execution_count": 6,
   "id": "baf35220-c53d-4892-b38e-1b0db1a0ba15",
   "metadata": {},
   "outputs": [
    {
     "data": {
      "text/plain": [
       "False"
      ]
     },
     "execution_count": 6,
     "metadata": {},
     "output_type": "execute_result"
    }
   ],
   "source": [
    "# Check wether set 1 is a subset of set 2\n",
    "\n",
    "set1.issubset(set2)"
   ]
  },
  {
   "cell_type": "markdown",
   "id": "b1ddfd01-08eb-498a-a070-90b99bd3ba7c",
   "metadata": {},
   "source": [
    "To convert a list into a set use the set() function. Converting a list into a set **drops any duplicate elements** in the list. This is a useful way of dropping duplicates or counting the unique items in a list. **Membership lookups are faster with sets than with lists**, when planning to look up items repeatedly."
   ]
  },
  {
   "cell_type": "code",
   "execution_count": 7,
   "id": "121f92f9-5088-4966-a6da-d6f92ba96c6a",
   "metadata": {},
   "outputs": [
    {
     "data": {
      "text/plain": [
       "{1, 2, 3, 4, 5, 6}"
      ]
     },
     "execution_count": 7,
     "metadata": {},
     "output_type": "execute_result"
    }
   ],
   "source": [
    "my_list = [1,2,2,2,3,3,4,5,5,5,6]\n",
    "set(my_list)"
   ]
  },
  {
   "cell_type": "markdown",
   "id": "a4e620eb-12ba-4939-9b00-b890fe8c2a22",
   "metadata": {},
   "source": [
    "## 8. Numpy arrays"
   ]
  },
  {
   "cell_type": "markdown",
   "id": "30d8571b-1d05-4a8f-84c8-f8ddfe05a523",
   "metadata": {},
   "source": [
    "### Nummpy and array basics\n",
    "Numpy implements a data structure called N-dimensional array or ndarray. ndarrays contain a collection of items that can be accessed via indexes. They are **homogeneous**, meaning they can only contain objects of the same type and they can be multi-dimensional, making it easy to store 2-dimensional tables or matrices. "
   ]
  },
  {
   "cell_type": "code",
   "execution_count": 4,
   "id": "af9ac294-7e68-4573-a6f5-a7c3fa01a362",
   "metadata": {},
   "outputs": [
    {
     "data": {
      "text/plain": [
       "numpy.ndarray"
      ]
     },
     "execution_count": 4,
     "metadata": {},
     "output_type": "execute_result"
    }
   ],
   "source": [
    "import numpy as np\n",
    "\n",
    "# Create an ndarray by passing a list to np.array()\n",
    "my_list = [1, 2, 3, 4]          # Define a list\n",
    "my_array = np.array(my_list)   # Pass the list to nparray\n",
    "type(my_array)"
   ]
  },
  {
   "cell_type": "code",
   "execution_count": 7,
   "id": "c0672c92-91e6-4386-bd7a-fa269c4e40d8",
   "metadata": {},
   "outputs": [
    {
     "data": {
      "text/plain": [
       "numpy.ndarray"
      ]
     },
     "execution_count": 7,
     "metadata": {},
     "output_type": "execute_result"
    }
   ],
   "source": [
    "# Create an array with more than one dimension, pass a nested list to np.array()\n",
    "\n",
    "second_list = [5, 6, 7, 8]\n",
    "two_d_array = np.array([my_list,second_list])\n",
    "type(two_d_array)"
   ]
  },
  {
   "cell_type": "markdown",
   "id": "1954a0d4-4e42-4360-8d74-9d1dfdb1a3e6",
   "metadata": {},
   "source": [
    "An ndarray is defined by the number of dimensions it has, the size of each dimension and the type of data it holds. You can check the number and size of dimensions of an ndarray with the shape attribute"
   ]
  },
  {
   "cell_type": "code",
   "execution_count": 8,
   "id": "3cea374f-15b9-456b-aabd-b6cfd824dc82",
   "metadata": {},
   "outputs": [
    {
     "data": {
      "text/plain": [
       "(2, 4)"
      ]
     },
     "execution_count": 8,
     "metadata": {},
     "output_type": "execute_result"
    }
   ],
   "source": [
    "# Check number and size of dimensions\n",
    "\n",
    "two_d_array.shape"
   ]
  },
  {
   "cell_type": "code",
   "execution_count": 9,
   "id": "2ca31ecd-a1d4-4339-af62-1ea13a25fd8d",
   "metadata": {},
   "outputs": [
    {
     "data": {
      "text/plain": [
       "8"
      ]
     },
     "execution_count": 9,
     "metadata": {},
     "output_type": "execute_result"
    }
   ],
   "source": [
    "# Check total number of items (total size) in an array with the size attribute\n",
    "two_d_array.size"
   ]
  },
  {
   "cell_type": "code",
   "execution_count": 11,
   "id": "e13079a3-363f-4abd-866d-7888c21f422f",
   "metadata": {},
   "outputs": [
    {
     "data": {
      "text/plain": [
       "dtype('int32')"
      ]
     },
     "execution_count": 11,
     "metadata": {},
     "output_type": "execute_result"
    }
   ],
   "source": [
    "# Check the type with the dtype attribute\n",
    "two_d_array.dtype"
   ]
  },
  {
   "cell_type": "code",
   "execution_count": 12,
   "id": "6207008d-242a-4782-8f8a-cae89ca9136b",
   "metadata": {},
   "outputs": [
    {
     "data": {
      "text/plain": [
       "array([[1., 0., 0., 0., 0.],\n",
       "       [0., 1., 0., 0., 0.],\n",
       "       [0., 0., 1., 0., 0.],\n",
       "       [0., 0., 0., 1., 0.],\n",
       "       [0., 0., 0., 0., 1.]])"
      ]
     },
     "execution_count": 12,
     "metadata": {},
     "output_type": "execute_result"
    }
   ],
   "source": [
    "# np.identity() to create a square 2nd array with 1's across the diagonal\n",
    "\n",
    "np.identity(n=5)  # size of the array"
   ]
  },
  {
   "cell_type": "code",
   "execution_count": 15,
   "id": "49c13869-9d81-4478-ad54-59dd7555e740",
   "metadata": {},
   "outputs": [
    {
     "data": {
      "text/plain": [
       "array([[0., 1., 0., 0., 0.],\n",
       "       [0., 0., 1., 0., 0.],\n",
       "       [0., 0., 0., 1., 0.]])"
      ]
     },
     "execution_count": 15,
     "metadata": {},
     "output_type": "execute_result"
    }
   ],
   "source": [
    "# np.eye() to create a 2nd array with 1's across a specified diagonal\n",
    "\n",
    "np.eye(N = 3,  # Number of rows\n",
    "       M = 5,  # Number of columns\n",
    "       k = 1)  # Index of the diagonal (main diagonal (0) is default)"
   ]
  },
  {
   "cell_type": "code",
   "execution_count": 16,
   "id": "e6d917e9-8854-472f-9df0-7ab52186d54e",
   "metadata": {},
   "outputs": [
    {
     "data": {
      "text/plain": [
       "array([[1., 1., 1., 1.],\n",
       "       [1., 1., 1., 1.]])"
      ]
     },
     "execution_count": 16,
     "metadata": {},
     "output_type": "execute_result"
    }
   ],
   "source": [
    "# np.ones() to create an array filled with ones:\n",
    "\n",
    "np.ones(shape = [2, 4])"
   ]
  },
  {
   "cell_type": "code",
   "execution_count": 17,
   "id": "27f23a01-4d85-417e-a87b-47f4720dba39",
   "metadata": {},
   "outputs": [
    {
     "data": {
      "text/plain": [
       "array([[0., 0., 0., 0., 0., 0.],\n",
       "       [0., 0., 0., 0., 0., 0.],\n",
       "       [0., 0., 0., 0., 0., 0.],\n",
       "       [0., 0., 0., 0., 0., 0.]])"
      ]
     },
     "execution_count": 17,
     "metadata": {},
     "output_type": "execute_result"
    }
   ],
   "source": [
    "# np.zeros() to create an array filled with zeros:\n",
    "\n",
    "np.zeros(shape = [4, 6])"
   ]
  },
  {
   "cell_type": "markdown",
   "id": "5c2108d5-50f9-4148-a043-5220e99d8601",
   "metadata": {},
   "source": [
    "### Array indexing and slicing\n",
    "They mirror the syntax of Python lists."
   ]
  },
  {
   "cell_type": "code",
   "execution_count": 19,
   "id": "335aa1fb-3a6c-4f56-aba8-87b8f4ae81c0",
   "metadata": {},
   "outputs": [
    {
     "data": {
      "text/plain": [
       "4"
      ]
     },
     "execution_count": 19,
     "metadata": {},
     "output_type": "execute_result"
    }
   ],
   "source": [
    "# Get the item at index 3\n",
    "\n",
    "one_d_array = np.array([1, 2, 3, 4, 5, 6])\n",
    "one_d_array[3]"
   ]
  },
  {
   "cell_type": "code",
   "execution_count": 21,
   "id": "bce682ef-67a5-4c82-abd8-0d2e2e457fb9",
   "metadata": {},
   "outputs": [
    {
     "data": {
      "text/plain": [
       "array([4, 5, 6])"
      ]
     },
     "execution_count": 21,
     "metadata": {},
     "output_type": "execute_result"
    }
   ],
   "source": [
    "# Get a slice from index 3 to the end INCLUDES 3\n",
    "one_d_array[3:]"
   ]
  },
  {
   "cell_type": "code",
   "execution_count": 22,
   "id": "4c594626-9886-42d0-890e-cd5863b27a0f",
   "metadata": {},
   "outputs": [
    {
     "data": {
      "text/plain": [
       "array([6, 5, 4, 3, 2, 1])"
      ]
     },
     "execution_count": 22,
     "metadata": {},
     "output_type": "execute_result"
    }
   ],
   "source": [
    "# Slice backwards to reverse the array\n",
    "one_d_array[::-1]"
   ]
  },
  {
   "cell_type": "code",
   "execution_count": 24,
   "id": "6d6f4aff-0690-4321-b32d-780233ebc1c2",
   "metadata": {},
   "outputs": [
    {
     "name": "stdout",
     "output_type": "stream",
     "text": [
      "[[ 1  2  3  4  5  6]\n",
      " [ 7  8  9 10 11 12]\n",
      " [13 14 15 16 17 18]]\n"
     ]
    }
   ],
   "source": [
    "# If an ndarray has more than one dimension, separate indexes for each dimension with a comma\n",
    "two_d_array = np.array([one_d_array, one_d_array + 6, one_d_array + 12])\n",
    "print(two_d_array)"
   ]
  },
  {
   "cell_type": "code",
   "execution_count": 25,
   "id": "310cc2c6-2cc2-4479-a587-462dc7591964",
   "metadata": {},
   "outputs": [
    {
     "data": {
      "text/plain": [
       "11"
      ]
     },
     "execution_count": 25,
     "metadata": {},
     "output_type": "execute_result"
    }
   ],
   "source": [
    "# Get the element at row index 1, column index 4\n",
    "two_d_array[1, 4] "
   ]
  },
  {
   "cell_type": "code",
   "execution_count": 26,
   "id": "eb3d4404-2be3-4872-b407-52b39e99775a",
   "metadata": {},
   "outputs": [
    {
     "data": {
      "text/plain": [
       "array([[11, 12],\n",
       "       [17, 18]])"
      ]
     },
     "execution_count": 26,
     "metadata": {},
     "output_type": "execute_result"
    }
   ],
   "source": [
    "# Slice elements starting at row 2 and column 5\n",
    "two_d_array[1:,4:]"
   ]
  },
  {
   "cell_type": "code",
   "execution_count": 27,
   "id": "22a1d62b-12c4-4675-acd8-0ccf315f299c",
   "metadata": {},
   "outputs": [
    {
     "data": {
      "text/plain": [
       "array([[18, 17, 16, 15, 14, 13],\n",
       "       [12, 11, 10,  9,  8,  7],\n",
       "       [ 6,  5,  4,  3,  2,  1]])"
      ]
     },
     "execution_count": 27,
     "metadata": {},
     "output_type": "execute_result"
    }
   ],
   "source": [
    "# Reverse both dimensions (180 degree rotation)\n",
    "two_d_array[::-1,::-1]"
   ]
  },
  {
   "cell_type": "markdown",
   "id": "f55331a1-7498-4a66-bb3e-1b0b8ef38b02",
   "metadata": {},
   "source": [
    "### Reshaping arrays\n",
    "Functions to manipulate arrays quickly without complicated indexing operations."
   ]
  },
  {
   "cell_type": "code",
   "execution_count": 28,
   "id": "c86c77a8-9374-4494-aab5-bb7d7f9561d3",
   "metadata": {},
   "outputs": [
    {
     "data": {
      "text/plain": [
       "array([[ 1,  2,  3],\n",
       "       [ 4,  5,  6],\n",
       "       [ 7,  8,  9],\n",
       "       [10, 11, 12],\n",
       "       [13, 14, 15],\n",
       "       [16, 17, 18]])"
      ]
     },
     "execution_count": 28,
     "metadata": {},
     "output_type": "execute_result"
    }
   ],
   "source": [
    "# Reshape an array with same data but different function with np.reshape()\n",
    "np.reshape(a = two_d_array,    # Array to reshape \n",
    "          newshape = (6,3))    # Dimensions of the new array"
   ]
  },
  {
   "cell_type": "code",
   "execution_count": 30,
   "id": "ab4de9ab-5426-4347-b8dc-af98c362a6c9",
   "metadata": {},
   "outputs": [
    {
     "data": {
      "text/plain": [
       "array([ 1,  2,  3,  4,  5,  6,  7,  8,  9, 10, 11, 12, 13, 14, 15, 16, 17,\n",
       "       18])"
      ]
     },
     "execution_count": 30,
     "metadata": {},
     "output_type": "execute_result"
    }
   ],
   "source": [
    "# Unravel a multidimensional into 1 dimension with np.ravel()\n",
    "np.ravel(a = two_d_array,\n",
    "        order = 'C')    # Use C-style unraveling (by rows)"
   ]
  },
  {
   "cell_type": "code",
   "execution_count": 31,
   "id": "8c155a8a-2744-4513-8b8f-d84a3b48134b",
   "metadata": {},
   "outputs": [
    {
     "data": {
      "text/plain": [
       "array([ 1,  7, 13,  2,  8, 14,  3,  9, 15,  4, 10, 16,  5, 11, 17,  6, 12,\n",
       "       18])"
      ]
     },
     "execution_count": 31,
     "metadata": {},
     "output_type": "execute_result"
    }
   ],
   "source": [
    "# Unravel a multidimensional into 1 dimension with np.ravel()\n",
    "np.ravel(a = two_d_array,\n",
    "        order = 'F')    # Use Fortran-style unraveling (by columns)"
   ]
  },
  {
   "cell_type": "code",
   "execution_count": 32,
   "id": "f1d5bf76-052c-4e76-b680-1d3202a94478",
   "metadata": {},
   "outputs": [
    {
     "data": {
      "text/plain": [
       "array([ 1,  2,  3,  4,  5,  6,  7,  8,  9, 10, 11, 12, 13, 14, 15, 16, 17,\n",
       "       18])"
      ]
     },
     "execution_count": 32,
     "metadata": {},
     "output_type": "execute_result"
    }
   ],
   "source": [
    "# Flatten a multi-dimensional into 1 dimension and return a copy of the result with ndarray.flatten()\n",
    "two_d_array.flatten()"
   ]
  },
  {
   "cell_type": "code",
   "execution_count": 33,
   "id": "27cc7e62-4996-4cf0-a36f-7923a627dccd",
   "metadata": {},
   "outputs": [
    {
     "data": {
      "text/plain": [
       "array([[ 1,  7, 13],\n",
       "       [ 2,  8, 14],\n",
       "       [ 3,  9, 15],\n",
       "       [ 4, 10, 16],\n",
       "       [ 5, 11, 17],\n",
       "       [ 6, 12, 18]])"
      ]
     },
     "execution_count": 33,
     "metadata": {},
     "output_type": "execute_result"
    }
   ],
   "source": [
    "# Get the Transpose of an array with ndarray.T\n",
    "two_d_array.T"
   ]
  },
  {
   "cell_type": "code",
   "execution_count": 40,
   "id": "458cab64-2f83-4cab-a09f-a4e80425d572",
   "metadata": {},
   "outputs": [
    {
     "name": "stdout",
     "output_type": "stream",
     "text": [
      "[[ 1  2  3  4  5  6]\n",
      " [ 7  8  9 10 11 12]\n",
      " [13 14 15 16 17 18]]\n",
      "[[13 14 15 16 17 18]\n",
      " [ 7  8  9 10 11 12]\n",
      " [ 1  2  3  4  5  6]]\n"
     ]
    }
   ],
   "source": [
    "# Flip an array vertically\n",
    "print(two_d_array)\n",
    "print(np.flipud(two_d_array))"
   ]
  },
  {
   "cell_type": "code",
   "execution_count": 41,
   "id": "9d8cd85b-366c-4be3-ae82-75d766b18d93",
   "metadata": {},
   "outputs": [
    {
     "name": "stdout",
     "output_type": "stream",
     "text": [
      "[[ 1  2  3  4  5  6]\n",
      " [ 7  8  9 10 11 12]\n",
      " [13 14 15 16 17 18]]\n",
      "[[ 6  5  4  3  2  1]\n",
      " [12 11 10  9  8  7]\n",
      " [18 17 16 15 14 13]]\n"
     ]
    }
   ],
   "source": [
    "# Flip an array horizontally\n",
    "print(two_d_array)\n",
    "print(np.fliplr(two_d_array))"
   ]
  },
  {
   "cell_type": "code",
   "execution_count": 42,
   "id": "12032d81-9b4a-4abe-9a92-9285d07365db",
   "metadata": {},
   "outputs": [
    {
     "data": {
      "text/plain": [
       "array([[ 6, 12, 18],\n",
       "       [ 5, 11, 17],\n",
       "       [ 4, 10, 16],\n",
       "       [ 3,  9, 15],\n",
       "       [ 2,  8, 14],\n",
       "       [ 1,  7, 13]])"
      ]
     },
     "execution_count": 42,
     "metadata": {},
     "output_type": "execute_result"
    }
   ],
   "source": [
    "# Rotate an array 90 degrees counter-clockwise with np.rot90()\n",
    "np.rot90(two_d_array, \n",
    "         k=1)    # Number of 90 degree rotations"
   ]
  },
  {
   "cell_type": "code",
   "execution_count": 44,
   "id": "19c9ba46-eca4-4d27-920f-9c182cb7d845",
   "metadata": {},
   "outputs": [
    {
     "data": {
      "text/plain": [
       "array([[ 5,  6,  1,  2,  3,  4],\n",
       "       [11, 12,  7,  8,  9, 10],\n",
       "       [17, 18, 13, 14, 15, 16]])"
      ]
     },
     "execution_count": 44,
     "metadata": {},
     "output_type": "execute_result"
    }
   ],
   "source": [
    "# Shift elements in an array along a given dimension with np.roll()\n",
    "np.roll(a=two_d_array,\n",
    "       shift = 2,     # Shift elements two positions\n",
    "       axis = 1)      # In each row"
   ]
  },
  {
   "cell_type": "code",
   "execution_count": 46,
   "id": "70bb4ad0-32cd-44dc-ac4c-ba09905a9759",
   "metadata": {},
   "outputs": [
    {
     "data": {
      "text/plain": [
       "array([[17, 18,  1,  2,  3,  4],\n",
       "       [ 5,  6,  7,  8,  9, 10],\n",
       "       [11, 12, 13, 14, 15, 16]])"
      ]
     },
     "execution_count": 46,
     "metadata": {},
     "output_type": "execute_result"
    }
   ],
   "source": [
    "# Leave the axis argument empty to shift on a flattened version of the array (shift across all dimensions)\n",
    "np.roll(a=two_d_array,\n",
    "       shift = 2)     # Shift elements two positions"
   ]
  },
  {
   "cell_type": "code",
   "execution_count": 48,
   "id": "e3edf03f-a077-483c-b528-2b2e93dfc6c1",
   "metadata": {},
   "outputs": [
    {
     "data": {
      "text/plain": [
       "array([[ 1,  2,  3,  4,  5,  6, 10, 20, 30],\n",
       "       [ 7,  8,  9, 10, 11, 12, 40, 50, 60],\n",
       "       [13, 14, 15, 16, 17, 18, 70, 80, 90]])"
      ]
     },
     "execution_count": 48,
     "metadata": {},
     "output_type": "execute_result"
    }
   ],
   "source": [
    "# Join arrays along an axis with np.concatenate()\n",
    "array_to_join = np.array([[10,20,30],[40,50,60],[70,80,90]])\n",
    "np.concatenate((two_d_array, array_to_join),   # Arrays to join\n",
    "              axis = 1)                        # Axis to join upon"
   ]
  },
  {
   "cell_type": "markdown",
   "id": "16e696df-977e-4a1f-ba80-0270f3003fc0",
   "metadata": {},
   "source": [
    "### Array math operations\n",
    "Basic math operations can be performed with ndarrays.\n",
    "\n",
    "Math operations: https://numpy.org/doc/stable/reference/routines.math.html\n",
    "\n",
    "Linear algebra operations: https://numpy.org/doc/stable/reference/routines.linalg.html"
   ]
  },
  {
   "cell_type": "code",
   "execution_count": 49,
   "id": "ae85f9cd-cc93-415c-b0f5-cbee7511f6c3",
   "metadata": {},
   "outputs": [
    {
     "data": {
      "text/plain": [
       "array([[101, 102, 103, 104, 105, 106],\n",
       "       [107, 108, 109, 110, 111, 112],\n",
       "       [113, 114, 115, 116, 117, 118]])"
      ]
     },
     "execution_count": 49,
     "metadata": {},
     "output_type": "execute_result"
    }
   ],
   "source": [
    "two_d_array + 100  # Add 100 to each element"
   ]
  },
  {
   "cell_type": "code",
   "execution_count": 50,
   "id": "169d21de-fec6-4987-91b4-3226dc118c02",
   "metadata": {},
   "outputs": [
    {
     "data": {
      "text/plain": [
       "array([[-99, -98, -97, -96, -95, -94],\n",
       "       [-93, -92, -91, -90, -89, -88],\n",
       "       [-87, -86, -85, -84, -83, -82]])"
      ]
     },
     "execution_count": 50,
     "metadata": {},
     "output_type": "execute_result"
    }
   ],
   "source": [
    "two_d_array - 100  # Substract 100 from each element"
   ]
  },
  {
   "cell_type": "code",
   "execution_count": 51,
   "id": "3289664c-0538-4ccd-af1f-4eb19bd3a8fb",
   "metadata": {},
   "outputs": [
    {
     "data": {
      "text/plain": [
       "array([[ 2,  4,  6,  8, 10, 12],\n",
       "       [14, 16, 18, 20, 22, 24],\n",
       "       [26, 28, 30, 32, 34, 36]])"
      ]
     },
     "execution_count": 51,
     "metadata": {},
     "output_type": "execute_result"
    }
   ],
   "source": [
    "two_d_array * 2   # Multiply each element by 2"
   ]
  },
  {
   "cell_type": "code",
   "execution_count": 52,
   "id": "d58a5d9d-1c01-4e2a-a824-0df60d2687a3",
   "metadata": {},
   "outputs": [
    {
     "data": {
      "text/plain": [
       "array([[  1,   4,   9,  16,  25,  36],\n",
       "       [ 49,  64,  81, 100, 121, 144],\n",
       "       [169, 196, 225, 256, 289, 324]], dtype=int32)"
      ]
     },
     "execution_count": 52,
     "metadata": {},
     "output_type": "execute_result"
    }
   ],
   "source": [
    "two_d_array ** 2  # Square each element "
   ]
  },
  {
   "cell_type": "code",
   "execution_count": 58,
   "id": "f533c6ae-d2a0-46cf-a75c-64f53b4bc53e",
   "metadata": {},
   "outputs": [
    {
     "data": {
      "text/plain": [
       "array([[1, 0, 1, 0, 1, 0],\n",
       "       [1, 0, 1, 0, 1, 0],\n",
       "       [1, 0, 1, 0, 1, 0]], dtype=int32)"
      ]
     },
     "execution_count": 58,
     "metadata": {},
     "output_type": "execute_result"
    }
   ],
   "source": [
    "two_d_array % 2   # Take modulus of each element"
   ]
  },
  {
   "cell_type": "markdown",
   "id": "e9db1fa7-d08c-45d6-9e89-4862515ee79f",
   "metadata": {},
   "source": [
    "You can also use the basic math operators on two arrays of the same shape. When operating on two arrays, the basic math operators function in an element-wise fashion, returning an array with the same shape as the original."
   ]
  },
  {
   "cell_type": "code",
   "execution_count": 59,
   "id": "d87e000d-c5fc-4627-afa2-f1994e6233ef",
   "metadata": {},
   "outputs": [
    {
     "data": {
      "text/plain": [
       "array([[2, 4],\n",
       "       [6, 8]])"
      ]
     },
     "execution_count": 59,
     "metadata": {},
     "output_type": "execute_result"
    }
   ],
   "source": [
    "small_array1 = np.array([[1,2],[3,4]])\n",
    "\n",
    "small_array1 + small_array1"
   ]
  },
  {
   "cell_type": "code",
   "execution_count": 60,
   "id": "fd389bb1-d2f1-41aa-b802-a45f8308327b",
   "metadata": {},
   "outputs": [
    {
     "data": {
      "text/plain": [
       "array([[0, 0],\n",
       "       [0, 0]])"
      ]
     },
     "execution_count": 60,
     "metadata": {},
     "output_type": "execute_result"
    }
   ],
   "source": [
    "small_array1 - small_array1"
   ]
  },
  {
   "cell_type": "code",
   "execution_count": 61,
   "id": "98b3ed9b-4a16-4ef8-978b-e8173057bc10",
   "metadata": {},
   "outputs": [
    {
     "data": {
      "text/plain": [
       "array([[ 1,  4],\n",
       "       [ 9, 16]])"
      ]
     },
     "execution_count": 61,
     "metadata": {},
     "output_type": "execute_result"
    }
   ],
   "source": [
    "small_array1 * small_array1"
   ]
  },
  {
   "cell_type": "code",
   "execution_count": 62,
   "id": "9f33f188-5fbd-4fc7-b8cf-e3ff6680a248",
   "metadata": {},
   "outputs": [
    {
     "data": {
      "text/plain": [
       "array([[  1,   4],\n",
       "       [ 27, 256]], dtype=int32)"
      ]
     },
     "execution_count": 62,
     "metadata": {},
     "output_type": "execute_result"
    }
   ],
   "source": [
    "small_array1 ** small_array1"
   ]
  },
  {
   "cell_type": "code",
   "execution_count": 63,
   "id": "166291db-6ba5-48b8-90d7-083d09e1cac6",
   "metadata": {},
   "outputs": [
    {
     "data": {
      "text/plain": [
       "9.5"
      ]
     },
     "execution_count": 63,
     "metadata": {},
     "output_type": "execute_result"
    }
   ],
   "source": [
    "# Get the mean of all elements in an array with np.mean()\n",
    "np.mean(two_d_array)"
   ]
  },
  {
   "cell_type": "code",
   "execution_count": 64,
   "id": "ad460bd5-2008-4259-8ae9-ae859c902d3c",
   "metadata": {},
   "outputs": [
    {
     "data": {
      "text/plain": [
       "array([ 3.5,  9.5, 15.5])"
      ]
     },
     "execution_count": 64,
     "metadata": {},
     "output_type": "execute_result"
    }
   ],
   "source": [
    "# Provide an axis argument to get means across a dimension\n",
    "np.mean(two_d_array,\n",
    "       axis = 1)    # Get means of each row"
   ]
  },
  {
   "cell_type": "code",
   "execution_count": 65,
   "id": "7c904865-2aed-4257-a071-8f9a70f43b5c",
   "metadata": {},
   "outputs": [
    {
     "data": {
      "text/plain": [
       "5.188127472091127"
      ]
     },
     "execution_count": 65,
     "metadata": {},
     "output_type": "execute_result"
    }
   ],
   "source": [
    "# Get the standard deviation of all the elements in an array with np.std()\n",
    "np.std(two_d_array)"
   ]
  },
  {
   "cell_type": "code",
   "execution_count": 66,
   "id": "3334b8fb-ad53-4b51-afc0-18e1810f4b5a",
   "metadata": {},
   "outputs": [
    {
     "data": {
      "text/plain": [
       "array([1.70782513, 1.70782513, 1.70782513])"
      ]
     },
     "execution_count": 66,
     "metadata": {},
     "output_type": "execute_result"
    }
   ],
   "source": [
    "# Provide an axis argument to get std across a dimension\n",
    "np.std(two_d_array,\n",
    "      axis = 1)     # Get std of each row"
   ]
  },
  {
   "cell_type": "code",
   "execution_count": 67,
   "id": "465960c5-ac4b-4ad3-b890-d2aaf0ecf791",
   "metadata": {},
   "outputs": [
    {
     "data": {
      "text/plain": [
       "array([4.89897949, 4.89897949, 4.89897949, 4.89897949, 4.89897949,\n",
       "       4.89897949])"
      ]
     },
     "execution_count": 67,
     "metadata": {},
     "output_type": "execute_result"
    }
   ],
   "source": [
    "# Provide an axis argument to get std across a dimension\n",
    "np.std(two_d_array,\n",
    "      axis = 0)     # Get std of each column"
   ]
  },
  {
   "cell_type": "code",
   "execution_count": 68,
   "id": "a6da23d3-ed7b-4634-af03-b7c8d3ec28f2",
   "metadata": {},
   "outputs": [
    {
     "data": {
      "text/plain": [
       "array([21, 57, 93])"
      ]
     },
     "execution_count": 68,
     "metadata": {},
     "output_type": "execute_result"
    }
   ],
   "source": [
    "# Sum of the elements of an array across an axis with np.sum()\n",
    "np.sum(two_d_array,\n",
    "      axis=1)      # Get the row sums"
   ]
  },
  {
   "cell_type": "code",
   "execution_count": 69,
   "id": "107e5873-8618-45e8-b5a4-e4a72dce668d",
   "metadata": {},
   "outputs": [
    {
     "data": {
      "text/plain": [
       "array([21, 24, 27, 30, 33, 36])"
      ]
     },
     "execution_count": 69,
     "metadata": {},
     "output_type": "execute_result"
    }
   ],
   "source": [
    "np.sum(two_d_array,\n",
    "      axis=0)     # Get the column sums"
   ]
  },
  {
   "cell_type": "code",
   "execution_count": 70,
   "id": "651ca11b-021a-4718-b53b-49d523a26af1",
   "metadata": {},
   "outputs": [
    {
     "data": {
      "text/plain": [
       "array([[0.        , 0.69314718, 1.09861229, 1.38629436, 1.60943791,\n",
       "        1.79175947],\n",
       "       [1.94591015, 2.07944154, 2.19722458, 2.30258509, 2.39789527,\n",
       "        2.48490665],\n",
       "       [2.56494936, 2.63905733, 2.7080502 , 2.77258872, 2.83321334,\n",
       "        2.89037176]])"
      ]
     },
     "execution_count": 70,
     "metadata": {},
     "output_type": "execute_result"
    }
   ],
   "source": [
    "# Take the log of each element in an array with np.log()\n",
    "np.log(two_d_array)"
   ]
  },
  {
   "cell_type": "code",
   "execution_count": 71,
   "id": "cbed999d-2d8a-4831-91c8-cf714571b35c",
   "metadata": {},
   "outputs": [
    {
     "data": {
      "text/plain": [
       "array([[1.        , 1.41421356, 1.73205081, 2.        , 2.23606798,\n",
       "        2.44948974],\n",
       "       [2.64575131, 2.82842712, 3.        , 3.16227766, 3.31662479,\n",
       "        3.46410162],\n",
       "       [3.60555128, 3.74165739, 3.87298335, 4.        , 4.12310563,\n",
       "        4.24264069]])"
      ]
     },
     "execution_count": 71,
     "metadata": {},
     "output_type": "execute_result"
    }
   ],
   "source": [
    "# Take the square root of each element with np.sqrt()\n",
    "np.sqrt(two_d_array)"
   ]
  },
  {
   "cell_type": "markdown",
   "id": "42c32306-4e3a-4a2f-a16b-959419f71b9e",
   "metadata": {},
   "source": [
    "Take the dot product of two arrays with np.dot(). This function performs an element-wise multiply and then a sum for 1-dimensional arrays (vectors) and a matrix multiplication for 2-dimensional arrays."
   ]
  },
  {
   "cell_type": "code",
   "execution_count": 72,
   "id": "76547189-9b8f-4591-a072-f7bf9a19cefe",
   "metadata": {},
   "outputs": [
    {
     "data": {
      "text/plain": [
       "217"
      ]
     },
     "execution_count": 72,
     "metadata": {},
     "output_type": "execute_result"
    }
   ],
   "source": [
    "# Take the vector dot product of row 0 and row 1\n",
    "np.dot(two_d_array[0,0:],  # Slice row 0\n",
    "       two_d_array[1,0:])  # Slice row 1"
   ]
  },
  {
   "cell_type": "code",
   "execution_count": 74,
   "id": "16729fea-3c92-4743-939f-b33dfcd62ebc",
   "metadata": {},
   "outputs": [
    {
     "data": {
      "text/plain": [
       "array([[ 7, 10],\n",
       "       [15, 22]])"
      ]
     },
     "execution_count": 74,
     "metadata": {},
     "output_type": "execute_result"
    }
   ],
   "source": [
    "# Do a matrix multiply\n",
    "np.dot(small_array1, small_array1)"
   ]
  },
  {
   "cell_type": "markdown",
   "id": "f603d5bf-3edb-451a-891e-6f90e54d9bd4",
   "metadata": {},
   "source": [
    "## 9. Pandas DataFrames\n",
    "Numpy arrays fall short when it comes to dealing with heterogenous data sets. To store data from an external source like an excel workbook or a database, we need a data structure that can hold different data types. It is also desirable to be able to refer to rows and columns in the data by custom labels rather than numbered indexes.\n",
    "\n",
    "The Pandas library offers data structures designed with this in mind: the series and the DataFrame. \n",
    "* **Series**: 1-dimensional labeled arrays similar to numpy's ndarrays\n",
    "* **DataFrames**: 2-dimensional labeled structures, that essentially function as spreadsheet tables"
   ]
  },
  {
   "cell_type": "markdown",
   "id": "b153b6da-c6dc-4488-851b-142067e45ed3",
   "metadata": {},
   "source": [
    "### Pandas Series\n",
    "Series are very similar to ndarrays: the main difference between them is that with series, you can provide custom index labels and then operations you perform on series automatically align the data based on the labels. \n",
    "\n",
    "A series is a valid argument to many of the numpy array functions."
   ]
  },
  {
   "cell_type": "code",
   "execution_count": 2,
   "id": "479a919f-52c2-4721-987e-ffe3b7656049",
   "metadata": {},
   "outputs": [
    {
     "data": {
      "text/plain": [
       "a    2\n",
       "b    3\n",
       "c    5\n",
       "d    4\n",
       "dtype: int64"
      ]
     },
     "execution_count": 2,
     "metadata": {},
     "output_type": "execute_result"
    }
   ],
   "source": [
    "import numpy as np\n",
    "import pandas as pd\n",
    "\n",
    "# Define a new series by passing a collection of homogeneous data like ndarray or list, along with a list of associated indexes\n",
    "\n",
    "my_series = pd.Series(data = [2,3,5,4],           # Data\n",
    "                      index = ['a','b','c','d'])  # Indexes\n",
    "my_series"
   ]
  },
  {
   "cell_type": "code",
   "execution_count": 77,
   "id": "30f81975-8099-4973-9fae-72c7b73a8e1e",
   "metadata": {},
   "outputs": [
    {
     "data": {
      "text/plain": [
       "x    2\n",
       "a    5\n",
       "b    4\n",
       "c    8\n",
       "dtype: int64"
      ]
     },
     "execution_count": 77,
     "metadata": {},
     "output_type": "execute_result"
    }
   ],
   "source": [
    "# Create a series from a dictionary. The dictionary keys act as the labels and the values act as the data\n",
    "my_dict = {'x':2, 'a':5, 'b':4, 'c':8}\n",
    "my_series2 = pd.Series(my_dict)\n",
    "\n",
    "my_series2"
   ]
  },
  {
   "cell_type": "code",
   "execution_count": 78,
   "id": "88321c4e-322b-4fe2-b653-502c9eb04596",
   "metadata": {},
   "outputs": [
    {
     "data": {
      "text/plain": [
       "2"
      ]
     },
     "execution_count": 78,
     "metadata": {},
     "output_type": "execute_result"
    }
   ],
   "source": [
    "# You can access items in a series by the labels:\n",
    "my_series['a']"
   ]
  },
  {
   "cell_type": "code",
   "execution_count": 81,
   "id": "48ead540-f068-40bc-8450-c240aef8ea0d",
   "metadata": {},
   "outputs": [
    {
     "data": {
      "text/plain": [
       "2"
      ]
     },
     "execution_count": 81,
     "metadata": {},
     "output_type": "execute_result"
    }
   ],
   "source": [
    "# Numeric indexing also works\n",
    "my_series[0]"
   ]
  },
  {
   "cell_type": "code",
   "execution_count": 82,
   "id": "c9e49efb-7abe-4c3b-8fdd-6613cfee5bf3",
   "metadata": {},
   "outputs": [
    {
     "data": {
      "text/plain": [
       "b    3\n",
       "c    5\n",
       "dtype: int64"
      ]
     },
     "execution_count": 82,
     "metadata": {},
     "output_type": "execute_result"
    }
   ],
   "source": [
    "# If you take a slice of a series, you get both the values and the labels contained in the slice:\n",
    "my_series[1:3]"
   ]
  },
  {
   "cell_type": "code",
   "execution_count": 83,
   "id": "952b9dc3-7f05-436a-b04c-a80456d6bebf",
   "metadata": {},
   "outputs": [
    {
     "data": {
      "text/plain": [
       "a     4\n",
       "b     6\n",
       "c    10\n",
       "d     8\n",
       "dtype: int64"
      ]
     },
     "execution_count": 83,
     "metadata": {},
     "output_type": "execute_result"
    }
   ],
   "source": [
    "# As mentioned earlier, operations performed on two series align by label:\n",
    "my_series + my_series"
   ]
  },
  {
   "cell_type": "code",
   "execution_count": 84,
   "id": "131ea683-c0ad-44e5-ad6f-72c1c7702fe3",
   "metadata": {},
   "outputs": [
    {
     "data": {
      "text/plain": [
       "a     7.0\n",
       "b     7.0\n",
       "c    13.0\n",
       "d     NaN\n",
       "x     NaN\n",
       "dtype: float64"
      ]
     },
     "execution_count": 84,
     "metadata": {},
     "output_type": "execute_result"
    }
   ],
   "source": [
    "# If you perform an operation with 2 series that have different labels, the unmatched labels will return a value of NaN\n",
    "my_series + my_series2"
   ]
  },
  {
   "cell_type": "code",
   "execution_count": 85,
   "id": "761efe98-6252-470a-ac9a-f9e901484d5a",
   "metadata": {},
   "outputs": [
    {
     "data": {
      "text/plain": [
       "3.5"
      ]
     },
     "execution_count": 85,
     "metadata": {},
     "output_type": "execute_result"
    }
   ],
   "source": [
    "# numpy arrary functions generally work on series\n",
    "np.mean(my_series)"
   ]
  },
  {
   "cell_type": "markdown",
   "id": "0e43bc3e-65de-4a03-96c0-0c61e12b760a",
   "metadata": {},
   "source": [
    "### DataFrame creation and indexing\n",
    "A DataFrame is a 2D table with labeled columns that can each hold different types of data. They're essentially the types of tables you'd see in Excel workbook or SQL. They're the defacto data structure for working with tabular data in Python.\n",
    "\n",
    "You can create a df out a variety of data sources like dictionaries, 2D numpy arrays and using series through the pd.Data.Frame() fuction. Dictionaries provide an intuitive way to create df: when passed to pd.DataFrame() a dictionarie's keys become column labels and the values become the columns themselves. \n",
    "\n",
    "More indexing operations: https://pandas.pydata.org/pandas-docs/stable/user_guide/indexing.html"
   ]
  },
  {
   "cell_type": "code",
   "execution_count": 86,
   "id": "6d07f4de-77bc-4232-8543-7af9477209c5",
   "metadata": {},
   "outputs": [
    {
     "data": {
      "text/html": [
       "<div>\n",
       "<style scoped>\n",
       "    .dataframe tbody tr th:only-of-type {\n",
       "        vertical-align: middle;\n",
       "    }\n",
       "\n",
       "    .dataframe tbody tr th {\n",
       "        vertical-align: top;\n",
       "    }\n",
       "\n",
       "    .dataframe thead th {\n",
       "        text-align: right;\n",
       "    }\n",
       "</style>\n",
       "<table border=\"1\" class=\"dataframe\">\n",
       "  <thead>\n",
       "    <tr style=\"text-align: right;\">\n",
       "      <th></th>\n",
       "      <th>name</th>\n",
       "      <th>age</th>\n",
       "      <th>weight</th>\n",
       "      <th>height</th>\n",
       "      <th>siblings</th>\n",
       "      <th>gender</th>\n",
       "    </tr>\n",
       "  </thead>\n",
       "  <tbody>\n",
       "    <tr>\n",
       "      <th>Joe</th>\n",
       "      <td>Joe</td>\n",
       "      <td>10</td>\n",
       "      <td>75</td>\n",
       "      <td>4.5</td>\n",
       "      <td>1</td>\n",
       "      <td>M</td>\n",
       "    </tr>\n",
       "    <tr>\n",
       "      <th>Bob</th>\n",
       "      <td>Bob</td>\n",
       "      <td>15</td>\n",
       "      <td>123</td>\n",
       "      <td>5.0</td>\n",
       "      <td>1</td>\n",
       "      <td>M</td>\n",
       "    </tr>\n",
       "    <tr>\n",
       "      <th>Frans</th>\n",
       "      <td>Frans</td>\n",
       "      <td>20</td>\n",
       "      <td>239</td>\n",
       "      <td>6.1</td>\n",
       "      <td>1</td>\n",
       "      <td>M</td>\n",
       "    </tr>\n",
       "  </tbody>\n",
       "</table>\n",
       "</div>"
      ],
      "text/plain": [
       "        name  age  weight  height  siblings gender\n",
       "Joe      Joe   10      75     4.5         1      M\n",
       "Bob      Bob   15     123     5.0         1      M\n",
       "Frans  Frans   20     239     6.1         1      M"
      ]
     },
     "execution_count": 86,
     "metadata": {},
     "output_type": "execute_result"
    }
   ],
   "source": [
    "# Create a dictionary with some different data types as values\n",
    "my_dict = {'name' : ['Joe','Bob','Frans'],\n",
    "           'age' : np.array([10,15,20]),\n",
    "           'weight' : (75,123,239),\n",
    "           'height' : pd.Series([4.5,5,6.1],\n",
    "                               index = ['Joe','Bob','Frans']),\n",
    "           'siblings' : 1,\n",
    "           'gender' : 'M'}\n",
    "\n",
    "df = pd.DataFrame(my_dict)     # Convert the dict to DataFrame\n",
    "df"
   ]
  },
  {
   "cell_type": "markdown",
   "id": "f9d0b1b8-f1ff-41c6-a601-b780522a5444",
   "metadata": {},
   "source": [
    "When passing a singular value, the value is duplicated to every row in the DataFrame. The rows were automatically given indexes that align with the indexes of the series we passed in for the 'height' column. If we did not use a series with index lables to create the df, it would be given numeric row index labels by default."
   ]
  },
  {
   "cell_type": "code",
   "execution_count": 88,
   "id": "57f69650-c458-4935-bf3f-39cd7af2be32",
   "metadata": {},
   "outputs": [
    {
     "data": {
      "text/html": [
       "<div>\n",
       "<style scoped>\n",
       "    .dataframe tbody tr th:only-of-type {\n",
       "        vertical-align: middle;\n",
       "    }\n",
       "\n",
       "    .dataframe tbody tr th {\n",
       "        vertical-align: top;\n",
       "    }\n",
       "\n",
       "    .dataframe thead th {\n",
       "        text-align: right;\n",
       "    }\n",
       "</style>\n",
       "<table border=\"1\" class=\"dataframe\">\n",
       "  <thead>\n",
       "    <tr style=\"text-align: right;\">\n",
       "      <th></th>\n",
       "      <th>name</th>\n",
       "      <th>age</th>\n",
       "      <th>weight</th>\n",
       "      <th>height</th>\n",
       "      <th>siblings</th>\n",
       "      <th>gender</th>\n",
       "    </tr>\n",
       "  </thead>\n",
       "  <tbody>\n",
       "    <tr>\n",
       "      <th>0</th>\n",
       "      <td>Joe</td>\n",
       "      <td>10</td>\n",
       "      <td>75</td>\n",
       "      <td>4.5</td>\n",
       "      <td>1</td>\n",
       "      <td>M</td>\n",
       "    </tr>\n",
       "    <tr>\n",
       "      <th>1</th>\n",
       "      <td>Bob</td>\n",
       "      <td>15</td>\n",
       "      <td>123</td>\n",
       "      <td>5.0</td>\n",
       "      <td>1</td>\n",
       "      <td>M</td>\n",
       "    </tr>\n",
       "    <tr>\n",
       "      <th>2</th>\n",
       "      <td>Frans</td>\n",
       "      <td>20</td>\n",
       "      <td>239</td>\n",
       "      <td>6.1</td>\n",
       "      <td>1</td>\n",
       "      <td>M</td>\n",
       "    </tr>\n",
       "  </tbody>\n",
       "</table>\n",
       "</div>"
      ],
      "text/plain": [
       "    name  age  weight  height  siblings gender\n",
       "0    Joe   10      75     4.5         1      M\n",
       "1    Bob   15     123     5.0         1      M\n",
       "2  Frans   20     239     6.1         1      M"
      ]
     },
     "execution_count": 88,
     "metadata": {},
     "output_type": "execute_result"
    }
   ],
   "source": [
    "# Dictionary without index labels\n",
    "my_dict2 = {'name' : ['Joe','Bob','Frans'],\n",
    "            'age' : np.array([10,15,20]),\n",
    "           'weight' : (75,123,239),\n",
    "           'height' : [4.5,5,6.1],\n",
    "           'siblings' : 1,\n",
    "           'gender' : 'M'}\n",
    "\n",
    "df2 = pd.DataFrame(my_dict2)     # Convert the dict to DataFrame\n",
    "df2 "
   ]
  },
  {
   "cell_type": "code",
   "execution_count": 99,
   "id": "9db19db9-507c-4362-8497-81d7711c1e49",
   "metadata": {},
   "outputs": [
    {
     "data": {
      "text/html": [
       "<div>\n",
       "<style scoped>\n",
       "    .dataframe tbody tr th:only-of-type {\n",
       "        vertical-align: middle;\n",
       "    }\n",
       "\n",
       "    .dataframe tbody tr th {\n",
       "        vertical-align: top;\n",
       "    }\n",
       "\n",
       "    .dataframe thead th {\n",
       "        text-align: right;\n",
       "    }\n",
       "</style>\n",
       "<table border=\"1\" class=\"dataframe\">\n",
       "  <thead>\n",
       "    <tr style=\"text-align: right;\">\n",
       "      <th></th>\n",
       "      <th>name</th>\n",
       "      <th>age</th>\n",
       "      <th>weight</th>\n",
       "      <th>height</th>\n",
       "      <th>siblings</th>\n",
       "      <th>gender</th>\n",
       "    </tr>\n",
       "  </thead>\n",
       "  <tbody>\n",
       "    <tr>\n",
       "      <th>Joe</th>\n",
       "      <td>Joe</td>\n",
       "      <td>10</td>\n",
       "      <td>75</td>\n",
       "      <td>4.5</td>\n",
       "      <td>1</td>\n",
       "      <td>M</td>\n",
       "    </tr>\n",
       "    <tr>\n",
       "      <th>Bob</th>\n",
       "      <td>Bob</td>\n",
       "      <td>15</td>\n",
       "      <td>123</td>\n",
       "      <td>5.0</td>\n",
       "      <td>1</td>\n",
       "      <td>M</td>\n",
       "    </tr>\n",
       "    <tr>\n",
       "      <th>Frans</th>\n",
       "      <td>Frans</td>\n",
       "      <td>20</td>\n",
       "      <td>239</td>\n",
       "      <td>6.1</td>\n",
       "      <td>1</td>\n",
       "      <td>M</td>\n",
       "    </tr>\n",
       "  </tbody>\n",
       "</table>\n",
       "</div>"
      ],
      "text/plain": [
       "        name  age  weight  height  siblings gender\n",
       "Joe      Joe   10      75     4.5         1      M\n",
       "Bob      Bob   15     123     5.0         1      M\n",
       "Frans  Frans   20     239     6.1         1      M"
      ]
     },
     "execution_count": 99,
     "metadata": {},
     "output_type": "execute_result"
    }
   ],
   "source": [
    "# You can provide custom row labels when creating a df by adding the index argument:\n",
    "df2 = pd.DataFrame(my_dict2,\n",
    "                   index = my_dict2['name'])\n",
    "df2"
   ]
  },
  {
   "cell_type": "markdown",
   "id": "a193acf2-ae4d-4541-a6e7-f952f32eca18",
   "metadata": {},
   "source": [
    "A df behaves like a dictionary of series objects that each have the same length and indexes. This means we can get, add and delete columns in a df the same way we would dealing with a dictionary."
   ]
  },
  {
   "cell_type": "code",
   "execution_count": 92,
   "id": "402d0c00-8f51-453b-b52a-5f04788b078e",
   "metadata": {},
   "outputs": [
    {
     "data": {
      "text/plain": [
       "Joe       75\n",
       "Bob      123\n",
       "Frans    239\n",
       "Name: weight, dtype: int64"
      ]
     },
     "execution_count": 92,
     "metadata": {},
     "output_type": "execute_result"
    }
   ],
   "source": [
    "# Get a column by name\n",
    "df2['weight']"
   ]
  },
  {
   "cell_type": "code",
   "execution_count": 93,
   "id": "bb597f42-b322-4c56-afa5-62e68193b8b3",
   "metadata": {},
   "outputs": [
    {
     "data": {
      "text/plain": [
       "Joe       75\n",
       "Bob      123\n",
       "Frans    239\n",
       "Name: weight, dtype: int64"
      ]
     },
     "execution_count": 93,
     "metadata": {},
     "output_type": "execute_result"
    }
   ],
   "source": [
    "# You can also get a column by label\n",
    "df2.weight"
   ]
  },
  {
   "cell_type": "code",
   "execution_count": 100,
   "id": "ebe082f9-ec03-4469-a0c0-7d0ebc592e29",
   "metadata": {},
   "outputs": [
    {
     "data": {
      "text/html": [
       "<div>\n",
       "<style scoped>\n",
       "    .dataframe tbody tr th:only-of-type {\n",
       "        vertical-align: middle;\n",
       "    }\n",
       "\n",
       "    .dataframe tbody tr th {\n",
       "        vertical-align: top;\n",
       "    }\n",
       "\n",
       "    .dataframe thead th {\n",
       "        text-align: right;\n",
       "    }\n",
       "</style>\n",
       "<table border=\"1\" class=\"dataframe\">\n",
       "  <thead>\n",
       "    <tr style=\"text-align: right;\">\n",
       "      <th></th>\n",
       "      <th>name</th>\n",
       "      <th>age</th>\n",
       "      <th>weight</th>\n",
       "      <th>height</th>\n",
       "      <th>siblings</th>\n",
       "      <th>gender</th>\n",
       "      <th>IQ</th>\n",
       "    </tr>\n",
       "  </thead>\n",
       "  <tbody>\n",
       "    <tr>\n",
       "      <th>Joe</th>\n",
       "      <td>Joe</td>\n",
       "      <td>10</td>\n",
       "      <td>75</td>\n",
       "      <td>4.5</td>\n",
       "      <td>1</td>\n",
       "      <td>M</td>\n",
       "      <td>130</td>\n",
       "    </tr>\n",
       "    <tr>\n",
       "      <th>Bob</th>\n",
       "      <td>Bob</td>\n",
       "      <td>15</td>\n",
       "      <td>123</td>\n",
       "      <td>5.0</td>\n",
       "      <td>1</td>\n",
       "      <td>M</td>\n",
       "      <td>105</td>\n",
       "    </tr>\n",
       "    <tr>\n",
       "      <th>Frans</th>\n",
       "      <td>Frans</td>\n",
       "      <td>20</td>\n",
       "      <td>239</td>\n",
       "      <td>6.1</td>\n",
       "      <td>1</td>\n",
       "      <td>M</td>\n",
       "      <td>115</td>\n",
       "    </tr>\n",
       "  </tbody>\n",
       "</table>\n",
       "</div>"
      ],
      "text/plain": [
       "        name  age  weight  height  siblings gender   IQ\n",
       "Joe      Joe   10      75     4.5         1      M  130\n",
       "Bob      Bob   15     123     5.0         1      M  105\n",
       "Frans  Frans   20     239     6.1         1      M  115"
      ]
     },
     "execution_count": 100,
     "metadata": {},
     "output_type": "execute_result"
    }
   ],
   "source": [
    "# Add a column\n",
    "df2['IQ'] =[130,105,115]\n",
    "df2"
   ]
  },
  {
   "cell_type": "code",
   "execution_count": 98,
   "id": "a066e8f8-228c-4cd7-a662-d2af11bed791",
   "metadata": {},
   "outputs": [
    {
     "data": {
      "text/html": [
       "<div>\n",
       "<style scoped>\n",
       "    .dataframe tbody tr th:only-of-type {\n",
       "        vertical-align: middle;\n",
       "    }\n",
       "\n",
       "    .dataframe tbody tr th {\n",
       "        vertical-align: top;\n",
       "    }\n",
       "\n",
       "    .dataframe thead th {\n",
       "        text-align: right;\n",
       "    }\n",
       "</style>\n",
       "<table border=\"1\" class=\"dataframe\">\n",
       "  <thead>\n",
       "    <tr style=\"text-align: right;\">\n",
       "      <th></th>\n",
       "      <th>weight</th>\n",
       "      <th>height</th>\n",
       "      <th>siblings</th>\n",
       "      <th>gender</th>\n",
       "      <th>IQ</th>\n",
       "    </tr>\n",
       "  </thead>\n",
       "  <tbody>\n",
       "    <tr>\n",
       "      <th>Joe</th>\n",
       "      <td>75</td>\n",
       "      <td>4.5</td>\n",
       "      <td>1</td>\n",
       "      <td>M</td>\n",
       "      <td>130</td>\n",
       "    </tr>\n",
       "    <tr>\n",
       "      <th>Bob</th>\n",
       "      <td>123</td>\n",
       "      <td>5.0</td>\n",
       "      <td>1</td>\n",
       "      <td>M</td>\n",
       "      <td>105</td>\n",
       "    </tr>\n",
       "    <tr>\n",
       "      <th>Frans</th>\n",
       "      <td>239</td>\n",
       "      <td>6.1</td>\n",
       "      <td>1</td>\n",
       "      <td>M</td>\n",
       "      <td>115</td>\n",
       "    </tr>\n",
       "  </tbody>\n",
       "</table>\n",
       "</div>"
      ],
      "text/plain": [
       "       weight  height  siblings gender   IQ\n",
       "Joe        75     4.5         1      M  130\n",
       "Bob       123     5.0         1      M  105\n",
       "Frans     239     6.1         1      M  115"
      ]
     },
     "execution_count": 98,
     "metadata": {},
     "output_type": "execute_result"
    }
   ],
   "source": [
    "# Delete a column\n",
    "del df2['age']\n",
    "df2"
   ]
  },
  {
   "cell_type": "code",
   "execution_count": 101,
   "id": "6199fd70-09b6-4f6f-9537-5757dc07a4d1",
   "metadata": {},
   "outputs": [
    {
     "data": {
      "text/html": [
       "<div>\n",
       "<style scoped>\n",
       "    .dataframe tbody tr th:only-of-type {\n",
       "        vertical-align: middle;\n",
       "    }\n",
       "\n",
       "    .dataframe tbody tr th {\n",
       "        vertical-align: top;\n",
       "    }\n",
       "\n",
       "    .dataframe thead th {\n",
       "        text-align: right;\n",
       "    }\n",
       "</style>\n",
       "<table border=\"1\" class=\"dataframe\">\n",
       "  <thead>\n",
       "    <tr style=\"text-align: right;\">\n",
       "      <th></th>\n",
       "      <th>name</th>\n",
       "      <th>age</th>\n",
       "      <th>weight</th>\n",
       "      <th>height</th>\n",
       "      <th>siblings</th>\n",
       "      <th>gender</th>\n",
       "      <th>IQ</th>\n",
       "      <th>Married</th>\n",
       "    </tr>\n",
       "  </thead>\n",
       "  <tbody>\n",
       "    <tr>\n",
       "      <th>Joe</th>\n",
       "      <td>Joe</td>\n",
       "      <td>10</td>\n",
       "      <td>75</td>\n",
       "      <td>4.5</td>\n",
       "      <td>1</td>\n",
       "      <td>M</td>\n",
       "      <td>130</td>\n",
       "      <td>False</td>\n",
       "    </tr>\n",
       "    <tr>\n",
       "      <th>Bob</th>\n",
       "      <td>Bob</td>\n",
       "      <td>15</td>\n",
       "      <td>123</td>\n",
       "      <td>5.0</td>\n",
       "      <td>1</td>\n",
       "      <td>M</td>\n",
       "      <td>105</td>\n",
       "      <td>False</td>\n",
       "    </tr>\n",
       "    <tr>\n",
       "      <th>Frans</th>\n",
       "      <td>Frans</td>\n",
       "      <td>20</td>\n",
       "      <td>239</td>\n",
       "      <td>6.1</td>\n",
       "      <td>1</td>\n",
       "      <td>M</td>\n",
       "      <td>115</td>\n",
       "      <td>False</td>\n",
       "    </tr>\n",
       "  </tbody>\n",
       "</table>\n",
       "</div>"
      ],
      "text/plain": [
       "        name  age  weight  height  siblings gender   IQ  Married\n",
       "Joe      Joe   10      75     4.5         1      M  130    False\n",
       "Bob      Bob   15     123     5.0         1      M  105    False\n",
       "Frans  Frans   20     239     6.1         1      M  115    False"
      ]
     },
     "execution_count": 101,
     "metadata": {},
     "output_type": "execute_result"
    }
   ],
   "source": [
    "# Inserting a single value into a df causes it to populate across all the rows:\n",
    "df2['Married'] = False\n",
    "df2"
   ]
  },
  {
   "cell_type": "code",
   "execution_count": 102,
   "id": "02b63e3b-a7b8-4a50-8b6d-4a9e2619d455",
   "metadata": {},
   "outputs": [
    {
     "data": {
      "text/html": [
       "<div>\n",
       "<style scoped>\n",
       "    .dataframe tbody tr th:only-of-type {\n",
       "        vertical-align: middle;\n",
       "    }\n",
       "\n",
       "    .dataframe tbody tr th {\n",
       "        vertical-align: top;\n",
       "    }\n",
       "\n",
       "    .dataframe thead th {\n",
       "        text-align: right;\n",
       "    }\n",
       "</style>\n",
       "<table border=\"1\" class=\"dataframe\">\n",
       "  <thead>\n",
       "    <tr style=\"text-align: right;\">\n",
       "      <th></th>\n",
       "      <th>name</th>\n",
       "      <th>age</th>\n",
       "      <th>weight</th>\n",
       "      <th>height</th>\n",
       "      <th>siblings</th>\n",
       "      <th>gender</th>\n",
       "      <th>IQ</th>\n",
       "      <th>Married</th>\n",
       "      <th>College</th>\n",
       "    </tr>\n",
       "  </thead>\n",
       "  <tbody>\n",
       "    <tr>\n",
       "      <th>Joe</th>\n",
       "      <td>Joe</td>\n",
       "      <td>10</td>\n",
       "      <td>75</td>\n",
       "      <td>4.5</td>\n",
       "      <td>1</td>\n",
       "      <td>M</td>\n",
       "      <td>130</td>\n",
       "      <td>False</td>\n",
       "      <td>NaN</td>\n",
       "    </tr>\n",
       "    <tr>\n",
       "      <th>Bob</th>\n",
       "      <td>Bob</td>\n",
       "      <td>15</td>\n",
       "      <td>123</td>\n",
       "      <td>5.0</td>\n",
       "      <td>1</td>\n",
       "      <td>M</td>\n",
       "      <td>105</td>\n",
       "      <td>False</td>\n",
       "      <td>NaN</td>\n",
       "    </tr>\n",
       "    <tr>\n",
       "      <th>Frans</th>\n",
       "      <td>Frans</td>\n",
       "      <td>20</td>\n",
       "      <td>239</td>\n",
       "      <td>6.1</td>\n",
       "      <td>1</td>\n",
       "      <td>M</td>\n",
       "      <td>115</td>\n",
       "      <td>False</td>\n",
       "      <td>Harvard</td>\n",
       "    </tr>\n",
       "  </tbody>\n",
       "</table>\n",
       "</div>"
      ],
      "text/plain": [
       "        name  age  weight  height  siblings gender   IQ  Married  College\n",
       "Joe      Joe   10      75     4.5         1      M  130    False      NaN\n",
       "Bob      Bob   15     123     5.0         1      M  105    False      NaN\n",
       "Frans  Frans   20     239     6.1         1      M  115    False  Harvard"
      ]
     },
     "execution_count": 102,
     "metadata": {},
     "output_type": "execute_result"
    }
   ],
   "source": [
    "# When inserting a series into a df, rows are matched by index. Unmatched rows will be filled with NaN\n",
    "df2['College'] = pd.Series(['Harvard'],\n",
    "                            index = ['Frans'])\n",
    "df2"
   ]
  },
  {
   "cell_type": "code",
   "execution_count": 103,
   "id": "9df8dced-92f5-4072-8984-2a5ed169e95d",
   "metadata": {},
   "outputs": [
    {
     "data": {
      "text/plain": [
       "name          Joe\n",
       "age            10\n",
       "weight         75\n",
       "height        4.5\n",
       "siblings        1\n",
       "gender          M\n",
       "IQ            130\n",
       "Married     False\n",
       "College       NaN\n",
       "Name: Joe, dtype: object"
      ]
     },
     "execution_count": 103,
     "metadata": {},
     "output_type": "execute_result"
    }
   ],
   "source": [
    "# Select both rows or columns by label with df.loc[row,column]\n",
    "df2.loc['Joe']   # Select row joe"
   ]
  },
  {
   "cell_type": "code",
   "execution_count": 104,
   "id": "47259543-b7af-4a70-aa30-5124536add90",
   "metadata": {},
   "outputs": [
    {
     "data": {
      "text/plain": [
       "130"
      ]
     },
     "execution_count": 104,
     "metadata": {},
     "output_type": "execute_result"
    }
   ],
   "source": [
    "df2.loc['Joe','IQ']  # Select both Joe and column IQ"
   ]
  },
  {
   "cell_type": "code",
   "execution_count": 105,
   "id": "5a630f79-f67b-4787-a7cb-e4d2edb66f4c",
   "metadata": {},
   "outputs": [
    {
     "data": {
      "text/html": [
       "<div>\n",
       "<style scoped>\n",
       "    .dataframe tbody tr th:only-of-type {\n",
       "        vertical-align: middle;\n",
       "    }\n",
       "\n",
       "    .dataframe tbody tr th {\n",
       "        vertical-align: top;\n",
       "    }\n",
       "\n",
       "    .dataframe thead th {\n",
       "        text-align: right;\n",
       "    }\n",
       "</style>\n",
       "<table border=\"1\" class=\"dataframe\">\n",
       "  <thead>\n",
       "    <tr style=\"text-align: right;\">\n",
       "      <th></th>\n",
       "      <th>IQ</th>\n",
       "      <th>Married</th>\n",
       "      <th>College</th>\n",
       "    </tr>\n",
       "  </thead>\n",
       "  <tbody>\n",
       "    <tr>\n",
       "      <th>Joe</th>\n",
       "      <td>130</td>\n",
       "      <td>False</td>\n",
       "      <td>NaN</td>\n",
       "    </tr>\n",
       "    <tr>\n",
       "      <th>Bob</th>\n",
       "      <td>105</td>\n",
       "      <td>False</td>\n",
       "      <td>NaN</td>\n",
       "    </tr>\n",
       "  </tbody>\n",
       "</table>\n",
       "</div>"
      ],
      "text/plain": [
       "      IQ  Married College\n",
       "Joe  130    False     NaN\n",
       "Bob  105    False     NaN"
      ]
     },
     "execution_count": 105,
     "metadata": {},
     "output_type": "execute_result"
    }
   ],
   "source": [
    "# Slice by label\n",
    "df2.loc['Joe':'Bob','IQ':'College']"
   ]
  },
  {
   "cell_type": "code",
   "execution_count": 106,
   "id": "68df1e67-8946-4ed4-b509-90331fd5db3c",
   "metadata": {},
   "outputs": [
    {
     "data": {
      "text/plain": [
       "name          Joe\n",
       "age            10\n",
       "weight         75\n",
       "height        4.5\n",
       "siblings        1\n",
       "gender          M\n",
       "IQ            130\n",
       "Married     False\n",
       "College       NaN\n",
       "Name: Joe, dtype: object"
      ]
     },
     "execution_count": 106,
     "metadata": {},
     "output_type": "execute_result"
    }
   ],
   "source": [
    "# Select rows or columns by numeric index with df.iloc[row,column]\n",
    "df2.iloc[0] # Get row 0"
   ]
  },
  {
   "cell_type": "code",
   "execution_count": 107,
   "id": "87b230b9-cd6b-4687-8589-2344dd3c77f4",
   "metadata": {},
   "outputs": [
    {
     "data": {
      "text/plain": [
       "'M'"
      ]
     },
     "execution_count": 107,
     "metadata": {},
     "output_type": "execute_result"
    }
   ],
   "source": [
    "df2.iloc[0,5] # Get row 0 and column 5"
   ]
  },
  {
   "cell_type": "code",
   "execution_count": 108,
   "id": "11d5397b-a7c2-411a-a910-2bd98cd8211f",
   "metadata": {},
   "outputs": [
    {
     "data": {
      "text/html": [
       "<div>\n",
       "<style scoped>\n",
       "    .dataframe tbody tr th:only-of-type {\n",
       "        vertical-align: middle;\n",
       "    }\n",
       "\n",
       "    .dataframe tbody tr th {\n",
       "        vertical-align: top;\n",
       "    }\n",
       "\n",
       "    .dataframe thead th {\n",
       "        text-align: right;\n",
       "    }\n",
       "</style>\n",
       "<table border=\"1\" class=\"dataframe\">\n",
       "  <thead>\n",
       "    <tr style=\"text-align: right;\">\n",
       "      <th></th>\n",
       "      <th>gender</th>\n",
       "      <th>IQ</th>\n",
       "      <th>Married</th>\n",
       "    </tr>\n",
       "  </thead>\n",
       "  <tbody>\n",
       "    <tr>\n",
       "      <th>Joe</th>\n",
       "      <td>M</td>\n",
       "      <td>130</td>\n",
       "      <td>False</td>\n",
       "    </tr>\n",
       "    <tr>\n",
       "      <th>Bob</th>\n",
       "      <td>M</td>\n",
       "      <td>105</td>\n",
       "      <td>False</td>\n",
       "    </tr>\n",
       "  </tbody>\n",
       "</table>\n",
       "</div>"
      ],
      "text/plain": [
       "    gender   IQ  Married\n",
       "Joe      M  130    False\n",
       "Bob      M  105    False"
      ]
     },
     "execution_count": 108,
     "metadata": {},
     "output_type": "execute_result"
    }
   ],
   "source": [
    "df2.iloc[0:2,5:8] # Slice by numeric row and column index"
   ]
  },
  {
   "cell_type": "code",
   "execution_count": 109,
   "id": "b4912e7a-aab0-40ae-bde4-2d3e9371ac38",
   "metadata": {},
   "outputs": [
    {
     "data": {
      "text/html": [
       "<div>\n",
       "<style scoped>\n",
       "    .dataframe tbody tr th:only-of-type {\n",
       "        vertical-align: middle;\n",
       "    }\n",
       "\n",
       "    .dataframe tbody tr th {\n",
       "        vertical-align: top;\n",
       "    }\n",
       "\n",
       "    .dataframe thead th {\n",
       "        text-align: right;\n",
       "    }\n",
       "</style>\n",
       "<table border=\"1\" class=\"dataframe\">\n",
       "  <thead>\n",
       "    <tr style=\"text-align: right;\">\n",
       "      <th></th>\n",
       "      <th>name</th>\n",
       "      <th>age</th>\n",
       "      <th>weight</th>\n",
       "      <th>height</th>\n",
       "      <th>siblings</th>\n",
       "      <th>gender</th>\n",
       "      <th>IQ</th>\n",
       "      <th>Married</th>\n",
       "      <th>College</th>\n",
       "    </tr>\n",
       "  </thead>\n",
       "  <tbody>\n",
       "    <tr>\n",
       "      <th>Bob</th>\n",
       "      <td>Bob</td>\n",
       "      <td>15</td>\n",
       "      <td>123</td>\n",
       "      <td>5.0</td>\n",
       "      <td>1</td>\n",
       "      <td>M</td>\n",
       "      <td>105</td>\n",
       "      <td>False</td>\n",
       "      <td>NaN</td>\n",
       "    </tr>\n",
       "    <tr>\n",
       "      <th>Frans</th>\n",
       "      <td>Frans</td>\n",
       "      <td>20</td>\n",
       "      <td>239</td>\n",
       "      <td>6.1</td>\n",
       "      <td>1</td>\n",
       "      <td>M</td>\n",
       "      <td>115</td>\n",
       "      <td>False</td>\n",
       "      <td>Harvard</td>\n",
       "    </tr>\n",
       "  </tbody>\n",
       "</table>\n",
       "</div>"
      ],
      "text/plain": [
       "        name  age  weight  height  siblings gender   IQ  Married  College\n",
       "Bob      Bob   15     123     5.0         1      M  105    False      NaN\n",
       "Frans  Frans   20     239     6.1         1      M  115    False  Harvard"
      ]
     },
     "execution_count": 109,
     "metadata": {},
     "output_type": "execute_result"
    }
   ],
   "source": [
    "# Select rows by passing boolean values. Only the rows where the bool is true are returned\n",
    "boolean_index = [False, True, True]\n",
    "df2[boolean_index]"
   ]
  },
  {
   "cell_type": "code",
   "execution_count": 110,
   "id": "322d6aea-07b7-4e63-8b85-f8ed9d2a8d22",
   "metadata": {},
   "outputs": [
    {
     "data": {
      "text/html": [
       "<div>\n",
       "<style scoped>\n",
       "    .dataframe tbody tr th:only-of-type {\n",
       "        vertical-align: middle;\n",
       "    }\n",
       "\n",
       "    .dataframe tbody tr th {\n",
       "        vertical-align: top;\n",
       "    }\n",
       "\n",
       "    .dataframe thead th {\n",
       "        text-align: right;\n",
       "    }\n",
       "</style>\n",
       "<table border=\"1\" class=\"dataframe\">\n",
       "  <thead>\n",
       "    <tr style=\"text-align: right;\">\n",
       "      <th></th>\n",
       "      <th>name</th>\n",
       "      <th>age</th>\n",
       "      <th>weight</th>\n",
       "      <th>height</th>\n",
       "      <th>siblings</th>\n",
       "      <th>gender</th>\n",
       "      <th>IQ</th>\n",
       "      <th>Married</th>\n",
       "      <th>College</th>\n",
       "    </tr>\n",
       "  </thead>\n",
       "  <tbody>\n",
       "    <tr>\n",
       "      <th>Bob</th>\n",
       "      <td>Bob</td>\n",
       "      <td>15</td>\n",
       "      <td>123</td>\n",
       "      <td>5.0</td>\n",
       "      <td>1</td>\n",
       "      <td>M</td>\n",
       "      <td>105</td>\n",
       "      <td>False</td>\n",
       "      <td>NaN</td>\n",
       "    </tr>\n",
       "    <tr>\n",
       "      <th>Frans</th>\n",
       "      <td>Frans</td>\n",
       "      <td>20</td>\n",
       "      <td>239</td>\n",
       "      <td>6.1</td>\n",
       "      <td>1</td>\n",
       "      <td>M</td>\n",
       "      <td>115</td>\n",
       "      <td>False</td>\n",
       "      <td>Harvard</td>\n",
       "    </tr>\n",
       "  </tbody>\n",
       "</table>\n",
       "</div>"
      ],
      "text/plain": [
       "        name  age  weight  height  siblings gender   IQ  Married  College\n",
       "Bob      Bob   15     123     5.0         1      M  105    False      NaN\n",
       "Frans  Frans   20     239     6.1         1      M  115    False  Harvard"
      ]
     },
     "execution_count": 110,
     "metadata": {},
     "output_type": "execute_result"
    }
   ],
   "source": [
    "# Create a boolean sequence with a logical comparison\n",
    "boolean_index = df2['age'] > 12\n",
    "# Use the index to get the rows where age > 12\n",
    "df2[boolean_index]"
   ]
  },
  {
   "cell_type": "code",
   "execution_count": 111,
   "id": "1e461c72-ca7b-4d0a-bd27-f13cddb91b59",
   "metadata": {},
   "outputs": [
    {
     "data": {
      "text/html": [
       "<div>\n",
       "<style scoped>\n",
       "    .dataframe tbody tr th:only-of-type {\n",
       "        vertical-align: middle;\n",
       "    }\n",
       "\n",
       "    .dataframe tbody tr th {\n",
       "        vertical-align: top;\n",
       "    }\n",
       "\n",
       "    .dataframe thead th {\n",
       "        text-align: right;\n",
       "    }\n",
       "</style>\n",
       "<table border=\"1\" class=\"dataframe\">\n",
       "  <thead>\n",
       "    <tr style=\"text-align: right;\">\n",
       "      <th></th>\n",
       "      <th>name</th>\n",
       "      <th>age</th>\n",
       "      <th>weight</th>\n",
       "      <th>height</th>\n",
       "      <th>siblings</th>\n",
       "      <th>gender</th>\n",
       "      <th>IQ</th>\n",
       "      <th>Married</th>\n",
       "      <th>College</th>\n",
       "    </tr>\n",
       "  </thead>\n",
       "  <tbody>\n",
       "    <tr>\n",
       "      <th>Bob</th>\n",
       "      <td>Bob</td>\n",
       "      <td>15</td>\n",
       "      <td>123</td>\n",
       "      <td>5.0</td>\n",
       "      <td>1</td>\n",
       "      <td>M</td>\n",
       "      <td>105</td>\n",
       "      <td>False</td>\n",
       "      <td>NaN</td>\n",
       "    </tr>\n",
       "    <tr>\n",
       "      <th>Frans</th>\n",
       "      <td>Frans</td>\n",
       "      <td>20</td>\n",
       "      <td>239</td>\n",
       "      <td>6.1</td>\n",
       "      <td>1</td>\n",
       "      <td>M</td>\n",
       "      <td>115</td>\n",
       "      <td>False</td>\n",
       "      <td>Harvard</td>\n",
       "    </tr>\n",
       "  </tbody>\n",
       "</table>\n",
       "</div>"
      ],
      "text/plain": [
       "        name  age  weight  height  siblings gender   IQ  Married  College\n",
       "Bob      Bob   15     123     5.0         1      M  105    False      NaN\n",
       "Frans  Frans   20     239     6.1         1      M  115    False  Harvard"
      ]
     },
     "execution_count": 111,
     "metadata": {},
     "output_type": "execute_result"
    }
   ],
   "source": [
    "# Indexing all in one operation\n",
    "df2[df2['age'] > 12]"
   ]
  },
  {
   "cell_type": "markdown",
   "id": "db2ddc34-6528-4130-87fe-d7115ea7c07c",
   "metadata": {},
   "source": [
    "### Exploring DataFrames\n",
    "Many ndarray functions work on DataFrames."
   ]
  },
  {
   "cell_type": "code",
   "execution_count": 7,
   "id": "c2eea3a5-2ea7-4a1f-b8b3-920f87aed9b3",
   "metadata": {},
   "outputs": [
    {
     "data": {
      "text/plain": [
       "pandas.core.frame.DataFrame"
      ]
     },
     "execution_count": 7,
     "metadata": {},
     "output_type": "execute_result"
    }
   ],
   "source": [
    "titanic_train = pd.read_csv(\"C:/Users/Micaela Rodriguez/Mentorías/Python for Data Analysis/train.csv\")\n",
    "type(titanic_train)"
   ]
  },
  {
   "cell_type": "code",
   "execution_count": 8,
   "id": "1bdf4e8f-a100-485f-ab31-bb0c193b0b37",
   "metadata": {},
   "outputs": [
    {
     "data": {
      "text/plain": [
       "(891, 12)"
      ]
     },
     "execution_count": 8,
     "metadata": {},
     "output_type": "execute_result"
    }
   ],
   "source": [
    "# Check shape of dataframe \n",
    "titanic_train.shape"
   ]
  },
  {
   "cell_type": "markdown",
   "id": "451d0d0f-78c0-4df9-9d5f-a8290295e379",
   "metadata": {},
   "source": [
    "Titanic training data has 891 rows and 12 columns."
   ]
  },
  {
   "cell_type": "code",
   "execution_count": 9,
   "id": "e8441361-e6ad-4d34-a517-6fca1849490f",
   "metadata": {},
   "outputs": [
    {
     "data": {
      "text/html": [
       "<div>\n",
       "<style scoped>\n",
       "    .dataframe tbody tr th:only-of-type {\n",
       "        vertical-align: middle;\n",
       "    }\n",
       "\n",
       "    .dataframe tbody tr th {\n",
       "        vertical-align: top;\n",
       "    }\n",
       "\n",
       "    .dataframe thead th {\n",
       "        text-align: right;\n",
       "    }\n",
       "</style>\n",
       "<table border=\"1\" class=\"dataframe\">\n",
       "  <thead>\n",
       "    <tr style=\"text-align: right;\">\n",
       "      <th></th>\n",
       "      <th>PassengerId</th>\n",
       "      <th>Survived</th>\n",
       "      <th>Pclass</th>\n",
       "      <th>Name</th>\n",
       "      <th>Sex</th>\n",
       "      <th>Age</th>\n",
       "      <th>SibSp</th>\n",
       "      <th>Parch</th>\n",
       "      <th>Ticket</th>\n",
       "      <th>Fare</th>\n",
       "      <th>Cabin</th>\n",
       "      <th>Embarked</th>\n",
       "    </tr>\n",
       "  </thead>\n",
       "  <tbody>\n",
       "    <tr>\n",
       "      <th>0</th>\n",
       "      <td>1</td>\n",
       "      <td>0</td>\n",
       "      <td>3</td>\n",
       "      <td>Braund, Mr. Owen Harris</td>\n",
       "      <td>male</td>\n",
       "      <td>22.0</td>\n",
       "      <td>1</td>\n",
       "      <td>0</td>\n",
       "      <td>A/5 21171</td>\n",
       "      <td>7.2500</td>\n",
       "      <td>NaN</td>\n",
       "      <td>S</td>\n",
       "    </tr>\n",
       "    <tr>\n",
       "      <th>1</th>\n",
       "      <td>2</td>\n",
       "      <td>1</td>\n",
       "      <td>1</td>\n",
       "      <td>Cumings, Mrs. John Bradley (Florence Briggs Th...</td>\n",
       "      <td>female</td>\n",
       "      <td>38.0</td>\n",
       "      <td>1</td>\n",
       "      <td>0</td>\n",
       "      <td>PC 17599</td>\n",
       "      <td>71.2833</td>\n",
       "      <td>C85</td>\n",
       "      <td>C</td>\n",
       "    </tr>\n",
       "    <tr>\n",
       "      <th>2</th>\n",
       "      <td>3</td>\n",
       "      <td>1</td>\n",
       "      <td>3</td>\n",
       "      <td>Heikkinen, Miss. Laina</td>\n",
       "      <td>female</td>\n",
       "      <td>26.0</td>\n",
       "      <td>0</td>\n",
       "      <td>0</td>\n",
       "      <td>STON/O2. 3101282</td>\n",
       "      <td>7.9250</td>\n",
       "      <td>NaN</td>\n",
       "      <td>S</td>\n",
       "    </tr>\n",
       "    <tr>\n",
       "      <th>3</th>\n",
       "      <td>4</td>\n",
       "      <td>1</td>\n",
       "      <td>1</td>\n",
       "      <td>Futrelle, Mrs. Jacques Heath (Lily May Peel)</td>\n",
       "      <td>female</td>\n",
       "      <td>35.0</td>\n",
       "      <td>1</td>\n",
       "      <td>0</td>\n",
       "      <td>113803</td>\n",
       "      <td>53.1000</td>\n",
       "      <td>C123</td>\n",
       "      <td>S</td>\n",
       "    </tr>\n",
       "    <tr>\n",
       "      <th>4</th>\n",
       "      <td>5</td>\n",
       "      <td>0</td>\n",
       "      <td>3</td>\n",
       "      <td>Allen, Mr. William Henry</td>\n",
       "      <td>male</td>\n",
       "      <td>35.0</td>\n",
       "      <td>0</td>\n",
       "      <td>0</td>\n",
       "      <td>373450</td>\n",
       "      <td>8.0500</td>\n",
       "      <td>NaN</td>\n",
       "      <td>S</td>\n",
       "    </tr>\n",
       "    <tr>\n",
       "      <th>5</th>\n",
       "      <td>6</td>\n",
       "      <td>0</td>\n",
       "      <td>3</td>\n",
       "      <td>Moran, Mr. James</td>\n",
       "      <td>male</td>\n",
       "      <td>NaN</td>\n",
       "      <td>0</td>\n",
       "      <td>0</td>\n",
       "      <td>330877</td>\n",
       "      <td>8.4583</td>\n",
       "      <td>NaN</td>\n",
       "      <td>Q</td>\n",
       "    </tr>\n",
       "  </tbody>\n",
       "</table>\n",
       "</div>"
      ],
      "text/plain": [
       "   PassengerId  Survived  Pclass  \\\n",
       "0            1         0       3   \n",
       "1            2         1       1   \n",
       "2            3         1       3   \n",
       "3            4         1       1   \n",
       "4            5         0       3   \n",
       "5            6         0       3   \n",
       "\n",
       "                                                Name     Sex   Age  SibSp  \\\n",
       "0                            Braund, Mr. Owen Harris    male  22.0      1   \n",
       "1  Cumings, Mrs. John Bradley (Florence Briggs Th...  female  38.0      1   \n",
       "2                             Heikkinen, Miss. Laina  female  26.0      0   \n",
       "3       Futrelle, Mrs. Jacques Heath (Lily May Peel)  female  35.0      1   \n",
       "4                           Allen, Mr. William Henry    male  35.0      0   \n",
       "5                                   Moran, Mr. James    male   NaN      0   \n",
       "\n",
       "   Parch            Ticket     Fare Cabin Embarked  \n",
       "0      0         A/5 21171   7.2500   NaN        S  \n",
       "1      0          PC 17599  71.2833   C85        C  \n",
       "2      0  STON/O2. 3101282   7.9250   NaN        S  \n",
       "3      0            113803  53.1000  C123        S  \n",
       "4      0            373450   8.0500   NaN        S  \n",
       "5      0            330877   8.4583   NaN        Q  "
      ]
     },
     "execution_count": 9,
     "metadata": {},
     "output_type": "execute_result"
    }
   ],
   "source": [
    "# Check the first n rows with df.head(n)\n",
    "titanic_train.head(6)"
   ]
  },
  {
   "cell_type": "code",
   "execution_count": 11,
   "id": "83f9caf2-a6f4-4ddd-84c4-50cb8abe7e18",
   "metadata": {},
   "outputs": [
    {
     "data": {
      "text/html": [
       "<div>\n",
       "<style scoped>\n",
       "    .dataframe tbody tr th:only-of-type {\n",
       "        vertical-align: middle;\n",
       "    }\n",
       "\n",
       "    .dataframe tbody tr th {\n",
       "        vertical-align: top;\n",
       "    }\n",
       "\n",
       "    .dataframe thead th {\n",
       "        text-align: right;\n",
       "    }\n",
       "</style>\n",
       "<table border=\"1\" class=\"dataframe\">\n",
       "  <thead>\n",
       "    <tr style=\"text-align: right;\">\n",
       "      <th></th>\n",
       "      <th>PassengerId</th>\n",
       "      <th>Survived</th>\n",
       "      <th>Pclass</th>\n",
       "      <th>Name</th>\n",
       "      <th>Sex</th>\n",
       "      <th>Age</th>\n",
       "      <th>SibSp</th>\n",
       "      <th>Parch</th>\n",
       "      <th>Ticket</th>\n",
       "      <th>Fare</th>\n",
       "      <th>Cabin</th>\n",
       "      <th>Embarked</th>\n",
       "    </tr>\n",
       "  </thead>\n",
       "  <tbody>\n",
       "    <tr>\n",
       "      <th>885</th>\n",
       "      <td>886</td>\n",
       "      <td>0</td>\n",
       "      <td>3</td>\n",
       "      <td>Rice, Mrs. William (Margaret Norton)</td>\n",
       "      <td>female</td>\n",
       "      <td>39.0</td>\n",
       "      <td>0</td>\n",
       "      <td>5</td>\n",
       "      <td>382652</td>\n",
       "      <td>29.125</td>\n",
       "      <td>NaN</td>\n",
       "      <td>Q</td>\n",
       "    </tr>\n",
       "    <tr>\n",
       "      <th>886</th>\n",
       "      <td>887</td>\n",
       "      <td>0</td>\n",
       "      <td>2</td>\n",
       "      <td>Montvila, Rev. Juozas</td>\n",
       "      <td>male</td>\n",
       "      <td>27.0</td>\n",
       "      <td>0</td>\n",
       "      <td>0</td>\n",
       "      <td>211536</td>\n",
       "      <td>13.000</td>\n",
       "      <td>NaN</td>\n",
       "      <td>S</td>\n",
       "    </tr>\n",
       "    <tr>\n",
       "      <th>887</th>\n",
       "      <td>888</td>\n",
       "      <td>1</td>\n",
       "      <td>1</td>\n",
       "      <td>Graham, Miss. Margaret Edith</td>\n",
       "      <td>female</td>\n",
       "      <td>19.0</td>\n",
       "      <td>0</td>\n",
       "      <td>0</td>\n",
       "      <td>112053</td>\n",
       "      <td>30.000</td>\n",
       "      <td>B42</td>\n",
       "      <td>S</td>\n",
       "    </tr>\n",
       "    <tr>\n",
       "      <th>888</th>\n",
       "      <td>889</td>\n",
       "      <td>0</td>\n",
       "      <td>3</td>\n",
       "      <td>Johnston, Miss. Catherine Helen \"Carrie\"</td>\n",
       "      <td>female</td>\n",
       "      <td>NaN</td>\n",
       "      <td>1</td>\n",
       "      <td>2</td>\n",
       "      <td>W./C. 6607</td>\n",
       "      <td>23.450</td>\n",
       "      <td>NaN</td>\n",
       "      <td>S</td>\n",
       "    </tr>\n",
       "    <tr>\n",
       "      <th>889</th>\n",
       "      <td>890</td>\n",
       "      <td>1</td>\n",
       "      <td>1</td>\n",
       "      <td>Behr, Mr. Karl Howell</td>\n",
       "      <td>male</td>\n",
       "      <td>26.0</td>\n",
       "      <td>0</td>\n",
       "      <td>0</td>\n",
       "      <td>111369</td>\n",
       "      <td>30.000</td>\n",
       "      <td>C148</td>\n",
       "      <td>C</td>\n",
       "    </tr>\n",
       "    <tr>\n",
       "      <th>890</th>\n",
       "      <td>891</td>\n",
       "      <td>0</td>\n",
       "      <td>3</td>\n",
       "      <td>Dooley, Mr. Patrick</td>\n",
       "      <td>male</td>\n",
       "      <td>32.0</td>\n",
       "      <td>0</td>\n",
       "      <td>0</td>\n",
       "      <td>370376</td>\n",
       "      <td>7.750</td>\n",
       "      <td>NaN</td>\n",
       "      <td>Q</td>\n",
       "    </tr>\n",
       "  </tbody>\n",
       "</table>\n",
       "</div>"
      ],
      "text/plain": [
       "     PassengerId  Survived  Pclass                                      Name  \\\n",
       "885          886         0       3      Rice, Mrs. William (Margaret Norton)   \n",
       "886          887         0       2                     Montvila, Rev. Juozas   \n",
       "887          888         1       1              Graham, Miss. Margaret Edith   \n",
       "888          889         0       3  Johnston, Miss. Catherine Helen \"Carrie\"   \n",
       "889          890         1       1                     Behr, Mr. Karl Howell   \n",
       "890          891         0       3                       Dooley, Mr. Patrick   \n",
       "\n",
       "        Sex   Age  SibSp  Parch      Ticket    Fare Cabin Embarked  \n",
       "885  female  39.0      0      5      382652  29.125   NaN        Q  \n",
       "886    male  27.0      0      0      211536  13.000   NaN        S  \n",
       "887  female  19.0      0      0      112053  30.000   B42        S  \n",
       "888  female   NaN      1      2  W./C. 6607  23.450   NaN        S  \n",
       "889    male  26.0      0      0      111369  30.000  C148        C  \n",
       "890    male  32.0      0      0      370376   7.750   NaN        Q  "
      ]
     },
     "execution_count": 11,
     "metadata": {},
     "output_type": "execute_result"
    }
   ],
   "source": [
    "# Check the last n rows with df.trail(n)\n",
    "titanic_train.tail(6)"
   ]
  },
  {
   "cell_type": "markdown",
   "id": "16211173-90b0-4cfc-8b56-bd7177a54d04",
   "metadata": {},
   "source": [
    "With large datasets, head() and tail() help get a sense of the data without printing hundreds of rows. \n",
    "\n",
    "Each line represents a different passenger, so we'll set the row indexes to the passenger's name."
   ]
  },
  {
   "cell_type": "code",
   "execution_count": 12,
   "id": "69ff05bd-5460-4e06-a8da-7d69b9523ee5",
   "metadata": {},
   "outputs": [
    {
     "name": "stdout",
     "output_type": "stream",
     "text": [
      "Index(['Braund, Mr. Owen Harris',\n",
      "       'Cumings, Mrs. John Bradley (Florence Briggs Thayer)',\n",
      "       'Heikkinen, Miss. Laina',\n",
      "       'Futrelle, Mrs. Jacques Heath (Lily May Peel)',\n",
      "       'Allen, Mr. William Henry', 'Moran, Mr. James',\n",
      "       'McCarthy, Mr. Timothy J', 'Palsson, Master. Gosta Leonard',\n",
      "       'Johnson, Mrs. Oscar W (Elisabeth Vilhelmina Berg)',\n",
      "       'Nasser, Mrs. Nicholas (Adele Achem)'],\n",
      "      dtype='object', name='Name')\n"
     ]
    }
   ],
   "source": [
    "# You can assing new row indexes with df.index\n",
    "titanic_train.index = titanic_train[\"Name\"]   # Set index to name\n",
    "del titanic_train[\"Name\"]                     # Delete name column\n",
    "print(titanic_train.index[0:10])              # Print new indexes"
   ]
  },
  {
   "cell_type": "code",
   "execution_count": 15,
   "id": "d789bc3c-c8ff-4db6-911d-f1ec213dc354",
   "metadata": {},
   "outputs": [
    {
     "data": {
      "text/html": [
       "<div>\n",
       "<style scoped>\n",
       "    .dataframe tbody tr th:only-of-type {\n",
       "        vertical-align: middle;\n",
       "    }\n",
       "\n",
       "    .dataframe tbody tr th {\n",
       "        vertical-align: top;\n",
       "    }\n",
       "\n",
       "    .dataframe thead th {\n",
       "        text-align: right;\n",
       "    }\n",
       "</style>\n",
       "<table border=\"1\" class=\"dataframe\">\n",
       "  <thead>\n",
       "    <tr style=\"text-align: right;\">\n",
       "      <th></th>\n",
       "      <th>PassengerId</th>\n",
       "      <th>Survived</th>\n",
       "      <th>Pclass</th>\n",
       "      <th>Sex</th>\n",
       "      <th>Age</th>\n",
       "      <th>SibSp</th>\n",
       "      <th>Parch</th>\n",
       "      <th>Ticket</th>\n",
       "      <th>Fare</th>\n",
       "      <th>Cabin</th>\n",
       "      <th>Embarked</th>\n",
       "    </tr>\n",
       "    <tr>\n",
       "      <th>Name</th>\n",
       "      <th></th>\n",
       "      <th></th>\n",
       "      <th></th>\n",
       "      <th></th>\n",
       "      <th></th>\n",
       "      <th></th>\n",
       "      <th></th>\n",
       "      <th></th>\n",
       "      <th></th>\n",
       "      <th></th>\n",
       "      <th></th>\n",
       "    </tr>\n",
       "  </thead>\n",
       "  <tbody>\n",
       "    <tr>\n",
       "      <th>Braund, Mr. Owen Harris</th>\n",
       "      <td>1</td>\n",
       "      <td>0</td>\n",
       "      <td>3</td>\n",
       "      <td>male</td>\n",
       "      <td>22.0</td>\n",
       "      <td>1</td>\n",
       "      <td>0</td>\n",
       "      <td>A/5 21171</td>\n",
       "      <td>7.2500</td>\n",
       "      <td>NaN</td>\n",
       "      <td>S</td>\n",
       "    </tr>\n",
       "    <tr>\n",
       "      <th>Cumings, Mrs. John Bradley (Florence Briggs Thayer)</th>\n",
       "      <td>2</td>\n",
       "      <td>1</td>\n",
       "      <td>1</td>\n",
       "      <td>female</td>\n",
       "      <td>38.0</td>\n",
       "      <td>1</td>\n",
       "      <td>0</td>\n",
       "      <td>PC 17599</td>\n",
       "      <td>71.2833</td>\n",
       "      <td>C85</td>\n",
       "      <td>C</td>\n",
       "    </tr>\n",
       "  </tbody>\n",
       "</table>\n",
       "</div>"
      ],
      "text/plain": [
       "                                                    PassengerId  Survived  \\\n",
       "Name                                                                        \n",
       "Braund, Mr. Owen Harris                                       1         0   \n",
       "Cumings, Mrs. John Bradley (Florence Briggs Tha...            2         1   \n",
       "\n",
       "                                                    Pclass     Sex   Age  \\\n",
       "Name                                                                       \n",
       "Braund, Mr. Owen Harris                                  3    male  22.0   \n",
       "Cumings, Mrs. John Bradley (Florence Briggs Tha...       1  female  38.0   \n",
       "\n",
       "                                                    SibSp  Parch     Ticket  \\\n",
       "Name                                                                          \n",
       "Braund, Mr. Owen Harris                                 1      0  A/5 21171   \n",
       "Cumings, Mrs. John Bradley (Florence Briggs Tha...      1      0   PC 17599   \n",
       "\n",
       "                                                       Fare Cabin Embarked  \n",
       "Name                                                                        \n",
       "Braund, Mr. Owen Harris                              7.2500   NaN        S  \n",
       "Cumings, Mrs. John Bradley (Florence Briggs Tha...  71.2833   C85        C  "
      ]
     },
     "execution_count": 15,
     "metadata": {},
     "output_type": "execute_result"
    }
   ],
   "source": [
    "titanic_train.head(2)"
   ]
  },
  {
   "cell_type": "code",
   "execution_count": 13,
   "id": "481adb40-c1f2-46b9-bfa3-533096410bf2",
   "metadata": {},
   "outputs": [
    {
     "data": {
      "text/plain": [
       "Index(['PassengerId', 'Survived', 'Pclass', 'Sex', 'Age', 'SibSp', 'Parch',\n",
       "       'Ticket', 'Fare', 'Cabin', 'Embarked'],\n",
       "      dtype='object')"
      ]
     },
     "execution_count": 13,
     "metadata": {},
     "output_type": "execute_result"
    }
   ],
   "source": [
    "# Access the column labels with df.columns\n",
    "titanic_train.columns"
   ]
  },
  {
   "cell_type": "code",
   "execution_count": 17,
   "id": "67665a8d-d3d9-47f8-a5ea-ae620d801523",
   "metadata": {},
   "outputs": [
    {
     "data": {
      "text/html": [
       "<div>\n",
       "<style scoped>\n",
       "    .dataframe tbody tr th:only-of-type {\n",
       "        vertical-align: middle;\n",
       "    }\n",
       "\n",
       "    .dataframe tbody tr th {\n",
       "        vertical-align: top;\n",
       "    }\n",
       "\n",
       "    .dataframe thead th {\n",
       "        text-align: right;\n",
       "    }\n",
       "</style>\n",
       "<table border=\"1\" class=\"dataframe\">\n",
       "  <thead>\n",
       "    <tr style=\"text-align: right;\">\n",
       "      <th></th>\n",
       "      <th>PassengerId</th>\n",
       "      <th>Survived</th>\n",
       "      <th>Pclass</th>\n",
       "      <th>Age</th>\n",
       "      <th>SibSp</th>\n",
       "      <th>Parch</th>\n",
       "      <th>Fare</th>\n",
       "    </tr>\n",
       "  </thead>\n",
       "  <tbody>\n",
       "    <tr>\n",
       "      <th>count</th>\n",
       "      <td>891.000000</td>\n",
       "      <td>891.000000</td>\n",
       "      <td>891.000000</td>\n",
       "      <td>714.000000</td>\n",
       "      <td>891.000000</td>\n",
       "      <td>891.000000</td>\n",
       "      <td>891.000000</td>\n",
       "    </tr>\n",
       "    <tr>\n",
       "      <th>mean</th>\n",
       "      <td>446.000000</td>\n",
       "      <td>0.383838</td>\n",
       "      <td>2.308642</td>\n",
       "      <td>29.699118</td>\n",
       "      <td>0.523008</td>\n",
       "      <td>0.381594</td>\n",
       "      <td>32.204208</td>\n",
       "    </tr>\n",
       "    <tr>\n",
       "      <th>std</th>\n",
       "      <td>257.353842</td>\n",
       "      <td>0.486592</td>\n",
       "      <td>0.836071</td>\n",
       "      <td>14.526497</td>\n",
       "      <td>1.102743</td>\n",
       "      <td>0.806057</td>\n",
       "      <td>49.693429</td>\n",
       "    </tr>\n",
       "    <tr>\n",
       "      <th>min</th>\n",
       "      <td>1.000000</td>\n",
       "      <td>0.000000</td>\n",
       "      <td>1.000000</td>\n",
       "      <td>0.420000</td>\n",
       "      <td>0.000000</td>\n",
       "      <td>0.000000</td>\n",
       "      <td>0.000000</td>\n",
       "    </tr>\n",
       "    <tr>\n",
       "      <th>25%</th>\n",
       "      <td>223.500000</td>\n",
       "      <td>0.000000</td>\n",
       "      <td>2.000000</td>\n",
       "      <td>20.125000</td>\n",
       "      <td>0.000000</td>\n",
       "      <td>0.000000</td>\n",
       "      <td>7.910400</td>\n",
       "    </tr>\n",
       "    <tr>\n",
       "      <th>50%</th>\n",
       "      <td>446.000000</td>\n",
       "      <td>0.000000</td>\n",
       "      <td>3.000000</td>\n",
       "      <td>28.000000</td>\n",
       "      <td>0.000000</td>\n",
       "      <td>0.000000</td>\n",
       "      <td>14.454200</td>\n",
       "    </tr>\n",
       "    <tr>\n",
       "      <th>75%</th>\n",
       "      <td>668.500000</td>\n",
       "      <td>1.000000</td>\n",
       "      <td>3.000000</td>\n",
       "      <td>38.000000</td>\n",
       "      <td>1.000000</td>\n",
       "      <td>0.000000</td>\n",
       "      <td>31.000000</td>\n",
       "    </tr>\n",
       "    <tr>\n",
       "      <th>max</th>\n",
       "      <td>891.000000</td>\n",
       "      <td>1.000000</td>\n",
       "      <td>3.000000</td>\n",
       "      <td>80.000000</td>\n",
       "      <td>8.000000</td>\n",
       "      <td>6.000000</td>\n",
       "      <td>512.329200</td>\n",
       "    </tr>\n",
       "  </tbody>\n",
       "</table>\n",
       "</div>"
      ],
      "text/plain": [
       "       PassengerId    Survived      Pclass         Age       SibSp  \\\n",
       "count   891.000000  891.000000  891.000000  714.000000  891.000000   \n",
       "mean    446.000000    0.383838    2.308642   29.699118    0.523008   \n",
       "std     257.353842    0.486592    0.836071   14.526497    1.102743   \n",
       "min       1.000000    0.000000    1.000000    0.420000    0.000000   \n",
       "25%     223.500000    0.000000    2.000000   20.125000    0.000000   \n",
       "50%     446.000000    0.000000    3.000000   28.000000    0.000000   \n",
       "75%     668.500000    1.000000    3.000000   38.000000    1.000000   \n",
       "max     891.000000    1.000000    3.000000   80.000000    8.000000   \n",
       "\n",
       "            Parch        Fare  \n",
       "count  891.000000  891.000000  \n",
       "mean     0.381594   32.204208  \n",
       "std      0.806057   49.693429  \n",
       "min      0.000000    0.000000  \n",
       "25%      0.000000    7.910400  \n",
       "50%      0.000000   14.454200  \n",
       "75%      0.000000   31.000000  \n",
       "max      6.000000  512.329200  "
      ]
     },
     "execution_count": 17,
     "metadata": {},
     "output_type": "execute_result"
    }
   ],
   "source": [
    "# Get a quick statistical summary of the data set with df.describe()\n",
    "titanic_train.describe()  # Summarize the first 6 columns  "
   ]
  },
  {
   "cell_type": "code",
   "execution_count": 18,
   "id": "1a66b332-e615-4777-9012-d3dfc8f1392b",
   "metadata": {},
   "outputs": [
    {
     "data": {
      "text/plain": [
       "PassengerId    446.000000\n",
       "Survived         0.383838\n",
       "Pclass           2.308642\n",
       "Age             29.699118\n",
       "SibSp            0.523008\n",
       "Parch            0.381594\n",
       "Fare            32.204208\n",
       "dtype: float64"
      ]
     },
     "execution_count": 18,
     "metadata": {},
     "output_type": "execute_result"
    }
   ],
   "source": [
    "np.mean(titanic_train, \n",
    "        axis = 0)      # Get the mean of each numeric column"
   ]
  },
  {
   "cell_type": "code",
   "execution_count": 19,
   "id": "c39a9df2-1528-4875-994a-59ae87944492",
   "metadata": {},
   "outputs": [
    {
     "name": "stdout",
     "output_type": "stream",
     "text": [
      "<class 'pandas.core.frame.DataFrame'>\n",
      "Index: 891 entries, Braund, Mr. Owen Harris to Dooley, Mr. Patrick\n",
      "Data columns (total 11 columns):\n",
      " #   Column       Non-Null Count  Dtype  \n",
      "---  ------       --------------  -----  \n",
      " 0   PassengerId  891 non-null    int64  \n",
      " 1   Survived     891 non-null    int64  \n",
      " 2   Pclass       891 non-null    int64  \n",
      " 3   Sex          891 non-null    object \n",
      " 4   Age          714 non-null    float64\n",
      " 5   SibSp        891 non-null    int64  \n",
      " 6   Parch        891 non-null    int64  \n",
      " 7   Ticket       891 non-null    object \n",
      " 8   Fare         891 non-null    float64\n",
      " 9   Cabin        204 non-null    object \n",
      " 10  Embarked     889 non-null    object \n",
      "dtypes: float64(2), int64(5), object(4)\n",
      "memory usage: 83.5+ KB\n"
     ]
    }
   ],
   "source": [
    "# Get an overview of the overall structure of a DataFrame with the df.info()\n",
    "titanic_train.info()"
   ]
  },
  {
   "cell_type": "markdown",
   "id": "395faec4-f259-4f41-85bb-9c73842d3339",
   "metadata": {},
   "source": [
    "## 10. Reading and writing data\n",
    "Reading data into dataframes is the first step when conducting data analysis in Python."
   ]
  },
  {
   "cell_type": "markdown",
   "id": "e9b26d65-3596-4734-bf03-1898422094c2",
   "metadata": {},
   "source": [
    "### Python Working Directory and File Paths\n",
    "When you launch Python it starts in a default location in your computer's file system, know as the **working directory**. You can check your current working directory by importing the os module and then using os.getcwd()"
   ]
  },
  {
   "cell_type": "code",
   "execution_count": 20,
   "id": "5ff5add1-3b97-47e4-b0a6-6277b2b5be80",
   "metadata": {},
   "outputs": [
    {
     "data": {
      "text/plain": [
       "'C:\\\\Users\\\\Micaela Rodriguez\\\\Documents\\\\GitHub\\\\PythonForDataAnalysis'"
      ]
     },
     "execution_count": 20,
     "metadata": {},
     "output_type": "execute_result"
    }
   ],
   "source": [
    "# Get current directory\n",
    "import os\n",
    "os.getcwd()"
   ]
  },
  {
   "cell_type": "markdown",
   "id": "a0aefca8-44d0-4b15-9896-888c73231917",
   "metadata": {},
   "source": [
    "The working directory acts as your starting point for accessing files on your computer from within Python. To load a dataset, you either need to put the file in your working directory, change your working directory to the folder containing the data or supply the data file's file path to the data reading function.  "
   ]
  },
  {
   "cell_type": "code",
   "execution_count": 21,
   "id": "26b65ac0-2858-4c8c-b845-b377ba809f69",
   "metadata": {},
   "outputs": [
    {
     "data": {
      "text/plain": [
       "'C:\\\\Users\\\\Micaela Rodriguez\\\\Documents\\\\GitHub'"
      ]
     },
     "execution_count": 21,
     "metadata": {},
     "output_type": "execute_result"
    }
   ],
   "source": [
    "# Change your working directory by supplying a new file path in quotes to the os.chdir()\n",
    "os.chdir(\"C:\\\\Users\\\\Micaela Rodriguez\\\\Documents\\\\GitHub\")\n",
    "os.getcwd()    # Check the working directory again"
   ]
  },
  {
   "cell_type": "code",
   "execution_count": 22,
   "id": "7ad2020b-daf8-4385-8637-1081e6ebdec6",
   "metadata": {},
   "outputs": [
    {
     "data": {
      "text/plain": [
       "'C:\\\\Users\\\\Micaela Rodriguez\\\\Documents\\\\GitHub\\\\PythonForDataAnalysis'"
      ]
     },
     "execution_count": 22,
     "metadata": {},
     "output_type": "execute_result"
    }
   ],
   "source": [
    "# Change back to original directory\n",
    "os.chdir(\"C:\\\\Users\\\\Micaela Rodriguez\\\\Documents\\\\GitHub\\\\PythonForDataAnalysis\")\n",
    "os.getcwd()    # Check the working directory again"
   ]
  },
  {
   "cell_type": "markdown",
   "id": "8f7dd5fb-6297-4e76-a0b2-0c3aafaf254c",
   "metadata": {},
   "source": [
    "## Reading CSV and TSV files\n",
    "Data is commonly stored in CSV (comma separated files) and TSV (tab separated files).\n",
    "\n",
    "* CSV:\n",
    "\n",
    "You can read CSV files with the pd.read_csv() function.\n",
    "\n",
    "* TSV:\n",
    "\n",
    "You can load a TSV file with the pd.read_table() function, which is a general file reading algorithm that reads TSV files by default, by you can it it to read flat text files separated by any delimiting character by setting the \"sep\" argument to a different character. More options here: https://pandas.pydata.org/pandas-docs/stable/reference/api/pandas.read_table.html"
   ]
  },
  {
   "cell_type": "markdown",
   "id": "3f689967-7a8d-4f24-af51-43e353315d7b",
   "metadata": {},
   "source": [
    "### Reading Excel files\n",
    "Pandas is capable of loading data directly from Excel file formats. \n",
    "To load data from Excel you can use the \"xlrd\" module that comes with the Anaconda distribution."
   ]
  },
  {
   "cell_type": "code",
   "execution_count": 31,
   "id": "312ff23e-0af9-4a06-a8ac-99d79dff1e28",
   "metadata": {},
   "outputs": [
    {
     "data": {
      "text/html": [
       "<div>\n",
       "<style scoped>\n",
       "    .dataframe tbody tr th:only-of-type {\n",
       "        vertical-align: middle;\n",
       "    }\n",
       "\n",
       "    .dataframe tbody tr th {\n",
       "        vertical-align: top;\n",
       "    }\n",
       "\n",
       "    .dataframe thead th {\n",
       "        text-align: right;\n",
       "    }\n",
       "</style>\n",
       "<table border=\"1\" class=\"dataframe\">\n",
       "  <thead>\n",
       "    <tr style=\"text-align: right;\">\n",
       "      <th></th>\n",
       "      <th>Program</th>\n",
       "      <th>University</th>\n",
       "      <th>City</th>\n",
       "      <th>Total tuition (USD)</th>\n",
       "      <th>Application fee</th>\n",
       "      <th>Dorm cost per month</th>\n",
       "      <th>Language</th>\n",
       "      <th>Duration</th>\n",
       "      <th>Admission requirements</th>\n",
       "      <th>Undergraduate GPA</th>\n",
       "      <th>TOEFL iBT</th>\n",
       "      <th>Recommendation letters</th>\n",
       "      <th>Website</th>\n",
       "    </tr>\n",
       "  </thead>\n",
       "  <tbody>\n",
       "    <tr>\n",
       "      <th>0</th>\n",
       "      <td>MA Statistics</td>\n",
       "      <td>University of Haifa</td>\n",
       "      <td>Haifa</td>\n",
       "      <td>11339</td>\n",
       "      <td>140</td>\n",
       "      <td>465</td>\n",
       "      <td>English</td>\n",
       "      <td>1 year (non thesis)</td>\n",
       "      <td>2 recommendation letters, personal statement, ...</td>\n",
       "      <td>0.80</td>\n",
       "      <td>89</td>\n",
       "      <td>2.0</td>\n",
       "      <td>https://uhaifa.org/academics/graduate-programs...</td>\n",
       "    </tr>\n",
       "    <tr>\n",
       "      <th>1</th>\n",
       "      <td>MA Human Computer Interaction</td>\n",
       "      <td>Reichman University</td>\n",
       "      <td>Hertzliya</td>\n",
       "      <td>22000</td>\n",
       "      <td>95 (application) and 2500 down payment</td>\n",
       "      <td>880 USD single / 680 USD roomie (without elect...</td>\n",
       "      <td>English</td>\n",
       "      <td>1 year (non thesis)</td>\n",
       "      <td>Interview on skype or person</td>\n",
       "      <td>0.85</td>\n",
       "      <td>NaN</td>\n",
       "      <td>2.0</td>\n",
       "      <td>https://www.idc.ac.il/en/schools/rris/graduate...</td>\n",
       "    </tr>\n",
       "    <tr>\n",
       "      <th>2</th>\n",
       "      <td>MSc Machine Learning &amp; Data Science</td>\n",
       "      <td>Reichman University</td>\n",
       "      <td>Hertzliya</td>\n",
       "      <td>22000</td>\n",
       "      <td>100 (application) and 2500 down payment</td>\n",
       "      <td>880 USD single / 680 USD roomie (without elect...</td>\n",
       "      <td>English</td>\n",
       "      <td>2 years</td>\n",
       "      <td>Interview on skype or person</td>\n",
       "      <td>0.85</td>\n",
       "      <td>NaN</td>\n",
       "      <td>NaN</td>\n",
       "      <td>https://www.idc.ac.il/en/schools/rris/graduate...</td>\n",
       "    </tr>\n",
       "    <tr>\n",
       "      <th>3</th>\n",
       "      <td>Msc in Industrial Engineering (Operations &amp; Lo...</td>\n",
       "      <td>Tel Aviv University</td>\n",
       "      <td>Tel Aviv</td>\n",
       "      <td>5500 USD per year</td>\n",
       "      <td>100</td>\n",
       "      <td>600 - 800 USD</td>\n",
       "      <td>English</td>\n",
       "      <td>2 years (it depends)</td>\n",
       "      <td>Class ranking</td>\n",
       "      <td>0.80</td>\n",
       "      <td>79 (B2)</td>\n",
       "      <td>NaN</td>\n",
       "      <td>https://en-engineering.tau.ac.il/industrial/ms...</td>\n",
       "    </tr>\n",
       "    <tr>\n",
       "      <th>4</th>\n",
       "      <td>Certificate of completion of Y-DATA program</td>\n",
       "      <td>Yandex School of Data Science</td>\n",
       "      <td>Tel Aviv</td>\n",
       "      <td>9000</td>\n",
       "      <td>NaN</td>\n",
       "      <td>NaN</td>\n",
       "      <td>English</td>\n",
       "      <td>1 year (non thesis)</td>\n",
       "      <td>Online test of programming skills, interview</td>\n",
       "      <td>NaN</td>\n",
       "      <td>NaN</td>\n",
       "      <td>NaN</td>\n",
       "      <td>https://yandexdataschool.com/israel/</td>\n",
       "    </tr>\n",
       "  </tbody>\n",
       "</table>\n",
       "</div>"
      ],
      "text/plain": [
       "                                             Program  \\\n",
       "0                                      MA Statistics   \n",
       "1                      MA Human Computer Interaction   \n",
       "2                MSc Machine Learning & Data Science   \n",
       "3  Msc in Industrial Engineering (Operations & Lo...   \n",
       "4        Certificate of completion of Y-DATA program   \n",
       "\n",
       "                      University       City Total tuition (USD)  \\\n",
       "0            University of Haifa      Haifa               11339   \n",
       "1            Reichman University  Hertzliya               22000   \n",
       "2            Reichman University  Hertzliya               22000   \n",
       "3            Tel Aviv University   Tel Aviv   5500 USD per year   \n",
       "4  Yandex School of Data Science   Tel Aviv                9000   \n",
       "\n",
       "                           Application fee  \\\n",
       "0                                      140   \n",
       "1   95 (application) and 2500 down payment   \n",
       "2  100 (application) and 2500 down payment   \n",
       "3                                      100   \n",
       "4                                      NaN   \n",
       "\n",
       "                                 Dorm cost per month Language  \\\n",
       "0                                                465  English   \n",
       "1  880 USD single / 680 USD roomie (without elect...  English   \n",
       "2  880 USD single / 680 USD roomie (without elect...  English   \n",
       "3                                      600 - 800 USD  English   \n",
       "4                                                NaN  English   \n",
       "\n",
       "               Duration                             Admission requirements  \\\n",
       "0   1 year (non thesis)  2 recommendation letters, personal statement, ...   \n",
       "1   1 year (non thesis)                       Interview on skype or person   \n",
       "2               2 years                       Interview on skype or person   \n",
       "3  2 years (it depends)                                      Class ranking   \n",
       "4   1 year (non thesis)       Online test of programming skills, interview   \n",
       "\n",
       "   Undergraduate GPA TOEFL iBT  Recommendation letters  \\\n",
       "0               0.80        89                     2.0   \n",
       "1               0.85       NaN                     2.0   \n",
       "2               0.85       NaN                     NaN   \n",
       "3               0.80   79 (B2)                     NaN   \n",
       "4                NaN       NaN                     NaN   \n",
       "\n",
       "                                             Website  \n",
       "0  https://uhaifa.org/academics/graduate-programs...  \n",
       "1  https://www.idc.ac.il/en/schools/rris/graduate...  \n",
       "2  https://www.idc.ac.il/en/schools/rris/graduate...  \n",
       "3  https://en-engineering.tau.ac.il/industrial/ms...  \n",
       "4               https://yandexdataschool.com/israel/  "
      ]
     },
     "execution_count": 31,
     "metadata": {},
     "output_type": "execute_result"
    }
   ],
   "source": [
    "# Load data from an Excel file to a dataframe with pd.read_excel() supplying the file path and the name of the worksheet\n",
    "draft = pd.read_excel(\"C://Users//Micaela Rodriguez//Documents//Alia//Documentos Alia//Master//Costos.xlsx\",\n",
    "                     sheet_name = \"Hoja1\")  # Add name of the sheet\n",
    "draft.head(6)"
   ]
  },
  {
   "cell_type": "markdown",
   "id": "3427567b-74b0-4b66-bd5c-2252d4740b40",
   "metadata": {},
   "source": [
    "### Reading Web data\n",
    "Pandas comes with a read_html() function to read data directly from web pages. However, to use this function you need the HTML5lib package. Install it by opening a command console and running \"pip install HTLM5lib\" (without quotes). Note that HTML can have all sorts of nested structures and formatting quirks, which makes parsing it to extract data troublesome. The read_html() function does its best to draw out tabular data in web pages, but the results aren't always perfect."
   ]
  },
  {
   "cell_type": "markdown",
   "id": "4bdf03b5-806b-4b4d-ba82-754edac5889e",
   "metadata": {},
   "source": [
    "### Writing Data\n",
    "Each reading function in pandas has a corresponding writer function that lets you write data back into the format it came from. Recommendation is to save the data in a CSV format."
   ]
  },
  {
   "cell_type": "code",
   "execution_count": 32,
   "id": "054ae654-b29d-429d-b3f8-325ba128b614",
   "metadata": {},
   "outputs": [
    {
     "data": {
      "text/plain": [
       "['bar-ilan-university_en.pdf',\n",
       " 'Cartas recomendación',\n",
       " 'Costos.xlsx',\n",
       " 'Expediente académico.xlsx',\n",
       " 'IDC Herzliya',\n",
       " 'ITC',\n",
       " 'MA Statistics - University of Haifa',\n",
       " 'Preguntas Sojnut.docx',\n",
       " 'sample-recommendation-letter.pdf',\n",
       " 'TAU',\n",
       " 'Tel_Aviv_Adobe.jpg',\n",
       " 'TOEFL']"
      ]
     },
     "execution_count": 32,
     "metadata": {},
     "output_type": "execute_result"
    }
   ],
   "source": [
    "# Write a dataframe to CSV in the working directory by passing the desired file name to the df.to_csv()\n",
    "draft.to_csv(\"draft_saved.csv\")\n",
    "os.listdir(\"C://Users//Micaela Rodriguez//Documents//Alia//Documentos Alia//Master\")"
   ]
  },
  {
   "cell_type": "markdown",
   "id": "b78886c1-8354-4d2f-aa5d-2a99b95bd3ee",
   "metadata": {},
   "source": [
    "## 11. Control Flow\n",
    "When running code, each statement is executed in the order in which they appear. **Control flow statements let you alter the order in which code executes.**"
   ]
  },
  {
   "cell_type": "markdown",
   "id": "81c2720c-d2d3-4898-beae-ef1e74a8a6e2",
   "metadata": {},
   "source": [
    "### If, Else and Elif\n",
    "* **If**: Checks wether some logical expression evaluates to true or false and then executes a code block if the expression is true. They are accompanied by else statements.\n",
    "* **Else**: Come after if statements and execute code in the event that logical expression checked by an if statement is false.\n",
    "* **Elif**: Else if. Performs an additional logical check and executes its code if the check is true."
   ]
  },
  {
   "cell_type": "code",
   "execution_count": 1,
   "id": "be12220d-ecb4-47f2-9fe6-45ed1cf7bc61",
   "metadata": {},
   "outputs": [
    {
     "name": "stdout",
     "output_type": "stream",
     "text": [
      "y is greater than x\n"
     ]
    }
   ],
   "source": [
    "y = 25\n",
    "x = 10\n",
    "if x > y :\n",
    "    print(\"x is greater than y\")\n",
    "else: \n",
    "    print(\"y is greater than x\")"
   ]
  },
  {
   "cell_type": "code",
   "execution_count": 2,
   "id": "d035dd8e-afa9-40a6-aa25-1b555ce56e92",
   "metadata": {},
   "outputs": [
    {
     "name": "stdout",
     "output_type": "stream",
     "text": [
      "x and y are equal\n"
     ]
    }
   ],
   "source": [
    "y = 10\n",
    "if x > y :\n",
    "    print(\"x is greater than y\")\n",
    "elif x == y :\n",
    "    print(\"x and y are equal\")\n",
    "else :\n",
    "    print(\"y is greater than x\")"
   ]
  },
  {
   "cell_type": "markdown",
   "id": "608f4742-7082-465b-9814-2747f9a18601",
   "metadata": {},
   "source": [
    "### For loops\n",
    "Programming construct that lets you go through each item in a sequence and then perform some operation on each one. For loops execute their contents, at most, a number of iterations equal to the length of the sequence you are looping over. "
   ]
  },
  {
   "cell_type": "code",
   "execution_count": 5,
   "id": "0ebfdd94-22a5-46c7-9fdf-e40e27dff1ce",
   "metadata": {},
   "outputs": [
    {
     "name": "stdout",
     "output_type": "stream",
     "text": [
      "50\n",
      "60\n",
      "70\n",
      "80\n",
      "90\n",
      "100\n"
     ]
    }
   ],
   "source": [
    "# The continue key word causes a for loop to skip the current iteration and go to the next one:\n",
    "for number in my_sequence :\n",
    "    if number < 50 :\n",
    "        continue              # Skip numbers less than 50\n",
    "    print(number)"
   ]
  },
  {
   "cell_type": "code",
   "execution_count": 7,
   "id": "94d50edc-7a38-47d1-95bf-68b0f7c01506",
   "metadata": {},
   "outputs": [
    {
     "name": "stdout",
     "output_type": "stream",
     "text": [
      "0\n",
      "10\n",
      "20\n",
      "30\n",
      "40\n",
      "50\n"
     ]
    }
   ],
   "source": [
    "# The break keyword halts the execution of a for loop entirely. Use break to \"break out\" of a for loop.\n",
    "# It is best to break out of loops early if possible to reduce execution time.\n",
    "for number in my_sequence :\n",
    "    if number > 50 :\n",
    "        break                 # Break out of the for loop if number > 50\n",
    "    print(number)"
   ]
  },
  {
   "cell_type": "markdown",
   "id": "70296be1-b862-46c4-b1cf-2e97f642e5a0",
   "metadata": {},
   "source": [
    "### While loops\n",
    "They allow to execute code over and over again. While loops keep executing their contents as long as a logical expression you supply remains true.\n",
    "\n",
    "It is important to provide a way to break out of the while loop or it will run forever.\n",
    "\n",
    "While loops should be reserved for cases where you don't know how many times you will need to execute a loop."
   ]
  },
  {
   "cell_type": "code",
   "execution_count": 11,
   "id": "d70b3408-9ba7-45fe-ab08-d249b11569d6",
   "metadata": {},
   "outputs": [
    {
     "name": "stdout",
     "output_type": "stream",
     "text": [
      "Study\n",
      "Study\n",
      "Study\n",
      "Study\n",
      "Study\n"
     ]
    }
   ],
   "source": [
    "x = 5\n",
    "iters = 0\n",
    "\n",
    "while iters < x :        # Execute the contents as long as iters < x\n",
    "    print(\"Study\")\n",
    "    iters = iters + 1      # Increment iters by 1 each time the loop executes"
   ]
  },
  {
   "cell_type": "code",
   "execution_count": 12,
   "id": "b6a24b73-b932-4fb8-990a-2ab9cf51f71c",
   "metadata": {},
   "outputs": [
    {
     "name": "stdout",
     "output_type": "stream",
     "text": [
      "Study!\n"
     ]
    }
   ],
   "source": [
    "while True:        # True is always true!\n",
    "    print(\"Study!\")\n",
    "    break          # But we break out of the loop here"
   ]
  },
  {
   "cell_type": "markdown",
   "id": "d5a217f5-3f44-4c97-9c75-d276dc77d68f",
   "metadata": {},
   "source": [
    "### The np.where() function\n",
    "When you want to perform the same operation to each object in a numpy or pandas data structure."
   ]
  },
  {
   "cell_type": "code",
   "execution_count": 14,
   "id": "77cb050b-100f-4f68-813e-26ed195d5a67",
   "metadata": {},
   "outputs": [
    {
     "name": "stdout",
     "output_type": "stream",
     "text": [
      "[0.64369151 0.63229363 0.96965457 0.         0.37463731 0.\n",
      " 0.05840826 0.         0.         0.53593743 0.         0.\n",
      " 0.         0.37507229 0.57790315 0.94994099 0.12102382 0.32119269\n",
      " 0.8061548  0.         0.         0.19777092 0.         0.\n",
      " 0.        ]\n"
     ]
    }
   ],
   "source": [
    "import numpy as np\n",
    "# Draw 25 random numbers from -1 to 1\n",
    "\n",
    "my_data = np.random.uniform(-1,1,25)\n",
    "\n",
    "for index, number in enumerate(my_data) :\n",
    "    if number < 0:\n",
    "        my_data[index] = 0     # Sets numbers less than 0 to 0\n",
    "print(my_data)"
   ]
  },
  {
   "cell_type": "markdown",
   "id": "1d13efa0-22c4-4d3e-bbb5-ec0ab7ede34a",
   "metadata": {},
   "source": [
    "Enumerate takes a sequence and turns it into a sequence of (index,value) tuples. Enumerate() lets you loop over the items in a sequence while also having access the item's index. "
   ]
  },
  {
   "cell_type": "code",
   "execution_count": 16,
   "id": "0bbf2894-41c9-4a70-8f10-0db6ba89a665",
   "metadata": {},
   "outputs": [
    {
     "name": "stdout",
     "output_type": "stream",
     "text": [
      "[0.         0.55424429 0.         0.29525008 0.         0.\n",
      " 0.         0.03563538 0.         0.         0.09606753 0.80310516\n",
      " 0.         0.         0.         0.         0.         0.05605358\n",
      " 0.         0.81305239 0.95402976 0.         0.97868369 0.\n",
      " 0.        ]\n"
     ]
    }
   ],
   "source": [
    "# The np.where() function lets you perform an if/else check on a sequence with less code:\n",
    "# np.where() is more efficient than a foor loop\n",
    "\n",
    "my_data = np.random.uniform(-1,1,25)   # Generate new random numbers\n",
    "\n",
    "my_data = np.where(my_data < 0,        # Logical test\n",
    "                   0,                  # Value to set if the test is true\n",
    "                   my_data)            # Value to set if the test is false\n",
    "print(my_data)"
   ]
  },
  {
   "cell_type": "markdown",
   "id": "f9c0bd61-0a8e-4b72-b2d2-968905a7dbab",
   "metadata": {},
   "source": [
    "## 12. Functions"
   ]
  },
  {
   "cell_type": "markdown",
   "id": "5f74b649-5d16-4df2-a493-d3532b397e2c",
   "metadata": {},
   "source": [
    "### Defining functions\n",
    "Define a function using the \"def\" keyword followed by the function's name, a tuple of function arguments and then a colon. After defining a function, you can call it using the name you assigned to it.\n",
    "\n",
    "The \"return\" keyword specifies what the function produces as its output. When a function reaches a return statement, it immediately exits and returns the specified value. "
   ]
  },
  {
   "cell_type": "code",
   "execution_count": 2,
   "id": "d3af7605-8171-47f6-9572-1b68ad80fc94",
   "metadata": {},
   "outputs": [],
   "source": [
    "def my_function(arg1,arg2):     # Defines a new function\n",
    "    return arg1 + arg2         # Function body"
   ]
  },
  {
   "cell_type": "code",
   "execution_count": 3,
   "id": "347cf508-68ad-4d7f-9dc5-be46ac864028",
   "metadata": {},
   "outputs": [
    {
     "data": {
      "text/plain": [
       "15"
      ]
     },
     "execution_count": 3,
     "metadata": {},
     "output_type": "execute_result"
    }
   ],
   "source": [
    "my_function(5,10)"
   ]
  },
  {
   "cell_type": "code",
   "execution_count": 4,
   "id": "def876e8-2ee8-4e8d-8150-e4837e2b9dbe",
   "metadata": {},
   "outputs": [],
   "source": [
    "# Set a default value with the argument_name = argument_value syntax\n",
    "def sum_3_items(x, y, z, print_args = False):\n",
    "    if print_args:\n",
    "        print(x,y,z)\n",
    "    return x + y + z"
   ]
  },
  {
   "cell_type": "code",
   "execution_count": 5,
   "id": "8f8fa282-34af-44bb-b7fe-074ffdf8aa21",
   "metadata": {},
   "outputs": [
    {
     "data": {
      "text/plain": [
       "35"
      ]
     },
     "execution_count": 5,
     "metadata": {},
     "output_type": "execute_result"
    }
   ],
   "source": [
    "sum_3_items(5,10,20)     # By default the arguments will not be printed"
   ]
  },
  {
   "cell_type": "code",
   "execution_count": 6,
   "id": "e9c700a2-3508-4327-80dc-96545506bac4",
   "metadata": {},
   "outputs": [
    {
     "name": "stdout",
     "output_type": "stream",
     "text": [
      "5 10 20\n"
     ]
    },
    {
     "data": {
      "text/plain": [
       "35"
      ]
     },
     "execution_count": 6,
     "metadata": {},
     "output_type": "execute_result"
    }
   ],
   "source": [
    "sum_3_items(5,10,20,True)   # Changing the default prints the arguments "
   ]
  },
  {
   "cell_type": "markdown",
   "id": "f13737d2-9554-49bd-92b4-51f67950338b",
   "metadata": {},
   "source": [
    "A function can be set up to accept any number of named or unnamed arguments. Accept extra unnamed arguments by including *args* in the argument list. The unnamed arguments are accessible within the function body as a tuple.  "
   ]
  },
  {
   "cell_type": "code",
   "execution_count": 7,
   "id": "e4f784e5-f230-4562-9660-0f4353c3b870",
   "metadata": {},
   "outputs": [
    {
     "name": "stdout",
     "output_type": "stream",
     "text": [
      "<class 'tuple'>\n"
     ]
    },
    {
     "data": {
      "text/plain": [
       "15"
      ]
     },
     "execution_count": 7,
     "metadata": {},
     "output_type": "execute_result"
    }
   ],
   "source": [
    "def sum_many_args(*args):\n",
    "    print(type(args))\n",
    "    return (sum(args))\n",
    "\n",
    "sum_many_args(1, 2, 3, 4, 5)"
   ]
  },
  {
   "cell_type": "markdown",
   "id": "41cc5c1e-48eb-48ce-9016-82a769575024",
   "metadata": {},
   "source": [
    "Accept additional keyword arguments by putting **kwargs** in the argument list. They keyword arguments are accessible as a dictionary:"
   ]
  },
  {
   "cell_type": "code",
   "execution_count": 8,
   "id": "e235a21b-1efd-4fae-9faf-542166cc972e",
   "metadata": {},
   "outputs": [
    {
     "name": "stdout",
     "output_type": "stream",
     "text": [
      "<class 'dict'>\n"
     ]
    },
    {
     "data": {
      "text/plain": [
       "300"
      ]
     },
     "execution_count": 8,
     "metadata": {},
     "output_type": "execute_result"
    }
   ],
   "source": [
    "def sum_keywords(**kwargs):\n",
    "    print(type(kwargs))\n",
    "    return (sum(kwargs.values()))\n",
    "\n",
    "sum_keywords(mynum=100, yournum=200)"
   ]
  },
  {
   "cell_type": "markdown",
   "id": "3a8b3af5-97e4-4a5d-b9a7-8075ff74dbb7",
   "metadata": {},
   "source": [
    "### Function documentation \n",
    "It is useful to place some documentation to explain how the function works. You can include documentation below the function definition statement as a multi-line string. Documentation typically includes a short description of what the function does, a summary of the arguments and a description of the value the function returns. Documentation should provide enough information that the user doesn't have to read the code in the code in the body of the function to use the function."
   ]
  },
  {
   "cell_type": "code",
   "execution_count": 9,
   "id": "8e82174e-4314-4923-9710-db84581c3705",
   "metadata": {},
   "outputs": [],
   "source": [
    "import numpy as np\n",
    "def rmse(predicted, targets):\n",
    "    \"\"\"\"\"\n",
    "    Computers root mean squared error of two numpy ndarrays\n",
    "    Args: \n",
    "        predicted: an ndarray of predictions\n",
    "        targets: an ndarray of target values\n",
    "    Returns:\n",
    "        The root mean squared error as a float\n",
    "    \"\"\"\"\"\n",
    "    return (np.sqrt(np.mean((targets-predicted)**2)))"
   ]
  },
  {
   "cell_type": "markdown",
   "id": "e819cde8-48ad-4fd1-aa69-5ad19af8263b",
   "metadata": {},
   "source": [
    "### Lambda functions\n",
    "Named functions are great for code that you are going to reuse several times, but sometimes you only need to use a simple function once. Python provides a shorthand for creating functions that let you define unnamed (anonymous) functions named Lambda functions, which are typically used in situations where you only plan to use a function in one part of your code."
   ]
  },
  {
   "cell_type": "code",
   "execution_count": 10,
   "id": "9651024d-74ef-490a-9cce-62431954d3be",
   "metadata": {},
   "outputs": [
    {
     "data": {
      "text/plain": [
       "<function __main__.<lambda>(x, y)>"
      ]
     },
     "execution_count": 10,
     "metadata": {},
     "output_type": "execute_result"
    }
   ],
   "source": [
    "# Create a lambda function\n",
    "lambda x, y: x + y"
   ]
  },
  {
   "cell_type": "markdown",
   "id": "696aa96a-959a-4b5d-a6b5-11f4485c6450",
   "metadata": {},
   "source": [
    "\"Lambda\" is similar to \"def\". The values x and y are the arguments of the function and the code after the colon is the value that the function returns.\n",
    "\n",
    "You can assign a lambda function a variable name and use it just like a normal function."
   ]
  },
  {
   "cell_type": "code",
   "execution_count": 11,
   "id": "ef4082b6-27d1-42dc-81f2-d22345fa7ac9",
   "metadata": {},
   "outputs": [
    {
     "data": {
      "text/plain": [
       "15"
      ]
     },
     "execution_count": 11,
     "metadata": {},
     "output_type": "execute_result"
    }
   ],
   "source": [
    "my_function2 = lambda x,y: x + y\n",
    "my_function2(5,10)"
   ]
  },
  {
   "cell_type": "markdown",
   "id": "f6f3b0d6-1302-418a-ad93-e50ac5216373",
   "metadata": {},
   "source": [
    "The main purpose of a lambda function is for use in situations where you need to create an unnamed function on the fly, such as when using functions that take other functions as input."
   ]
  },
  {
   "cell_type": "code",
   "execution_count": 12,
   "id": "c59c044b-9aac-42b6-8333-6da5458891cf",
   "metadata": {},
   "outputs": [
    {
     "name": "stdout",
     "output_type": "stream",
     "text": [
      "1\n",
      "4\n",
      "9\n",
      "16\n",
      "25\n"
     ]
    }
   ],
   "source": [
    "# Example of using map() without a lambda function\n",
    "def square(x):   # Define a function\n",
    "    return x**2\n",
    "my_map = map(square, [1,2,3,4,5])   # Pass the function to map()\n",
    "\n",
    "for item in my_map:\n",
    "    print(item)"
   ]
  },
  {
   "cell_type": "code",
   "execution_count": 13,
   "id": "97c421a1-003f-466c-b7db-e7aa65e173a8",
   "metadata": {},
   "outputs": [
    {
     "name": "stdout",
     "output_type": "stream",
     "text": [
      "1\n",
      "4\n",
      "9\n",
      "16\n",
      "25\n"
     ]
    }
   ],
   "source": [
    "# Example using map() with a lambda function\n",
    "my_map = map(lambda x: x**2, [1,2,3,4,5])\n",
    "\n",
    "for item in my_map:\n",
    "    print(item)"
   ]
  },
  {
   "cell_type": "markdown",
   "id": "039a5440-3fb6-4443-9c7d-295f762c1a84",
   "metadata": {},
   "source": [
    "## 13. List Comprehensions\n",
    "List comprehensions let you populate lists in one line of code by taking the logic from a for loop and moving it inside the list brackets.\n",
    "\n",
    "Do not create convoluted one liners when a series of few shorter, more readable operations will yield the same result."
   ]
  },
  {
   "cell_type": "code",
   "execution_count": 1,
   "id": "cc169966-4fad-46fc-9129-ac95d952bab4",
   "metadata": {},
   "outputs": [
    {
     "name": "stdout",
     "output_type": "stream",
     "text": [
      "[0, 1, 2, 3, 4, 5, 6, 7, 8, 9, 10, 11, 12, 13, 14, 15, 16, 17, 18, 19, 20, 21, 22, 23, 24, 25, 26, 27, 28, 29, 30, 31, 32, 33, 34, 35, 36, 37, 38, 39, 40, 41, 42, 43, 44, 45, 46, 47, 48, 49, 50, 51, 52, 53, 54, 55, 56, 57, 58, 59, 60, 61, 62, 63, 64, 65, 66, 67, 68, 69, 70, 71, 72, 73, 74, 75, 76, 77, 78, 79, 80, 81, 82, 83, 84, 85, 86, 87, 88, 89, 90, 91, 92, 93, 94, 95, 96, 97, 98, 99, 100]\n"
     ]
    }
   ],
   "source": [
    "my_list2 = [number for number in range(0,101)]\n",
    "# range() creates a sequence of numbers from some specified starting number up to but not including an ending number\n",
    "\n",
    "print(my_list2)"
   ]
  },
  {
   "cell_type": "markdown",
   "id": "eecfbaf9-f2f5-417e-a973-05561b9e0349",
   "metadata": {},
   "source": [
    "In a list comprehension, the value that you want to append to the list comes first, in this case \"number\", followed by a for statement. You can also include if clauses after the for clause to filter the results based on some logical check. "
   ]
  },
  {
   "cell_type": "code",
   "execution_count": 2,
   "id": "3511aa8f-373c-43b7-af9a-7cb2cbecfb93",
   "metadata": {},
   "outputs": [
    {
     "name": "stdout",
     "output_type": "stream",
     "text": [
      "[0, 2, 4, 6, 8, 10, 12, 14, 16, 18, 20, 22, 24, 26, 28, 30, 32, 34, 36, 38, 40, 42, 44, 46, 48, 50, 52, 54, 56, 58, 60, 62, 64, 66, 68, 70, 72, 74, 76, 78, 80, 82, 84, 86, 88, 90, 92, 94, 96, 98, 100]\n"
     ]
    }
   ],
   "source": [
    "# Add an if statement to filter out odd numbers\n",
    "my_list3 = [number for number in range(0,101) if number % 2 == 0]\n",
    "print(my_list3)"
   ]
  },
  {
   "cell_type": "markdown",
   "id": "79a69b6f-4755-43bd-9a1b-1578faaa3d6d",
   "metadata": {},
   "source": [
    "It is possible to put more than one for loop in a list comprehension, such as to construct a list from 2 iterables."
   ]
  },
  {
   "cell_type": "code",
   "execution_count": 3,
   "id": "f8972108-e936-460e-b5aa-105a63ded7c1",
   "metadata": {},
   "outputs": [
    {
     "name": "stdout",
     "output_type": "stream",
     "text": [
      "['ls', 'lt', 'lu', 'ld', 'ly', 'is', 'it', 'iu', 'id', 'iy', 'fs', 'ft', 'fu', 'fd', 'fy', 'es', 'et', 'eu', 'ed', 'ey']\n"
     ]
    }
   ],
   "source": [
    "# Make a list of each combination of 2 letters in 2 different strings\n",
    "\n",
    "combined = [a + b for a in \"life\" for b in \"study\"]\n",
    "print(combined)"
   ]
  },
  {
   "cell_type": "code",
   "execution_count": 4,
   "id": "faca18e3-47e1-4d53-a6b4-50114f956c05",
   "metadata": {},
   "outputs": [
    {
     "name": "stdout",
     "output_type": "stream",
     "text": [
      "['s', 't', 'u', 'd', 'y', 's', 't', 'u', 'd', 'y', 's', 't', 'u', 'd', 'y', 's', 't', 'u', 'd', 'y']\n"
     ]
    }
   ],
   "source": [
    "# Nest one list comprehension inside of another\n",
    "\n",
    "nested = [letters[1] for letters in [a + b for a in \"life\" for b in \"study\"]]\n",
    "print(nested)"
   ]
  },
  {
   "cell_type": "code",
   "execution_count": 5,
   "id": "9953bebb-b421-40ea-bad4-5fd8a5f53d1a",
   "metadata": {},
   "outputs": [
    {
     "name": "stdout",
     "output_type": "stream",
     "text": [
      "['s', 't', 'u', 'd', 'y', 's', 't', 'u', 'd', 'y', 's', 't', 'u', 'd', 'y', 's', 't', 'u', 'd', 'y']\n"
     ]
    }
   ],
   "source": [
    "# Use more lines, it makes the code more readable\n",
    "combined = [a + b for a in \"life\" for b in \"study\"]\n",
    "non_nested = [letters[1] for letters in combined]\n",
    "print(non_nested)"
   ]
  },
  {
   "cell_type": "markdown",
   "id": "b8c30b7e-1232-4e77-8a6b-3327e718fcfe",
   "metadata": {},
   "source": [
    "### Dictionary comprehensions\n",
    "You can create dictionaries quickly in one line using a syntax that mirrors list comprehensions. "
   ]
  },
  {
   "cell_type": "code",
   "execution_count": 6,
   "id": "cb11560f-abd9-4265-b566-fd9a7f6aa47e",
   "metadata": {},
   "outputs": [
    {
     "name": "stdout",
     "output_type": "stream",
     "text": [
      "{'life': 4, 'is': 2, 'study': 5}\n"
     ]
    }
   ],
   "source": [
    "words = [\"life\",\"is\",\"study\"]\n",
    "\n",
    "word_length_dict = {}\n",
    "\n",
    "for word in words:\n",
    "    word_length_dict[word] = len(word)\n",
    "\n",
    "print(word_length_dict)"
   ]
  },
  {
   "cell_type": "code",
   "execution_count": null,
   "id": "7e0532c2-c389-42be-8110-c17de5a5e9a8",
   "metadata": {},
   "outputs": [],
   "source": []
  }
 ],
 "metadata": {
  "kernelspec": {
   "display_name": "Python 3",
   "language": "python",
   "name": "python3"
  },
  "language_info": {
   "codemirror_mode": {
    "name": "ipython",
    "version": 3
   },
   "file_extension": ".py",
   "mimetype": "text/x-python",
   "name": "python",
   "nbconvert_exporter": "python",
   "pygments_lexer": "ipython3",
   "version": "3.8.8"
  },
  "toc-showcode": false
 },
 "nbformat": 4,
 "nbformat_minor": 5
}
