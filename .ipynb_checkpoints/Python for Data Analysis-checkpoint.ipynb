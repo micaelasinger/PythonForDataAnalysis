{
 "cells": [
  {
   "cell_type": "markdown",
   "id": "05c37d2d-a58f-4919-9af7-d1e61421a6e6",
   "metadata": {},
   "source": [
    "# Python for Data Analysis\n",
    "\n",
    "Based on Greg Hammel's Sessions: https://www.kaggle.com/hamelg/python-for-data-analysis-index"
   ]
  },
  {
   "cell_type": "markdown",
   "id": "9b548c81-c880-469b-949a-df9cb9e35b08",
   "metadata": {},
   "source": [
    "## 1. Getting started\n",
    "### Shortcuts\n",
    "* \"A\" to create a new cell above the current cell \n",
    "* \"B\" to create a new cell below the current cell \n",
    "* \"M\" to convert the current cell to Markdown \n",
    "* \"Y\" to convert the current cell to code \n",
    "* \"DD\" (press \"D\" twice) to delete the current cell"
   ]
  },
  {
   "cell_type": "markdown",
   "id": "34fbb005-87d9-4883-adff-1065180ba8db",
   "metadata": {},
   "source": [
    "## 2. Python Arithmetic\n",
    "### Operations\n",
    "* Substraction: 10 - 3\n",
    "* Addition: 10 + 3\n",
    "* Multiplication: 10 * 3\n",
    "* Decimal division: 10 / 3\n",
    "* Floor division: 10 // 3\n",
    "* Exponentiation: 10 ** 3\n",
    "* Modulus (produces the remainder you'd get when dividing two numbers): 100 % 75 = 25\n",
    "\n",
    "### Math module"
   ]
  },
  {
   "cell_type": "code",
   "execution_count": 2,
   "id": "950d0aa3-0b37-44be-9c95-7bfc6f77597f",
   "metadata": {},
   "outputs": [
    {
     "data": {
      "text/plain": [
       "0.9999698965391098"
      ]
     },
     "execution_count": 2,
     "metadata": {},
     "output_type": "execute_result"
    }
   ],
   "source": [
    "import math\n",
    "# Logarithm of argument\n",
    "math.log(2.7182)"
   ]
  },
  {
   "cell_type": "code",
   "execution_count": 3,
   "id": "9a9062ba-0563-4e50-af61-a685564edb75",
   "metadata": {},
   "outputs": [
    {
     "data": {
      "text/plain": [
       "2.0"
      ]
     },
     "execution_count": 3,
     "metadata": {},
     "output_type": "execute_result"
    }
   ],
   "source": [
    "# Add a second argument to specify the log base\n",
    "math.log(100,10)"
   ]
  },
  {
   "cell_type": "code",
   "execution_count": 4,
   "id": "525ecc0f-62a3-43d6-af70-354f1ec91395",
   "metadata": {},
   "outputs": [
    {
     "data": {
      "text/plain": [
       "22026.465794806718"
      ]
     },
     "execution_count": 4,
     "metadata": {},
     "output_type": "execute_result"
    }
   ],
   "source": [
    "# Raise e to the power of its argument\n",
    "math.exp(10)"
   ]
  },
  {
   "cell_type": "code",
   "execution_count": 5,
   "id": "8dd5f92a-36d7-4e57-b81e-47e42b631a72",
   "metadata": {},
   "outputs": [
    {
     "data": {
      "text/plain": [
       "8.0"
      ]
     },
     "execution_count": 5,
     "metadata": {},
     "output_type": "execute_result"
    }
   ],
   "source": [
    "# Take the root square of a number\n",
    "math.sqrt(64)"
   ]
  },
  {
   "cell_type": "code",
   "execution_count": 7,
   "id": "fb9acb8f-ae11-4483-bde9-aeb541b15f36",
   "metadata": {},
   "outputs": [
    {
     "data": {
      "text/plain": [
       "30"
      ]
     },
     "execution_count": 7,
     "metadata": {},
     "output_type": "execute_result"
    }
   ],
   "source": [
    "# Absolute value of a number\n",
    "abs(-30)"
   ]
  },
  {
   "cell_type": "code",
   "execution_count": 8,
   "id": "5ce420cc-690b-43ac-9546-a38d529c6a73",
   "metadata": {},
   "outputs": [
    {
     "data": {
      "text/plain": [
       "3.141592653589793"
      ]
     },
     "execution_count": 8,
     "metadata": {},
     "output_type": "execute_result"
    }
   ],
   "source": [
    "# Constant of pi\n",
    "math.pi"
   ]
  },
  {
   "cell_type": "code",
   "execution_count": 9,
   "id": "46c6ef62-9430-45cf-81fd-0d7522ea261b",
   "metadata": {},
   "outputs": [
    {
     "data": {
      "text/plain": [
       "11"
      ]
     },
     "execution_count": 9,
     "metadata": {},
     "output_type": "execute_result"
    }
   ],
   "source": [
    "# Round to nearest whole number\n",
    "round(10.6)"
   ]
  },
  {
   "cell_type": "code",
   "execution_count": 10,
   "id": "ce8d1198-12aa-4536-b475-517e03f10056",
   "metadata": {},
   "outputs": [
    {
     "data": {
      "text/plain": [
       "233.47"
      ]
     },
     "execution_count": 10,
     "metadata": {},
     "output_type": "execute_result"
    }
   ],
   "source": [
    "# Add a second number to specify number of decimals\n",
    "round(233.4678, 2)"
   ]
  },
  {
   "cell_type": "code",
   "execution_count": 11,
   "id": "7f4c53ac-f078-4b49-a804-154027e2eeae",
   "metadata": {},
   "outputs": [
    {
     "data": {
      "text/plain": [
       "100"
      ]
     },
     "execution_count": 11,
     "metadata": {},
     "output_type": "execute_result"
    }
   ],
   "source": [
    "# Round down to nearest whole number\n",
    "math.floor(100.5)"
   ]
  },
  {
   "cell_type": "markdown",
   "id": "c5844ad3-fa5a-4e65-bc4e-a69affdce8a8",
   "metadata": {},
   "source": [
    "## 3. Basic data types\n"
   ]
  },
  {
   "cell_type": "markdown",
   "id": "bf7f44c3-fce5-40fa-9338-fa86ce878124",
   "metadata": {},
   "source": [
    "* Integers: whole-numbered numeric values (positive or negative)\n",
    "* Floats: numbers with decimal values. Inf and -Inf (infinite values) are floats\n",
    "* Booleans: true/false values that result from logical statements. bool(1)=True, bool(0)=False\n",
    "* Strings: text value ('') or (\"\")\n",
    "* None: represents a missing value"
   ]
  },
  {
   "cell_type": "markdown",
   "id": "ba500b2a-d0ff-469b-bc28-56ef34e010e0",
   "metadata": {},
   "source": [
    "## 4. Variables\n",
    "A variable is a name you assign a value or object."
   ]
  },
  {
   "cell_type": "code",
   "execution_count": 1,
   "id": "4274d49e-67bd-4d9c-a89d-559e2b837ea1",
   "metadata": {},
   "outputs": [
    {
     "name": "stdout",
     "output_type": "stream",
     "text": [
      "10 Python is fun True\n"
     ]
    }
   ],
   "source": [
    "x = 10\n",
    "y = \"Python is fun\"\n",
    "z = 144**0.5 == 12\n",
    "\n",
    "print(x,y,z)"
   ]
  },
  {
   "cell_type": "code",
   "execution_count": 3,
   "id": "45f2257b-8ed6-46c8-bc29-bde2865afbd7",
   "metadata": {},
   "outputs": [
    {
     "name": "stdout",
     "output_type": "stream",
     "text": [
      "10\n",
      "20\n",
      "30\n"
     ]
    }
   ],
   "source": [
    "# 'Tuple unpacking' is the method of extracting variables from a comma separated sequence\n",
    "\n",
    "x, y, z = (10 ,20 ,30)\n",
    "\n",
    "print(x)\n",
    "print(y)\n",
    "print(z)"
   ]
  },
  {
   "cell_type": "code",
   "execution_count": 4,
   "id": "c0d2f221-5e3f-490a-9e56-a80c8476cdca",
   "metadata": {},
   "outputs": [
    {
     "name": "stdout",
     "output_type": "stream",
     "text": [
      "20\n",
      "10\n"
     ]
    }
   ],
   "source": [
    "# Swap values of two variables\n",
    "\n",
    "(x, y) = (y, x)\n",
    "\n",
    "print(x)\n",
    "print(y)"
   ]
  },
  {
   "cell_type": "markdown",
   "id": "d6987ece-720f-46e4-bd10-ddc26a335c3f",
   "metadata": {},
   "source": [
    "When assigning a variable in Python, the variable is a reference to a specific object in the computer's memory.\n",
    "Reassigning a variable simply switches the reference to a different object in memory.\n",
    "If the object a variable refers to in memory is altered, the value of the variable corresponding to the altered object will also change. \n",
    "All of the data types seen so far are inmutable (they cannot be changed after created).\n",
    "If an operations appears to be altering an inmutable object, it is actually creating a totally new object rather than altering the one that exists."
   ]
  },
  {
   "cell_type": "code",
   "execution_count": 8,
   "id": "d101530c-e53f-4486-933a-cc1fa05d0892",
   "metadata": {},
   "outputs": [
    {
     "name": "stdout",
     "output_type": "stream",
     "text": [
      "Hello\n",
      "hello\n"
     ]
    }
   ],
   "source": [
    "x = \"Hello\"\n",
    "y = x        # Assign y the same object as x\n",
    "y = y.lower() # Assing y the result of lower()\n",
    "\n",
    "# Strings are inmutable, Python creates an entirely new string \"hello\" and stores it somewhere else separate from \"Hello\"\n",
    "# x and y are different objects in memory\n",
    "\n",
    "print(x)\n",
    "print(y)"
   ]
  },
  {
   "cell_type": "markdown",
   "id": "04e094f8-5ef0-4881-8398-5c00f59b0cd5",
   "metadata": {},
   "source": [
    "Lists are a mutable data structure that can hold multiple objects. When altering a list, Python doesn't make an entirely new list in memory, it changes the actual list object itself."
   ]
  },
  {
   "cell_type": "code",
   "execution_count": 10,
   "id": "be91a23b-fa73-48d4-8041-07fa8b4be61d",
   "metadata": {},
   "outputs": [
    {
     "name": "stdout",
     "output_type": "stream",
     "text": [
      "[1, 2, 3, 4]\n",
      "[1, 2, 3, 4]\n"
     ]
    }
   ],
   "source": [
    "x = [1, 2, 3]  # Create a list\n",
    "y = x          # Assing y the same object as x\n",
    "y.append(4)    # Add 4 to the end of the list\n",
    "print(x)\n",
    "print(y)\n",
    "\n",
    "# x and y have the same value, even though it may appear that 4 was only added to y"
   ]
  },
  {
   "cell_type": "markdown",
   "id": "f7bbf1aa-b747-402d-86df-0686bc358498",
   "metadata": {},
   "source": [
    "## 5. Lists\n",
    "### List basics\n",
    "One of the most common sequenced data types in Python.\n",
    "* A list is a mutable, ordered collection of objects **it can be altered after created**\n",
    "* Lists are heterogenous, they can hold objects of different types\n",
    "* A list with no content is an empty list. Will return []"
   ]
  },
  {
   "cell_type": "code",
   "execution_count": 11,
   "id": "0f07b363-c6e6-4083-8398-1b8135c2cefa",
   "metadata": {},
   "outputs": [
    {
     "name": "stdout",
     "output_type": "stream",
     "text": [
      "['Lesson', 5, 'Is fun?', True]\n"
     ]
    }
   ],
   "source": [
    "my_list = [\"Lesson\", 5, \"Is fun?\", True]\n",
    "print(my_list)"
   ]
  },
  {
   "cell_type": "markdown",
   "id": "39b4ba12-029e-4c3f-9f21-c8a51275f1fd",
   "metadata": {},
   "source": [
    "Construct a list by passing some iterable into the list() function. An **iterable** is an object you can look through one item at a time (lists, tuples, strings...) "
   ]
  },
  {
   "cell_type": "code",
   "execution_count": 22,
   "id": "c1f8e847-aaf4-41de-a8ec-6a5e5b7e2a0a",
   "metadata": {},
   "outputs": [
    {
     "name": "stdout",
     "output_type": "stream",
     "text": [
      "['L', 'i', 'f', 'e', ' ', 'i', 's', ' ', 'a', 'w', 'e', 's', 'o', 'm', 'e']\n"
     ]
    }
   ],
   "source": [
    "second_list = list(\"Life is awesome\")\n",
    "print(second_list)"
   ]
  },
  {
   "cell_type": "code",
   "execution_count": 13,
   "id": "85596ae0-0c56-4a96-9837-28953697703b",
   "metadata": {},
   "outputs": [
    {
     "name": "stdout",
     "output_type": "stream",
     "text": [
      "['L', 'i', 'f', 'e', ' ', 'i', 's', ' ', 'a', 'w', 'e', 's', 'o', 'm', 'e', '!!!']\n"
     ]
    }
   ],
   "source": [
    "# Add an item to an existing list with the list.append() function\n",
    "\n",
    "second_list.append(\"!!!\")\n",
    "print(second_list)"
   ]
  },
  {
   "cell_type": "code",
   "execution_count": 21,
   "id": "3aef2f58-e5d9-4898-ba0e-a6c46c7c7c54",
   "metadata": {},
   "outputs": [
    {
     "name": "stdout",
     "output_type": "stream",
     "text": [
      "['f', 'e', ' ', 'i', 's', ' ', 'a', 'w', 'e', 's', 'o', 'm', 'e', '!!!']\n"
     ]
    }
   ],
   "source": [
    "# Remove a matching item from a list with list.remove()\n",
    "# It deletes the first matching item only\n",
    "\n",
    "second_list.remove('i')\n",
    "print(second_list)"
   ]
  },
  {
   "cell_type": "code",
   "execution_count": 23,
   "id": "8ecc2f72-bb36-4398-9f72-30a31d2d91be",
   "metadata": {},
   "outputs": [
    {
     "name": "stdout",
     "output_type": "stream",
     "text": [
      "['Lesson', 5, 'Is fun?', True, 'L', 'i', 'f', 'e', ' ', 'i', 's', ' ', 'a', 'w', 'e', 's', 'o', 'm', 'e']\n"
     ]
    }
   ],
   "source": [
    "# Join two lists together with the + operator\n",
    "\n",
    "combined_list = my_list + second_list\n",
    "print(combined_list)"
   ]
  },
  {
   "cell_type": "code",
   "execution_count": 24,
   "id": "6a5cb641-aed0-4438-8f7e-c407cc336b3b",
   "metadata": {},
   "outputs": [
    {
     "name": "stdout",
     "output_type": "stream",
     "text": [
      "['Lesson', 5, 'Is fun?', True, 'L', 'i', 'f', 'e', ' ', 'i', 's', ' ', 'a', 'w', 'e', 's', 'o', 'm', 'e', 1, 2, 3]\n"
     ]
    }
   ],
   "source": [
    "# Add a sequence to the end of an existing list with the list.extend() function\n",
    "\n",
    "combined_list.extend({1, 2, 3})\n",
    "print(combined_list)"
   ]
  },
  {
   "cell_type": "code",
   "execution_count": 27,
   "id": "0ba04729-427a-46af-aeba-72351a8555f3",
   "metadata": {},
   "outputs": [
    {
     "name": "stdout",
     "output_type": "stream",
     "text": [
      "5\n",
      "1\n",
      "9\n",
      "25\n",
      "5.0\n"
     ]
    }
   ],
   "source": [
    "# Check min, max, length\n",
    "\n",
    "num_list =[1, 3, 5, 7, 9]\n",
    "print(len(num_list))  # Get lenght of list\n",
    "print(min(num_list))  # Get min of list\n",
    "print(max(num_list))  # Get max of list\n",
    "print(sum(num_list))  # Get the sum of items in list\n",
    "print(sum(num_list)/len(num_list))  # Get the mean"
   ]
  },
  {
   "cell_type": "code",
   "execution_count": 28,
   "id": "479f0c76-ec7e-45a6-9bfe-d8a9d2dedfee",
   "metadata": {},
   "outputs": [
    {
     "data": {
      "text/plain": [
       "True"
      ]
     },
     "execution_count": 28,
     "metadata": {},
     "output_type": "execute_result"
    }
   ],
   "source": [
    "# Check wether a list contains a certain object with \"in\"\n",
    "\n",
    "1 in num_list"
   ]
  },
  {
   "cell_type": "code",
   "execution_count": 29,
   "id": "ca408e11-9c65-4a42-9f25-e3576eeabee4",
   "metadata": {},
   "outputs": [
    {
     "data": {
      "text/plain": [
       "True"
      ]
     },
     "execution_count": 29,
     "metadata": {},
     "output_type": "execute_result"
    }
   ],
   "source": [
    "# Check wether an object is not in a list \"not in\"\n",
    "8 not in num_list"
   ]
  },
  {
   "cell_type": "code",
   "execution_count": 30,
   "id": "6534a622-9e3d-466b-9e2e-833864fb95f0",
   "metadata": {},
   "outputs": [
    {
     "data": {
      "text/plain": [
       "1"
      ]
     },
     "execution_count": 30,
     "metadata": {},
     "output_type": "execute_result"
    }
   ],
   "source": [
    "# Count recurrence of an object in a list with lis.count()\n",
    "num_list.count(1)"
   ]
  },
  {
   "cell_type": "code",
   "execution_count": 34,
   "id": "15e575cd-1161-449e-8c6c-0ba96d2dadb6",
   "metadata": {},
   "outputs": [
    {
     "name": "stdout",
     "output_type": "stream",
     "text": [
      "Reversed list:  [4, 3, 2, 1]\n",
      "Sorted list:  [1, 2, 3, 4]\n"
     ]
    }
   ],
   "source": [
    "# Reverse and sort list\n",
    "\n",
    "new_list = [1, 2, 3, 4]\n",
    "new_list.reverse()\n",
    "print (\"Reversed list: \", new_list)\n",
    "\n",
    "new_list.sort()\n",
    "print(\"Sorted list: \", new_list)"
   ]
  },
  {
   "cell_type": "markdown",
   "id": "db70e13a-e856-4ecc-bd31-8d32455d217a",
   "metadata": {},
   "source": [
    "### List indexign and slicing\n",
    "* Indexed: each position in the sequence has a corresponding number called the \"index\", used to look up the value at that position\n",
    "* First element of a sequence in Python is 0"
   ]
  },
  {
   "cell_type": "code",
   "execution_count": 37,
   "id": "ccf30918-7d9e-43af-b245-b4d495e13488",
   "metadata": {},
   "outputs": [
    {
     "name": "stdout",
     "output_type": "stream",
     "text": [
      "Hello\n"
     ]
    }
   ],
   "source": [
    "another_list = [\"Hello\",\"my\",\"name\",\"is\",\"Micaela\"]\n",
    "\n",
    "print(another_list[0]) # Get the first object in list"
   ]
  },
  {
   "cell_type": "code",
   "execution_count": 38,
   "id": "d7a54080-1c25-492d-88b5-5d3b528ef0d7",
   "metadata": {},
   "outputs": [
    {
     "name": "stdout",
     "output_type": "stream",
     "text": [
      "Micaela\n"
     ]
    }
   ],
   "source": [
    "# When supplying a negative number while indexing, it accesses items from the other end of the list going backwards\n",
    "print(another_list[-1])"
   ]
  },
  {
   "cell_type": "code",
   "execution_count": 39,
   "id": "20ba52ef-3aba-4e21-ba31-6169c7664d9a",
   "metadata": {},
   "outputs": [],
   "source": [
    "# IndexError happens when supplying an index outside of the list's range"
   ]
  },
  {
   "cell_type": "code",
   "execution_count": 40,
   "id": "fd0950ba-996d-4847-ae12-253acde5b02b",
   "metadata": {},
   "outputs": [
    {
     "name": "stdout",
     "output_type": "stream",
     "text": [
      "1\n"
     ]
    }
   ],
   "source": [
    "# When list contains indexed numbers, you can supply additional indexes to get items contained within the nested objects\n",
    "\n",
    "nested_list = [[0, 1, 2], [3, 4, 5]]\n",
    "print(nested_list[0][1])"
   ]
  },
  {
   "cell_type": "markdown",
   "id": "c0dbf9cd-fe54-42f2-9ac9-9193f920d7a7",
   "metadata": {},
   "source": [
    "You can slice a list using the sintax [start:stop:step]:\n",
    "* Start: starting index\n",
    "* Stop: ending index\n",
    "* Step: controls how frequently to sample values along the slice. The default step size is one"
   ]
  },
  {
   "cell_type": "code",
   "execution_count": 41,
   "id": "d81b534e-75a2-4b6f-be60-bbca55491066",
   "metadata": {},
   "outputs": [
    {
     "data": {
      "text/plain": [
       "['Hello', 'my', 'name']"
      ]
     },
     "execution_count": 41,
     "metadata": {},
     "output_type": "execute_result"
    }
   ],
   "source": [
    "another_list[0:3]"
   ]
  },
  {
   "cell_type": "code",
   "execution_count": 42,
   "id": "71100d83-2954-432b-bb2a-24fdc316b040",
   "metadata": {},
   "outputs": [
    {
     "data": {
      "text/plain": [
       "['Hello', 'name']"
      ]
     },
     "execution_count": 42,
     "metadata": {},
     "output_type": "execute_result"
    }
   ],
   "source": [
    "another_list[0:3:2]"
   ]
  },
  {
   "cell_type": "code",
   "execution_count": 47,
   "id": "9fe4fee9-239d-4232-9a99-17f09f5b0a4b",
   "metadata": {},
   "outputs": [
    {
     "name": "stdout",
     "output_type": "stream",
     "text": [
      "['Hello', 'my', 'name', 'is']\n",
      "['is', 'Micaela']\n",
      "['Hello', 'my', 'name', 'is', 'Micaela']\n",
      "['Micaela', 'is', 'name', 'my', 'Hello']\n"
     ]
    }
   ],
   "source": [
    "# Leave the starting and ending index blank to slice from the beginning or up to the end of the list\n",
    "print(another_list[:4]) # End index is 4\n",
    "print(another_list[3:]) # Start index is 3\n",
    "print(another_list[:])  # To slice the entire list\n",
    "print(another_list[::-1]) # Slices and reverses the list"
   ]
  },
  {
   "cell_type": "code",
   "execution_count": 50,
   "id": "fc148b3c-340c-4c2d-b3b4-c4a58f968166",
   "metadata": {},
   "outputs": [
    {
     "name": "stdout",
     "output_type": "stream",
     "text": [
      "['Hello', 'my', 'name', 'new']\n",
      "['Hello', 'my', 'name']\n"
     ]
    }
   ],
   "source": [
    "# Index new items and delete items\n",
    "another_list[3]=\"new\" # Adding new index in position 3\n",
    "print(another_list)\n",
    "del(another_list[3]) # Delete from another_list index 3\n",
    "print(another_list)"
   ]
  },
  {
   "cell_type": "code",
   "execution_count": 52,
   "id": "e41cd600-f472-446f-ad6e-572d7a5be3f7",
   "metadata": {},
   "outputs": [
    {
     "name": "stdout",
     "output_type": "stream",
     "text": [
      "am\n",
      "['Hello', 'here', 'I']\n"
     ]
    }
   ],
   "source": [
    "# pop() function removes the final item in a list and returns it\n",
    "another_list = [\"Hello\", \"here\", \"I\", \"am\"]\n",
    "\n",
    "final_item = another_list.pop()\n",
    "print(final_item)\n",
    "print(another_list)"
   ]
  },
  {
   "cell_type": "markdown",
   "id": "186249e5-2b00-497d-b0bf-03d7f384574c",
   "metadata": {},
   "source": [
    "### Copying Lists"
   ]
  },
  {
   "cell_type": "code",
   "execution_count": 54,
   "id": "56dd2140-872e-4dfe-aa8b-cff686083423",
   "metadata": {},
   "outputs": [
    {
     "name": "stdout",
     "output_type": "stream",
     "text": [
      "List1:  [1, 2, 3, 4]\n",
      "List2:  [1, 2, 3]\n"
     ]
    }
   ],
   "source": [
    "# Copy a list with the list.copy() function\n",
    "list1 = [1, 2, 3]\n",
    "list2 = list1.copy() # Copy list\n",
    "list1.append(4)      # Add item to list 1\n",
    "print(\"List1: \", list1)\n",
    "print(\"List2: \", list2)"
   ]
  },
  {
   "cell_type": "markdown",
   "id": "d1b91763-01a0-4210-9d39-a276c26ee8e7",
   "metadata": {},
   "source": [
    "List2 (the copy) is not affected by the append() function, it's a **'shallow copy'**. A shallow copy makes a new list where each element refers to the object at the same position in the original list. Shallow copies can have *undisered effects* when they coppy lists that contain mutable objects, like other lists."
   ]
  },
  {
   "cell_type": "code",
   "execution_count": 56,
   "id": "8a579d7d-a4cc-4af9-8bfe-4eb5610bcaad",
   "metadata": {},
   "outputs": [
    {
     "name": "stdout",
     "output_type": "stream",
     "text": [
      "Before appending to list1: \n",
      "List2:  ['The list', [1, 2, 3]]\n",
      "List3:  ['The list', [1, 2, 3]] \n",
      "\n",
      "After appending to list1: \n",
      "List2:  ['The list', [1, 2, 3, 4]]\n",
      "List3:  ['The list', [1, 2, 3, 4]]\n"
     ]
    }
   ],
   "source": [
    "list1 = [1, 2, 3]\n",
    "list2 = [\"The list\", list1] # Nest list in another list\n",
    "list3 = list2.copy()        # Shallow copy list2\n",
    "\n",
    "print(\"Before appending to list1: \")\n",
    "print(\"List2: \", list2)\n",
    "print(\"List3: \", list3, \"\\n\")\n",
    "\n",
    "list1.append(4)\n",
    "print(\"After appending to list1: \")\n",
    "print(\"List2: \", list2)\n",
    "print(\"List3: \", list3)"
   ]
  },
  {
   "cell_type": "markdown",
   "id": "c8829a00-4610-4230-8096-d28d6f129351",
   "metadata": {},
   "source": [
    "When altering list 1, the copies list2 and list3 both change. \n",
    "**When working with nested lists, you have to make a deepcopy if you want to trully copy nested objects in the original to avoid this behavior.**"
   ]
  },
  {
   "cell_type": "code",
   "execution_count": 57,
   "id": "c85b2d55-fedb-4631-9bb5-fdfdbe36bb15",
   "metadata": {},
   "outputs": [
    {
     "name": "stdout",
     "output_type": "stream",
     "text": [
      "Before appending to list1:\n",
      "List2: ['List within a list', [1, 2, 3]]\n",
      "List3: ['List within a list', [1, 2, 3]] \n",
      "\n",
      "After appending to list1:\n",
      "List2: ['List within a list', [1, 2, 3, 4]]\n",
      "List3: ['List within a list', [1, 2, 3]]\n"
     ]
    }
   ],
   "source": [
    "import copy      # Load the copy module\n",
    "\n",
    "list1 = [1, 2, 3]\n",
    "\n",
    "list2 = [\"List within a list\", list1]   # Nest list1 into another list\n",
    "list3 = copy.deepcopy(list2)            # Deep copy list 2\n",
    "\n",
    "print(\"Before appending to list1:\")\n",
    "print(\"List2:\", list2)\n",
    "print(\"List3:\", list3, \"\\n\")\n",
    "\n",
    "list1.append(4)                        # Add an item to list1\n",
    "print(\"After appending to list1:\")\n",
    "print(\"List2:\", list2)\n",
    "print(\"List3:\", list3)"
   ]
  },
  {
   "cell_type": "markdown",
   "id": "8e1d4cc4-5803-446a-a20c-1b7a4d3c7cf8",
   "metadata": {},
   "source": [
    "List3 isn't altered by the change in list1, because list3 is a copy rather than a reference of list1."
   ]
  },
  {
   "cell_type": "markdown",
   "id": "db64f9fc-57ad-4189-8993-51b2d8525cad",
   "metadata": {},
   "source": [
    "## 6. Tuples and Strings"
   ]
  },
  {
   "cell_type": "code",
   "execution_count": null,
   "id": "cbc14f7a-2446-41b8-9752-5e532ac76351",
   "metadata": {},
   "outputs": [],
   "source": []
  }
 ],
 "metadata": {
  "kernelspec": {
   "display_name": "Python 3",
   "language": "python",
   "name": "python3"
  },
  "language_info": {
   "codemirror_mode": {
    "name": "ipython",
    "version": 3
   },
   "file_extension": ".py",
   "mimetype": "text/x-python",
   "name": "python",
   "nbconvert_exporter": "python",
   "pygments_lexer": "ipython3",
   "version": "3.8.8"
  }
 },
 "nbformat": 4,
 "nbformat_minor": 5
}
