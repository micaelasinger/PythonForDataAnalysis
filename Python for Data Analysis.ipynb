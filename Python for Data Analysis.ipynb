{
 "cells": [
  {
   "cell_type": "markdown",
   "id": "05c37d2d-a58f-4919-9af7-d1e61421a6e6",
   "metadata": {},
   "source": [
    "# Python for Data Analysis\n",
    "\n",
    "Based on Greg Hammel's Sessions: https://www.kaggle.com/hamelg/python-for-data-analysis-index"
   ]
  },
  {
   "cell_type": "markdown",
   "id": "9b548c81-c880-469b-949a-df9cb9e35b08",
   "metadata": {},
   "source": [
    "## 1. Getting started\n",
    "### Shortcuts:\n",
    "* \"A\" to create a new cell above the current cell \n",
    "* \"B\" to create a new cell below the current cell \n",
    "* \"M\" to convert the current cell to Markdown \n",
    "* \"Y\" to convert the current cell to code \n",
    "* \"DD\" (press \"D\" twice) to delete the current cell"
   ]
  },
  {
   "cell_type": "markdown",
   "id": "34fbb005-87d9-4883-adff-1065180ba8db",
   "metadata": {},
   "source": [
    "## 2. Python Arithmetic\n",
    "### Operations:\n",
    "* Substraction: 10 - 3\n",
    "* Addition: 10 + 3\n",
    "* Multiplication: 10 * 3\n",
    "* Decimal division: 10 / 3\n",
    "* Floor division: 10 // 3\n",
    "* Exponentiation: 10 ** 3\n",
    "* Modulus (produces the remainder you'd get when dividing two numbers): 100 % 75 = 25\n",
    "\n",
    "### Math module:"
   ]
  },
  {
   "cell_type": "code",
   "execution_count": 2,
   "id": "950d0aa3-0b37-44be-9c95-7bfc6f77597f",
   "metadata": {},
   "outputs": [
    {
     "data": {
      "text/plain": [
       "0.9999698965391098"
      ]
     },
     "execution_count": 2,
     "metadata": {},
     "output_type": "execute_result"
    }
   ],
   "source": [
    "import math\n",
    "# Logarithm of argument\n",
    "math.log(2.7182)"
   ]
  },
  {
   "cell_type": "code",
   "execution_count": 3,
   "id": "9a9062ba-0563-4e50-af61-a685564edb75",
   "metadata": {},
   "outputs": [
    {
     "data": {
      "text/plain": [
       "2.0"
      ]
     },
     "execution_count": 3,
     "metadata": {},
     "output_type": "execute_result"
    }
   ],
   "source": [
    "# Add a second argument to specify the log base\n",
    "math.log(100,10)"
   ]
  },
  {
   "cell_type": "code",
   "execution_count": 4,
   "id": "525ecc0f-62a3-43d6-af70-354f1ec91395",
   "metadata": {},
   "outputs": [
    {
     "data": {
      "text/plain": [
       "22026.465794806718"
      ]
     },
     "execution_count": 4,
     "metadata": {},
     "output_type": "execute_result"
    }
   ],
   "source": [
    "# Raise e to the power of its argument\n",
    "math.exp(10)"
   ]
  },
  {
   "cell_type": "code",
   "execution_count": 5,
   "id": "8dd5f92a-36d7-4e57-b81e-47e42b631a72",
   "metadata": {},
   "outputs": [
    {
     "data": {
      "text/plain": [
       "8.0"
      ]
     },
     "execution_count": 5,
     "metadata": {},
     "output_type": "execute_result"
    }
   ],
   "source": [
    "# Take the root square of a number\n",
    "math.sqrt(64)"
   ]
  },
  {
   "cell_type": "code",
   "execution_count": 7,
   "id": "fb9acb8f-ae11-4483-bde9-aeb541b15f36",
   "metadata": {},
   "outputs": [
    {
     "data": {
      "text/plain": [
       "30"
      ]
     },
     "execution_count": 7,
     "metadata": {},
     "output_type": "execute_result"
    }
   ],
   "source": [
    "# Absolute value of a number\n",
    "abs(-30)"
   ]
  },
  {
   "cell_type": "code",
   "execution_count": 8,
   "id": "5ce420cc-690b-43ac-9546-a38d529c6a73",
   "metadata": {},
   "outputs": [
    {
     "data": {
      "text/plain": [
       "3.141592653589793"
      ]
     },
     "execution_count": 8,
     "metadata": {},
     "output_type": "execute_result"
    }
   ],
   "source": [
    "# Constant of pi\n",
    "math.pi"
   ]
  },
  {
   "cell_type": "code",
   "execution_count": 9,
   "id": "46c6ef62-9430-45cf-81fd-0d7522ea261b",
   "metadata": {},
   "outputs": [
    {
     "data": {
      "text/plain": [
       "11"
      ]
     },
     "execution_count": 9,
     "metadata": {},
     "output_type": "execute_result"
    }
   ],
   "source": [
    "# Round to nearest whole number\n",
    "round(10.6)"
   ]
  },
  {
   "cell_type": "code",
   "execution_count": 10,
   "id": "ce8d1198-12aa-4536-b475-517e03f10056",
   "metadata": {},
   "outputs": [
    {
     "data": {
      "text/plain": [
       "233.47"
      ]
     },
     "execution_count": 10,
     "metadata": {},
     "output_type": "execute_result"
    }
   ],
   "source": [
    "# Add a second number to specify number of decimals\n",
    "round(233.4678, 2)"
   ]
  },
  {
   "cell_type": "code",
   "execution_count": 11,
   "id": "7f4c53ac-f078-4b49-a804-154027e2eeae",
   "metadata": {},
   "outputs": [
    {
     "data": {
      "text/plain": [
       "100"
      ]
     },
     "execution_count": 11,
     "metadata": {},
     "output_type": "execute_result"
    }
   ],
   "source": [
    "# Round down to nearest whole number\n",
    "math.floor(100.5)"
   ]
  },
  {
   "cell_type": "markdown",
   "id": "c5844ad3-fa5a-4e65-bc4e-a69affdce8a8",
   "metadata": {},
   "source": [
    "## 3. Basic data types\n"
   ]
  },
  {
   "cell_type": "code",
   "execution_count": null,
   "id": "43db221c-c28c-45ce-862c-95e525d4048d",
   "metadata": {},
   "outputs": [],
   "source": []
  }
 ],
 "metadata": {
  "kernelspec": {
   "display_name": "Python 3",
   "language": "python",
   "name": "python3"
  },
  "language_info": {
   "codemirror_mode": {
    "name": "ipython",
    "version": 3
   },
   "file_extension": ".py",
   "mimetype": "text/x-python",
   "name": "python",
   "nbconvert_exporter": "python",
   "pygments_lexer": "ipython3",
   "version": "3.8.8"
  }
 },
 "nbformat": 4,
 "nbformat_minor": 5
}
