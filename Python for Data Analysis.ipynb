{
 "cells": [
  {
   "cell_type": "markdown",
   "id": "05c37d2d-a58f-4919-9af7-d1e61421a6e6",
   "metadata": {},
   "source": [
    "# Python for Data Analysis\n",
    "\n",
    "Based on Greg Hammel's Sessions: https://www.kaggle.com/hamelg/python-for-data-analysis-index"
   ]
  },
  {
   "cell_type": "markdown",
   "id": "9b548c81-c880-469b-949a-df9cb9e35b08",
   "metadata": {},
   "source": [
    "## 1. Getting started\n",
    "### Shortcuts\n",
    "* \"A\" to create a new cell above the current cell \n",
    "* \"B\" to create a new cell below the current cell \n",
    "* \"M\" to convert the current cell to Markdown \n",
    "* \"Y\" to convert the current cell to code \n",
    "* \"DD\" (press \"D\" twice) to delete the current cell"
   ]
  },
  {
   "cell_type": "markdown",
   "id": "34fbb005-87d9-4883-adff-1065180ba8db",
   "metadata": {},
   "source": [
    "## 2. Python Arithmetic\n",
    "### Operations\n",
    "* Substraction: 10 - 3\n",
    "* Addition: 10 + 3\n",
    "* Multiplication: 10 * 3\n",
    "* Decimal division: 10 / 3\n",
    "* Floor division: 10 // 3\n",
    "* Exponentiation: 10 ** 3\n",
    "* Modulus (produces the remainder you'd get when dividing two numbers): 100 % 75 = 25\n",
    "\n",
    "### Math module"
   ]
  },
  {
   "cell_type": "code",
   "execution_count": 2,
   "id": "950d0aa3-0b37-44be-9c95-7bfc6f77597f",
   "metadata": {},
   "outputs": [
    {
     "data": {
      "text/plain": [
       "0.9999698965391098"
      ]
     },
     "execution_count": 2,
     "metadata": {},
     "output_type": "execute_result"
    }
   ],
   "source": [
    "import math\n",
    "# Logarithm of argument\n",
    "math.log(2.7182)"
   ]
  },
  {
   "cell_type": "code",
   "execution_count": 3,
   "id": "9a9062ba-0563-4e50-af61-a685564edb75",
   "metadata": {},
   "outputs": [
    {
     "data": {
      "text/plain": [
       "2.0"
      ]
     },
     "execution_count": 3,
     "metadata": {},
     "output_type": "execute_result"
    }
   ],
   "source": [
    "# Add a second argument to specify the log base\n",
    "math.log(100,10)"
   ]
  },
  {
   "cell_type": "code",
   "execution_count": 4,
   "id": "525ecc0f-62a3-43d6-af70-354f1ec91395",
   "metadata": {},
   "outputs": [
    {
     "data": {
      "text/plain": [
       "22026.465794806718"
      ]
     },
     "execution_count": 4,
     "metadata": {},
     "output_type": "execute_result"
    }
   ],
   "source": [
    "# Raise e to the power of its argument\n",
    "math.exp(10)"
   ]
  },
  {
   "cell_type": "code",
   "execution_count": 5,
   "id": "8dd5f92a-36d7-4e57-b81e-47e42b631a72",
   "metadata": {},
   "outputs": [
    {
     "data": {
      "text/plain": [
       "8.0"
      ]
     },
     "execution_count": 5,
     "metadata": {},
     "output_type": "execute_result"
    }
   ],
   "source": [
    "# Take the root square of a number\n",
    "math.sqrt(64)"
   ]
  },
  {
   "cell_type": "code",
   "execution_count": 7,
   "id": "fb9acb8f-ae11-4483-bde9-aeb541b15f36",
   "metadata": {},
   "outputs": [
    {
     "data": {
      "text/plain": [
       "30"
      ]
     },
     "execution_count": 7,
     "metadata": {},
     "output_type": "execute_result"
    }
   ],
   "source": [
    "# Absolute value of a number\n",
    "abs(-30)"
   ]
  },
  {
   "cell_type": "code",
   "execution_count": 8,
   "id": "5ce420cc-690b-43ac-9546-a38d529c6a73",
   "metadata": {},
   "outputs": [
    {
     "data": {
      "text/plain": [
       "3.141592653589793"
      ]
     },
     "execution_count": 8,
     "metadata": {},
     "output_type": "execute_result"
    }
   ],
   "source": [
    "# Constant of pi\n",
    "math.pi"
   ]
  },
  {
   "cell_type": "code",
   "execution_count": 9,
   "id": "46c6ef62-9430-45cf-81fd-0d7522ea261b",
   "metadata": {},
   "outputs": [
    {
     "data": {
      "text/plain": [
       "11"
      ]
     },
     "execution_count": 9,
     "metadata": {},
     "output_type": "execute_result"
    }
   ],
   "source": [
    "# Round to nearest whole number\n",
    "round(10.6)"
   ]
  },
  {
   "cell_type": "code",
   "execution_count": 10,
   "id": "ce8d1198-12aa-4536-b475-517e03f10056",
   "metadata": {},
   "outputs": [
    {
     "data": {
      "text/plain": [
       "233.47"
      ]
     },
     "execution_count": 10,
     "metadata": {},
     "output_type": "execute_result"
    }
   ],
   "source": [
    "# Add a second number to specify number of decimals\n",
    "round(233.4678, 2)"
   ]
  },
  {
   "cell_type": "code",
   "execution_count": 11,
   "id": "7f4c53ac-f078-4b49-a804-154027e2eeae",
   "metadata": {},
   "outputs": [
    {
     "data": {
      "text/plain": [
       "100"
      ]
     },
     "execution_count": 11,
     "metadata": {},
     "output_type": "execute_result"
    }
   ],
   "source": [
    "# Round down to nearest whole number\n",
    "math.floor(100.5)"
   ]
  },
  {
   "cell_type": "markdown",
   "id": "c5844ad3-fa5a-4e65-bc4e-a69affdce8a8",
   "metadata": {},
   "source": [
    "## 3. Basic data types\n"
   ]
  },
  {
   "cell_type": "markdown",
   "id": "bf7f44c3-fce5-40fa-9338-fa86ce878124",
   "metadata": {},
   "source": [
    "* Integers: whole-numbered numeric values (positive or negative)\n",
    "* Floats: numbers with decimal values. Inf and -Inf (infinite values) are floats\n",
    "* Booleans: true/false values that result from logical statements. bool(1)=True, bool(0)=False\n",
    "* Strings: text value ('') or (\"\")\n",
    "* None: represents a missing value"
   ]
  },
  {
   "cell_type": "markdown",
   "id": "ba500b2a-d0ff-469b-bc28-56ef34e010e0",
   "metadata": {},
   "source": [
    "## 4. Variables\n",
    "A variable is a name you assign a value or object."
   ]
  },
  {
   "cell_type": "code",
   "execution_count": 1,
   "id": "4274d49e-67bd-4d9c-a89d-559e2b837ea1",
   "metadata": {},
   "outputs": [
    {
     "name": "stdout",
     "output_type": "stream",
     "text": [
      "10 Python is fun True\n"
     ]
    }
   ],
   "source": [
    "x = 10\n",
    "y = \"Python is fun\"\n",
    "z = 144**0.5 == 12\n",
    "\n",
    "print(x,y,z)"
   ]
  },
  {
   "cell_type": "code",
   "execution_count": 3,
   "id": "45f2257b-8ed6-46c8-bc29-bde2865afbd7",
   "metadata": {},
   "outputs": [
    {
     "name": "stdout",
     "output_type": "stream",
     "text": [
      "10\n",
      "20\n",
      "30\n"
     ]
    }
   ],
   "source": [
    "# 'Tuple unpacking' is the method of extracting variables from a comma separated sequence\n",
    "\n",
    "x, y, z = (10 ,20 ,30)\n",
    "\n",
    "print(x)\n",
    "print(y)\n",
    "print(z)"
   ]
  },
  {
   "cell_type": "code",
   "execution_count": 4,
   "id": "c0d2f221-5e3f-490a-9e56-a80c8476cdca",
   "metadata": {},
   "outputs": [
    {
     "name": "stdout",
     "output_type": "stream",
     "text": [
      "20\n",
      "10\n"
     ]
    }
   ],
   "source": [
    "# Swap values of two variables\n",
    "\n",
    "(x, y) = (y, x)\n",
    "\n",
    "print(x)\n",
    "print(y)"
   ]
  },
  {
   "cell_type": "markdown",
   "id": "d6987ece-720f-46e4-bd10-ddc26a335c3f",
   "metadata": {},
   "source": [
    "When assigning a variable in Python, the variable is a reference to a specific object in the computer's memory.\n",
    "Reassigning a variable simply switches the reference to a different object in memory.\n",
    "If the object a variable refers to in memory is altered, the value of the variable corresponding to the altered object will also change. \n",
    "All of the data types seen so far are inmutable (they cannot be changed after created).\n",
    "If an operations appears to be altering an inmutable object, it is actually creating a totally new object rather than altering the one that exists."
   ]
  },
  {
   "cell_type": "code",
   "execution_count": 8,
   "id": "d101530c-e53f-4486-933a-cc1fa05d0892",
   "metadata": {},
   "outputs": [
    {
     "name": "stdout",
     "output_type": "stream",
     "text": [
      "Hello\n",
      "hello\n"
     ]
    }
   ],
   "source": [
    "x = \"Hello\"\n",
    "y = x        # Assign y the same object as x\n",
    "y = y.lower() # Assing y the result of lower()\n",
    "\n",
    "# Strings are inmutable, Python creates an entirely new string \"hello\" and stores it somewhere else separate from \"Hello\"\n",
    "# x and y are different objects in memory\n",
    "\n",
    "print(x)\n",
    "print(y)"
   ]
  },
  {
   "cell_type": "markdown",
   "id": "04e094f8-5ef0-4881-8398-5c00f59b0cd5",
   "metadata": {},
   "source": [
    "Lists are a mutable data structure that can hold multiple objects. When altering a list, Python doesn't make an entirely new list in memory, it changes the actual list object itself."
   ]
  },
  {
   "cell_type": "code",
   "execution_count": 10,
   "id": "be91a23b-fa73-48d4-8041-07fa8b4be61d",
   "metadata": {},
   "outputs": [
    {
     "name": "stdout",
     "output_type": "stream",
     "text": [
      "[1, 2, 3, 4]\n",
      "[1, 2, 3, 4]\n"
     ]
    }
   ],
   "source": [
    "x = [1, 2, 3]  # Create a list\n",
    "y = x          # Assing y the same object as x\n",
    "y.append(4)    # Add 4 to the end of the list\n",
    "print(x)\n",
    "print(y)\n",
    "\n",
    "# x and y have the same value, even though it may appear that 4 was only added to y"
   ]
  },
  {
   "cell_type": "markdown",
   "id": "f7bbf1aa-b747-402d-86df-0686bc358498",
   "metadata": {},
   "source": [
    "## 5. Lists\n",
    "### List basics\n",
    "One of the most common sequenced data types in Python.\n",
    "* A list is a mutable, ordered collection of objects **it can be altered after created**\n",
    "* Lists are heterogenous, they can hold objects of different types\n",
    "* A list with no content is an empty list. Will return []"
   ]
  },
  {
   "cell_type": "code",
   "execution_count": 11,
   "id": "0f07b363-c6e6-4083-8398-1b8135c2cefa",
   "metadata": {},
   "outputs": [
    {
     "name": "stdout",
     "output_type": "stream",
     "text": [
      "['Lesson', 5, 'Is fun?', True]\n"
     ]
    }
   ],
   "source": [
    "my_list = [\"Lesson\", 5, \"Is fun?\", True]\n",
    "print(my_list)"
   ]
  },
  {
   "cell_type": "markdown",
   "id": "39b4ba12-029e-4c3f-9f21-c8a51275f1fd",
   "metadata": {},
   "source": [
    "Construct a list by passing some iterable into the list() function. An **iterable** is an object you can look through one item at a time (lists, tuples, strings...) "
   ]
  },
  {
   "cell_type": "code",
   "execution_count": 22,
   "id": "c1f8e847-aaf4-41de-a8ec-6a5e5b7e2a0a",
   "metadata": {},
   "outputs": [
    {
     "name": "stdout",
     "output_type": "stream",
     "text": [
      "['L', 'i', 'f', 'e', ' ', 'i', 's', ' ', 'a', 'w', 'e', 's', 'o', 'm', 'e']\n"
     ]
    }
   ],
   "source": [
    "second_list = list(\"Life is awesome\")\n",
    "print(second_list)"
   ]
  },
  {
   "cell_type": "code",
   "execution_count": 13,
   "id": "85596ae0-0c56-4a96-9837-28953697703b",
   "metadata": {},
   "outputs": [
    {
     "name": "stdout",
     "output_type": "stream",
     "text": [
      "['L', 'i', 'f', 'e', ' ', 'i', 's', ' ', 'a', 'w', 'e', 's', 'o', 'm', 'e', '!!!']\n"
     ]
    }
   ],
   "source": [
    "# Add an item to an existing list with the list.append() function\n",
    "\n",
    "second_list.append(\"!!!\")\n",
    "print(second_list)"
   ]
  },
  {
   "cell_type": "code",
   "execution_count": 21,
   "id": "3aef2f58-e5d9-4898-ba0e-a6c46c7c7c54",
   "metadata": {},
   "outputs": [
    {
     "name": "stdout",
     "output_type": "stream",
     "text": [
      "['f', 'e', ' ', 'i', 's', ' ', 'a', 'w', 'e', 's', 'o', 'm', 'e', '!!!']\n"
     ]
    }
   ],
   "source": [
    "# Remove a matching item from a list with list.remove()\n",
    "# It deletes the first matching item only\n",
    "\n",
    "second_list.remove('i')\n",
    "print(second_list)"
   ]
  },
  {
   "cell_type": "code",
   "execution_count": 23,
   "id": "8ecc2f72-bb36-4398-9f72-30a31d2d91be",
   "metadata": {},
   "outputs": [
    {
     "name": "stdout",
     "output_type": "stream",
     "text": [
      "['Lesson', 5, 'Is fun?', True, 'L', 'i', 'f', 'e', ' ', 'i', 's', ' ', 'a', 'w', 'e', 's', 'o', 'm', 'e']\n"
     ]
    }
   ],
   "source": [
    "# Join two lists together with the + operator\n",
    "\n",
    "combined_list = my_list + second_list\n",
    "print(combined_list)"
   ]
  },
  {
   "cell_type": "code",
   "execution_count": 24,
   "id": "6a5cb641-aed0-4438-8f7e-c407cc336b3b",
   "metadata": {},
   "outputs": [
    {
     "name": "stdout",
     "output_type": "stream",
     "text": [
      "['Lesson', 5, 'Is fun?', True, 'L', 'i', 'f', 'e', ' ', 'i', 's', ' ', 'a', 'w', 'e', 's', 'o', 'm', 'e', 1, 2, 3]\n"
     ]
    }
   ],
   "source": [
    "# Add a sequence to the end of an existing list with the list.extend() function\n",
    "\n",
    "combined_list.extend({1, 2, 3})\n",
    "print(combined_list)"
   ]
  },
  {
   "cell_type": "code",
   "execution_count": 27,
   "id": "0ba04729-427a-46af-aeba-72351a8555f3",
   "metadata": {},
   "outputs": [
    {
     "name": "stdout",
     "output_type": "stream",
     "text": [
      "5\n",
      "1\n",
      "9\n",
      "25\n",
      "5.0\n"
     ]
    }
   ],
   "source": [
    "# Check min, max, length\n",
    "\n",
    "num_list =[1, 3, 5, 7, 9]\n",
    "print(len(num_list))  # Get lenght of list\n",
    "print(min(num_list))  # Get min of list\n",
    "print(max(num_list))  # Get max of list\n",
    "print(sum(num_list))  # Get the sum of items in list\n",
    "print(sum(num_list)/len(num_list))  # Get the mean"
   ]
  },
  {
   "cell_type": "code",
   "execution_count": 28,
   "id": "479f0c76-ec7e-45a6-9bfe-d8a9d2dedfee",
   "metadata": {},
   "outputs": [
    {
     "data": {
      "text/plain": [
       "True"
      ]
     },
     "execution_count": 28,
     "metadata": {},
     "output_type": "execute_result"
    }
   ],
   "source": [
    "# Check wether a list contains a certain object with \"in\"\n",
    "\n",
    "1 in num_list"
   ]
  },
  {
   "cell_type": "code",
   "execution_count": 29,
   "id": "ca408e11-9c65-4a42-9f25-e3576eeabee4",
   "metadata": {},
   "outputs": [
    {
     "data": {
      "text/plain": [
       "True"
      ]
     },
     "execution_count": 29,
     "metadata": {},
     "output_type": "execute_result"
    }
   ],
   "source": [
    "# Check wether an object is not in a list \"not in\"\n",
    "8 not in num_list"
   ]
  },
  {
   "cell_type": "code",
   "execution_count": 30,
   "id": "6534a622-9e3d-466b-9e2e-833864fb95f0",
   "metadata": {},
   "outputs": [
    {
     "data": {
      "text/plain": [
       "1"
      ]
     },
     "execution_count": 30,
     "metadata": {},
     "output_type": "execute_result"
    }
   ],
   "source": [
    "# Count recurrence of an object in a list with lis.count()\n",
    "num_list.count(1)"
   ]
  },
  {
   "cell_type": "code",
   "execution_count": 34,
   "id": "15e575cd-1161-449e-8c6c-0ba96d2dadb6",
   "metadata": {},
   "outputs": [
    {
     "name": "stdout",
     "output_type": "stream",
     "text": [
      "Reversed list:  [4, 3, 2, 1]\n",
      "Sorted list:  [1, 2, 3, 4]\n"
     ]
    }
   ],
   "source": [
    "# Reverse and sort list\n",
    "\n",
    "new_list = [1, 2, 3, 4]\n",
    "new_list.reverse()\n",
    "print (\"Reversed list: \", new_list)\n",
    "\n",
    "new_list.sort()\n",
    "print(\"Sorted list: \", new_list)"
   ]
  },
  {
   "cell_type": "markdown",
   "id": "db70e13a-e856-4ecc-bd31-8d32455d217a",
   "metadata": {},
   "source": [
    "### List indexign and slicing\n",
    "* Indexed: each position in the sequence has a corresponding number called the \"index\", used to look up the value at that position\n",
    "* First element of a sequence in Python is 0"
   ]
  },
  {
   "cell_type": "code",
   "execution_count": 37,
   "id": "ccf30918-7d9e-43af-b245-b4d495e13488",
   "metadata": {},
   "outputs": [
    {
     "name": "stdout",
     "output_type": "stream",
     "text": [
      "Hello\n"
     ]
    }
   ],
   "source": [
    "another_list = [\"Hello\",\"my\",\"name\",\"is\",\"Micaela\"]\n",
    "\n",
    "print(another_list[0]) # Get the first object in list"
   ]
  },
  {
   "cell_type": "code",
   "execution_count": 38,
   "id": "d7a54080-1c25-492d-88b5-5d3b528ef0d7",
   "metadata": {},
   "outputs": [
    {
     "name": "stdout",
     "output_type": "stream",
     "text": [
      "Micaela\n"
     ]
    }
   ],
   "source": [
    "# When supplying a negative number while indexing, it accesses items from the other end of the list going backwards\n",
    "print(another_list[-1])"
   ]
  },
  {
   "cell_type": "code",
   "execution_count": 39,
   "id": "20ba52ef-3aba-4e21-ba31-6169c7664d9a",
   "metadata": {},
   "outputs": [],
   "source": [
    "# IndexError happens when supplying an index outside of the list's range"
   ]
  },
  {
   "cell_type": "code",
   "execution_count": 40,
   "id": "fd0950ba-996d-4847-ae12-253acde5b02b",
   "metadata": {},
   "outputs": [
    {
     "name": "stdout",
     "output_type": "stream",
     "text": [
      "1\n"
     ]
    }
   ],
   "source": [
    "# When list contains indexed numbers, you can supply additional indexes to get items contained within the nested objects\n",
    "\n",
    "nested_list = [[0, 1, 2], [3, 4, 5]]\n",
    "print(nested_list[0][1])"
   ]
  },
  {
   "cell_type": "markdown",
   "id": "c0dbf9cd-fe54-42f2-9ac9-9193f920d7a7",
   "metadata": {},
   "source": [
    "You can slice a list using the sintax [start:stop:step]:\n",
    "* Start: starting index\n",
    "* Stop: ending index\n",
    "* Step: controls how frequently to sample values along the slice. The default step size is one"
   ]
  },
  {
   "cell_type": "code",
   "execution_count": 41,
   "id": "d81b534e-75a2-4b6f-be60-bbca55491066",
   "metadata": {},
   "outputs": [
    {
     "data": {
      "text/plain": [
       "['Hello', 'my', 'name']"
      ]
     },
     "execution_count": 41,
     "metadata": {},
     "output_type": "execute_result"
    }
   ],
   "source": [
    "another_list[0:3]"
   ]
  },
  {
   "cell_type": "code",
   "execution_count": 42,
   "id": "71100d83-2954-432b-bb2a-24fdc316b040",
   "metadata": {},
   "outputs": [
    {
     "data": {
      "text/plain": [
       "['Hello', 'name']"
      ]
     },
     "execution_count": 42,
     "metadata": {},
     "output_type": "execute_result"
    }
   ],
   "source": [
    "another_list[0:3:2]"
   ]
  },
  {
   "cell_type": "code",
   "execution_count": 47,
   "id": "9fe4fee9-239d-4232-9a99-17f09f5b0a4b",
   "metadata": {},
   "outputs": [
    {
     "name": "stdout",
     "output_type": "stream",
     "text": [
      "['Hello', 'my', 'name', 'is']\n",
      "['is', 'Micaela']\n",
      "['Hello', 'my', 'name', 'is', 'Micaela']\n",
      "['Micaela', 'is', 'name', 'my', 'Hello']\n"
     ]
    }
   ],
   "source": [
    "# Leave the starting and ending index blank to slice from the beginning or up to the end of the list\n",
    "print(another_list[:4]) # End index is 4\n",
    "print(another_list[3:]) # Start index is 3\n",
    "print(another_list[:])  # To slice the entire list\n",
    "print(another_list[::-1]) # Slices and reverses the list"
   ]
  },
  {
   "cell_type": "code",
   "execution_count": 50,
   "id": "fc148b3c-340c-4c2d-b3b4-c4a58f968166",
   "metadata": {},
   "outputs": [
    {
     "name": "stdout",
     "output_type": "stream",
     "text": [
      "['Hello', 'my', 'name', 'new']\n",
      "['Hello', 'my', 'name']\n"
     ]
    }
   ],
   "source": [
    "# Index new items and delete items\n",
    "another_list[3]=\"new\" # Adding new index in position 3\n",
    "print(another_list)\n",
    "del(another_list[3]) # Delete from another_list index 3\n",
    "print(another_list)"
   ]
  },
  {
   "cell_type": "code",
   "execution_count": 52,
   "id": "e41cd600-f472-446f-ad6e-572d7a5be3f7",
   "metadata": {},
   "outputs": [
    {
     "name": "stdout",
     "output_type": "stream",
     "text": [
      "am\n",
      "['Hello', 'here', 'I']\n"
     ]
    }
   ],
   "source": [
    "# pop() function removes the final item in a list and returns it\n",
    "another_list = [\"Hello\", \"here\", \"I\", \"am\"]\n",
    "\n",
    "final_item = another_list.pop()\n",
    "print(final_item)\n",
    "print(another_list)"
   ]
  },
  {
   "cell_type": "markdown",
   "id": "186249e5-2b00-497d-b0bf-03d7f384574c",
   "metadata": {},
   "source": [
    "### Copying Lists"
   ]
  },
  {
   "cell_type": "code",
   "execution_count": 54,
   "id": "56dd2140-872e-4dfe-aa8b-cff686083423",
   "metadata": {},
   "outputs": [
    {
     "name": "stdout",
     "output_type": "stream",
     "text": [
      "List1:  [1, 2, 3, 4]\n",
      "List2:  [1, 2, 3]\n"
     ]
    }
   ],
   "source": [
    "# Copy a list with the list.copy() function\n",
    "list1 = [1, 2, 3]\n",
    "list2 = list1.copy() # Copy list\n",
    "list1.append(4)      # Add item to list 1\n",
    "print(\"List1: \", list1)\n",
    "print(\"List2: \", list2)"
   ]
  },
  {
   "cell_type": "markdown",
   "id": "d1b91763-01a0-4210-9d39-a276c26ee8e7",
   "metadata": {},
   "source": [
    "List2 (the copy) is not affected by the append() function, it's a **'shallow copy'**. A shallow copy makes a new list where each element refers to the object at the same position in the original list. Shallow copies can have *undisered effects* when they coppy lists that contain mutable objects, like other lists."
   ]
  },
  {
   "cell_type": "code",
   "execution_count": 56,
   "id": "8a579d7d-a4cc-4af9-8bfe-4eb5610bcaad",
   "metadata": {},
   "outputs": [
    {
     "name": "stdout",
     "output_type": "stream",
     "text": [
      "Before appending to list1: \n",
      "List2:  ['The list', [1, 2, 3]]\n",
      "List3:  ['The list', [1, 2, 3]] \n",
      "\n",
      "After appending to list1: \n",
      "List2:  ['The list', [1, 2, 3, 4]]\n",
      "List3:  ['The list', [1, 2, 3, 4]]\n"
     ]
    }
   ],
   "source": [
    "list1 = [1, 2, 3]\n",
    "list2 = [\"The list\", list1] # Nest list in another list\n",
    "list3 = list2.copy()        # Shallow copy list2\n",
    "\n",
    "print(\"Before appending to list1: \")\n",
    "print(\"List2: \", list2)\n",
    "print(\"List3: \", list3, \"\\n\")\n",
    "\n",
    "list1.append(4)\n",
    "print(\"After appending to list1: \")\n",
    "print(\"List2: \", list2)\n",
    "print(\"List3: \", list3)"
   ]
  },
  {
   "cell_type": "markdown",
   "id": "c8829a00-4610-4230-8096-d28d6f129351",
   "metadata": {},
   "source": [
    "When altering list 1, the copies list2 and list3 both change. \n",
    "**When working with nested lists, you have to make a deepcopy if you want to trully copy nested objects in the original to avoid this behavior.**"
   ]
  },
  {
   "cell_type": "code",
   "execution_count": 57,
   "id": "c85b2d55-fedb-4631-9bb5-fdfdbe36bb15",
   "metadata": {},
   "outputs": [
    {
     "name": "stdout",
     "output_type": "stream",
     "text": [
      "Before appending to list1:\n",
      "List2: ['List within a list', [1, 2, 3]]\n",
      "List3: ['List within a list', [1, 2, 3]] \n",
      "\n",
      "After appending to list1:\n",
      "List2: ['List within a list', [1, 2, 3, 4]]\n",
      "List3: ['List within a list', [1, 2, 3]]\n"
     ]
    }
   ],
   "source": [
    "import copy      # Load the copy module\n",
    "\n",
    "list1 = [1, 2, 3]\n",
    "\n",
    "list2 = [\"List within a list\", list1]   # Nest list1 into another list\n",
    "list3 = copy.deepcopy(list2)            # Deep copy list 2\n",
    "\n",
    "print(\"Before appending to list1:\")\n",
    "print(\"List2:\", list2)\n",
    "print(\"List3:\", list3, \"\\n\")\n",
    "\n",
    "list1.append(4)                        # Add an item to list1\n",
    "print(\"After appending to list1:\")\n",
    "print(\"List2:\", list2)\n",
    "print(\"List3:\", list3)"
   ]
  },
  {
   "cell_type": "markdown",
   "id": "8e1d4cc4-5803-446a-a20c-1b7a4d3c7cf8",
   "metadata": {},
   "source": [
    "List3 isn't altered by the change in list1, because list3 is a copy rather than a reference of list1."
   ]
  },
  {
   "cell_type": "markdown",
   "id": "db64f9fc-57ad-4189-8993-51b2d8525cad",
   "metadata": {},
   "source": [
    "## 6. Tuples and Strings\n",
    "### Tuples\n",
    "Tuples are an inmutable sequence data type used to hold short collections of related data (example: latitude and longitude coordinates). Recommended for values related and not likely to change. Tuples can store objects of different types. "
   ]
  },
  {
   "cell_type": "code",
   "execution_count": 1,
   "id": "ae571171-5438-49b5-a160-40ed377e2c59",
   "metadata": {},
   "outputs": [
    {
     "name": "stdout",
     "output_type": "stream",
     "text": [
      "(1, 3, 5)\n"
     ]
    }
   ],
   "source": [
    "my_tuple = (1, 3, 5)\n",
    "print(my_tuple)"
   ]
  },
  {
   "cell_type": "code",
   "execution_count": 2,
   "id": "9971c4f1-4180-4004-a630-5a6f56fdc3c8",
   "metadata": {},
   "outputs": [
    {
     "data": {
      "text/plain": [
       "(2, 3, 1)"
      ]
     },
     "execution_count": 2,
     "metadata": {},
     "output_type": "execute_result"
    }
   ],
   "source": [
    "# Change from list to tuple with the tuple() function\n",
    "\n",
    "my_list = [2, 3, 1]\n",
    "another_tuple = tuple(my_list)\n",
    "another_tuple"
   ]
  },
  {
   "cell_type": "markdown",
   "id": "6f92d122-e8f8-4f85-a4ba-b73a5864e6e1",
   "metadata": {},
   "source": [
    "Tuples have the same indexing and slicing operations as lists and some of the same functions. **However, tuples cannot be changed once created, so we can't append new values to them or remove values from them.** "
   ]
  },
  {
   "cell_type": "code",
   "execution_count": 3,
   "id": "7869725a-dd5c-4bdc-9ea6-58b0ef42ea70",
   "metadata": {},
   "outputs": [
    {
     "data": {
      "text/plain": [
       "1"
      ]
     },
     "execution_count": 3,
     "metadata": {},
     "output_type": "execute_result"
    }
   ],
   "source": [
    "another_tuple[2] # Index into tuples"
   ]
  },
  {
   "cell_type": "code",
   "execution_count": 5,
   "id": "b3170e81-4d9b-42d2-92f8-1f0f6b98ba0c",
   "metadata": {},
   "outputs": [
    {
     "data": {
      "text/plain": [
       "(2,)"
      ]
     },
     "execution_count": 5,
     "metadata": {},
     "output_type": "execute_result"
    }
   ],
   "source": [
    "another_tuple[0:1] # Slice tuples"
   ]
  },
  {
   "cell_type": "markdown",
   "id": "0f2b3bfd-b855-4710-8f1d-a4ee1d95549e",
   "metadata": {},
   "source": [
    "You can sort objects in tuple using the sorted() function, but doing so creates a new list containing the result rather than sorting the original tuple itself like the list.sort(). To avoid the \"shallow copy\" behaviour, you have to make a deepcopy using the copy library."
   ]
  },
  {
   "cell_type": "code",
   "execution_count": 7,
   "id": "89cdebb7-488a-45a4-8d27-6bcd11376a5b",
   "metadata": {},
   "outputs": [
    {
     "data": {
      "text/plain": [
       "[1, 2, 3]"
      ]
     },
     "execution_count": 7,
     "metadata": {},
     "output_type": "execute_result"
    }
   ],
   "source": [
    "sorted(another_tuple)"
   ]
  },
  {
   "cell_type": "code",
   "execution_count": 10,
   "id": "a154f55c-b40e-4fb4-a52c-4932608c7ff8",
   "metadata": {},
   "outputs": [
    {
     "name": "stdout",
     "output_type": "stream",
     "text": [
      "('Tuples are inmutable', [1, 2, 3])\n"
     ]
    }
   ],
   "source": [
    "import copy\n",
    "list1 = [1, 2, 3]\n",
    "\n",
    "tuple1 = (\"Tuples are inmutable\", list1)\n",
    "\n",
    "tuple2 = copy.deepcopy(tuple1) # Make a deep copy\n",
    "\n",
    "list1.append(\"But lists are mutable\") # The append won't change the tupple because you made a deepcopy and not a shallow one\n",
    "\n",
    "print(tuple2)"
   ]
  },
  {
   "cell_type": "markdown",
   "id": "42b07aa5-2b6b-45db-8299-f069f0b8513e",
   "metadata": {},
   "source": [
    "### Strings\n",
    "Strings are sequences: inmutable sequences of text characters. They support indexing operations, and start with index 0.\n",
    "**As inmutable objects, every time you transform a string with a function, Python makes a new string object rather than altering the original one in you computer's memory.**"
   ]
  },
  {
   "cell_type": "code",
   "execution_count": 11,
   "id": "819a7228-205a-4cf9-b5bf-48d67f701115",
   "metadata": {},
   "outputs": [
    {
     "name": "stdout",
     "output_type": "stream",
     "text": [
      "l\n",
      "lo world\n",
      "dlrow olleH\n"
     ]
    }
   ],
   "source": [
    "my_string = \"Hello world\"\n",
    "print(my_string[3]) # Get the character at index 3\n",
    "print(my_string[3:]) # Slice from index 3 to the end\n",
    "print(my_string[::-1]) # Reverse the string"
   ]
  },
  {
   "cell_type": "code",
   "execution_count": 13,
   "id": "9bc6546b-70ea-4284-96dc-2c0fac463ae2",
   "metadata": {},
   "outputs": [
    {
     "name": "stdout",
     "output_type": "stream",
     "text": [
      "11\n",
      "3\n"
     ]
    }
   ],
   "source": [
    "# Functions and len() and count() work on strings\n",
    "print(len(my_string))\n",
    "print(my_string.count(\"l\"))"
   ]
  },
  {
   "cell_type": "code",
   "execution_count": 15,
   "id": "95c7be5f-f537-47bb-8909-83ab810f88f7",
   "metadata": {},
   "outputs": [
    {
     "name": "stdout",
     "output_type": "stream",
     "text": [
      "hello world\n",
      "HELLO WORLD\n",
      "Hello World\n",
      "6\n",
      "-1\n"
     ]
    }
   ],
   "source": [
    "# Some other functions\n",
    "\n",
    "print(my_string.lower())    # Make all characters lowercase\n",
    "print(my_string.upper())    # Make all characters uppercase\n",
    "print(my_string.title())    # Make the first letter of each word uppercase\n",
    "\n",
    "# None of these functions change the original my_string\n",
    "\n",
    "# Find the index of the first appearing substring within a string with the str.find() function\n",
    "print(my_string.find(\"w\"))   # This one will work because \"w\" appears in the original my_string\n",
    "print(my_string.find(\"W\"))   # This will return -1 because it won't find it in my_string"
   ]
  },
  {
   "cell_type": "code",
   "execution_count": 16,
   "id": "20d1b988-3c31-4468-bffc-941ebc5bcb34",
   "metadata": {},
   "outputs": [
    {
     "data": {
      "text/plain": [
       "'Hello friend'"
      ]
     },
     "execution_count": 16,
     "metadata": {},
     "output_type": "execute_result"
    }
   ],
   "source": [
    "# Find and replace with the str.replace() function\n",
    "my_string.replace(\"world\", \"friend\")"
   ]
  },
  {
   "cell_type": "code",
   "execution_count": 17,
   "id": "2fc11982-d931-4986-aff1-9b2cfd572974",
   "metadata": {},
   "outputs": [
    {
     "name": "stdout",
     "output_type": "stream",
     "text": [
      "['Hello', 'world']\n",
      "['He', '', 'o wor', 'd']\n"
     ]
    }
   ],
   "source": [
    "# Split a string with str.split() function\n",
    "print(my_string.split())    # By default splits on spaces\n",
    "print(my_string.split(\"l\")) # Supply a substring to split on other values"
   ]
  },
  {
   "cell_type": "code",
   "execution_count": 18,
   "id": "21bc6b1d-5e7d-4c4e-9060-a6ee063ec4ae",
   "metadata": {},
   "outputs": [
    {
     "data": {
      "text/plain": [
       "['\"I am', 'a multiline\"', 'string!']"
      ]
     },
     "execution_count": 18,
     "metadata": {},
     "output_type": "execute_result"
    }
   ],
   "source": [
    "# Split a multi-line string into a list of lines using str.splitlines()\n",
    "\n",
    "multiline_string = \"\"\"\"I am\n",
    "a multiline\"\n",
    "string!\n",
    "\"\"\"\n",
    "\n",
    "multiline_string.splitlines()"
   ]
  },
  {
   "cell_type": "code",
   "execution_count": 19,
   "id": "34feabb6-0afb-40cf-ac63-8cada93ff4aa",
   "metadata": {},
   "outputs": [
    {
     "name": "stdout",
     "output_type": "stream",
     "text": [
      "['strip', 'white', 'space']\n"
     ]
    }
   ],
   "source": [
    "# Strip leading and trailing characters from both ends of a string with str.split()\n",
    "\n",
    "print(\"  strip white space  \".split())   # Removes white space by default"
   ]
  },
  {
   "cell_type": "code",
   "execution_count": 2,
   "id": "04176a4c-bae0-49f6-bd1d-f90881d32151",
   "metadata": {},
   "outputs": [
    {
     "name": "stdout",
     "output_type": "stream",
     "text": [
      "Helloworld\n",
      "Hello world please join me\n"
     ]
    }
   ],
   "source": [
    "# Join strings with + or with join() function\n",
    "print(\"Hello\"+\"world\")\n",
    "print(\" \".join([\"Hello\",\"world\",\"please\",\"join\",\"me\"]))"
   ]
  },
  {
   "cell_type": "code",
   "execution_count": 3,
   "id": "db7abbfa-2ceb-4c25-9828-ae11f371c0b2",
   "metadata": {},
   "outputs": [
    {
     "data": {
      "text/plain": [
       "'My name is Joe I am 29 and I live in Paris'"
      ]
     },
     "execution_count": 3,
     "metadata": {},
     "output_type": "execute_result"
    }
   ],
   "source": [
    "# For string operations it is recommended to use str.format()\n",
    "name = \"Joe\"\n",
    "age = 29\n",
    "city = \"Paris\"\n",
    "template_string = \"My name is {} I am {} and I live in {}\"\n",
    "template_string.format(name, age, city)"
   ]
  },
  {
   "cell_type": "markdown",
   "id": "665f74c1-0b83-46dd-a808-489e81f111aa",
   "metadata": {},
   "source": [
    "## 7. Data dictionaries and sets\n",
    "\n",
    "Lists, tuples and strings are ordered sequences. Ordering comes at a price, when searching through sequences, the computer goes through each element one at a time to find the object you're looking for.\n",
    "\n",
    "Dictionaries and sets are **unordered** Python data structures. They use a technique called *hashing*. They let you check wether they contain a certain object without having to search each element one at a time."
   ]
  },
  {
   "cell_type": "markdown",
   "id": "3ab51181-905d-4840-a161-6917e1201ae0",
   "metadata": {},
   "source": [
    "### Dictionaries\n",
    "A dictionary or dict maps a set of indexes called keys to a set of corresponding values. Dictionaries are **mutable**, so you can add or remove keys and their associated values. **A dictionaries keys are inmutable**, but they can be anything (strings, tuples, ints). "
   ]
  },
  {
   "cell_type": "code",
   "execution_count": 7,
   "id": "526752f3-c290-4a20-9640-620a01e575a2",
   "metadata": {},
   "outputs": [
    {
     "name": "stdout",
     "output_type": "stream",
     "text": [
      "{'name': 'Joe', 'age': 29, 'city': 'Paris'}\n"
     ]
    }
   ],
   "source": [
    "my_dict = {\"name\" : \"Joe\",\n",
    "          \"age\" : 29,\n",
    "          \"city\" : \"Paris\"}\n",
    "print(my_dict)"
   ]
  },
  {
   "cell_type": "code",
   "execution_count": 9,
   "id": "d8b13797-0177-45f1-9570-28443505eda4",
   "metadata": {},
   "outputs": [
    {
     "data": {
      "text/plain": [
       "'Joe'"
      ]
     },
     "execution_count": 9,
     "metadata": {},
     "output_type": "execute_result"
    }
   ],
   "source": [
    "# Index into a dictionary using keys rather than indexes\n",
    "my_dict[\"name\"]"
   ]
  },
  {
   "cell_type": "code",
   "execution_count": 10,
   "id": "c1db3c91-f2db-4b2f-b8f1-1fe8f2466fa2",
   "metadata": {},
   "outputs": [
    {
     "name": "stdout",
     "output_type": "stream",
     "text": [
      "{'name': 'Joe', 'age': 29, 'city': 'Paris', 'new key': 'new_value'}\n"
     ]
    }
   ],
   "source": [
    "# Add new items to an existing dictionary\n",
    "my_dict[\"new key\"] = \"new_value\"\n",
    "print(my_dict)"
   ]
  },
  {
   "cell_type": "code",
   "execution_count": 12,
   "id": "e23e9480-b441-42c6-987b-ba5f2f187350",
   "metadata": {},
   "outputs": [
    {
     "name": "stdout",
     "output_type": "stream",
     "text": [
      "{'name': 'Joe', 'age': 29, 'city': 'Paris'}\n"
     ]
    }
   ],
   "source": [
    "# Delete existing keys with del\n",
    "del my_dict[\"new key\"]\n",
    "print(my_dict)"
   ]
  },
  {
   "cell_type": "code",
   "execution_count": 13,
   "id": "8bd2a1b2-e64c-4591-a2f1-e068c48587eb",
   "metadata": {},
   "outputs": [
    {
     "data": {
      "text/plain": [
       "3"
      ]
     },
     "execution_count": 13,
     "metadata": {},
     "output_type": "execute_result"
    }
   ],
   "source": [
    "# Check number of items with len()\n",
    "len(my_dict)"
   ]
  },
  {
   "cell_type": "code",
   "execution_count": 14,
   "id": "e43acf02-c7e1-442a-bb00-38c2b31d52e3",
   "metadata": {},
   "outputs": [
    {
     "data": {
      "text/plain": [
       "True"
      ]
     },
     "execution_count": 14,
     "metadata": {},
     "output_type": "execute_result"
    }
   ],
   "source": [
    "# Check wether a certain key exists in the dictionary\n",
    "\"name\" in my_dict"
   ]
  },
  {
   "cell_type": "code",
   "execution_count": 15,
   "id": "e3ffbd5f-6f15-4e61-93a3-1b4f5f545eae",
   "metadata": {},
   "outputs": [
    {
     "name": "stdout",
     "output_type": "stream",
     "text": [
      "dict_keys(['name', 'age', 'city'])\n",
      "dict_values(['Joe', 29, 'Paris'])\n",
      "dict_items([('name', 'Joe'), ('age', 29), ('city', 'Paris')])\n"
     ]
    }
   ],
   "source": [
    "# Access keys\n",
    "print(my_dict.keys())\n",
    "\n",
    "# Acces values\n",
    "print(my_dict.values())\n",
    "\n",
    "# Access items\n",
    "print(my_dict.items())"
   ]
  },
  {
   "cell_type": "code",
   "execution_count": 18,
   "id": "449dc108-7bfd-4d1a-b0f9-911ed361cb41",
   "metadata": {},
   "outputs": [
    {
     "name": "stdout",
     "output_type": "stream",
     "text": [
      "{'name': ['Joe', 'Emily', 'Lupin'], 'age': [29, 27, 30], 'city': ['Paris', 'Paris', 'Paris']}\n"
     ]
    }
   ],
   "source": [
    "# Store data in a dictionary\n",
    "\n",
    "my_table_dict = {\"name\" : [\"Joe\", \"Emily\", \"Lupin\"],\n",
    "                \"age\" : [29, 27, 30],\n",
    "                \"city\" : [\"Paris\", \"Paris\", \"Paris\"]}\n",
    "print(my_table_dict)"
   ]
  },
  {
   "cell_type": "markdown",
   "id": "e8328b92-1ca9-4da7-9d0c-96811ff2150f",
   "metadata": {},
   "source": [
    "### Sets\n",
    "Sets are **unordered, mutable collections of inmutable objects that cannot contain duplicates.** Sets are useful for storing and performing operations on data where each value is unique. Sets do not support indexing but they do support max(), min(), len() and in operations."
   ]
  },
  {
   "cell_type": "code",
   "execution_count": 19,
   "id": "91713e85-4555-4c12-9630-05e925691fe5",
   "metadata": {},
   "outputs": [
    {
     "data": {
      "text/plain": [
       "set"
      ]
     },
     "execution_count": 19,
     "metadata": {},
     "output_type": "execute_result"
    }
   ],
   "source": [
    "# Create a set with {}\n",
    "my_set = {1,2,3,4,5,6}\n",
    "type(my_set)"
   ]
  },
  {
   "cell_type": "code",
   "execution_count": 20,
   "id": "6c1731da-7dcf-41d6-b17a-c915d79561b3",
   "metadata": {},
   "outputs": [
    {
     "name": "stdout",
     "output_type": "stream",
     "text": [
      "{1, 2, 3, 4, 5, 6, 7}\n"
     ]
    }
   ],
   "source": [
    "# Add items to a set\n",
    "\n",
    "my_set.add(7)\n",
    "\n",
    "print(my_set)"
   ]
  },
  {
   "cell_type": "code",
   "execution_count": 22,
   "id": "36fea45b-bd29-470b-a4f5-649950ea46f1",
   "metadata": {},
   "outputs": [
    {
     "name": "stdout",
     "output_type": "stream",
     "text": [
      "{1, 2, 3, 4, 5, 6}\n"
     ]
    }
   ],
   "source": [
    "# Remove items from set\n",
    "\n",
    "my_set.remove(7)\n",
    "print(my_set)"
   ]
  },
  {
   "cell_type": "markdown",
   "id": "d9a8d7c8-387a-4f5c-93c7-0d3dcff4b514",
   "metadata": {},
   "source": [
    "One of the main goals of sets is to perform set operations that compare or combine different sets. Operations like union, intersection, difference and checking wether a set is a subset from another."
   ]
  },
  {
   "cell_type": "code",
   "execution_count": 2,
   "id": "0e4eb568-d931-49f0-a3a8-7b91ad885fef",
   "metadata": {},
   "outputs": [
    {
     "data": {
      "text/plain": [
       "{1, 2, 3, 4, 5, 6}"
      ]
     },
     "execution_count": 2,
     "metadata": {},
     "output_type": "execute_result"
    }
   ],
   "source": [
    "set1 = {1,3,5,6}\n",
    "set2 = {1,2,3,4}\n",
    "\n",
    "# Get the union of two sets\n",
    "set1.union(set2)"
   ]
  },
  {
   "cell_type": "code",
   "execution_count": 3,
   "id": "cb9ea8b1-5d78-4edf-8f9e-f4db1ed2ab41",
   "metadata": {},
   "outputs": [
    {
     "data": {
      "text/plain": [
       "{1, 3}"
      ]
     },
     "execution_count": 3,
     "metadata": {},
     "output_type": "execute_result"
    }
   ],
   "source": [
    "# Get the intersection of two sets\n",
    "\n",
    "set1.intersection(set2)"
   ]
  },
  {
   "cell_type": "code",
   "execution_count": 5,
   "id": "6661c183-e857-4925-98b2-c952b40e8f5e",
   "metadata": {},
   "outputs": [
    {
     "data": {
      "text/plain": [
       "{5, 6}"
      ]
     },
     "execution_count": 5,
     "metadata": {},
     "output_type": "execute_result"
    }
   ],
   "source": [
    "# Get the difference between two sets\n",
    "\n",
    "set1.difference(set2)"
   ]
  },
  {
   "cell_type": "code",
   "execution_count": 6,
   "id": "baf35220-c53d-4892-b38e-1b0db1a0ba15",
   "metadata": {},
   "outputs": [
    {
     "data": {
      "text/plain": [
       "False"
      ]
     },
     "execution_count": 6,
     "metadata": {},
     "output_type": "execute_result"
    }
   ],
   "source": [
    "# Check wether set 1 is a subset of set 2\n",
    "\n",
    "set1.issubset(set2)"
   ]
  },
  {
   "cell_type": "markdown",
   "id": "b1ddfd01-08eb-498a-a070-90b99bd3ba7c",
   "metadata": {},
   "source": [
    "To convert a list into a set use the set() function. Converting a list into a set **drops any duplicate elements** in the list. This is a useful way of dropping duplicates or counting the unique items in a list. **Membership lookups are faster with sets than with lists**, when planning to look up items repeatedly."
   ]
  },
  {
   "cell_type": "code",
   "execution_count": 7,
   "id": "121f92f9-5088-4966-a6da-d6f92ba96c6a",
   "metadata": {},
   "outputs": [
    {
     "data": {
      "text/plain": [
       "{1, 2, 3, 4, 5, 6}"
      ]
     },
     "execution_count": 7,
     "metadata": {},
     "output_type": "execute_result"
    }
   ],
   "source": [
    "my_list = [1,2,2,2,3,3,4,5,5,5,6]\n",
    "set(my_list)"
   ]
  },
  {
   "cell_type": "markdown",
   "id": "a4e620eb-12ba-4939-9b00-b890fe8c2a22",
   "metadata": {},
   "source": [
    "## 8. Numpy arrays"
   ]
  },
  {
   "cell_type": "markdown",
   "id": "30d8571b-1d05-4a8f-84c8-f8ddfe05a523",
   "metadata": {},
   "source": [
    "### Nummpy and array basics\n",
    "Numpy implements a data structure called N-dimensional array or ndarray. ndarrays contain a collection of items that can be accessed via indexes. They are **homogeneous**, meaning they can only contain objects of the same type and they can be multi-dimensional, making it easy to store 2-dimensional tables or matrices. "
   ]
  },
  {
   "cell_type": "code",
   "execution_count": 4,
   "id": "af9ac294-7e68-4573-a6f5-a7c3fa01a362",
   "metadata": {},
   "outputs": [
    {
     "data": {
      "text/plain": [
       "numpy.ndarray"
      ]
     },
     "execution_count": 4,
     "metadata": {},
     "output_type": "execute_result"
    }
   ],
   "source": [
    "import numpy as np\n",
    "\n",
    "# Create an ndarray by passing a list to np.array()\n",
    "my_list = [1, 2, 3, 4]          # Define a list\n",
    "my_array = np.array(my_list)   # Pass the list to nparray\n",
    "type(my_array)"
   ]
  },
  {
   "cell_type": "code",
   "execution_count": 7,
   "id": "c0672c92-91e6-4386-bd7a-fa269c4e40d8",
   "metadata": {},
   "outputs": [
    {
     "data": {
      "text/plain": [
       "numpy.ndarray"
      ]
     },
     "execution_count": 7,
     "metadata": {},
     "output_type": "execute_result"
    }
   ],
   "source": [
    "# Create an array with more than one dimension, pass a nested list to np.array()\n",
    "\n",
    "second_list = [5, 6, 7, 8]\n",
    "two_d_array = np.array([my_list,second_list])\n",
    "type(two_d_array)"
   ]
  },
  {
   "cell_type": "markdown",
   "id": "1954a0d4-4e42-4360-8d74-9d1dfdb1a3e6",
   "metadata": {},
   "source": [
    "An ndarray is defined by the number of dimensions it has, the size of each dimension and the type of data it holds. You can check the number and size of dimensions of an ndarray with the shape attribute"
   ]
  },
  {
   "cell_type": "code",
   "execution_count": 8,
   "id": "3cea374f-15b9-456b-aabd-b6cfd824dc82",
   "metadata": {},
   "outputs": [
    {
     "data": {
      "text/plain": [
       "(2, 4)"
      ]
     },
     "execution_count": 8,
     "metadata": {},
     "output_type": "execute_result"
    }
   ],
   "source": [
    "# Check number and size of dimensions\n",
    "\n",
    "two_d_array.shape"
   ]
  },
  {
   "cell_type": "code",
   "execution_count": 9,
   "id": "2ca31ecd-a1d4-4339-af62-1ea13a25fd8d",
   "metadata": {},
   "outputs": [
    {
     "data": {
      "text/plain": [
       "8"
      ]
     },
     "execution_count": 9,
     "metadata": {},
     "output_type": "execute_result"
    }
   ],
   "source": [
    "# Check total number of items (total size) in an array with the size attribute\n",
    "two_d_array.size"
   ]
  },
  {
   "cell_type": "code",
   "execution_count": 11,
   "id": "e13079a3-363f-4abd-866d-7888c21f422f",
   "metadata": {},
   "outputs": [
    {
     "data": {
      "text/plain": [
       "dtype('int32')"
      ]
     },
     "execution_count": 11,
     "metadata": {},
     "output_type": "execute_result"
    }
   ],
   "source": [
    "# Check the type with the dtype attribute\n",
    "two_d_array.dtype"
   ]
  },
  {
   "cell_type": "code",
   "execution_count": 12,
   "id": "6207008d-242a-4782-8f8a-cae89ca9136b",
   "metadata": {},
   "outputs": [
    {
     "data": {
      "text/plain": [
       "array([[1., 0., 0., 0., 0.],\n",
       "       [0., 1., 0., 0., 0.],\n",
       "       [0., 0., 1., 0., 0.],\n",
       "       [0., 0., 0., 1., 0.],\n",
       "       [0., 0., 0., 0., 1.]])"
      ]
     },
     "execution_count": 12,
     "metadata": {},
     "output_type": "execute_result"
    }
   ],
   "source": [
    "# np.identity() to create a square 2nd array with 1's across the diagonal\n",
    "\n",
    "np.identity(n=5)  # size of the array"
   ]
  },
  {
   "cell_type": "code",
   "execution_count": 15,
   "id": "49c13869-9d81-4478-ad54-59dd7555e740",
   "metadata": {},
   "outputs": [
    {
     "data": {
      "text/plain": [
       "array([[0., 1., 0., 0., 0.],\n",
       "       [0., 0., 1., 0., 0.],\n",
       "       [0., 0., 0., 1., 0.]])"
      ]
     },
     "execution_count": 15,
     "metadata": {},
     "output_type": "execute_result"
    }
   ],
   "source": [
    "# np.eye() to create a 2nd array with 1's across a specified diagonal\n",
    "\n",
    "np.eye(N = 3,  # Number of rows\n",
    "       M = 5,  # Number of columns\n",
    "       k = 1)  # Index of the diagonal (main diagonal (0) is default)"
   ]
  },
  {
   "cell_type": "code",
   "execution_count": 16,
   "id": "e6d917e9-8854-472f-9df0-7ab52186d54e",
   "metadata": {},
   "outputs": [
    {
     "data": {
      "text/plain": [
       "array([[1., 1., 1., 1.],\n",
       "       [1., 1., 1., 1.]])"
      ]
     },
     "execution_count": 16,
     "metadata": {},
     "output_type": "execute_result"
    }
   ],
   "source": [
    "# np.ones() to create an array filled with ones:\n",
    "\n",
    "np.ones(shape = [2, 4])"
   ]
  },
  {
   "cell_type": "code",
   "execution_count": 17,
   "id": "27f23a01-4d85-417e-a87b-47f4720dba39",
   "metadata": {},
   "outputs": [
    {
     "data": {
      "text/plain": [
       "array([[0., 0., 0., 0., 0., 0.],\n",
       "       [0., 0., 0., 0., 0., 0.],\n",
       "       [0., 0., 0., 0., 0., 0.],\n",
       "       [0., 0., 0., 0., 0., 0.]])"
      ]
     },
     "execution_count": 17,
     "metadata": {},
     "output_type": "execute_result"
    }
   ],
   "source": [
    "# np.zeros() to create an array filled with zeros:\n",
    "\n",
    "np.zeros(shape = [4, 6])"
   ]
  },
  {
   "cell_type": "markdown",
   "id": "5c2108d5-50f9-4148-a043-5220e99d8601",
   "metadata": {},
   "source": [
    "### Array indexing and slicing\n",
    "They mirror the syntax of Python lists."
   ]
  },
  {
   "cell_type": "code",
   "execution_count": 19,
   "id": "335aa1fb-3a6c-4f56-aba8-87b8f4ae81c0",
   "metadata": {},
   "outputs": [
    {
     "data": {
      "text/plain": [
       "4"
      ]
     },
     "execution_count": 19,
     "metadata": {},
     "output_type": "execute_result"
    }
   ],
   "source": [
    "# Get the item at index 3\n",
    "\n",
    "one_d_array = np.array([1, 2, 3, 4, 5, 6])\n",
    "one_d_array[3]"
   ]
  },
  {
   "cell_type": "code",
   "execution_count": 21,
   "id": "bce682ef-67a5-4c82-abd8-0d2e2e457fb9",
   "metadata": {},
   "outputs": [
    {
     "data": {
      "text/plain": [
       "array([4, 5, 6])"
      ]
     },
     "execution_count": 21,
     "metadata": {},
     "output_type": "execute_result"
    }
   ],
   "source": [
    "# Get a slice from index 3 to the end INCLUDES 3\n",
    "one_d_array[3:]"
   ]
  },
  {
   "cell_type": "code",
   "execution_count": 22,
   "id": "4c594626-9886-42d0-890e-cd5863b27a0f",
   "metadata": {},
   "outputs": [
    {
     "data": {
      "text/plain": [
       "array([6, 5, 4, 3, 2, 1])"
      ]
     },
     "execution_count": 22,
     "metadata": {},
     "output_type": "execute_result"
    }
   ],
   "source": [
    "# Slice backwards to reverse the array\n",
    "one_d_array[::-1]"
   ]
  },
  {
   "cell_type": "code",
   "execution_count": 24,
   "id": "6d6f4aff-0690-4321-b32d-780233ebc1c2",
   "metadata": {},
   "outputs": [
    {
     "name": "stdout",
     "output_type": "stream",
     "text": [
      "[[ 1  2  3  4  5  6]\n",
      " [ 7  8  9 10 11 12]\n",
      " [13 14 15 16 17 18]]\n"
     ]
    }
   ],
   "source": [
    "# If an ndarray has more than one dimension, separate indexes for each dimension with a comma\n",
    "two_d_array = np.array([one_d_array, one_d_array + 6, one_d_array + 12])\n",
    "print(two_d_array)"
   ]
  },
  {
   "cell_type": "code",
   "execution_count": 25,
   "id": "310cc2c6-2cc2-4479-a587-462dc7591964",
   "metadata": {},
   "outputs": [
    {
     "data": {
      "text/plain": [
       "11"
      ]
     },
     "execution_count": 25,
     "metadata": {},
     "output_type": "execute_result"
    }
   ],
   "source": [
    "# Get the element at row index 1, column index 4\n",
    "two_d_array[1, 4] "
   ]
  },
  {
   "cell_type": "code",
   "execution_count": 26,
   "id": "eb3d4404-2be3-4872-b407-52b39e99775a",
   "metadata": {},
   "outputs": [
    {
     "data": {
      "text/plain": [
       "array([[11, 12],\n",
       "       [17, 18]])"
      ]
     },
     "execution_count": 26,
     "metadata": {},
     "output_type": "execute_result"
    }
   ],
   "source": [
    "# Slice elements starting at row 2 and column 5\n",
    "two_d_array[1:,4:]"
   ]
  },
  {
   "cell_type": "code",
   "execution_count": 27,
   "id": "22a1d62b-12c4-4675-acd8-0ccf315f299c",
   "metadata": {},
   "outputs": [
    {
     "data": {
      "text/plain": [
       "array([[18, 17, 16, 15, 14, 13],\n",
       "       [12, 11, 10,  9,  8,  7],\n",
       "       [ 6,  5,  4,  3,  2,  1]])"
      ]
     },
     "execution_count": 27,
     "metadata": {},
     "output_type": "execute_result"
    }
   ],
   "source": [
    "# Reverse both dimensions (180 degree rotation)\n",
    "two_d_array[::-1,::-1]"
   ]
  },
  {
   "cell_type": "markdown",
   "id": "f55331a1-7498-4a66-bb3e-1b0b8ef38b02",
   "metadata": {},
   "source": [
    "### Reshaping arrays\n",
    "Functions to manipulate arrays quickly without complicated indexing operations."
   ]
  },
  {
   "cell_type": "code",
   "execution_count": 28,
   "id": "c86c77a8-9374-4494-aab5-bb7d7f9561d3",
   "metadata": {},
   "outputs": [
    {
     "data": {
      "text/plain": [
       "array([[ 1,  2,  3],\n",
       "       [ 4,  5,  6],\n",
       "       [ 7,  8,  9],\n",
       "       [10, 11, 12],\n",
       "       [13, 14, 15],\n",
       "       [16, 17, 18]])"
      ]
     },
     "execution_count": 28,
     "metadata": {},
     "output_type": "execute_result"
    }
   ],
   "source": [
    "# Reshape an array with same data but different function with np.reshape()\n",
    "np.reshape(a = two_d_array,    # Array to reshape \n",
    "          newshape = (6,3))    # Dimensions of the new array"
   ]
  },
  {
   "cell_type": "code",
   "execution_count": 30,
   "id": "ab4de9ab-5426-4347-b8dc-af98c362a6c9",
   "metadata": {},
   "outputs": [
    {
     "data": {
      "text/plain": [
       "array([ 1,  2,  3,  4,  5,  6,  7,  8,  9, 10, 11, 12, 13, 14, 15, 16, 17,\n",
       "       18])"
      ]
     },
     "execution_count": 30,
     "metadata": {},
     "output_type": "execute_result"
    }
   ],
   "source": [
    "# Unravel a multidimensional into 1 dimension with np.ravel()\n",
    "np.ravel(a = two_d_array,\n",
    "        order = 'C')    # Use C-style unraveling (by rows)"
   ]
  },
  {
   "cell_type": "code",
   "execution_count": 31,
   "id": "8c155a8a-2744-4513-8b8f-d84a3b48134b",
   "metadata": {},
   "outputs": [
    {
     "data": {
      "text/plain": [
       "array([ 1,  7, 13,  2,  8, 14,  3,  9, 15,  4, 10, 16,  5, 11, 17,  6, 12,\n",
       "       18])"
      ]
     },
     "execution_count": 31,
     "metadata": {},
     "output_type": "execute_result"
    }
   ],
   "source": [
    "# Unravel a multidimensional into 1 dimension with np.ravel()\n",
    "np.ravel(a = two_d_array,\n",
    "        order = 'F')    # Use Fortran-style unraveling (by columns)"
   ]
  },
  {
   "cell_type": "code",
   "execution_count": 32,
   "id": "f1d5bf76-052c-4e76-b680-1d3202a94478",
   "metadata": {},
   "outputs": [
    {
     "data": {
      "text/plain": [
       "array([ 1,  2,  3,  4,  5,  6,  7,  8,  9, 10, 11, 12, 13, 14, 15, 16, 17,\n",
       "       18])"
      ]
     },
     "execution_count": 32,
     "metadata": {},
     "output_type": "execute_result"
    }
   ],
   "source": [
    "# Flatten a multi-dimensional into 1 dimension and return a copy of the result with ndarray.flatten()\n",
    "two_d_array.flatten()"
   ]
  },
  {
   "cell_type": "code",
   "execution_count": 33,
   "id": "27cc7e62-4996-4cf0-a36f-7923a627dccd",
   "metadata": {},
   "outputs": [
    {
     "data": {
      "text/plain": [
       "array([[ 1,  7, 13],\n",
       "       [ 2,  8, 14],\n",
       "       [ 3,  9, 15],\n",
       "       [ 4, 10, 16],\n",
       "       [ 5, 11, 17],\n",
       "       [ 6, 12, 18]])"
      ]
     },
     "execution_count": 33,
     "metadata": {},
     "output_type": "execute_result"
    }
   ],
   "source": [
    "# Get the Transpose of an array with ndarray.T\n",
    "two_d_array.T"
   ]
  },
  {
   "cell_type": "code",
   "execution_count": 40,
   "id": "458cab64-2f83-4cab-a09f-a4e80425d572",
   "metadata": {},
   "outputs": [
    {
     "name": "stdout",
     "output_type": "stream",
     "text": [
      "[[ 1  2  3  4  5  6]\n",
      " [ 7  8  9 10 11 12]\n",
      " [13 14 15 16 17 18]]\n",
      "[[13 14 15 16 17 18]\n",
      " [ 7  8  9 10 11 12]\n",
      " [ 1  2  3  4  5  6]]\n"
     ]
    }
   ],
   "source": [
    "# Flip an array vertically\n",
    "print(two_d_array)\n",
    "print(np.flipud(two_d_array))"
   ]
  },
  {
   "cell_type": "code",
   "execution_count": 41,
   "id": "9d8cd85b-366c-4be3-ae82-75d766b18d93",
   "metadata": {},
   "outputs": [
    {
     "name": "stdout",
     "output_type": "stream",
     "text": [
      "[[ 1  2  3  4  5  6]\n",
      " [ 7  8  9 10 11 12]\n",
      " [13 14 15 16 17 18]]\n",
      "[[ 6  5  4  3  2  1]\n",
      " [12 11 10  9  8  7]\n",
      " [18 17 16 15 14 13]]\n"
     ]
    }
   ],
   "source": [
    "# Flip an array horizontally\n",
    "print(two_d_array)\n",
    "print(np.fliplr(two_d_array))"
   ]
  },
  {
   "cell_type": "code",
   "execution_count": 42,
   "id": "12032d81-9b4a-4abe-9a92-9285d07365db",
   "metadata": {},
   "outputs": [
    {
     "data": {
      "text/plain": [
       "array([[ 6, 12, 18],\n",
       "       [ 5, 11, 17],\n",
       "       [ 4, 10, 16],\n",
       "       [ 3,  9, 15],\n",
       "       [ 2,  8, 14],\n",
       "       [ 1,  7, 13]])"
      ]
     },
     "execution_count": 42,
     "metadata": {},
     "output_type": "execute_result"
    }
   ],
   "source": [
    "# Rotate an array 90 degrees counter-clockwise with np.rot90()\n",
    "np.rot90(two_d_array, \n",
    "         k=1)    # Number of 90 degree rotations"
   ]
  },
  {
   "cell_type": "code",
   "execution_count": 44,
   "id": "19c9ba46-eca4-4d27-920f-9c182cb7d845",
   "metadata": {},
   "outputs": [
    {
     "data": {
      "text/plain": [
       "array([[ 5,  6,  1,  2,  3,  4],\n",
       "       [11, 12,  7,  8,  9, 10],\n",
       "       [17, 18, 13, 14, 15, 16]])"
      ]
     },
     "execution_count": 44,
     "metadata": {},
     "output_type": "execute_result"
    }
   ],
   "source": [
    "# Shift elements in an array along a given dimension with np.roll()\n",
    "np.roll(a=two_d_array,\n",
    "       shift = 2,     # Shift elements two positions\n",
    "       axis = 1)      # In each row"
   ]
  },
  {
   "cell_type": "code",
   "execution_count": 46,
   "id": "70bb4ad0-32cd-44dc-ac4c-ba09905a9759",
   "metadata": {},
   "outputs": [
    {
     "data": {
      "text/plain": [
       "array([[17, 18,  1,  2,  3,  4],\n",
       "       [ 5,  6,  7,  8,  9, 10],\n",
       "       [11, 12, 13, 14, 15, 16]])"
      ]
     },
     "execution_count": 46,
     "metadata": {},
     "output_type": "execute_result"
    }
   ],
   "source": [
    "# Leave the axis argument empty to shift on a flattened version of the array (shift across all dimensions)\n",
    "np.roll(a=two_d_array,\n",
    "       shift = 2)     # Shift elements two positions"
   ]
  },
  {
   "cell_type": "code",
   "execution_count": 48,
   "id": "e3edf03f-a077-483c-b528-2b2e93dfc6c1",
   "metadata": {},
   "outputs": [
    {
     "data": {
      "text/plain": [
       "array([[ 1,  2,  3,  4,  5,  6, 10, 20, 30],\n",
       "       [ 7,  8,  9, 10, 11, 12, 40, 50, 60],\n",
       "       [13, 14, 15, 16, 17, 18, 70, 80, 90]])"
      ]
     },
     "execution_count": 48,
     "metadata": {},
     "output_type": "execute_result"
    }
   ],
   "source": [
    "# Join arrays along an axis with np.concatenate()\n",
    "array_to_join = np.array([[10,20,30],[40,50,60],[70,80,90]])\n",
    "np.concatenate((two_d_array, array_to_join),   # Arrays to join\n",
    "              axis = 1)                        # Axis to join upon"
   ]
  },
  {
   "cell_type": "markdown",
   "id": "16e696df-977e-4a1f-ba80-0270f3003fc0",
   "metadata": {},
   "source": [
    "### Array math operations\n",
    "Basic math operations can be performed with ndarrays.\n",
    "\n",
    "Math operations: https://numpy.org/doc/stable/reference/routines.math.html\n",
    "\n",
    "Linear algebra operations: https://numpy.org/doc/stable/reference/routines.linalg.html"
   ]
  },
  {
   "cell_type": "code",
   "execution_count": 49,
   "id": "ae85f9cd-cc93-415c-b0f5-cbee7511f6c3",
   "metadata": {},
   "outputs": [
    {
     "data": {
      "text/plain": [
       "array([[101, 102, 103, 104, 105, 106],\n",
       "       [107, 108, 109, 110, 111, 112],\n",
       "       [113, 114, 115, 116, 117, 118]])"
      ]
     },
     "execution_count": 49,
     "metadata": {},
     "output_type": "execute_result"
    }
   ],
   "source": [
    "two_d_array + 100  # Add 100 to each element"
   ]
  },
  {
   "cell_type": "code",
   "execution_count": 50,
   "id": "169d21de-fec6-4987-91b4-3226dc118c02",
   "metadata": {},
   "outputs": [
    {
     "data": {
      "text/plain": [
       "array([[-99, -98, -97, -96, -95, -94],\n",
       "       [-93, -92, -91, -90, -89, -88],\n",
       "       [-87, -86, -85, -84, -83, -82]])"
      ]
     },
     "execution_count": 50,
     "metadata": {},
     "output_type": "execute_result"
    }
   ],
   "source": [
    "two_d_array - 100  # Substract 100 from each element"
   ]
  },
  {
   "cell_type": "code",
   "execution_count": 51,
   "id": "3289664c-0538-4ccd-af1f-4eb19bd3a8fb",
   "metadata": {},
   "outputs": [
    {
     "data": {
      "text/plain": [
       "array([[ 2,  4,  6,  8, 10, 12],\n",
       "       [14, 16, 18, 20, 22, 24],\n",
       "       [26, 28, 30, 32, 34, 36]])"
      ]
     },
     "execution_count": 51,
     "metadata": {},
     "output_type": "execute_result"
    }
   ],
   "source": [
    "two_d_array * 2   # Multiply each element by 2"
   ]
  },
  {
   "cell_type": "code",
   "execution_count": 52,
   "id": "d58a5d9d-1c01-4e2a-a824-0df60d2687a3",
   "metadata": {},
   "outputs": [
    {
     "data": {
      "text/plain": [
       "array([[  1,   4,   9,  16,  25,  36],\n",
       "       [ 49,  64,  81, 100, 121, 144],\n",
       "       [169, 196, 225, 256, 289, 324]], dtype=int32)"
      ]
     },
     "execution_count": 52,
     "metadata": {},
     "output_type": "execute_result"
    }
   ],
   "source": [
    "two_d_array ** 2  # Square each element "
   ]
  },
  {
   "cell_type": "code",
   "execution_count": 58,
   "id": "f533c6ae-d2a0-46cf-a75c-64f53b4bc53e",
   "metadata": {},
   "outputs": [
    {
     "data": {
      "text/plain": [
       "array([[1, 0, 1, 0, 1, 0],\n",
       "       [1, 0, 1, 0, 1, 0],\n",
       "       [1, 0, 1, 0, 1, 0]], dtype=int32)"
      ]
     },
     "execution_count": 58,
     "metadata": {},
     "output_type": "execute_result"
    }
   ],
   "source": [
    "two_d_array % 2   # Take modulus of each element"
   ]
  },
  {
   "cell_type": "markdown",
   "id": "e9db1fa7-d08c-45d6-9e89-4862515ee79f",
   "metadata": {},
   "source": [
    "You can also use the basic math operators on two arrays of the same shape. When operating on two arrays, the basic math operators function in an element-wise fashion, returning an array with the same shape as the original."
   ]
  },
  {
   "cell_type": "code",
   "execution_count": 59,
   "id": "d87e000d-c5fc-4627-afa2-f1994e6233ef",
   "metadata": {},
   "outputs": [
    {
     "data": {
      "text/plain": [
       "array([[2, 4],\n",
       "       [6, 8]])"
      ]
     },
     "execution_count": 59,
     "metadata": {},
     "output_type": "execute_result"
    }
   ],
   "source": [
    "small_array1 = np.array([[1,2],[3,4]])\n",
    "\n",
    "small_array1 + small_array1"
   ]
  },
  {
   "cell_type": "code",
   "execution_count": 60,
   "id": "fd389bb1-d2f1-41aa-b802-a45f8308327b",
   "metadata": {},
   "outputs": [
    {
     "data": {
      "text/plain": [
       "array([[0, 0],\n",
       "       [0, 0]])"
      ]
     },
     "execution_count": 60,
     "metadata": {},
     "output_type": "execute_result"
    }
   ],
   "source": [
    "small_array1 - small_array1"
   ]
  },
  {
   "cell_type": "code",
   "execution_count": 61,
   "id": "98b3ed9b-4a16-4ef8-978b-e8173057bc10",
   "metadata": {},
   "outputs": [
    {
     "data": {
      "text/plain": [
       "array([[ 1,  4],\n",
       "       [ 9, 16]])"
      ]
     },
     "execution_count": 61,
     "metadata": {},
     "output_type": "execute_result"
    }
   ],
   "source": [
    "small_array1 * small_array1"
   ]
  },
  {
   "cell_type": "code",
   "execution_count": 62,
   "id": "9f33f188-5fbd-4fc7-b8cf-e3ff6680a248",
   "metadata": {},
   "outputs": [
    {
     "data": {
      "text/plain": [
       "array([[  1,   4],\n",
       "       [ 27, 256]], dtype=int32)"
      ]
     },
     "execution_count": 62,
     "metadata": {},
     "output_type": "execute_result"
    }
   ],
   "source": [
    "small_array1 ** small_array1"
   ]
  },
  {
   "cell_type": "code",
   "execution_count": 63,
   "id": "166291db-6ba5-48b8-90d7-083d09e1cac6",
   "metadata": {},
   "outputs": [
    {
     "data": {
      "text/plain": [
       "9.5"
      ]
     },
     "execution_count": 63,
     "metadata": {},
     "output_type": "execute_result"
    }
   ],
   "source": [
    "# Get the mean of all elements in an array with np.mean()\n",
    "np.mean(two_d_array)"
   ]
  },
  {
   "cell_type": "code",
   "execution_count": 64,
   "id": "ad460bd5-2008-4259-8ae9-ae859c902d3c",
   "metadata": {},
   "outputs": [
    {
     "data": {
      "text/plain": [
       "array([ 3.5,  9.5, 15.5])"
      ]
     },
     "execution_count": 64,
     "metadata": {},
     "output_type": "execute_result"
    }
   ],
   "source": [
    "# Provide an axis argument to get means across a dimension\n",
    "np.mean(two_d_array,\n",
    "       axis = 1)    # Get means of each row"
   ]
  },
  {
   "cell_type": "code",
   "execution_count": 65,
   "id": "7c904865-2aed-4257-a071-8f9a70f43b5c",
   "metadata": {},
   "outputs": [
    {
     "data": {
      "text/plain": [
       "5.188127472091127"
      ]
     },
     "execution_count": 65,
     "metadata": {},
     "output_type": "execute_result"
    }
   ],
   "source": [
    "# Get the standard deviation of all the elements in an array with np.std()\n",
    "np.std(two_d_array)"
   ]
  },
  {
   "cell_type": "code",
   "execution_count": 66,
   "id": "3334b8fb-ad53-4b51-afc0-18e1810f4b5a",
   "metadata": {},
   "outputs": [
    {
     "data": {
      "text/plain": [
       "array([1.70782513, 1.70782513, 1.70782513])"
      ]
     },
     "execution_count": 66,
     "metadata": {},
     "output_type": "execute_result"
    }
   ],
   "source": [
    "# Provide an axis argument to get std across a dimension\n",
    "np.std(two_d_array,\n",
    "      axis = 1)     # Get std of each row"
   ]
  },
  {
   "cell_type": "code",
   "execution_count": 67,
   "id": "465960c5-ac4b-4ad3-b890-d2aaf0ecf791",
   "metadata": {},
   "outputs": [
    {
     "data": {
      "text/plain": [
       "array([4.89897949, 4.89897949, 4.89897949, 4.89897949, 4.89897949,\n",
       "       4.89897949])"
      ]
     },
     "execution_count": 67,
     "metadata": {},
     "output_type": "execute_result"
    }
   ],
   "source": [
    "# Provide an axis argument to get std across a dimension\n",
    "np.std(two_d_array,\n",
    "      axis = 0)     # Get std of each column"
   ]
  },
  {
   "cell_type": "code",
   "execution_count": 68,
   "id": "a6da23d3-ed7b-4634-af03-b7c8d3ec28f2",
   "metadata": {},
   "outputs": [
    {
     "data": {
      "text/plain": [
       "array([21, 57, 93])"
      ]
     },
     "execution_count": 68,
     "metadata": {},
     "output_type": "execute_result"
    }
   ],
   "source": [
    "# Sum of the elements of an array across an axis with np.sum()\n",
    "np.sum(two_d_array,\n",
    "      axis=1)      # Get the row sums"
   ]
  },
  {
   "cell_type": "code",
   "execution_count": 69,
   "id": "107e5873-8618-45e8-b5a4-e4a72dce668d",
   "metadata": {},
   "outputs": [
    {
     "data": {
      "text/plain": [
       "array([21, 24, 27, 30, 33, 36])"
      ]
     },
     "execution_count": 69,
     "metadata": {},
     "output_type": "execute_result"
    }
   ],
   "source": [
    "np.sum(two_d_array,\n",
    "      axis=0)     # Get the column sums"
   ]
  },
  {
   "cell_type": "code",
   "execution_count": 70,
   "id": "651ca11b-021a-4718-b53b-49d523a26af1",
   "metadata": {},
   "outputs": [
    {
     "data": {
      "text/plain": [
       "array([[0.        , 0.69314718, 1.09861229, 1.38629436, 1.60943791,\n",
       "        1.79175947],\n",
       "       [1.94591015, 2.07944154, 2.19722458, 2.30258509, 2.39789527,\n",
       "        2.48490665],\n",
       "       [2.56494936, 2.63905733, 2.7080502 , 2.77258872, 2.83321334,\n",
       "        2.89037176]])"
      ]
     },
     "execution_count": 70,
     "metadata": {},
     "output_type": "execute_result"
    }
   ],
   "source": [
    "# Take the log of each element in an array with np.log()\n",
    "np.log(two_d_array)"
   ]
  },
  {
   "cell_type": "code",
   "execution_count": 71,
   "id": "cbed999d-2d8a-4831-91c8-cf714571b35c",
   "metadata": {},
   "outputs": [
    {
     "data": {
      "text/plain": [
       "array([[1.        , 1.41421356, 1.73205081, 2.        , 2.23606798,\n",
       "        2.44948974],\n",
       "       [2.64575131, 2.82842712, 3.        , 3.16227766, 3.31662479,\n",
       "        3.46410162],\n",
       "       [3.60555128, 3.74165739, 3.87298335, 4.        , 4.12310563,\n",
       "        4.24264069]])"
      ]
     },
     "execution_count": 71,
     "metadata": {},
     "output_type": "execute_result"
    }
   ],
   "source": [
    "# Take the square root of each element with np.sqrt()\n",
    "np.sqrt(two_d_array)"
   ]
  },
  {
   "cell_type": "markdown",
   "id": "42c32306-4e3a-4a2f-a16b-959419f71b9e",
   "metadata": {},
   "source": [
    "Take the dot product of two arrays with np.dot(). This function performs an element-wise multiply and then a sum for 1-dimensional arrays (vectors) and a matrix multiplication for 2-dimensional arrays."
   ]
  },
  {
   "cell_type": "code",
   "execution_count": 72,
   "id": "76547189-9b8f-4591-a072-f7bf9a19cefe",
   "metadata": {},
   "outputs": [
    {
     "data": {
      "text/plain": [
       "217"
      ]
     },
     "execution_count": 72,
     "metadata": {},
     "output_type": "execute_result"
    }
   ],
   "source": [
    "# Take the vector dot product of row 0 and row 1\n",
    "np.dot(two_d_array[0,0:],  # Slice row 0\n",
    "       two_d_array[1,0:])  # Slice row 1"
   ]
  },
  {
   "cell_type": "code",
   "execution_count": 74,
   "id": "16729fea-3c92-4743-939f-b33dfcd62ebc",
   "metadata": {},
   "outputs": [
    {
     "data": {
      "text/plain": [
       "array([[ 7, 10],\n",
       "       [15, 22]])"
      ]
     },
     "execution_count": 74,
     "metadata": {},
     "output_type": "execute_result"
    }
   ],
   "source": [
    "# Do a matrix multiply\n",
    "np.dot(small_array1, small_array1)"
   ]
  },
  {
   "cell_type": "markdown",
   "id": "f603d5bf-3edb-451a-891e-6f90e54d9bd4",
   "metadata": {},
   "source": [
    "## 9. Pandas DataFrames\n",
    "Numpy arrays fall short when it comes to dealing with heterogenous data sets. To store data from an external source like an excel workbook or a database, we need a data structure that can hold different data types. It is also desirable to be able to refer to rows and columns in the data by custom labels rather than numbered indexes.\n",
    "\n",
    "The Pandas library offers data structures designed with this in mind: the series and the DataFrame. \n",
    "* **Series**: 1-dimensional labeled arrays similar to numpy's ndarrays\n",
    "* **DataFrames**: 2-dimensional labeled structures, that essentially function as spreadsheet tables"
   ]
  },
  {
   "cell_type": "markdown",
   "id": "b153b6da-c6dc-4488-851b-142067e45ed3",
   "metadata": {},
   "source": [
    "### Pandas Series\n",
    "Series are very similar to ndarrays: the main difference between them is that with series, you can provide custom index labels and then operations you perform on series automatically align the data based on the labels. \n",
    "\n",
    "A series is a valid argument to many of the numpy array functions."
   ]
  },
  {
   "cell_type": "code",
   "execution_count": 2,
   "id": "479a919f-52c2-4721-987e-ffe3b7656049",
   "metadata": {},
   "outputs": [
    {
     "data": {
      "text/plain": [
       "a    2\n",
       "b    3\n",
       "c    5\n",
       "d    4\n",
       "dtype: int64"
      ]
     },
     "execution_count": 2,
     "metadata": {},
     "output_type": "execute_result"
    }
   ],
   "source": [
    "import numpy as np\n",
    "import pandas as pd\n",
    "\n",
    "# Define a new series by passing a collection of homogeneous data like ndarray or list, along with a list of associated indexes\n",
    "\n",
    "my_series = pd.Series(data = [2,3,5,4],           # Data\n",
    "                      index = ['a','b','c','d'])  # Indexes\n",
    "my_series"
   ]
  },
  {
   "cell_type": "code",
   "execution_count": 77,
   "id": "30f81975-8099-4973-9fae-72c7b73a8e1e",
   "metadata": {},
   "outputs": [
    {
     "data": {
      "text/plain": [
       "x    2\n",
       "a    5\n",
       "b    4\n",
       "c    8\n",
       "dtype: int64"
      ]
     },
     "execution_count": 77,
     "metadata": {},
     "output_type": "execute_result"
    }
   ],
   "source": [
    "# Create a series from a dictionary. The dictionary keys act as the labels and the values act as the data\n",
    "my_dict = {'x':2, 'a':5, 'b':4, 'c':8}\n",
    "my_series2 = pd.Series(my_dict)\n",
    "\n",
    "my_series2"
   ]
  },
  {
   "cell_type": "code",
   "execution_count": 78,
   "id": "88321c4e-322b-4fe2-b653-502c9eb04596",
   "metadata": {},
   "outputs": [
    {
     "data": {
      "text/plain": [
       "2"
      ]
     },
     "execution_count": 78,
     "metadata": {},
     "output_type": "execute_result"
    }
   ],
   "source": [
    "# You can access items in a series by the labels:\n",
    "my_series['a']"
   ]
  },
  {
   "cell_type": "code",
   "execution_count": 81,
   "id": "48ead540-f068-40bc-8450-c240aef8ea0d",
   "metadata": {},
   "outputs": [
    {
     "data": {
      "text/plain": [
       "2"
      ]
     },
     "execution_count": 81,
     "metadata": {},
     "output_type": "execute_result"
    }
   ],
   "source": [
    "# Numeric indexing also works\n",
    "my_series[0]"
   ]
  },
  {
   "cell_type": "code",
   "execution_count": 82,
   "id": "c9e49efb-7abe-4c3b-8fdd-6613cfee5bf3",
   "metadata": {},
   "outputs": [
    {
     "data": {
      "text/plain": [
       "b    3\n",
       "c    5\n",
       "dtype: int64"
      ]
     },
     "execution_count": 82,
     "metadata": {},
     "output_type": "execute_result"
    }
   ],
   "source": [
    "# If you take a slice of a series, you get both the values and the labels contained in the slice:\n",
    "my_series[1:3]"
   ]
  },
  {
   "cell_type": "code",
   "execution_count": 83,
   "id": "952b9dc3-7f05-436a-b04c-a80456d6bebf",
   "metadata": {},
   "outputs": [
    {
     "data": {
      "text/plain": [
       "a     4\n",
       "b     6\n",
       "c    10\n",
       "d     8\n",
       "dtype: int64"
      ]
     },
     "execution_count": 83,
     "metadata": {},
     "output_type": "execute_result"
    }
   ],
   "source": [
    "# As mentioned earlier, operations performed on two series align by label:\n",
    "my_series + my_series"
   ]
  },
  {
   "cell_type": "code",
   "execution_count": 84,
   "id": "131ea683-c0ad-44e5-ad6f-72c1c7702fe3",
   "metadata": {},
   "outputs": [
    {
     "data": {
      "text/plain": [
       "a     7.0\n",
       "b     7.0\n",
       "c    13.0\n",
       "d     NaN\n",
       "x     NaN\n",
       "dtype: float64"
      ]
     },
     "execution_count": 84,
     "metadata": {},
     "output_type": "execute_result"
    }
   ],
   "source": [
    "# If you perform an operation with 2 series that have different labels, the unmatched labels will return a value of NaN\n",
    "my_series + my_series2"
   ]
  },
  {
   "cell_type": "code",
   "execution_count": 85,
   "id": "761efe98-6252-470a-ac9a-f9e901484d5a",
   "metadata": {},
   "outputs": [
    {
     "data": {
      "text/plain": [
       "3.5"
      ]
     },
     "execution_count": 85,
     "metadata": {},
     "output_type": "execute_result"
    }
   ],
   "source": [
    "# numpy arrary functions generally work on series\n",
    "np.mean(my_series)"
   ]
  },
  {
   "cell_type": "markdown",
   "id": "0e43bc3e-65de-4a03-96c0-0c61e12b760a",
   "metadata": {},
   "source": [
    "### DataFrame creation and indexing\n",
    "A DataFrame is a 2D table with labeled columns that can each hold different types of data. They're essentially the types of tables you'd see in Excel workbook or SQL. They're the defacto data structure for working with tabular data in Python.\n",
    "\n",
    "You can create a df out a variety of data sources like dictionaries, 2D numpy arrays and using series through the pd.Data.Frame() fuction. Dictionaries provide an intuitive way to create df: when passed to pd.DataFrame() a dictionarie's keys become column labels and the values become the columns themselves. \n",
    "\n",
    "More indexing operations: https://pandas.pydata.org/pandas-docs/stable/user_guide/indexing.html"
   ]
  },
  {
   "cell_type": "code",
   "execution_count": 86,
   "id": "6d07f4de-77bc-4232-8543-7af9477209c5",
   "metadata": {},
   "outputs": [
    {
     "data": {
      "text/html": [
       "<div>\n",
       "<style scoped>\n",
       "    .dataframe tbody tr th:only-of-type {\n",
       "        vertical-align: middle;\n",
       "    }\n",
       "\n",
       "    .dataframe tbody tr th {\n",
       "        vertical-align: top;\n",
       "    }\n",
       "\n",
       "    .dataframe thead th {\n",
       "        text-align: right;\n",
       "    }\n",
       "</style>\n",
       "<table border=\"1\" class=\"dataframe\">\n",
       "  <thead>\n",
       "    <tr style=\"text-align: right;\">\n",
       "      <th></th>\n",
       "      <th>name</th>\n",
       "      <th>age</th>\n",
       "      <th>weight</th>\n",
       "      <th>height</th>\n",
       "      <th>siblings</th>\n",
       "      <th>gender</th>\n",
       "    </tr>\n",
       "  </thead>\n",
       "  <tbody>\n",
       "    <tr>\n",
       "      <th>Joe</th>\n",
       "      <td>Joe</td>\n",
       "      <td>10</td>\n",
       "      <td>75</td>\n",
       "      <td>4.5</td>\n",
       "      <td>1</td>\n",
       "      <td>M</td>\n",
       "    </tr>\n",
       "    <tr>\n",
       "      <th>Bob</th>\n",
       "      <td>Bob</td>\n",
       "      <td>15</td>\n",
       "      <td>123</td>\n",
       "      <td>5.0</td>\n",
       "      <td>1</td>\n",
       "      <td>M</td>\n",
       "    </tr>\n",
       "    <tr>\n",
       "      <th>Frans</th>\n",
       "      <td>Frans</td>\n",
       "      <td>20</td>\n",
       "      <td>239</td>\n",
       "      <td>6.1</td>\n",
       "      <td>1</td>\n",
       "      <td>M</td>\n",
       "    </tr>\n",
       "  </tbody>\n",
       "</table>\n",
       "</div>"
      ],
      "text/plain": [
       "        name  age  weight  height  siblings gender\n",
       "Joe      Joe   10      75     4.5         1      M\n",
       "Bob      Bob   15     123     5.0         1      M\n",
       "Frans  Frans   20     239     6.1         1      M"
      ]
     },
     "execution_count": 86,
     "metadata": {},
     "output_type": "execute_result"
    }
   ],
   "source": [
    "# Create a dictionary with some different data types as values\n",
    "my_dict = {'name' : ['Joe','Bob','Frans'],\n",
    "           'age' : np.array([10,15,20]),\n",
    "           'weight' : (75,123,239),\n",
    "           'height' : pd.Series([4.5,5,6.1],\n",
    "                               index = ['Joe','Bob','Frans']),\n",
    "           'siblings' : 1,\n",
    "           'gender' : 'M'}\n",
    "\n",
    "df = pd.DataFrame(my_dict)     # Convert the dict to DataFrame\n",
    "df"
   ]
  },
  {
   "cell_type": "markdown",
   "id": "f9d0b1b8-f1ff-41c6-a601-b780522a5444",
   "metadata": {},
   "source": [
    "When passing a singular value, the value is duplicated to every row in the DataFrame. The rows were automatically given indexes that align with the indexes of the series we passed in for the 'height' column. If we did not use a series with index lables to create the df, it would be given numeric row index labels by default."
   ]
  },
  {
   "cell_type": "code",
   "execution_count": 88,
   "id": "57f69650-c458-4935-bf3f-39cd7af2be32",
   "metadata": {},
   "outputs": [
    {
     "data": {
      "text/html": [
       "<div>\n",
       "<style scoped>\n",
       "    .dataframe tbody tr th:only-of-type {\n",
       "        vertical-align: middle;\n",
       "    }\n",
       "\n",
       "    .dataframe tbody tr th {\n",
       "        vertical-align: top;\n",
       "    }\n",
       "\n",
       "    .dataframe thead th {\n",
       "        text-align: right;\n",
       "    }\n",
       "</style>\n",
       "<table border=\"1\" class=\"dataframe\">\n",
       "  <thead>\n",
       "    <tr style=\"text-align: right;\">\n",
       "      <th></th>\n",
       "      <th>name</th>\n",
       "      <th>age</th>\n",
       "      <th>weight</th>\n",
       "      <th>height</th>\n",
       "      <th>siblings</th>\n",
       "      <th>gender</th>\n",
       "    </tr>\n",
       "  </thead>\n",
       "  <tbody>\n",
       "    <tr>\n",
       "      <th>0</th>\n",
       "      <td>Joe</td>\n",
       "      <td>10</td>\n",
       "      <td>75</td>\n",
       "      <td>4.5</td>\n",
       "      <td>1</td>\n",
       "      <td>M</td>\n",
       "    </tr>\n",
       "    <tr>\n",
       "      <th>1</th>\n",
       "      <td>Bob</td>\n",
       "      <td>15</td>\n",
       "      <td>123</td>\n",
       "      <td>5.0</td>\n",
       "      <td>1</td>\n",
       "      <td>M</td>\n",
       "    </tr>\n",
       "    <tr>\n",
       "      <th>2</th>\n",
       "      <td>Frans</td>\n",
       "      <td>20</td>\n",
       "      <td>239</td>\n",
       "      <td>6.1</td>\n",
       "      <td>1</td>\n",
       "      <td>M</td>\n",
       "    </tr>\n",
       "  </tbody>\n",
       "</table>\n",
       "</div>"
      ],
      "text/plain": [
       "    name  age  weight  height  siblings gender\n",
       "0    Joe   10      75     4.5         1      M\n",
       "1    Bob   15     123     5.0         1      M\n",
       "2  Frans   20     239     6.1         1      M"
      ]
     },
     "execution_count": 88,
     "metadata": {},
     "output_type": "execute_result"
    }
   ],
   "source": [
    "# Dictionary without index labels\n",
    "my_dict2 = {'name' : ['Joe','Bob','Frans'],\n",
    "            'age' : np.array([10,15,20]),\n",
    "           'weight' : (75,123,239),\n",
    "           'height' : [4.5,5,6.1],\n",
    "           'siblings' : 1,\n",
    "           'gender' : 'M'}\n",
    "\n",
    "df2 = pd.DataFrame(my_dict2)     # Convert the dict to DataFrame\n",
    "df2 "
   ]
  },
  {
   "cell_type": "code",
   "execution_count": 99,
   "id": "9db19db9-507c-4362-8497-81d7711c1e49",
   "metadata": {},
   "outputs": [
    {
     "data": {
      "text/html": [
       "<div>\n",
       "<style scoped>\n",
       "    .dataframe tbody tr th:only-of-type {\n",
       "        vertical-align: middle;\n",
       "    }\n",
       "\n",
       "    .dataframe tbody tr th {\n",
       "        vertical-align: top;\n",
       "    }\n",
       "\n",
       "    .dataframe thead th {\n",
       "        text-align: right;\n",
       "    }\n",
       "</style>\n",
       "<table border=\"1\" class=\"dataframe\">\n",
       "  <thead>\n",
       "    <tr style=\"text-align: right;\">\n",
       "      <th></th>\n",
       "      <th>name</th>\n",
       "      <th>age</th>\n",
       "      <th>weight</th>\n",
       "      <th>height</th>\n",
       "      <th>siblings</th>\n",
       "      <th>gender</th>\n",
       "    </tr>\n",
       "  </thead>\n",
       "  <tbody>\n",
       "    <tr>\n",
       "      <th>Joe</th>\n",
       "      <td>Joe</td>\n",
       "      <td>10</td>\n",
       "      <td>75</td>\n",
       "      <td>4.5</td>\n",
       "      <td>1</td>\n",
       "      <td>M</td>\n",
       "    </tr>\n",
       "    <tr>\n",
       "      <th>Bob</th>\n",
       "      <td>Bob</td>\n",
       "      <td>15</td>\n",
       "      <td>123</td>\n",
       "      <td>5.0</td>\n",
       "      <td>1</td>\n",
       "      <td>M</td>\n",
       "    </tr>\n",
       "    <tr>\n",
       "      <th>Frans</th>\n",
       "      <td>Frans</td>\n",
       "      <td>20</td>\n",
       "      <td>239</td>\n",
       "      <td>6.1</td>\n",
       "      <td>1</td>\n",
       "      <td>M</td>\n",
       "    </tr>\n",
       "  </tbody>\n",
       "</table>\n",
       "</div>"
      ],
      "text/plain": [
       "        name  age  weight  height  siblings gender\n",
       "Joe      Joe   10      75     4.5         1      M\n",
       "Bob      Bob   15     123     5.0         1      M\n",
       "Frans  Frans   20     239     6.1         1      M"
      ]
     },
     "execution_count": 99,
     "metadata": {},
     "output_type": "execute_result"
    }
   ],
   "source": [
    "# You can provide custom row labels when creating a df by adding the index argument:\n",
    "df2 = pd.DataFrame(my_dict2,\n",
    "                   index = my_dict2['name'])\n",
    "df2"
   ]
  },
  {
   "cell_type": "markdown",
   "id": "a193acf2-ae4d-4541-a6e7-f952f32eca18",
   "metadata": {},
   "source": [
    "A df behaves like a dictionary of series objects that each have the same length and indexes. This means we can get, add and delete columns in a df the same way we would dealing with a dictionary."
   ]
  },
  {
   "cell_type": "code",
   "execution_count": 92,
   "id": "402d0c00-8f51-453b-b52a-5f04788b078e",
   "metadata": {},
   "outputs": [
    {
     "data": {
      "text/plain": [
       "Joe       75\n",
       "Bob      123\n",
       "Frans    239\n",
       "Name: weight, dtype: int64"
      ]
     },
     "execution_count": 92,
     "metadata": {},
     "output_type": "execute_result"
    }
   ],
   "source": [
    "# Get a column by name\n",
    "df2['weight']"
   ]
  },
  {
   "cell_type": "code",
   "execution_count": 93,
   "id": "bb597f42-b322-4c56-afa5-62e68193b8b3",
   "metadata": {},
   "outputs": [
    {
     "data": {
      "text/plain": [
       "Joe       75\n",
       "Bob      123\n",
       "Frans    239\n",
       "Name: weight, dtype: int64"
      ]
     },
     "execution_count": 93,
     "metadata": {},
     "output_type": "execute_result"
    }
   ],
   "source": [
    "# You can also get a column by label\n",
    "df2.weight"
   ]
  },
  {
   "cell_type": "code",
   "execution_count": 100,
   "id": "ebe082f9-ec03-4469-a0c0-7d0ebc592e29",
   "metadata": {},
   "outputs": [
    {
     "data": {
      "text/html": [
       "<div>\n",
       "<style scoped>\n",
       "    .dataframe tbody tr th:only-of-type {\n",
       "        vertical-align: middle;\n",
       "    }\n",
       "\n",
       "    .dataframe tbody tr th {\n",
       "        vertical-align: top;\n",
       "    }\n",
       "\n",
       "    .dataframe thead th {\n",
       "        text-align: right;\n",
       "    }\n",
       "</style>\n",
       "<table border=\"1\" class=\"dataframe\">\n",
       "  <thead>\n",
       "    <tr style=\"text-align: right;\">\n",
       "      <th></th>\n",
       "      <th>name</th>\n",
       "      <th>age</th>\n",
       "      <th>weight</th>\n",
       "      <th>height</th>\n",
       "      <th>siblings</th>\n",
       "      <th>gender</th>\n",
       "      <th>IQ</th>\n",
       "    </tr>\n",
       "  </thead>\n",
       "  <tbody>\n",
       "    <tr>\n",
       "      <th>Joe</th>\n",
       "      <td>Joe</td>\n",
       "      <td>10</td>\n",
       "      <td>75</td>\n",
       "      <td>4.5</td>\n",
       "      <td>1</td>\n",
       "      <td>M</td>\n",
       "      <td>130</td>\n",
       "    </tr>\n",
       "    <tr>\n",
       "      <th>Bob</th>\n",
       "      <td>Bob</td>\n",
       "      <td>15</td>\n",
       "      <td>123</td>\n",
       "      <td>5.0</td>\n",
       "      <td>1</td>\n",
       "      <td>M</td>\n",
       "      <td>105</td>\n",
       "    </tr>\n",
       "    <tr>\n",
       "      <th>Frans</th>\n",
       "      <td>Frans</td>\n",
       "      <td>20</td>\n",
       "      <td>239</td>\n",
       "      <td>6.1</td>\n",
       "      <td>1</td>\n",
       "      <td>M</td>\n",
       "      <td>115</td>\n",
       "    </tr>\n",
       "  </tbody>\n",
       "</table>\n",
       "</div>"
      ],
      "text/plain": [
       "        name  age  weight  height  siblings gender   IQ\n",
       "Joe      Joe   10      75     4.5         1      M  130\n",
       "Bob      Bob   15     123     5.0         1      M  105\n",
       "Frans  Frans   20     239     6.1         1      M  115"
      ]
     },
     "execution_count": 100,
     "metadata": {},
     "output_type": "execute_result"
    }
   ],
   "source": [
    "# Add a column\n",
    "df2['IQ'] =[130,105,115]\n",
    "df2"
   ]
  },
  {
   "cell_type": "code",
   "execution_count": 98,
   "id": "a066e8f8-228c-4cd7-a662-d2af11bed791",
   "metadata": {},
   "outputs": [
    {
     "data": {
      "text/html": [
       "<div>\n",
       "<style scoped>\n",
       "    .dataframe tbody tr th:only-of-type {\n",
       "        vertical-align: middle;\n",
       "    }\n",
       "\n",
       "    .dataframe tbody tr th {\n",
       "        vertical-align: top;\n",
       "    }\n",
       "\n",
       "    .dataframe thead th {\n",
       "        text-align: right;\n",
       "    }\n",
       "</style>\n",
       "<table border=\"1\" class=\"dataframe\">\n",
       "  <thead>\n",
       "    <tr style=\"text-align: right;\">\n",
       "      <th></th>\n",
       "      <th>weight</th>\n",
       "      <th>height</th>\n",
       "      <th>siblings</th>\n",
       "      <th>gender</th>\n",
       "      <th>IQ</th>\n",
       "    </tr>\n",
       "  </thead>\n",
       "  <tbody>\n",
       "    <tr>\n",
       "      <th>Joe</th>\n",
       "      <td>75</td>\n",
       "      <td>4.5</td>\n",
       "      <td>1</td>\n",
       "      <td>M</td>\n",
       "      <td>130</td>\n",
       "    </tr>\n",
       "    <tr>\n",
       "      <th>Bob</th>\n",
       "      <td>123</td>\n",
       "      <td>5.0</td>\n",
       "      <td>1</td>\n",
       "      <td>M</td>\n",
       "      <td>105</td>\n",
       "    </tr>\n",
       "    <tr>\n",
       "      <th>Frans</th>\n",
       "      <td>239</td>\n",
       "      <td>6.1</td>\n",
       "      <td>1</td>\n",
       "      <td>M</td>\n",
       "      <td>115</td>\n",
       "    </tr>\n",
       "  </tbody>\n",
       "</table>\n",
       "</div>"
      ],
      "text/plain": [
       "       weight  height  siblings gender   IQ\n",
       "Joe        75     4.5         1      M  130\n",
       "Bob       123     5.0         1      M  105\n",
       "Frans     239     6.1         1      M  115"
      ]
     },
     "execution_count": 98,
     "metadata": {},
     "output_type": "execute_result"
    }
   ],
   "source": [
    "# Delete a column\n",
    "del df2['age']\n",
    "df2"
   ]
  },
  {
   "cell_type": "code",
   "execution_count": 101,
   "id": "6199fd70-09b6-4f6f-9537-5757dc07a4d1",
   "metadata": {},
   "outputs": [
    {
     "data": {
      "text/html": [
       "<div>\n",
       "<style scoped>\n",
       "    .dataframe tbody tr th:only-of-type {\n",
       "        vertical-align: middle;\n",
       "    }\n",
       "\n",
       "    .dataframe tbody tr th {\n",
       "        vertical-align: top;\n",
       "    }\n",
       "\n",
       "    .dataframe thead th {\n",
       "        text-align: right;\n",
       "    }\n",
       "</style>\n",
       "<table border=\"1\" class=\"dataframe\">\n",
       "  <thead>\n",
       "    <tr style=\"text-align: right;\">\n",
       "      <th></th>\n",
       "      <th>name</th>\n",
       "      <th>age</th>\n",
       "      <th>weight</th>\n",
       "      <th>height</th>\n",
       "      <th>siblings</th>\n",
       "      <th>gender</th>\n",
       "      <th>IQ</th>\n",
       "      <th>Married</th>\n",
       "    </tr>\n",
       "  </thead>\n",
       "  <tbody>\n",
       "    <tr>\n",
       "      <th>Joe</th>\n",
       "      <td>Joe</td>\n",
       "      <td>10</td>\n",
       "      <td>75</td>\n",
       "      <td>4.5</td>\n",
       "      <td>1</td>\n",
       "      <td>M</td>\n",
       "      <td>130</td>\n",
       "      <td>False</td>\n",
       "    </tr>\n",
       "    <tr>\n",
       "      <th>Bob</th>\n",
       "      <td>Bob</td>\n",
       "      <td>15</td>\n",
       "      <td>123</td>\n",
       "      <td>5.0</td>\n",
       "      <td>1</td>\n",
       "      <td>M</td>\n",
       "      <td>105</td>\n",
       "      <td>False</td>\n",
       "    </tr>\n",
       "    <tr>\n",
       "      <th>Frans</th>\n",
       "      <td>Frans</td>\n",
       "      <td>20</td>\n",
       "      <td>239</td>\n",
       "      <td>6.1</td>\n",
       "      <td>1</td>\n",
       "      <td>M</td>\n",
       "      <td>115</td>\n",
       "      <td>False</td>\n",
       "    </tr>\n",
       "  </tbody>\n",
       "</table>\n",
       "</div>"
      ],
      "text/plain": [
       "        name  age  weight  height  siblings gender   IQ  Married\n",
       "Joe      Joe   10      75     4.5         1      M  130    False\n",
       "Bob      Bob   15     123     5.0         1      M  105    False\n",
       "Frans  Frans   20     239     6.1         1      M  115    False"
      ]
     },
     "execution_count": 101,
     "metadata": {},
     "output_type": "execute_result"
    }
   ],
   "source": [
    "# Inserting a single value into a df causes it to populate across all the rows:\n",
    "df2['Married'] = False\n",
    "df2"
   ]
  },
  {
   "cell_type": "code",
   "execution_count": 102,
   "id": "02b63e3b-a7b8-4a50-8b6d-4a9e2619d455",
   "metadata": {},
   "outputs": [
    {
     "data": {
      "text/html": [
       "<div>\n",
       "<style scoped>\n",
       "    .dataframe tbody tr th:only-of-type {\n",
       "        vertical-align: middle;\n",
       "    }\n",
       "\n",
       "    .dataframe tbody tr th {\n",
       "        vertical-align: top;\n",
       "    }\n",
       "\n",
       "    .dataframe thead th {\n",
       "        text-align: right;\n",
       "    }\n",
       "</style>\n",
       "<table border=\"1\" class=\"dataframe\">\n",
       "  <thead>\n",
       "    <tr style=\"text-align: right;\">\n",
       "      <th></th>\n",
       "      <th>name</th>\n",
       "      <th>age</th>\n",
       "      <th>weight</th>\n",
       "      <th>height</th>\n",
       "      <th>siblings</th>\n",
       "      <th>gender</th>\n",
       "      <th>IQ</th>\n",
       "      <th>Married</th>\n",
       "      <th>College</th>\n",
       "    </tr>\n",
       "  </thead>\n",
       "  <tbody>\n",
       "    <tr>\n",
       "      <th>Joe</th>\n",
       "      <td>Joe</td>\n",
       "      <td>10</td>\n",
       "      <td>75</td>\n",
       "      <td>4.5</td>\n",
       "      <td>1</td>\n",
       "      <td>M</td>\n",
       "      <td>130</td>\n",
       "      <td>False</td>\n",
       "      <td>NaN</td>\n",
       "    </tr>\n",
       "    <tr>\n",
       "      <th>Bob</th>\n",
       "      <td>Bob</td>\n",
       "      <td>15</td>\n",
       "      <td>123</td>\n",
       "      <td>5.0</td>\n",
       "      <td>1</td>\n",
       "      <td>M</td>\n",
       "      <td>105</td>\n",
       "      <td>False</td>\n",
       "      <td>NaN</td>\n",
       "    </tr>\n",
       "    <tr>\n",
       "      <th>Frans</th>\n",
       "      <td>Frans</td>\n",
       "      <td>20</td>\n",
       "      <td>239</td>\n",
       "      <td>6.1</td>\n",
       "      <td>1</td>\n",
       "      <td>M</td>\n",
       "      <td>115</td>\n",
       "      <td>False</td>\n",
       "      <td>Harvard</td>\n",
       "    </tr>\n",
       "  </tbody>\n",
       "</table>\n",
       "</div>"
      ],
      "text/plain": [
       "        name  age  weight  height  siblings gender   IQ  Married  College\n",
       "Joe      Joe   10      75     4.5         1      M  130    False      NaN\n",
       "Bob      Bob   15     123     5.0         1      M  105    False      NaN\n",
       "Frans  Frans   20     239     6.1         1      M  115    False  Harvard"
      ]
     },
     "execution_count": 102,
     "metadata": {},
     "output_type": "execute_result"
    }
   ],
   "source": [
    "# When inserting a series into a df, rows are matched by index. Unmatched rows will be filled with NaN\n",
    "df2['College'] = pd.Series(['Harvard'],\n",
    "                            index = ['Frans'])\n",
    "df2"
   ]
  },
  {
   "cell_type": "code",
   "execution_count": 103,
   "id": "9df8dced-92f5-4072-8984-2a5ed169e95d",
   "metadata": {},
   "outputs": [
    {
     "data": {
      "text/plain": [
       "name          Joe\n",
       "age            10\n",
       "weight         75\n",
       "height        4.5\n",
       "siblings        1\n",
       "gender          M\n",
       "IQ            130\n",
       "Married     False\n",
       "College       NaN\n",
       "Name: Joe, dtype: object"
      ]
     },
     "execution_count": 103,
     "metadata": {},
     "output_type": "execute_result"
    }
   ],
   "source": [
    "# Select both rows or columns by label with df.loc[row,column]\n",
    "df2.loc['Joe']   # Select row joe"
   ]
  },
  {
   "cell_type": "code",
   "execution_count": 104,
   "id": "47259543-b7af-4a70-aa30-5124536add90",
   "metadata": {},
   "outputs": [
    {
     "data": {
      "text/plain": [
       "130"
      ]
     },
     "execution_count": 104,
     "metadata": {},
     "output_type": "execute_result"
    }
   ],
   "source": [
    "df2.loc['Joe','IQ']  # Select both Joe and column IQ"
   ]
  },
  {
   "cell_type": "code",
   "execution_count": 105,
   "id": "5a630f79-f67b-4787-a7cb-e4d2edb66f4c",
   "metadata": {},
   "outputs": [
    {
     "data": {
      "text/html": [
       "<div>\n",
       "<style scoped>\n",
       "    .dataframe tbody tr th:only-of-type {\n",
       "        vertical-align: middle;\n",
       "    }\n",
       "\n",
       "    .dataframe tbody tr th {\n",
       "        vertical-align: top;\n",
       "    }\n",
       "\n",
       "    .dataframe thead th {\n",
       "        text-align: right;\n",
       "    }\n",
       "</style>\n",
       "<table border=\"1\" class=\"dataframe\">\n",
       "  <thead>\n",
       "    <tr style=\"text-align: right;\">\n",
       "      <th></th>\n",
       "      <th>IQ</th>\n",
       "      <th>Married</th>\n",
       "      <th>College</th>\n",
       "    </tr>\n",
       "  </thead>\n",
       "  <tbody>\n",
       "    <tr>\n",
       "      <th>Joe</th>\n",
       "      <td>130</td>\n",
       "      <td>False</td>\n",
       "      <td>NaN</td>\n",
       "    </tr>\n",
       "    <tr>\n",
       "      <th>Bob</th>\n",
       "      <td>105</td>\n",
       "      <td>False</td>\n",
       "      <td>NaN</td>\n",
       "    </tr>\n",
       "  </tbody>\n",
       "</table>\n",
       "</div>"
      ],
      "text/plain": [
       "      IQ  Married College\n",
       "Joe  130    False     NaN\n",
       "Bob  105    False     NaN"
      ]
     },
     "execution_count": 105,
     "metadata": {},
     "output_type": "execute_result"
    }
   ],
   "source": [
    "# Slice by label\n",
    "df2.loc['Joe':'Bob','IQ':'College']"
   ]
  },
  {
   "cell_type": "code",
   "execution_count": 106,
   "id": "68df1e67-8946-4ed4-b509-90331fd5db3c",
   "metadata": {},
   "outputs": [
    {
     "data": {
      "text/plain": [
       "name          Joe\n",
       "age            10\n",
       "weight         75\n",
       "height        4.5\n",
       "siblings        1\n",
       "gender          M\n",
       "IQ            130\n",
       "Married     False\n",
       "College       NaN\n",
       "Name: Joe, dtype: object"
      ]
     },
     "execution_count": 106,
     "metadata": {},
     "output_type": "execute_result"
    }
   ],
   "source": [
    "# Select rows or columns by numeric index with df.iloc[row,column]\n",
    "df2.iloc[0] # Get row 0"
   ]
  },
  {
   "cell_type": "code",
   "execution_count": 107,
   "id": "87b230b9-cd6b-4687-8589-2344dd3c77f4",
   "metadata": {},
   "outputs": [
    {
     "data": {
      "text/plain": [
       "'M'"
      ]
     },
     "execution_count": 107,
     "metadata": {},
     "output_type": "execute_result"
    }
   ],
   "source": [
    "df2.iloc[0,5] # Get row 0 and column 5"
   ]
  },
  {
   "cell_type": "code",
   "execution_count": 108,
   "id": "11d5397b-a7c2-411a-a910-2bd98cd8211f",
   "metadata": {},
   "outputs": [
    {
     "data": {
      "text/html": [
       "<div>\n",
       "<style scoped>\n",
       "    .dataframe tbody tr th:only-of-type {\n",
       "        vertical-align: middle;\n",
       "    }\n",
       "\n",
       "    .dataframe tbody tr th {\n",
       "        vertical-align: top;\n",
       "    }\n",
       "\n",
       "    .dataframe thead th {\n",
       "        text-align: right;\n",
       "    }\n",
       "</style>\n",
       "<table border=\"1\" class=\"dataframe\">\n",
       "  <thead>\n",
       "    <tr style=\"text-align: right;\">\n",
       "      <th></th>\n",
       "      <th>gender</th>\n",
       "      <th>IQ</th>\n",
       "      <th>Married</th>\n",
       "    </tr>\n",
       "  </thead>\n",
       "  <tbody>\n",
       "    <tr>\n",
       "      <th>Joe</th>\n",
       "      <td>M</td>\n",
       "      <td>130</td>\n",
       "      <td>False</td>\n",
       "    </tr>\n",
       "    <tr>\n",
       "      <th>Bob</th>\n",
       "      <td>M</td>\n",
       "      <td>105</td>\n",
       "      <td>False</td>\n",
       "    </tr>\n",
       "  </tbody>\n",
       "</table>\n",
       "</div>"
      ],
      "text/plain": [
       "    gender   IQ  Married\n",
       "Joe      M  130    False\n",
       "Bob      M  105    False"
      ]
     },
     "execution_count": 108,
     "metadata": {},
     "output_type": "execute_result"
    }
   ],
   "source": [
    "df2.iloc[0:2,5:8] # Slice by numeric row and column index"
   ]
  },
  {
   "cell_type": "code",
   "execution_count": 109,
   "id": "b4912e7a-aab0-40ae-bde4-2d3e9371ac38",
   "metadata": {},
   "outputs": [
    {
     "data": {
      "text/html": [
       "<div>\n",
       "<style scoped>\n",
       "    .dataframe tbody tr th:only-of-type {\n",
       "        vertical-align: middle;\n",
       "    }\n",
       "\n",
       "    .dataframe tbody tr th {\n",
       "        vertical-align: top;\n",
       "    }\n",
       "\n",
       "    .dataframe thead th {\n",
       "        text-align: right;\n",
       "    }\n",
       "</style>\n",
       "<table border=\"1\" class=\"dataframe\">\n",
       "  <thead>\n",
       "    <tr style=\"text-align: right;\">\n",
       "      <th></th>\n",
       "      <th>name</th>\n",
       "      <th>age</th>\n",
       "      <th>weight</th>\n",
       "      <th>height</th>\n",
       "      <th>siblings</th>\n",
       "      <th>gender</th>\n",
       "      <th>IQ</th>\n",
       "      <th>Married</th>\n",
       "      <th>College</th>\n",
       "    </tr>\n",
       "  </thead>\n",
       "  <tbody>\n",
       "    <tr>\n",
       "      <th>Bob</th>\n",
       "      <td>Bob</td>\n",
       "      <td>15</td>\n",
       "      <td>123</td>\n",
       "      <td>5.0</td>\n",
       "      <td>1</td>\n",
       "      <td>M</td>\n",
       "      <td>105</td>\n",
       "      <td>False</td>\n",
       "      <td>NaN</td>\n",
       "    </tr>\n",
       "    <tr>\n",
       "      <th>Frans</th>\n",
       "      <td>Frans</td>\n",
       "      <td>20</td>\n",
       "      <td>239</td>\n",
       "      <td>6.1</td>\n",
       "      <td>1</td>\n",
       "      <td>M</td>\n",
       "      <td>115</td>\n",
       "      <td>False</td>\n",
       "      <td>Harvard</td>\n",
       "    </tr>\n",
       "  </tbody>\n",
       "</table>\n",
       "</div>"
      ],
      "text/plain": [
       "        name  age  weight  height  siblings gender   IQ  Married  College\n",
       "Bob      Bob   15     123     5.0         1      M  105    False      NaN\n",
       "Frans  Frans   20     239     6.1         1      M  115    False  Harvard"
      ]
     },
     "execution_count": 109,
     "metadata": {},
     "output_type": "execute_result"
    }
   ],
   "source": [
    "# Select rows by passing boolean values. Only the rows where the bool is true are returned\n",
    "boolean_index = [False, True, True]\n",
    "df2[boolean_index]"
   ]
  },
  {
   "cell_type": "code",
   "execution_count": 110,
   "id": "322d6aea-07b7-4e63-8b85-f8ed9d2a8d22",
   "metadata": {},
   "outputs": [
    {
     "data": {
      "text/html": [
       "<div>\n",
       "<style scoped>\n",
       "    .dataframe tbody tr th:only-of-type {\n",
       "        vertical-align: middle;\n",
       "    }\n",
       "\n",
       "    .dataframe tbody tr th {\n",
       "        vertical-align: top;\n",
       "    }\n",
       "\n",
       "    .dataframe thead th {\n",
       "        text-align: right;\n",
       "    }\n",
       "</style>\n",
       "<table border=\"1\" class=\"dataframe\">\n",
       "  <thead>\n",
       "    <tr style=\"text-align: right;\">\n",
       "      <th></th>\n",
       "      <th>name</th>\n",
       "      <th>age</th>\n",
       "      <th>weight</th>\n",
       "      <th>height</th>\n",
       "      <th>siblings</th>\n",
       "      <th>gender</th>\n",
       "      <th>IQ</th>\n",
       "      <th>Married</th>\n",
       "      <th>College</th>\n",
       "    </tr>\n",
       "  </thead>\n",
       "  <tbody>\n",
       "    <tr>\n",
       "      <th>Bob</th>\n",
       "      <td>Bob</td>\n",
       "      <td>15</td>\n",
       "      <td>123</td>\n",
       "      <td>5.0</td>\n",
       "      <td>1</td>\n",
       "      <td>M</td>\n",
       "      <td>105</td>\n",
       "      <td>False</td>\n",
       "      <td>NaN</td>\n",
       "    </tr>\n",
       "    <tr>\n",
       "      <th>Frans</th>\n",
       "      <td>Frans</td>\n",
       "      <td>20</td>\n",
       "      <td>239</td>\n",
       "      <td>6.1</td>\n",
       "      <td>1</td>\n",
       "      <td>M</td>\n",
       "      <td>115</td>\n",
       "      <td>False</td>\n",
       "      <td>Harvard</td>\n",
       "    </tr>\n",
       "  </tbody>\n",
       "</table>\n",
       "</div>"
      ],
      "text/plain": [
       "        name  age  weight  height  siblings gender   IQ  Married  College\n",
       "Bob      Bob   15     123     5.0         1      M  105    False      NaN\n",
       "Frans  Frans   20     239     6.1         1      M  115    False  Harvard"
      ]
     },
     "execution_count": 110,
     "metadata": {},
     "output_type": "execute_result"
    }
   ],
   "source": [
    "# Create a boolean sequence with a logical comparison\n",
    "boolean_index = df2['age'] > 12\n",
    "# Use the index to get the rows where age > 12\n",
    "df2[boolean_index]"
   ]
  },
  {
   "cell_type": "code",
   "execution_count": 111,
   "id": "1e461c72-ca7b-4d0a-bd27-f13cddb91b59",
   "metadata": {},
   "outputs": [
    {
     "data": {
      "text/html": [
       "<div>\n",
       "<style scoped>\n",
       "    .dataframe tbody tr th:only-of-type {\n",
       "        vertical-align: middle;\n",
       "    }\n",
       "\n",
       "    .dataframe tbody tr th {\n",
       "        vertical-align: top;\n",
       "    }\n",
       "\n",
       "    .dataframe thead th {\n",
       "        text-align: right;\n",
       "    }\n",
       "</style>\n",
       "<table border=\"1\" class=\"dataframe\">\n",
       "  <thead>\n",
       "    <tr style=\"text-align: right;\">\n",
       "      <th></th>\n",
       "      <th>name</th>\n",
       "      <th>age</th>\n",
       "      <th>weight</th>\n",
       "      <th>height</th>\n",
       "      <th>siblings</th>\n",
       "      <th>gender</th>\n",
       "      <th>IQ</th>\n",
       "      <th>Married</th>\n",
       "      <th>College</th>\n",
       "    </tr>\n",
       "  </thead>\n",
       "  <tbody>\n",
       "    <tr>\n",
       "      <th>Bob</th>\n",
       "      <td>Bob</td>\n",
       "      <td>15</td>\n",
       "      <td>123</td>\n",
       "      <td>5.0</td>\n",
       "      <td>1</td>\n",
       "      <td>M</td>\n",
       "      <td>105</td>\n",
       "      <td>False</td>\n",
       "      <td>NaN</td>\n",
       "    </tr>\n",
       "    <tr>\n",
       "      <th>Frans</th>\n",
       "      <td>Frans</td>\n",
       "      <td>20</td>\n",
       "      <td>239</td>\n",
       "      <td>6.1</td>\n",
       "      <td>1</td>\n",
       "      <td>M</td>\n",
       "      <td>115</td>\n",
       "      <td>False</td>\n",
       "      <td>Harvard</td>\n",
       "    </tr>\n",
       "  </tbody>\n",
       "</table>\n",
       "</div>"
      ],
      "text/plain": [
       "        name  age  weight  height  siblings gender   IQ  Married  College\n",
       "Bob      Bob   15     123     5.0         1      M  105    False      NaN\n",
       "Frans  Frans   20     239     6.1         1      M  115    False  Harvard"
      ]
     },
     "execution_count": 111,
     "metadata": {},
     "output_type": "execute_result"
    }
   ],
   "source": [
    "# Indexing all in one operation\n",
    "df2[df2['age'] > 12]"
   ]
  },
  {
   "cell_type": "markdown",
   "id": "db2ddc34-6528-4130-87fe-d7115ea7c07c",
   "metadata": {},
   "source": [
    "### Exploring DataFrames\n",
    "Many ndarray functions work on DataFrames."
   ]
  },
  {
   "cell_type": "code",
   "execution_count": 7,
   "id": "c2eea3a5-2ea7-4a1f-b8b3-920f87aed9b3",
   "metadata": {},
   "outputs": [
    {
     "data": {
      "text/plain": [
       "pandas.core.frame.DataFrame"
      ]
     },
     "execution_count": 7,
     "metadata": {},
     "output_type": "execute_result"
    }
   ],
   "source": [
    "titanic_train = pd.read_csv(\"C:/Users/Micaela Rodriguez/Mentorías/Python for Data Analysis/train.csv\")\n",
    "type(titanic_train)"
   ]
  },
  {
   "cell_type": "code",
   "execution_count": 8,
   "id": "1bdf4e8f-a100-485f-ab31-bb0c193b0b37",
   "metadata": {},
   "outputs": [
    {
     "data": {
      "text/plain": [
       "(891, 12)"
      ]
     },
     "execution_count": 8,
     "metadata": {},
     "output_type": "execute_result"
    }
   ],
   "source": [
    "# Check shape of dataframe \n",
    "titanic_train.shape"
   ]
  },
  {
   "cell_type": "markdown",
   "id": "451d0d0f-78c0-4df9-9d5f-a8290295e379",
   "metadata": {},
   "source": [
    "Titanic training data has 891 rows and 12 columns."
   ]
  },
  {
   "cell_type": "code",
   "execution_count": 9,
   "id": "e8441361-e6ad-4d34-a517-6fca1849490f",
   "metadata": {},
   "outputs": [
    {
     "data": {
      "text/html": [
       "<div>\n",
       "<style scoped>\n",
       "    .dataframe tbody tr th:only-of-type {\n",
       "        vertical-align: middle;\n",
       "    }\n",
       "\n",
       "    .dataframe tbody tr th {\n",
       "        vertical-align: top;\n",
       "    }\n",
       "\n",
       "    .dataframe thead th {\n",
       "        text-align: right;\n",
       "    }\n",
       "</style>\n",
       "<table border=\"1\" class=\"dataframe\">\n",
       "  <thead>\n",
       "    <tr style=\"text-align: right;\">\n",
       "      <th></th>\n",
       "      <th>PassengerId</th>\n",
       "      <th>Survived</th>\n",
       "      <th>Pclass</th>\n",
       "      <th>Name</th>\n",
       "      <th>Sex</th>\n",
       "      <th>Age</th>\n",
       "      <th>SibSp</th>\n",
       "      <th>Parch</th>\n",
       "      <th>Ticket</th>\n",
       "      <th>Fare</th>\n",
       "      <th>Cabin</th>\n",
       "      <th>Embarked</th>\n",
       "    </tr>\n",
       "  </thead>\n",
       "  <tbody>\n",
       "    <tr>\n",
       "      <th>0</th>\n",
       "      <td>1</td>\n",
       "      <td>0</td>\n",
       "      <td>3</td>\n",
       "      <td>Braund, Mr. Owen Harris</td>\n",
       "      <td>male</td>\n",
       "      <td>22.0</td>\n",
       "      <td>1</td>\n",
       "      <td>0</td>\n",
       "      <td>A/5 21171</td>\n",
       "      <td>7.2500</td>\n",
       "      <td>NaN</td>\n",
       "      <td>S</td>\n",
       "    </tr>\n",
       "    <tr>\n",
       "      <th>1</th>\n",
       "      <td>2</td>\n",
       "      <td>1</td>\n",
       "      <td>1</td>\n",
       "      <td>Cumings, Mrs. John Bradley (Florence Briggs Th...</td>\n",
       "      <td>female</td>\n",
       "      <td>38.0</td>\n",
       "      <td>1</td>\n",
       "      <td>0</td>\n",
       "      <td>PC 17599</td>\n",
       "      <td>71.2833</td>\n",
       "      <td>C85</td>\n",
       "      <td>C</td>\n",
       "    </tr>\n",
       "    <tr>\n",
       "      <th>2</th>\n",
       "      <td>3</td>\n",
       "      <td>1</td>\n",
       "      <td>3</td>\n",
       "      <td>Heikkinen, Miss. Laina</td>\n",
       "      <td>female</td>\n",
       "      <td>26.0</td>\n",
       "      <td>0</td>\n",
       "      <td>0</td>\n",
       "      <td>STON/O2. 3101282</td>\n",
       "      <td>7.9250</td>\n",
       "      <td>NaN</td>\n",
       "      <td>S</td>\n",
       "    </tr>\n",
       "    <tr>\n",
       "      <th>3</th>\n",
       "      <td>4</td>\n",
       "      <td>1</td>\n",
       "      <td>1</td>\n",
       "      <td>Futrelle, Mrs. Jacques Heath (Lily May Peel)</td>\n",
       "      <td>female</td>\n",
       "      <td>35.0</td>\n",
       "      <td>1</td>\n",
       "      <td>0</td>\n",
       "      <td>113803</td>\n",
       "      <td>53.1000</td>\n",
       "      <td>C123</td>\n",
       "      <td>S</td>\n",
       "    </tr>\n",
       "    <tr>\n",
       "      <th>4</th>\n",
       "      <td>5</td>\n",
       "      <td>0</td>\n",
       "      <td>3</td>\n",
       "      <td>Allen, Mr. William Henry</td>\n",
       "      <td>male</td>\n",
       "      <td>35.0</td>\n",
       "      <td>0</td>\n",
       "      <td>0</td>\n",
       "      <td>373450</td>\n",
       "      <td>8.0500</td>\n",
       "      <td>NaN</td>\n",
       "      <td>S</td>\n",
       "    </tr>\n",
       "    <tr>\n",
       "      <th>5</th>\n",
       "      <td>6</td>\n",
       "      <td>0</td>\n",
       "      <td>3</td>\n",
       "      <td>Moran, Mr. James</td>\n",
       "      <td>male</td>\n",
       "      <td>NaN</td>\n",
       "      <td>0</td>\n",
       "      <td>0</td>\n",
       "      <td>330877</td>\n",
       "      <td>8.4583</td>\n",
       "      <td>NaN</td>\n",
       "      <td>Q</td>\n",
       "    </tr>\n",
       "  </tbody>\n",
       "</table>\n",
       "</div>"
      ],
      "text/plain": [
       "   PassengerId  Survived  Pclass  \\\n",
       "0            1         0       3   \n",
       "1            2         1       1   \n",
       "2            3         1       3   \n",
       "3            4         1       1   \n",
       "4            5         0       3   \n",
       "5            6         0       3   \n",
       "\n",
       "                                                Name     Sex   Age  SibSp  \\\n",
       "0                            Braund, Mr. Owen Harris    male  22.0      1   \n",
       "1  Cumings, Mrs. John Bradley (Florence Briggs Th...  female  38.0      1   \n",
       "2                             Heikkinen, Miss. Laina  female  26.0      0   \n",
       "3       Futrelle, Mrs. Jacques Heath (Lily May Peel)  female  35.0      1   \n",
       "4                           Allen, Mr. William Henry    male  35.0      0   \n",
       "5                                   Moran, Mr. James    male   NaN      0   \n",
       "\n",
       "   Parch            Ticket     Fare Cabin Embarked  \n",
       "0      0         A/5 21171   7.2500   NaN        S  \n",
       "1      0          PC 17599  71.2833   C85        C  \n",
       "2      0  STON/O2. 3101282   7.9250   NaN        S  \n",
       "3      0            113803  53.1000  C123        S  \n",
       "4      0            373450   8.0500   NaN        S  \n",
       "5      0            330877   8.4583   NaN        Q  "
      ]
     },
     "execution_count": 9,
     "metadata": {},
     "output_type": "execute_result"
    }
   ],
   "source": [
    "# Check the first n rows with df.head(n)\n",
    "titanic_train.head(6)"
   ]
  },
  {
   "cell_type": "code",
   "execution_count": 11,
   "id": "83f9caf2-a6f4-4ddd-84c4-50cb8abe7e18",
   "metadata": {},
   "outputs": [
    {
     "data": {
      "text/html": [
       "<div>\n",
       "<style scoped>\n",
       "    .dataframe tbody tr th:only-of-type {\n",
       "        vertical-align: middle;\n",
       "    }\n",
       "\n",
       "    .dataframe tbody tr th {\n",
       "        vertical-align: top;\n",
       "    }\n",
       "\n",
       "    .dataframe thead th {\n",
       "        text-align: right;\n",
       "    }\n",
       "</style>\n",
       "<table border=\"1\" class=\"dataframe\">\n",
       "  <thead>\n",
       "    <tr style=\"text-align: right;\">\n",
       "      <th></th>\n",
       "      <th>PassengerId</th>\n",
       "      <th>Survived</th>\n",
       "      <th>Pclass</th>\n",
       "      <th>Name</th>\n",
       "      <th>Sex</th>\n",
       "      <th>Age</th>\n",
       "      <th>SibSp</th>\n",
       "      <th>Parch</th>\n",
       "      <th>Ticket</th>\n",
       "      <th>Fare</th>\n",
       "      <th>Cabin</th>\n",
       "      <th>Embarked</th>\n",
       "    </tr>\n",
       "  </thead>\n",
       "  <tbody>\n",
       "    <tr>\n",
       "      <th>885</th>\n",
       "      <td>886</td>\n",
       "      <td>0</td>\n",
       "      <td>3</td>\n",
       "      <td>Rice, Mrs. William (Margaret Norton)</td>\n",
       "      <td>female</td>\n",
       "      <td>39.0</td>\n",
       "      <td>0</td>\n",
       "      <td>5</td>\n",
       "      <td>382652</td>\n",
       "      <td>29.125</td>\n",
       "      <td>NaN</td>\n",
       "      <td>Q</td>\n",
       "    </tr>\n",
       "    <tr>\n",
       "      <th>886</th>\n",
       "      <td>887</td>\n",
       "      <td>0</td>\n",
       "      <td>2</td>\n",
       "      <td>Montvila, Rev. Juozas</td>\n",
       "      <td>male</td>\n",
       "      <td>27.0</td>\n",
       "      <td>0</td>\n",
       "      <td>0</td>\n",
       "      <td>211536</td>\n",
       "      <td>13.000</td>\n",
       "      <td>NaN</td>\n",
       "      <td>S</td>\n",
       "    </tr>\n",
       "    <tr>\n",
       "      <th>887</th>\n",
       "      <td>888</td>\n",
       "      <td>1</td>\n",
       "      <td>1</td>\n",
       "      <td>Graham, Miss. Margaret Edith</td>\n",
       "      <td>female</td>\n",
       "      <td>19.0</td>\n",
       "      <td>0</td>\n",
       "      <td>0</td>\n",
       "      <td>112053</td>\n",
       "      <td>30.000</td>\n",
       "      <td>B42</td>\n",
       "      <td>S</td>\n",
       "    </tr>\n",
       "    <tr>\n",
       "      <th>888</th>\n",
       "      <td>889</td>\n",
       "      <td>0</td>\n",
       "      <td>3</td>\n",
       "      <td>Johnston, Miss. Catherine Helen \"Carrie\"</td>\n",
       "      <td>female</td>\n",
       "      <td>NaN</td>\n",
       "      <td>1</td>\n",
       "      <td>2</td>\n",
       "      <td>W./C. 6607</td>\n",
       "      <td>23.450</td>\n",
       "      <td>NaN</td>\n",
       "      <td>S</td>\n",
       "    </tr>\n",
       "    <tr>\n",
       "      <th>889</th>\n",
       "      <td>890</td>\n",
       "      <td>1</td>\n",
       "      <td>1</td>\n",
       "      <td>Behr, Mr. Karl Howell</td>\n",
       "      <td>male</td>\n",
       "      <td>26.0</td>\n",
       "      <td>0</td>\n",
       "      <td>0</td>\n",
       "      <td>111369</td>\n",
       "      <td>30.000</td>\n",
       "      <td>C148</td>\n",
       "      <td>C</td>\n",
       "    </tr>\n",
       "    <tr>\n",
       "      <th>890</th>\n",
       "      <td>891</td>\n",
       "      <td>0</td>\n",
       "      <td>3</td>\n",
       "      <td>Dooley, Mr. Patrick</td>\n",
       "      <td>male</td>\n",
       "      <td>32.0</td>\n",
       "      <td>0</td>\n",
       "      <td>0</td>\n",
       "      <td>370376</td>\n",
       "      <td>7.750</td>\n",
       "      <td>NaN</td>\n",
       "      <td>Q</td>\n",
       "    </tr>\n",
       "  </tbody>\n",
       "</table>\n",
       "</div>"
      ],
      "text/plain": [
       "     PassengerId  Survived  Pclass                                      Name  \\\n",
       "885          886         0       3      Rice, Mrs. William (Margaret Norton)   \n",
       "886          887         0       2                     Montvila, Rev. Juozas   \n",
       "887          888         1       1              Graham, Miss. Margaret Edith   \n",
       "888          889         0       3  Johnston, Miss. Catherine Helen \"Carrie\"   \n",
       "889          890         1       1                     Behr, Mr. Karl Howell   \n",
       "890          891         0       3                       Dooley, Mr. Patrick   \n",
       "\n",
       "        Sex   Age  SibSp  Parch      Ticket    Fare Cabin Embarked  \n",
       "885  female  39.0      0      5      382652  29.125   NaN        Q  \n",
       "886    male  27.0      0      0      211536  13.000   NaN        S  \n",
       "887  female  19.0      0      0      112053  30.000   B42        S  \n",
       "888  female   NaN      1      2  W./C. 6607  23.450   NaN        S  \n",
       "889    male  26.0      0      0      111369  30.000  C148        C  \n",
       "890    male  32.0      0      0      370376   7.750   NaN        Q  "
      ]
     },
     "execution_count": 11,
     "metadata": {},
     "output_type": "execute_result"
    }
   ],
   "source": [
    "# Check the last n rows with df.trail(n)\n",
    "titanic_train.tail(6)"
   ]
  },
  {
   "cell_type": "markdown",
   "id": "16211173-90b0-4cfc-8b56-bd7177a54d04",
   "metadata": {},
   "source": [
    "With large datasets, head() and tail() help get a sense of the data without printing hundreds of rows. \n",
    "\n",
    "Each line represents a different passenger, so we'll set the row indexes to the passenger's name."
   ]
  },
  {
   "cell_type": "code",
   "execution_count": 12,
   "id": "69ff05bd-5460-4e06-a8da-7d69b9523ee5",
   "metadata": {},
   "outputs": [
    {
     "name": "stdout",
     "output_type": "stream",
     "text": [
      "Index(['Braund, Mr. Owen Harris',\n",
      "       'Cumings, Mrs. John Bradley (Florence Briggs Thayer)',\n",
      "       'Heikkinen, Miss. Laina',\n",
      "       'Futrelle, Mrs. Jacques Heath (Lily May Peel)',\n",
      "       'Allen, Mr. William Henry', 'Moran, Mr. James',\n",
      "       'McCarthy, Mr. Timothy J', 'Palsson, Master. Gosta Leonard',\n",
      "       'Johnson, Mrs. Oscar W (Elisabeth Vilhelmina Berg)',\n",
      "       'Nasser, Mrs. Nicholas (Adele Achem)'],\n",
      "      dtype='object', name='Name')\n"
     ]
    }
   ],
   "source": [
    "# You can assing new row indexes with df.index\n",
    "titanic_train.index = titanic_train[\"Name\"]   # Set index to name\n",
    "del titanic_train[\"Name\"]                     # Delete name column\n",
    "print(titanic_train.index[0:10])              # Print new indexes"
   ]
  },
  {
   "cell_type": "code",
   "execution_count": 15,
   "id": "d789bc3c-c8ff-4db6-911d-f1ec213dc354",
   "metadata": {},
   "outputs": [
    {
     "data": {
      "text/html": [
       "<div>\n",
       "<style scoped>\n",
       "    .dataframe tbody tr th:only-of-type {\n",
       "        vertical-align: middle;\n",
       "    }\n",
       "\n",
       "    .dataframe tbody tr th {\n",
       "        vertical-align: top;\n",
       "    }\n",
       "\n",
       "    .dataframe thead th {\n",
       "        text-align: right;\n",
       "    }\n",
       "</style>\n",
       "<table border=\"1\" class=\"dataframe\">\n",
       "  <thead>\n",
       "    <tr style=\"text-align: right;\">\n",
       "      <th></th>\n",
       "      <th>PassengerId</th>\n",
       "      <th>Survived</th>\n",
       "      <th>Pclass</th>\n",
       "      <th>Sex</th>\n",
       "      <th>Age</th>\n",
       "      <th>SibSp</th>\n",
       "      <th>Parch</th>\n",
       "      <th>Ticket</th>\n",
       "      <th>Fare</th>\n",
       "      <th>Cabin</th>\n",
       "      <th>Embarked</th>\n",
       "    </tr>\n",
       "    <tr>\n",
       "      <th>Name</th>\n",
       "      <th></th>\n",
       "      <th></th>\n",
       "      <th></th>\n",
       "      <th></th>\n",
       "      <th></th>\n",
       "      <th></th>\n",
       "      <th></th>\n",
       "      <th></th>\n",
       "      <th></th>\n",
       "      <th></th>\n",
       "      <th></th>\n",
       "    </tr>\n",
       "  </thead>\n",
       "  <tbody>\n",
       "    <tr>\n",
       "      <th>Braund, Mr. Owen Harris</th>\n",
       "      <td>1</td>\n",
       "      <td>0</td>\n",
       "      <td>3</td>\n",
       "      <td>male</td>\n",
       "      <td>22.0</td>\n",
       "      <td>1</td>\n",
       "      <td>0</td>\n",
       "      <td>A/5 21171</td>\n",
       "      <td>7.2500</td>\n",
       "      <td>NaN</td>\n",
       "      <td>S</td>\n",
       "    </tr>\n",
       "    <tr>\n",
       "      <th>Cumings, Mrs. John Bradley (Florence Briggs Thayer)</th>\n",
       "      <td>2</td>\n",
       "      <td>1</td>\n",
       "      <td>1</td>\n",
       "      <td>female</td>\n",
       "      <td>38.0</td>\n",
       "      <td>1</td>\n",
       "      <td>0</td>\n",
       "      <td>PC 17599</td>\n",
       "      <td>71.2833</td>\n",
       "      <td>C85</td>\n",
       "      <td>C</td>\n",
       "    </tr>\n",
       "  </tbody>\n",
       "</table>\n",
       "</div>"
      ],
      "text/plain": [
       "                                                    PassengerId  Survived  \\\n",
       "Name                                                                        \n",
       "Braund, Mr. Owen Harris                                       1         0   \n",
       "Cumings, Mrs. John Bradley (Florence Briggs Tha...            2         1   \n",
       "\n",
       "                                                    Pclass     Sex   Age  \\\n",
       "Name                                                                       \n",
       "Braund, Mr. Owen Harris                                  3    male  22.0   \n",
       "Cumings, Mrs. John Bradley (Florence Briggs Tha...       1  female  38.0   \n",
       "\n",
       "                                                    SibSp  Parch     Ticket  \\\n",
       "Name                                                                          \n",
       "Braund, Mr. Owen Harris                                 1      0  A/5 21171   \n",
       "Cumings, Mrs. John Bradley (Florence Briggs Tha...      1      0   PC 17599   \n",
       "\n",
       "                                                       Fare Cabin Embarked  \n",
       "Name                                                                        \n",
       "Braund, Mr. Owen Harris                              7.2500   NaN        S  \n",
       "Cumings, Mrs. John Bradley (Florence Briggs Tha...  71.2833   C85        C  "
      ]
     },
     "execution_count": 15,
     "metadata": {},
     "output_type": "execute_result"
    }
   ],
   "source": [
    "titanic_train.head(2)"
   ]
  },
  {
   "cell_type": "code",
   "execution_count": 13,
   "id": "481adb40-c1f2-46b9-bfa3-533096410bf2",
   "metadata": {},
   "outputs": [
    {
     "data": {
      "text/plain": [
       "Index(['PassengerId', 'Survived', 'Pclass', 'Sex', 'Age', 'SibSp', 'Parch',\n",
       "       'Ticket', 'Fare', 'Cabin', 'Embarked'],\n",
       "      dtype='object')"
      ]
     },
     "execution_count": 13,
     "metadata": {},
     "output_type": "execute_result"
    }
   ],
   "source": [
    "# Access the column labels with df.columns\n",
    "titanic_train.columns"
   ]
  },
  {
   "cell_type": "code",
   "execution_count": 17,
   "id": "67665a8d-d3d9-47f8-a5ea-ae620d801523",
   "metadata": {},
   "outputs": [
    {
     "data": {
      "text/html": [
       "<div>\n",
       "<style scoped>\n",
       "    .dataframe tbody tr th:only-of-type {\n",
       "        vertical-align: middle;\n",
       "    }\n",
       "\n",
       "    .dataframe tbody tr th {\n",
       "        vertical-align: top;\n",
       "    }\n",
       "\n",
       "    .dataframe thead th {\n",
       "        text-align: right;\n",
       "    }\n",
       "</style>\n",
       "<table border=\"1\" class=\"dataframe\">\n",
       "  <thead>\n",
       "    <tr style=\"text-align: right;\">\n",
       "      <th></th>\n",
       "      <th>PassengerId</th>\n",
       "      <th>Survived</th>\n",
       "      <th>Pclass</th>\n",
       "      <th>Age</th>\n",
       "      <th>SibSp</th>\n",
       "      <th>Parch</th>\n",
       "      <th>Fare</th>\n",
       "    </tr>\n",
       "  </thead>\n",
       "  <tbody>\n",
       "    <tr>\n",
       "      <th>count</th>\n",
       "      <td>891.000000</td>\n",
       "      <td>891.000000</td>\n",
       "      <td>891.000000</td>\n",
       "      <td>714.000000</td>\n",
       "      <td>891.000000</td>\n",
       "      <td>891.000000</td>\n",
       "      <td>891.000000</td>\n",
       "    </tr>\n",
       "    <tr>\n",
       "      <th>mean</th>\n",
       "      <td>446.000000</td>\n",
       "      <td>0.383838</td>\n",
       "      <td>2.308642</td>\n",
       "      <td>29.699118</td>\n",
       "      <td>0.523008</td>\n",
       "      <td>0.381594</td>\n",
       "      <td>32.204208</td>\n",
       "    </tr>\n",
       "    <tr>\n",
       "      <th>std</th>\n",
       "      <td>257.353842</td>\n",
       "      <td>0.486592</td>\n",
       "      <td>0.836071</td>\n",
       "      <td>14.526497</td>\n",
       "      <td>1.102743</td>\n",
       "      <td>0.806057</td>\n",
       "      <td>49.693429</td>\n",
       "    </tr>\n",
       "    <tr>\n",
       "      <th>min</th>\n",
       "      <td>1.000000</td>\n",
       "      <td>0.000000</td>\n",
       "      <td>1.000000</td>\n",
       "      <td>0.420000</td>\n",
       "      <td>0.000000</td>\n",
       "      <td>0.000000</td>\n",
       "      <td>0.000000</td>\n",
       "    </tr>\n",
       "    <tr>\n",
       "      <th>25%</th>\n",
       "      <td>223.500000</td>\n",
       "      <td>0.000000</td>\n",
       "      <td>2.000000</td>\n",
       "      <td>20.125000</td>\n",
       "      <td>0.000000</td>\n",
       "      <td>0.000000</td>\n",
       "      <td>7.910400</td>\n",
       "    </tr>\n",
       "    <tr>\n",
       "      <th>50%</th>\n",
       "      <td>446.000000</td>\n",
       "      <td>0.000000</td>\n",
       "      <td>3.000000</td>\n",
       "      <td>28.000000</td>\n",
       "      <td>0.000000</td>\n",
       "      <td>0.000000</td>\n",
       "      <td>14.454200</td>\n",
       "    </tr>\n",
       "    <tr>\n",
       "      <th>75%</th>\n",
       "      <td>668.500000</td>\n",
       "      <td>1.000000</td>\n",
       "      <td>3.000000</td>\n",
       "      <td>38.000000</td>\n",
       "      <td>1.000000</td>\n",
       "      <td>0.000000</td>\n",
       "      <td>31.000000</td>\n",
       "    </tr>\n",
       "    <tr>\n",
       "      <th>max</th>\n",
       "      <td>891.000000</td>\n",
       "      <td>1.000000</td>\n",
       "      <td>3.000000</td>\n",
       "      <td>80.000000</td>\n",
       "      <td>8.000000</td>\n",
       "      <td>6.000000</td>\n",
       "      <td>512.329200</td>\n",
       "    </tr>\n",
       "  </tbody>\n",
       "</table>\n",
       "</div>"
      ],
      "text/plain": [
       "       PassengerId    Survived      Pclass         Age       SibSp  \\\n",
       "count   891.000000  891.000000  891.000000  714.000000  891.000000   \n",
       "mean    446.000000    0.383838    2.308642   29.699118    0.523008   \n",
       "std     257.353842    0.486592    0.836071   14.526497    1.102743   \n",
       "min       1.000000    0.000000    1.000000    0.420000    0.000000   \n",
       "25%     223.500000    0.000000    2.000000   20.125000    0.000000   \n",
       "50%     446.000000    0.000000    3.000000   28.000000    0.000000   \n",
       "75%     668.500000    1.000000    3.000000   38.000000    1.000000   \n",
       "max     891.000000    1.000000    3.000000   80.000000    8.000000   \n",
       "\n",
       "            Parch        Fare  \n",
       "count  891.000000  891.000000  \n",
       "mean     0.381594   32.204208  \n",
       "std      0.806057   49.693429  \n",
       "min      0.000000    0.000000  \n",
       "25%      0.000000    7.910400  \n",
       "50%      0.000000   14.454200  \n",
       "75%      0.000000   31.000000  \n",
       "max      6.000000  512.329200  "
      ]
     },
     "execution_count": 17,
     "metadata": {},
     "output_type": "execute_result"
    }
   ],
   "source": [
    "# Get a quick statistical summary of the data set with df.describe()\n",
    "titanic_train.describe()  # Summarize the first 6 columns  "
   ]
  },
  {
   "cell_type": "code",
   "execution_count": 18,
   "id": "1a66b332-e615-4777-9012-d3dfc8f1392b",
   "metadata": {},
   "outputs": [
    {
     "data": {
      "text/plain": [
       "PassengerId    446.000000\n",
       "Survived         0.383838\n",
       "Pclass           2.308642\n",
       "Age             29.699118\n",
       "SibSp            0.523008\n",
       "Parch            0.381594\n",
       "Fare            32.204208\n",
       "dtype: float64"
      ]
     },
     "execution_count": 18,
     "metadata": {},
     "output_type": "execute_result"
    }
   ],
   "source": [
    "np.mean(titanic_train, \n",
    "        axis = 0)      # Get the mean of each numeric column"
   ]
  },
  {
   "cell_type": "code",
   "execution_count": 19,
   "id": "c39a9df2-1528-4875-994a-59ae87944492",
   "metadata": {},
   "outputs": [
    {
     "name": "stdout",
     "output_type": "stream",
     "text": [
      "<class 'pandas.core.frame.DataFrame'>\n",
      "Index: 891 entries, Braund, Mr. Owen Harris to Dooley, Mr. Patrick\n",
      "Data columns (total 11 columns):\n",
      " #   Column       Non-Null Count  Dtype  \n",
      "---  ------       --------------  -----  \n",
      " 0   PassengerId  891 non-null    int64  \n",
      " 1   Survived     891 non-null    int64  \n",
      " 2   Pclass       891 non-null    int64  \n",
      " 3   Sex          891 non-null    object \n",
      " 4   Age          714 non-null    float64\n",
      " 5   SibSp        891 non-null    int64  \n",
      " 6   Parch        891 non-null    int64  \n",
      " 7   Ticket       891 non-null    object \n",
      " 8   Fare         891 non-null    float64\n",
      " 9   Cabin        204 non-null    object \n",
      " 10  Embarked     889 non-null    object \n",
      "dtypes: float64(2), int64(5), object(4)\n",
      "memory usage: 83.5+ KB\n"
     ]
    }
   ],
   "source": [
    "# Get an overview of the overall structure of a DataFrame with the df.info()\n",
    "titanic_train.info()"
   ]
  },
  {
   "cell_type": "markdown",
   "id": "395faec4-f259-4f41-85bb-9c73842d3339",
   "metadata": {},
   "source": [
    "## 10. Reading and writing data\n",
    "Reading data into dataframes is the first step when conducting data analysis in Python."
   ]
  },
  {
   "cell_type": "markdown",
   "id": "e9b26d65-3596-4734-bf03-1898422094c2",
   "metadata": {},
   "source": [
    "### Python Working Directory and File Paths\n",
    "When you launch Python it starts in a default location in your computer's file system, know as the **working directory**. You can check your current working directory by importing the os module and then using os.getcwd()"
   ]
  },
  {
   "cell_type": "code",
   "execution_count": 20,
   "id": "5ff5add1-3b97-47e4-b0a6-6277b2b5be80",
   "metadata": {},
   "outputs": [
    {
     "data": {
      "text/plain": [
       "'C:\\\\Users\\\\Micaela Rodriguez\\\\Documents\\\\GitHub\\\\PythonForDataAnalysis'"
      ]
     },
     "execution_count": 20,
     "metadata": {},
     "output_type": "execute_result"
    }
   ],
   "source": [
    "# Get current directory\n",
    "import os\n",
    "os.getcwd()"
   ]
  },
  {
   "cell_type": "markdown",
   "id": "a0aefca8-44d0-4b15-9896-888c73231917",
   "metadata": {},
   "source": [
    "The working directory acts as your starting point for accessing files on your computer from within Python. To load a dataset, you either need to put the file in your working directory, change your working directory to the folder containing the data or supply the data file's file path to the data reading function.  "
   ]
  },
  {
   "cell_type": "code",
   "execution_count": 21,
   "id": "26b65ac0-2858-4c8c-b845-b377ba809f69",
   "metadata": {},
   "outputs": [
    {
     "data": {
      "text/plain": [
       "'C:\\\\Users\\\\Micaela Rodriguez\\\\Documents\\\\GitHub'"
      ]
     },
     "execution_count": 21,
     "metadata": {},
     "output_type": "execute_result"
    }
   ],
   "source": [
    "# Change your working directory by supplying a new file path in quotes to the os.chdir()\n",
    "os.chdir(\"C:\\\\Users\\\\Micaela Rodriguez\\\\Documents\\\\GitHub\")\n",
    "os.getcwd()    # Check the working directory again"
   ]
  },
  {
   "cell_type": "code",
   "execution_count": 22,
   "id": "7ad2020b-daf8-4385-8637-1081e6ebdec6",
   "metadata": {},
   "outputs": [
    {
     "data": {
      "text/plain": [
       "'C:\\\\Users\\\\Micaela Rodriguez\\\\Documents\\\\GitHub\\\\PythonForDataAnalysis'"
      ]
     },
     "execution_count": 22,
     "metadata": {},
     "output_type": "execute_result"
    }
   ],
   "source": [
    "# Change back to original directory\n",
    "os.chdir(\"C:\\\\Users\\\\Micaela Rodriguez\\\\Documents\\\\GitHub\\\\PythonForDataAnalysis\")\n",
    "os.getcwd()    # Check the working directory again"
   ]
  },
  {
   "cell_type": "markdown",
   "id": "8f7dd5fb-6297-4e76-a0b2-0c3aafaf254c",
   "metadata": {},
   "source": [
    "## Reading CSV and TSV files\n",
    "Data is commonly stored in CSV (comma separated files) and TSV (tab separated files).\n",
    "\n",
    "* CSV:\n",
    "\n",
    "You can read CSV files with the pd.read_csv() function.\n",
    "\n",
    "* TSV:\n",
    "\n",
    "You can load a TSV file with the pd.read_table() function, which is a general file reading algorithm that reads TSV files by default, by you can it it to read flat text files separated by any delimiting character by setting the \"sep\" argument to a different character. More options here: https://pandas.pydata.org/pandas-docs/stable/reference/api/pandas.read_table.html"
   ]
  },
  {
   "cell_type": "markdown",
   "id": "3f689967-7a8d-4f24-af51-43e353315d7b",
   "metadata": {},
   "source": [
    "### Reading Excel files\n",
    "Pandas is capable of loading data directly from Excel file formats. \n",
    "To load data from Excel you can use the \"xlrd\" module that comes with the Anaconda distribution."
   ]
  },
  {
   "cell_type": "code",
   "execution_count": 31,
   "id": "312ff23e-0af9-4a06-a8ac-99d79dff1e28",
   "metadata": {},
   "outputs": [
    {
     "data": {
      "text/html": [
       "<div>\n",
       "<style scoped>\n",
       "    .dataframe tbody tr th:only-of-type {\n",
       "        vertical-align: middle;\n",
       "    }\n",
       "\n",
       "    .dataframe tbody tr th {\n",
       "        vertical-align: top;\n",
       "    }\n",
       "\n",
       "    .dataframe thead th {\n",
       "        text-align: right;\n",
       "    }\n",
       "</style>\n",
       "<table border=\"1\" class=\"dataframe\">\n",
       "  <thead>\n",
       "    <tr style=\"text-align: right;\">\n",
       "      <th></th>\n",
       "      <th>Program</th>\n",
       "      <th>University</th>\n",
       "      <th>City</th>\n",
       "      <th>Total tuition (USD)</th>\n",
       "      <th>Application fee</th>\n",
       "      <th>Dorm cost per month</th>\n",
       "      <th>Language</th>\n",
       "      <th>Duration</th>\n",
       "      <th>Admission requirements</th>\n",
       "      <th>Undergraduate GPA</th>\n",
       "      <th>TOEFL iBT</th>\n",
       "      <th>Recommendation letters</th>\n",
       "      <th>Website</th>\n",
       "    </tr>\n",
       "  </thead>\n",
       "  <tbody>\n",
       "    <tr>\n",
       "      <th>0</th>\n",
       "      <td>MA Statistics</td>\n",
       "      <td>University of Haifa</td>\n",
       "      <td>Haifa</td>\n",
       "      <td>11339</td>\n",
       "      <td>140</td>\n",
       "      <td>465</td>\n",
       "      <td>English</td>\n",
       "      <td>1 year (non thesis)</td>\n",
       "      <td>2 recommendation letters, personal statement, ...</td>\n",
       "      <td>0.80</td>\n",
       "      <td>89</td>\n",
       "      <td>2.0</td>\n",
       "      <td>https://uhaifa.org/academics/graduate-programs...</td>\n",
       "    </tr>\n",
       "    <tr>\n",
       "      <th>1</th>\n",
       "      <td>MA Human Computer Interaction</td>\n",
       "      <td>Reichman University</td>\n",
       "      <td>Hertzliya</td>\n",
       "      <td>22000</td>\n",
       "      <td>95 (application) and 2500 down payment</td>\n",
       "      <td>880 USD single / 680 USD roomie (without elect...</td>\n",
       "      <td>English</td>\n",
       "      <td>1 year (non thesis)</td>\n",
       "      <td>Interview on skype or person</td>\n",
       "      <td>0.85</td>\n",
       "      <td>NaN</td>\n",
       "      <td>2.0</td>\n",
       "      <td>https://www.idc.ac.il/en/schools/rris/graduate...</td>\n",
       "    </tr>\n",
       "    <tr>\n",
       "      <th>2</th>\n",
       "      <td>MSc Machine Learning &amp; Data Science</td>\n",
       "      <td>Reichman University</td>\n",
       "      <td>Hertzliya</td>\n",
       "      <td>22000</td>\n",
       "      <td>100 (application) and 2500 down payment</td>\n",
       "      <td>880 USD single / 680 USD roomie (without elect...</td>\n",
       "      <td>English</td>\n",
       "      <td>2 years</td>\n",
       "      <td>Interview on skype or person</td>\n",
       "      <td>0.85</td>\n",
       "      <td>NaN</td>\n",
       "      <td>NaN</td>\n",
       "      <td>https://www.idc.ac.il/en/schools/rris/graduate...</td>\n",
       "    </tr>\n",
       "    <tr>\n",
       "      <th>3</th>\n",
       "      <td>Msc in Industrial Engineering (Operations &amp; Lo...</td>\n",
       "      <td>Tel Aviv University</td>\n",
       "      <td>Tel Aviv</td>\n",
       "      <td>5500 USD per year</td>\n",
       "      <td>100</td>\n",
       "      <td>600 - 800 USD</td>\n",
       "      <td>English</td>\n",
       "      <td>2 years (it depends)</td>\n",
       "      <td>Class ranking</td>\n",
       "      <td>0.80</td>\n",
       "      <td>79 (B2)</td>\n",
       "      <td>NaN</td>\n",
       "      <td>https://en-engineering.tau.ac.il/industrial/ms...</td>\n",
       "    </tr>\n",
       "    <tr>\n",
       "      <th>4</th>\n",
       "      <td>Certificate of completion of Y-DATA program</td>\n",
       "      <td>Yandex School of Data Science</td>\n",
       "      <td>Tel Aviv</td>\n",
       "      <td>9000</td>\n",
       "      <td>NaN</td>\n",
       "      <td>NaN</td>\n",
       "      <td>English</td>\n",
       "      <td>1 year (non thesis)</td>\n",
       "      <td>Online test of programming skills, interview</td>\n",
       "      <td>NaN</td>\n",
       "      <td>NaN</td>\n",
       "      <td>NaN</td>\n",
       "      <td>https://yandexdataschool.com/israel/</td>\n",
       "    </tr>\n",
       "  </tbody>\n",
       "</table>\n",
       "</div>"
      ],
      "text/plain": [
       "                                             Program  \\\n",
       "0                                      MA Statistics   \n",
       "1                      MA Human Computer Interaction   \n",
       "2                MSc Machine Learning & Data Science   \n",
       "3  Msc in Industrial Engineering (Operations & Lo...   \n",
       "4        Certificate of completion of Y-DATA program   \n",
       "\n",
       "                      University       City Total tuition (USD)  \\\n",
       "0            University of Haifa      Haifa               11339   \n",
       "1            Reichman University  Hertzliya               22000   \n",
       "2            Reichman University  Hertzliya               22000   \n",
       "3            Tel Aviv University   Tel Aviv   5500 USD per year   \n",
       "4  Yandex School of Data Science   Tel Aviv                9000   \n",
       "\n",
       "                           Application fee  \\\n",
       "0                                      140   \n",
       "1   95 (application) and 2500 down payment   \n",
       "2  100 (application) and 2500 down payment   \n",
       "3                                      100   \n",
       "4                                      NaN   \n",
       "\n",
       "                                 Dorm cost per month Language  \\\n",
       "0                                                465  English   \n",
       "1  880 USD single / 680 USD roomie (without elect...  English   \n",
       "2  880 USD single / 680 USD roomie (without elect...  English   \n",
       "3                                      600 - 800 USD  English   \n",
       "4                                                NaN  English   \n",
       "\n",
       "               Duration                             Admission requirements  \\\n",
       "0   1 year (non thesis)  2 recommendation letters, personal statement, ...   \n",
       "1   1 year (non thesis)                       Interview on skype or person   \n",
       "2               2 years                       Interview on skype or person   \n",
       "3  2 years (it depends)                                      Class ranking   \n",
       "4   1 year (non thesis)       Online test of programming skills, interview   \n",
       "\n",
       "   Undergraduate GPA TOEFL iBT  Recommendation letters  \\\n",
       "0               0.80        89                     2.0   \n",
       "1               0.85       NaN                     2.0   \n",
       "2               0.85       NaN                     NaN   \n",
       "3               0.80   79 (B2)                     NaN   \n",
       "4                NaN       NaN                     NaN   \n",
       "\n",
       "                                             Website  \n",
       "0  https://uhaifa.org/academics/graduate-programs...  \n",
       "1  https://www.idc.ac.il/en/schools/rris/graduate...  \n",
       "2  https://www.idc.ac.il/en/schools/rris/graduate...  \n",
       "3  https://en-engineering.tau.ac.il/industrial/ms...  \n",
       "4               https://yandexdataschool.com/israel/  "
      ]
     },
     "execution_count": 31,
     "metadata": {},
     "output_type": "execute_result"
    }
   ],
   "source": [
    "# Load data from an Excel file to a dataframe with pd.read_excel() supplying the file path and the name of the worksheet\n",
    "draft = pd.read_excel(\"C://Users//Micaela Rodriguez//Documents//Alia//Documentos Alia//Master//Costos.xlsx\",\n",
    "                     sheet_name = \"Hoja1\")  # Add name of the sheet\n",
    "draft.head(6)"
   ]
  },
  {
   "cell_type": "markdown",
   "id": "3427567b-74b0-4b66-bd5c-2252d4740b40",
   "metadata": {},
   "source": [
    "### Reading Web data\n",
    "Pandas comes with a read_html() function to read data directly from web pages. However, to use this function you need the HTML5lib package. Install it by opening a command console and running \"pip install HTLM5lib\" (without quotes). Note that HTML can have all sorts of nested structures and formatting quirks, which makes parsing it to extract data troublesome. The read_html() function does its best to draw out tabular data in web pages, but the results aren't always perfect."
   ]
  },
  {
   "cell_type": "markdown",
   "id": "4bdf03b5-806b-4b4d-ba82-754edac5889e",
   "metadata": {},
   "source": [
    "### Writing Data\n",
    "Each reading function in pandas has a corresponding writer function that lets you write data back into the format it came from. Recommendation is to save the data in a CSV format."
   ]
  },
  {
   "cell_type": "code",
   "execution_count": 32,
   "id": "054ae654-b29d-429d-b3f8-325ba128b614",
   "metadata": {},
   "outputs": [
    {
     "data": {
      "text/plain": [
       "['bar-ilan-university_en.pdf',\n",
       " 'Cartas recomendación',\n",
       " 'Costos.xlsx',\n",
       " 'Expediente académico.xlsx',\n",
       " 'IDC Herzliya',\n",
       " 'ITC',\n",
       " 'MA Statistics - University of Haifa',\n",
       " 'Preguntas Sojnut.docx',\n",
       " 'sample-recommendation-letter.pdf',\n",
       " 'TAU',\n",
       " 'Tel_Aviv_Adobe.jpg',\n",
       " 'TOEFL']"
      ]
     },
     "execution_count": 32,
     "metadata": {},
     "output_type": "execute_result"
    }
   ],
   "source": [
    "# Write a dataframe to CSV in the working directory by passing the desired file name to the df.to_csv()\n",
    "draft.to_csv(\"draft_saved.csv\")\n",
    "os.listdir(\"C://Users//Micaela Rodriguez//Documents//Alia//Documentos Alia//Master\")"
   ]
  },
  {
   "cell_type": "markdown",
   "id": "b78886c1-8354-4d2f-aa5d-2a99b95bd3ee",
   "metadata": {},
   "source": [
    "## 11. Control Flow\n",
    "When running code, each statement is executed in the order in which they appear. **Control flow statements let you alter the order in which code executes.**"
   ]
  },
  {
   "cell_type": "markdown",
   "id": "81c2720c-d2d3-4898-beae-ef1e74a8a6e2",
   "metadata": {},
   "source": [
    "### If, Else and Elif\n",
    "* **If**: Checks wether some logical expression evaluates to true or false and then executes a code block if the expression is true. They are accompanied by else statements.\n",
    "* **Else**: Come after if statements and execute code in the event that logical expression checked by an if statement is false.\n",
    "* **Elif**: Else if. Performs an additional logical check and executes its code if the check is true."
   ]
  },
  {
   "cell_type": "code",
   "execution_count": 1,
   "id": "be12220d-ecb4-47f2-9fe6-45ed1cf7bc61",
   "metadata": {},
   "outputs": [
    {
     "name": "stdout",
     "output_type": "stream",
     "text": [
      "y is greater than x\n"
     ]
    }
   ],
   "source": [
    "y = 25\n",
    "x = 10\n",
    "if x > y :\n",
    "    print(\"x is greater than y\")\n",
    "else: \n",
    "    print(\"y is greater than x\")"
   ]
  },
  {
   "cell_type": "code",
   "execution_count": 2,
   "id": "d035dd8e-afa9-40a6-aa25-1b555ce56e92",
   "metadata": {},
   "outputs": [
    {
     "name": "stdout",
     "output_type": "stream",
     "text": [
      "x and y are equal\n"
     ]
    }
   ],
   "source": [
    "y = 10\n",
    "if x > y :\n",
    "    print(\"x is greater than y\")\n",
    "elif x == y :\n",
    "    print(\"x and y are equal\")\n",
    "else :\n",
    "    print(\"y is greater than x\")"
   ]
  },
  {
   "cell_type": "markdown",
   "id": "608f4742-7082-465b-9814-2747f9a18601",
   "metadata": {},
   "source": [
    "### For loops\n",
    "Programming construct that lets you go through each item in a sequence and then perform some operation on each one. For loops execute their contents, at most, a number of iterations equal to the length of the sequence you are looping over. "
   ]
  },
  {
   "cell_type": "code",
   "execution_count": 5,
   "id": "0ebfdd94-22a5-46c7-9fdf-e40e27dff1ce",
   "metadata": {},
   "outputs": [
    {
     "name": "stdout",
     "output_type": "stream",
     "text": [
      "50\n",
      "60\n",
      "70\n",
      "80\n",
      "90\n",
      "100\n"
     ]
    }
   ],
   "source": [
    "# The continue key word causes a for loop to skip the current iteration and go to the next one:\n",
    "for number in my_sequence :\n",
    "    if number < 50 :\n",
    "        continue              # Skip numbers less than 50\n",
    "    print(number)"
   ]
  },
  {
   "cell_type": "code",
   "execution_count": 7,
   "id": "94d50edc-7a38-47d1-95bf-68b0f7c01506",
   "metadata": {},
   "outputs": [
    {
     "name": "stdout",
     "output_type": "stream",
     "text": [
      "0\n",
      "10\n",
      "20\n",
      "30\n",
      "40\n",
      "50\n"
     ]
    }
   ],
   "source": [
    "# The break keyword halts the execution of a for loop entirely. Use break to \"break out\" of a for loop.\n",
    "# It is best to break out of loops early if possible to reduce execution time.\n",
    "for number in my_sequence :\n",
    "    if number > 50 :\n",
    "        break                 # Break out of the for loop if number > 50\n",
    "    print(number)"
   ]
  },
  {
   "cell_type": "markdown",
   "id": "70296be1-b862-46c4-b1cf-2e97f642e5a0",
   "metadata": {},
   "source": [
    "### While loops\n",
    "They allow to execute code over and over again. While loops keep executing their contents as long as a logical expression you supply remains true.\n",
    "\n",
    "It is important to provide a way to break out of the while loop or it will run forever.\n",
    "\n",
    "While loops should be reserved for cases where you don't know how many times you will need to execute a loop."
   ]
  },
  {
   "cell_type": "code",
   "execution_count": 11,
   "id": "d70b3408-9ba7-45fe-ab08-d249b11569d6",
   "metadata": {},
   "outputs": [
    {
     "name": "stdout",
     "output_type": "stream",
     "text": [
      "Study\n",
      "Study\n",
      "Study\n",
      "Study\n",
      "Study\n"
     ]
    }
   ],
   "source": [
    "x = 5\n",
    "iters = 0\n",
    "\n",
    "while iters < x :        # Execute the contents as long as iters < x\n",
    "    print(\"Study\")\n",
    "    iters = iters + 1      # Increment iters by 1 each time the loop executes"
   ]
  },
  {
   "cell_type": "code",
   "execution_count": 12,
   "id": "b6a24b73-b932-4fb8-990a-2ab9cf51f71c",
   "metadata": {},
   "outputs": [
    {
     "name": "stdout",
     "output_type": "stream",
     "text": [
      "Study!\n"
     ]
    }
   ],
   "source": [
    "while True:        # True is always true!\n",
    "    print(\"Study!\")\n",
    "    break          # But we break out of the loop here"
   ]
  },
  {
   "cell_type": "markdown",
   "id": "d5a217f5-3f44-4c97-9c75-d276dc77d68f",
   "metadata": {},
   "source": [
    "### The np.where() function\n",
    "When you want to perform the same operation to each object in a numpy or pandas data structure."
   ]
  },
  {
   "cell_type": "code",
   "execution_count": 14,
   "id": "77cb050b-100f-4f68-813e-26ed195d5a67",
   "metadata": {},
   "outputs": [
    {
     "name": "stdout",
     "output_type": "stream",
     "text": [
      "[0.64369151 0.63229363 0.96965457 0.         0.37463731 0.\n",
      " 0.05840826 0.         0.         0.53593743 0.         0.\n",
      " 0.         0.37507229 0.57790315 0.94994099 0.12102382 0.32119269\n",
      " 0.8061548  0.         0.         0.19777092 0.         0.\n",
      " 0.        ]\n"
     ]
    }
   ],
   "source": [
    "import numpy as np\n",
    "# Draw 25 random numbers from -1 to 1\n",
    "\n",
    "my_data = np.random.uniform(-1,1,25)\n",
    "\n",
    "for index, number in enumerate(my_data) :\n",
    "    if number < 0:\n",
    "        my_data[index] = 0     # Sets numbers less than 0 to 0\n",
    "print(my_data)"
   ]
  },
  {
   "cell_type": "markdown",
   "id": "1d13efa0-22c4-4d3e-bbb5-ec0ab7ede34a",
   "metadata": {},
   "source": [
    "Enumerate takes a sequence and turns it into a sequence of (index,value) tuples. Enumerate() lets you loop over the items in a sequence while also having access the item's index. "
   ]
  },
  {
   "cell_type": "code",
   "execution_count": 16,
   "id": "0bbf2894-41c9-4a70-8f10-0db6ba89a665",
   "metadata": {},
   "outputs": [
    {
     "name": "stdout",
     "output_type": "stream",
     "text": [
      "[0.         0.55424429 0.         0.29525008 0.         0.\n",
      " 0.         0.03563538 0.         0.         0.09606753 0.80310516\n",
      " 0.         0.         0.         0.         0.         0.05605358\n",
      " 0.         0.81305239 0.95402976 0.         0.97868369 0.\n",
      " 0.        ]\n"
     ]
    }
   ],
   "source": [
    "# The np.where() function lets you perform an if/else check on a sequence with less code:\n",
    "# np.where() is more efficient than a foor loop\n",
    "\n",
    "my_data = np.random.uniform(-1,1,25)   # Generate new random numbers\n",
    "\n",
    "my_data = np.where(my_data < 0,        # Logical test\n",
    "                   0,                  # Value to set if the test is true\n",
    "                   my_data)            # Value to set if the test is false\n",
    "print(my_data)"
   ]
  },
  {
   "cell_type": "markdown",
   "id": "f9c0bd61-0a8e-4b72-b2d2-968905a7dbab",
   "metadata": {},
   "source": [
    "## 12. Functions"
   ]
  },
  {
   "cell_type": "markdown",
   "id": "5f74b649-5d16-4df2-a493-d3532b397e2c",
   "metadata": {},
   "source": [
    "### Defining functions\n",
    "Define a function using the \"def\" keyword followed by the function's name, a tuple of function arguments and then a colon. After defining a function, you can call it using the name you assigned to it.\n",
    "\n",
    "The \"return\" keyword specifies what the function produces as its output. When a function reaches a return statement, it immediately exits and returns the specified value. "
   ]
  },
  {
   "cell_type": "code",
   "execution_count": 2,
   "id": "d3af7605-8171-47f6-9572-1b68ad80fc94",
   "metadata": {},
   "outputs": [],
   "source": [
    "def my_function(arg1,arg2):     # Defines a new function\n",
    "    return arg1 + arg2         # Function body"
   ]
  },
  {
   "cell_type": "code",
   "execution_count": 3,
   "id": "347cf508-68ad-4d7f-9dc5-be46ac864028",
   "metadata": {},
   "outputs": [
    {
     "data": {
      "text/plain": [
       "15"
      ]
     },
     "execution_count": 3,
     "metadata": {},
     "output_type": "execute_result"
    }
   ],
   "source": [
    "my_function(5,10)"
   ]
  },
  {
   "cell_type": "code",
   "execution_count": 4,
   "id": "def876e8-2ee8-4e8d-8150-e4837e2b9dbe",
   "metadata": {},
   "outputs": [],
   "source": [
    "# Set a default value with the argument_name = argument_value syntax\n",
    "def sum_3_items(x, y, z, print_args = False):\n",
    "    if print_args:\n",
    "        print(x,y,z)\n",
    "    return x + y + z"
   ]
  },
  {
   "cell_type": "code",
   "execution_count": 5,
   "id": "8f8fa282-34af-44bb-b7fe-074ffdf8aa21",
   "metadata": {},
   "outputs": [
    {
     "data": {
      "text/plain": [
       "35"
      ]
     },
     "execution_count": 5,
     "metadata": {},
     "output_type": "execute_result"
    }
   ],
   "source": [
    "sum_3_items(5,10,20)     # By default the arguments will not be printed"
   ]
  },
  {
   "cell_type": "code",
   "execution_count": 6,
   "id": "e9c700a2-3508-4327-80dc-96545506bac4",
   "metadata": {},
   "outputs": [
    {
     "name": "stdout",
     "output_type": "stream",
     "text": [
      "5 10 20\n"
     ]
    },
    {
     "data": {
      "text/plain": [
       "35"
      ]
     },
     "execution_count": 6,
     "metadata": {},
     "output_type": "execute_result"
    }
   ],
   "source": [
    "sum_3_items(5,10,20,True)   # Changing the default prints the arguments "
   ]
  },
  {
   "cell_type": "markdown",
   "id": "f13737d2-9554-49bd-92b4-51f67950338b",
   "metadata": {},
   "source": [
    "A function can be set up to accept any number of named or unnamed arguments. Accept extra unnamed arguments by including *args* in the argument list. The unnamed arguments are accessible within the function body as a tuple.  "
   ]
  },
  {
   "cell_type": "code",
   "execution_count": 7,
   "id": "e4f784e5-f230-4562-9660-0f4353c3b870",
   "metadata": {},
   "outputs": [
    {
     "name": "stdout",
     "output_type": "stream",
     "text": [
      "<class 'tuple'>\n"
     ]
    },
    {
     "data": {
      "text/plain": [
       "15"
      ]
     },
     "execution_count": 7,
     "metadata": {},
     "output_type": "execute_result"
    }
   ],
   "source": [
    "def sum_many_args(*args):\n",
    "    print(type(args))\n",
    "    return (sum(args))\n",
    "\n",
    "sum_many_args(1, 2, 3, 4, 5)"
   ]
  },
  {
   "cell_type": "markdown",
   "id": "41cc5c1e-48eb-48ce-9016-82a769575024",
   "metadata": {},
   "source": [
    "Accept additional keyword arguments by putting **kwargs** in the argument list. They keyword arguments are accessible as a dictionary:"
   ]
  },
  {
   "cell_type": "code",
   "execution_count": 8,
   "id": "e235a21b-1efd-4fae-9faf-542166cc972e",
   "metadata": {},
   "outputs": [
    {
     "name": "stdout",
     "output_type": "stream",
     "text": [
      "<class 'dict'>\n"
     ]
    },
    {
     "data": {
      "text/plain": [
       "300"
      ]
     },
     "execution_count": 8,
     "metadata": {},
     "output_type": "execute_result"
    }
   ],
   "source": [
    "def sum_keywords(**kwargs):\n",
    "    print(type(kwargs))\n",
    "    return (sum(kwargs.values()))\n",
    "\n",
    "sum_keywords(mynum=100, yournum=200)"
   ]
  },
  {
   "cell_type": "markdown",
   "id": "3a8b3af5-97e4-4a5d-b9a7-8075ff74dbb7",
   "metadata": {},
   "source": [
    "### Function documentation \n",
    "It is useful to place some documentation to explain how the function works. You can include documentation below the function definition statement as a multi-line string. Documentation typically includes a short description of what the function does, a summary of the arguments and a description of the value the function returns. Documentation should provide enough information that the user doesn't have to read the code in the code in the body of the function to use the function."
   ]
  },
  {
   "cell_type": "code",
   "execution_count": 9,
   "id": "8e82174e-4314-4923-9710-db84581c3705",
   "metadata": {},
   "outputs": [],
   "source": [
    "import numpy as np\n",
    "def rmse(predicted, targets):\n",
    "    \"\"\"\"\"\n",
    "    Computers root mean squared error of two numpy ndarrays\n",
    "    Args: \n",
    "        predicted: an ndarray of predictions\n",
    "        targets: an ndarray of target values\n",
    "    Returns:\n",
    "        The root mean squared error as a float\n",
    "    \"\"\"\"\"\n",
    "    return (np.sqrt(np.mean((targets-predicted)**2)))"
   ]
  },
  {
   "cell_type": "markdown",
   "id": "e819cde8-48ad-4fd1-aa69-5ad19af8263b",
   "metadata": {},
   "source": [
    "### Lambda functions\n",
    "Named functions are great for code that you are going to reuse several times, but sometimes you only need to use a simple function once. Python provides a shorthand for creating functions that let you define unnamed (anonymous) functions named Lambda functions, which are typically used in situations where you only plan to use a function in one part of your code."
   ]
  },
  {
   "cell_type": "code",
   "execution_count": 10,
   "id": "9651024d-74ef-490a-9cce-62431954d3be",
   "metadata": {},
   "outputs": [
    {
     "data": {
      "text/plain": [
       "<function __main__.<lambda>(x, y)>"
      ]
     },
     "execution_count": 10,
     "metadata": {},
     "output_type": "execute_result"
    }
   ],
   "source": [
    "# Create a lambda function\n",
    "lambda x, y: x + y"
   ]
  },
  {
   "cell_type": "markdown",
   "id": "696aa96a-959a-4b5d-a6b5-11f4485c6450",
   "metadata": {},
   "source": [
    "\"Lambda\" is similar to \"def\". The values x and y are the arguments of the function and the code after the colon is the value that the function returns.\n",
    "\n",
    "You can assign a lambda function a variable name and use it just like a normal function."
   ]
  },
  {
   "cell_type": "code",
   "execution_count": 11,
   "id": "ef4082b6-27d1-42dc-81f2-d22345fa7ac9",
   "metadata": {},
   "outputs": [
    {
     "data": {
      "text/plain": [
       "15"
      ]
     },
     "execution_count": 11,
     "metadata": {},
     "output_type": "execute_result"
    }
   ],
   "source": [
    "my_function2 = lambda x,y: x + y\n",
    "my_function2(5,10)"
   ]
  },
  {
   "cell_type": "markdown",
   "id": "f6f3b0d6-1302-418a-ad93-e50ac5216373",
   "metadata": {},
   "source": [
    "The main purpose of a lambda function is for use in situations where you need to create an unnamed function on the fly, such as when using functions that take other functions as input."
   ]
  },
  {
   "cell_type": "code",
   "execution_count": 12,
   "id": "c59c044b-9aac-42b6-8333-6da5458891cf",
   "metadata": {},
   "outputs": [
    {
     "name": "stdout",
     "output_type": "stream",
     "text": [
      "1\n",
      "4\n",
      "9\n",
      "16\n",
      "25\n"
     ]
    }
   ],
   "source": [
    "# Example of using map() without a lambda function\n",
    "def square(x):   # Define a function\n",
    "    return x**2\n",
    "my_map = map(square, [1,2,3,4,5])   # Pass the function to map()\n",
    "\n",
    "for item in my_map:\n",
    "    print(item)"
   ]
  },
  {
   "cell_type": "code",
   "execution_count": 13,
   "id": "97c421a1-003f-466c-b7db-e7aa65e173a8",
   "metadata": {},
   "outputs": [
    {
     "name": "stdout",
     "output_type": "stream",
     "text": [
      "1\n",
      "4\n",
      "9\n",
      "16\n",
      "25\n"
     ]
    }
   ],
   "source": [
    "# Example using map() with a lambda function\n",
    "my_map = map(lambda x: x**2, [1,2,3,4,5])\n",
    "\n",
    "for item in my_map:\n",
    "    print(item)"
   ]
  },
  {
   "cell_type": "markdown",
   "id": "039a5440-3fb6-4443-9c7d-295f762c1a84",
   "metadata": {},
   "source": [
    "## 13. List Comprehensions\n",
    "List comprehensions let you populate lists in one line of code by taking the logic from a for loop and moving it inside the list brackets.\n",
    "\n",
    "Do not create convoluted one liners when a series of few shorter, more readable operations will yield the same result."
   ]
  },
  {
   "cell_type": "code",
   "execution_count": 1,
   "id": "cc169966-4fad-46fc-9129-ac95d952bab4",
   "metadata": {},
   "outputs": [
    {
     "name": "stdout",
     "output_type": "stream",
     "text": [
      "[0, 1, 2, 3, 4, 5, 6, 7, 8, 9, 10, 11, 12, 13, 14, 15, 16, 17, 18, 19, 20, 21, 22, 23, 24, 25, 26, 27, 28, 29, 30, 31, 32, 33, 34, 35, 36, 37, 38, 39, 40, 41, 42, 43, 44, 45, 46, 47, 48, 49, 50, 51, 52, 53, 54, 55, 56, 57, 58, 59, 60, 61, 62, 63, 64, 65, 66, 67, 68, 69, 70, 71, 72, 73, 74, 75, 76, 77, 78, 79, 80, 81, 82, 83, 84, 85, 86, 87, 88, 89, 90, 91, 92, 93, 94, 95, 96, 97, 98, 99, 100]\n"
     ]
    }
   ],
   "source": [
    "my_list2 = [number for number in range(0,101)]\n",
    "# range() creates a sequence of numbers from some specified starting number up to but not including an ending number\n",
    "\n",
    "print(my_list2)"
   ]
  },
  {
   "cell_type": "markdown",
   "id": "eecfbaf9-f2f5-417e-a973-05561b9e0349",
   "metadata": {},
   "source": [
    "In a list comprehension, the value that you want to append to the list comes first, in this case \"number\", followed by a for statement. You can also include if clauses after the for clause to filter the results based on some logical check. "
   ]
  },
  {
   "cell_type": "code",
   "execution_count": 2,
   "id": "3511aa8f-373c-43b7-af9a-7cb2cbecfb93",
   "metadata": {},
   "outputs": [
    {
     "name": "stdout",
     "output_type": "stream",
     "text": [
      "[0, 2, 4, 6, 8, 10, 12, 14, 16, 18, 20, 22, 24, 26, 28, 30, 32, 34, 36, 38, 40, 42, 44, 46, 48, 50, 52, 54, 56, 58, 60, 62, 64, 66, 68, 70, 72, 74, 76, 78, 80, 82, 84, 86, 88, 90, 92, 94, 96, 98, 100]\n"
     ]
    }
   ],
   "source": [
    "# Add an if statement to filter out odd numbers\n",
    "my_list3 = [number for number in range(0,101) if number % 2 == 0]\n",
    "print(my_list3)"
   ]
  },
  {
   "cell_type": "markdown",
   "id": "79a69b6f-4755-43bd-9a1b-1578faaa3d6d",
   "metadata": {},
   "source": [
    "It is possible to put more than one for loop in a list comprehension, such as to construct a list from 2 iterables."
   ]
  },
  {
   "cell_type": "code",
   "execution_count": 3,
   "id": "f8972108-e936-460e-b5aa-105a63ded7c1",
   "metadata": {},
   "outputs": [
    {
     "name": "stdout",
     "output_type": "stream",
     "text": [
      "['ls', 'lt', 'lu', 'ld', 'ly', 'is', 'it', 'iu', 'id', 'iy', 'fs', 'ft', 'fu', 'fd', 'fy', 'es', 'et', 'eu', 'ed', 'ey']\n"
     ]
    }
   ],
   "source": [
    "# Make a list of each combination of 2 letters in 2 different strings\n",
    "\n",
    "combined = [a + b for a in \"life\" for b in \"study\"]\n",
    "print(combined)"
   ]
  },
  {
   "cell_type": "code",
   "execution_count": 4,
   "id": "faca18e3-47e1-4d53-a6b4-50114f956c05",
   "metadata": {},
   "outputs": [
    {
     "name": "stdout",
     "output_type": "stream",
     "text": [
      "['s', 't', 'u', 'd', 'y', 's', 't', 'u', 'd', 'y', 's', 't', 'u', 'd', 'y', 's', 't', 'u', 'd', 'y']\n"
     ]
    }
   ],
   "source": [
    "# Nest one list comprehension inside of another\n",
    "\n",
    "nested = [letters[1] for letters in [a + b for a in \"life\" for b in \"study\"]]\n",
    "print(nested)"
   ]
  },
  {
   "cell_type": "code",
   "execution_count": 5,
   "id": "9953bebb-b421-40ea-bad4-5fd8a5f53d1a",
   "metadata": {},
   "outputs": [
    {
     "name": "stdout",
     "output_type": "stream",
     "text": [
      "['s', 't', 'u', 'd', 'y', 's', 't', 'u', 'd', 'y', 's', 't', 'u', 'd', 'y', 's', 't', 'u', 'd', 'y']\n"
     ]
    }
   ],
   "source": [
    "# Use more lines, it makes the code more readable\n",
    "combined = [a + b for a in \"life\" for b in \"study\"]\n",
    "non_nested = [letters[1] for letters in combined]\n",
    "print(non_nested)"
   ]
  },
  {
   "cell_type": "markdown",
   "id": "b8c30b7e-1232-4e77-8a6b-3327e718fcfe",
   "metadata": {},
   "source": [
    "### Dictionary comprehensions\n",
    "You can create dictionaries quickly in one line using a syntax that mirrors list comprehensions. "
   ]
  },
  {
   "cell_type": "code",
   "execution_count": 6,
   "id": "cb11560f-abd9-4265-b566-fd9a7f6aa47e",
   "metadata": {},
   "outputs": [
    {
     "name": "stdout",
     "output_type": "stream",
     "text": [
      "{'life': 4, 'is': 2, 'study': 5}\n"
     ]
    }
   ],
   "source": [
    "words = [\"life\",\"is\",\"study\"]\n",
    "\n",
    "word_length_dict = {}\n",
    "\n",
    "for word in words:\n",
    "    word_length_dict[word] = len(word)\n",
    "\n",
    "print(word_length_dict)"
   ]
  },
  {
   "cell_type": "code",
   "execution_count": 1,
   "id": "7e0532c2-c389-42be-8110-c17de5a5e9a8",
   "metadata": {},
   "outputs": [
    {
     "name": "stdout",
     "output_type": "stream",
     "text": [
      "{'life': 4, 'is': 2, 'study': 5}\n"
     ]
    }
   ],
   "source": [
    "# Create a dict using a dictionary comprehension\n",
    "words = [\"life\",\"is\",\"study\"]\n",
    "word_length_dict = {word:len(word) for word in words}\n",
    "\n",
    "print(word_length_dict)"
   ]
  },
  {
   "cell_type": "code",
   "execution_count": 2,
   "id": "fe4a9eaa-3a68-4056-b06b-3cc91c6d23f0",
   "metadata": {},
   "outputs": [
    {
     "name": "stdout",
     "output_type": "stream",
     "text": [
      "('life', 4)\n",
      "('is', 2)\n",
      "('study', 5)\n"
     ]
    }
   ],
   "source": [
    "# Pair items in two sequences using the zip() function\n",
    "\n",
    "words = [\"life\",\"is\",\"study\"]\n",
    "word_length = [4,2,5]\n",
    "\n",
    "pairs = zip(words, word_length)\n",
    "\n",
    "for item in pairs:\n",
    "    print(item)"
   ]
  },
  {
   "cell_type": "code",
   "execution_count": 3,
   "id": "3776c0c7-b745-48a6-8c40-073bb0cbadf5",
   "metadata": {},
   "outputs": [
    {
     "name": "stdout",
     "output_type": "stream",
     "text": [
      "{'life': 4, 'is': 2, 'study': 5}\n"
     ]
    }
   ],
   "source": [
    "# Use zip() inside a dictionary comprehension to extract key:value pairs from two sequences\n",
    "\n",
    "words = [\"life\",\"is\",\"study\"]\n",
    "word_lengths = [4,2,5]\n",
    "\n",
    "word_length_dict3 = {key:value for (key,value) in zip(words, word_lengths)}\n",
    "\n",
    "print(word_length_dict3)"
   ]
  },
  {
   "cell_type": "markdown",
   "id": "7c0f31e4-96f6-4a9c-99dd-251a9dbb3075",
   "metadata": {},
   "source": [
    "## 14. Data Exploration and Cleaning\n",
    "It is important to explore the data before doing any serious analysis, since oddities in the data cause bugs and muddle results. Start by answering simple questions about the form and quality of the data. \n",
    "\n",
    "### Exploring the variables\n",
    "First step is reading the data, getting a sense of how many variables and cases there are, the data types of the variables and the range of values they take on."
   ]
  },
  {
   "cell_type": "code",
   "execution_count": 3,
   "id": "d6d22a2c-94a3-4439-831b-aaec7e43545d",
   "metadata": {},
   "outputs": [],
   "source": [
    "# Load in some packages\n",
    "%matplotlib inline\n",
    "\n",
    "import numpy as np\n",
    "import pandas as pd\n",
    "import os"
   ]
  },
  {
   "cell_type": "code",
   "execution_count": 4,
   "id": "dd826066-b773-4c30-a473-b8e99973e592",
   "metadata": {},
   "outputs": [],
   "source": [
    "# Read the data\n",
    "titanic_train = pd.read_csv(\"C:/Users/Micaela Rodriguez/Mentorías/Python for Data Analysis/train.csv\")"
   ]
  },
  {
   "cell_type": "code",
   "execution_count": 3,
   "id": "6e1c19e7-1647-4164-b977-1f60a1c4b5cb",
   "metadata": {},
   "outputs": [
    {
     "data": {
      "text/plain": [
       "(891, 12)"
      ]
     },
     "execution_count": 3,
     "metadata": {},
     "output_type": "execute_result"
    }
   ],
   "source": [
    "# Check the dimensions of the data with df.shape\n",
    "titanic_train.shape"
   ]
  },
  {
   "cell_type": "code",
   "execution_count": 4,
   "id": "7458d5e6-43c8-4953-959f-9bb29f0933f4",
   "metadata": {},
   "outputs": [
    {
     "data": {
      "text/plain": [
       "PassengerId      int64\n",
       "Survived         int64\n",
       "Pclass           int64\n",
       "Name            object\n",
       "Sex             object\n",
       "Age            float64\n",
       "SibSp            int64\n",
       "Parch            int64\n",
       "Ticket          object\n",
       "Fare           float64\n",
       "Cabin           object\n",
       "Embarked        object\n",
       "dtype: object"
      ]
     },
     "execution_count": 4,
     "metadata": {},
     "output_type": "execute_result"
    }
   ],
   "source": [
    "# Check the data types \n",
    "titanic_train.dtypes"
   ]
  },
  {
   "cell_type": "markdown",
   "id": "894155b1-3875-4cd4-9828-c61be0adaf96",
   "metadata": {},
   "source": [
    "The output shows that there's a total of 891 records and 12 columns. Several of the column variables are encoded as numeric data types (ints and floats) but a few of them are encoded as \"object\". "
   ]
  },
  {
   "cell_type": "code",
   "execution_count": 5,
   "id": "533a47ce-8b28-4a47-bac0-8cf3814412c1",
   "metadata": {},
   "outputs": [
    {
     "data": {
      "text/html": [
       "<div>\n",
       "<style scoped>\n",
       "    .dataframe tbody tr th:only-of-type {\n",
       "        vertical-align: middle;\n",
       "    }\n",
       "\n",
       "    .dataframe tbody tr th {\n",
       "        vertical-align: top;\n",
       "    }\n",
       "\n",
       "    .dataframe thead th {\n",
       "        text-align: right;\n",
       "    }\n",
       "</style>\n",
       "<table border=\"1\" class=\"dataframe\">\n",
       "  <thead>\n",
       "    <tr style=\"text-align: right;\">\n",
       "      <th></th>\n",
       "      <th>PassengerId</th>\n",
       "      <th>Survived</th>\n",
       "      <th>Pclass</th>\n",
       "      <th>Name</th>\n",
       "      <th>Sex</th>\n",
       "      <th>Age</th>\n",
       "      <th>SibSp</th>\n",
       "      <th>Parch</th>\n",
       "      <th>Ticket</th>\n",
       "      <th>Fare</th>\n",
       "      <th>Cabin</th>\n",
       "      <th>Embarked</th>\n",
       "    </tr>\n",
       "  </thead>\n",
       "  <tbody>\n",
       "    <tr>\n",
       "      <th>0</th>\n",
       "      <td>1</td>\n",
       "      <td>0</td>\n",
       "      <td>3</td>\n",
       "      <td>Braund, Mr. Owen Harris</td>\n",
       "      <td>male</td>\n",
       "      <td>22.0</td>\n",
       "      <td>1</td>\n",
       "      <td>0</td>\n",
       "      <td>A/5 21171</td>\n",
       "      <td>7.2500</td>\n",
       "      <td>NaN</td>\n",
       "      <td>S</td>\n",
       "    </tr>\n",
       "    <tr>\n",
       "      <th>1</th>\n",
       "      <td>2</td>\n",
       "      <td>1</td>\n",
       "      <td>1</td>\n",
       "      <td>Cumings, Mrs. John Bradley (Florence Briggs Th...</td>\n",
       "      <td>female</td>\n",
       "      <td>38.0</td>\n",
       "      <td>1</td>\n",
       "      <td>0</td>\n",
       "      <td>PC 17599</td>\n",
       "      <td>71.2833</td>\n",
       "      <td>C85</td>\n",
       "      <td>C</td>\n",
       "    </tr>\n",
       "    <tr>\n",
       "      <th>2</th>\n",
       "      <td>3</td>\n",
       "      <td>1</td>\n",
       "      <td>3</td>\n",
       "      <td>Heikkinen, Miss. Laina</td>\n",
       "      <td>female</td>\n",
       "      <td>26.0</td>\n",
       "      <td>0</td>\n",
       "      <td>0</td>\n",
       "      <td>STON/O2. 3101282</td>\n",
       "      <td>7.9250</td>\n",
       "      <td>NaN</td>\n",
       "      <td>S</td>\n",
       "    </tr>\n",
       "    <tr>\n",
       "      <th>3</th>\n",
       "      <td>4</td>\n",
       "      <td>1</td>\n",
       "      <td>1</td>\n",
       "      <td>Futrelle, Mrs. Jacques Heath (Lily May Peel)</td>\n",
       "      <td>female</td>\n",
       "      <td>35.0</td>\n",
       "      <td>1</td>\n",
       "      <td>0</td>\n",
       "      <td>113803</td>\n",
       "      <td>53.1000</td>\n",
       "      <td>C123</td>\n",
       "      <td>S</td>\n",
       "    </tr>\n",
       "    <tr>\n",
       "      <th>4</th>\n",
       "      <td>5</td>\n",
       "      <td>0</td>\n",
       "      <td>3</td>\n",
       "      <td>Allen, Mr. William Henry</td>\n",
       "      <td>male</td>\n",
       "      <td>35.0</td>\n",
       "      <td>0</td>\n",
       "      <td>0</td>\n",
       "      <td>373450</td>\n",
       "      <td>8.0500</td>\n",
       "      <td>NaN</td>\n",
       "      <td>S</td>\n",
       "    </tr>\n",
       "  </tbody>\n",
       "</table>\n",
       "</div>"
      ],
      "text/plain": [
       "   PassengerId  Survived  Pclass  \\\n",
       "0            1         0       3   \n",
       "1            2         1       1   \n",
       "2            3         1       3   \n",
       "3            4         1       1   \n",
       "4            5         0       3   \n",
       "\n",
       "                                                Name     Sex   Age  SibSp  \\\n",
       "0                            Braund, Mr. Owen Harris    male  22.0      1   \n",
       "1  Cumings, Mrs. John Bradley (Florence Briggs Th...  female  38.0      1   \n",
       "2                             Heikkinen, Miss. Laina  female  26.0      0   \n",
       "3       Futrelle, Mrs. Jacques Heath (Lily May Peel)  female  35.0      1   \n",
       "4                           Allen, Mr. William Henry    male  35.0      0   \n",
       "\n",
       "   Parch            Ticket     Fare Cabin Embarked  \n",
       "0      0         A/5 21171   7.2500   NaN        S  \n",
       "1      0          PC 17599  71.2833   C85        C  \n",
       "2      0  STON/O2. 3101282   7.9250   NaN        S  \n",
       "3      0            113803  53.1000  C123        S  \n",
       "4      0            373450   8.0500   NaN        S  "
      ]
     },
     "execution_count": 5,
     "metadata": {},
     "output_type": "execute_result"
    }
   ],
   "source": [
    "# Check the head of the data to get a better sense of what the variables look like\n",
    "titanic_train.head(5)"
   ]
  },
  {
   "cell_type": "code",
   "execution_count": 6,
   "id": "ddf3dfa3-1d0a-4709-9f3b-d1abdd8fa503",
   "metadata": {},
   "outputs": [
    {
     "data": {
      "text/html": [
       "<div>\n",
       "<style scoped>\n",
       "    .dataframe tbody tr th:only-of-type {\n",
       "        vertical-align: middle;\n",
       "    }\n",
       "\n",
       "    .dataframe tbody tr th {\n",
       "        vertical-align: top;\n",
       "    }\n",
       "\n",
       "    .dataframe thead th {\n",
       "        text-align: right;\n",
       "    }\n",
       "</style>\n",
       "<table border=\"1\" class=\"dataframe\">\n",
       "  <thead>\n",
       "    <tr style=\"text-align: right;\">\n",
       "      <th></th>\n",
       "      <th>PassengerId</th>\n",
       "      <th>Survived</th>\n",
       "      <th>Pclass</th>\n",
       "      <th>Age</th>\n",
       "      <th>SibSp</th>\n",
       "      <th>Parch</th>\n",
       "      <th>Fare</th>\n",
       "    </tr>\n",
       "  </thead>\n",
       "  <tbody>\n",
       "    <tr>\n",
       "      <th>count</th>\n",
       "      <td>891.000000</td>\n",
       "      <td>891.000000</td>\n",
       "      <td>891.000000</td>\n",
       "      <td>714.000000</td>\n",
       "      <td>891.000000</td>\n",
       "      <td>891.000000</td>\n",
       "      <td>891.000000</td>\n",
       "    </tr>\n",
       "    <tr>\n",
       "      <th>mean</th>\n",
       "      <td>446.000000</td>\n",
       "      <td>0.383838</td>\n",
       "      <td>2.308642</td>\n",
       "      <td>29.699118</td>\n",
       "      <td>0.523008</td>\n",
       "      <td>0.381594</td>\n",
       "      <td>32.204208</td>\n",
       "    </tr>\n",
       "    <tr>\n",
       "      <th>std</th>\n",
       "      <td>257.353842</td>\n",
       "      <td>0.486592</td>\n",
       "      <td>0.836071</td>\n",
       "      <td>14.526497</td>\n",
       "      <td>1.102743</td>\n",
       "      <td>0.806057</td>\n",
       "      <td>49.693429</td>\n",
       "    </tr>\n",
       "    <tr>\n",
       "      <th>min</th>\n",
       "      <td>1.000000</td>\n",
       "      <td>0.000000</td>\n",
       "      <td>1.000000</td>\n",
       "      <td>0.420000</td>\n",
       "      <td>0.000000</td>\n",
       "      <td>0.000000</td>\n",
       "      <td>0.000000</td>\n",
       "    </tr>\n",
       "    <tr>\n",
       "      <th>25%</th>\n",
       "      <td>223.500000</td>\n",
       "      <td>0.000000</td>\n",
       "      <td>2.000000</td>\n",
       "      <td>20.125000</td>\n",
       "      <td>0.000000</td>\n",
       "      <td>0.000000</td>\n",
       "      <td>7.910400</td>\n",
       "    </tr>\n",
       "    <tr>\n",
       "      <th>50%</th>\n",
       "      <td>446.000000</td>\n",
       "      <td>0.000000</td>\n",
       "      <td>3.000000</td>\n",
       "      <td>28.000000</td>\n",
       "      <td>0.000000</td>\n",
       "      <td>0.000000</td>\n",
       "      <td>14.454200</td>\n",
       "    </tr>\n",
       "    <tr>\n",
       "      <th>75%</th>\n",
       "      <td>668.500000</td>\n",
       "      <td>1.000000</td>\n",
       "      <td>3.000000</td>\n",
       "      <td>38.000000</td>\n",
       "      <td>1.000000</td>\n",
       "      <td>0.000000</td>\n",
       "      <td>31.000000</td>\n",
       "    </tr>\n",
       "    <tr>\n",
       "      <th>max</th>\n",
       "      <td>891.000000</td>\n",
       "      <td>1.000000</td>\n",
       "      <td>3.000000</td>\n",
       "      <td>80.000000</td>\n",
       "      <td>8.000000</td>\n",
       "      <td>6.000000</td>\n",
       "      <td>512.329200</td>\n",
       "    </tr>\n",
       "  </tbody>\n",
       "</table>\n",
       "</div>"
      ],
      "text/plain": [
       "       PassengerId    Survived      Pclass         Age       SibSp  \\\n",
       "count   891.000000  891.000000  891.000000  714.000000  891.000000   \n",
       "mean    446.000000    0.383838    2.308642   29.699118    0.523008   \n",
       "std     257.353842    0.486592    0.836071   14.526497    1.102743   \n",
       "min       1.000000    0.000000    1.000000    0.420000    0.000000   \n",
       "25%     223.500000    0.000000    2.000000   20.125000    0.000000   \n",
       "50%     446.000000    0.000000    3.000000   28.000000    0.000000   \n",
       "75%     668.500000    1.000000    3.000000   38.000000    1.000000   \n",
       "max     891.000000    1.000000    3.000000   80.000000    8.000000   \n",
       "\n",
       "            Parch        Fare  \n",
       "count  891.000000  891.000000  \n",
       "mean     0.381594   32.204208  \n",
       "std      0.806057   49.693429  \n",
       "min      0.000000    0.000000  \n",
       "25%      0.000000    7.910400  \n",
       "50%      0.000000   14.454200  \n",
       "75%      0.000000   31.000000  \n",
       "max      6.000000  512.329200  "
      ]
     },
     "execution_count": 6,
     "metadata": {},
     "output_type": "execute_result"
    }
   ],
   "source": [
    "# Look at the statistical summary of the variables with df.describe()\n",
    "titanic_train.describe()"
   ]
  },
  {
   "cell_type": "code",
   "execution_count": 7,
   "id": "bcebd801-2632-4139-a5c5-9036b1abe9fd",
   "metadata": {},
   "outputs": [
    {
     "name": "stdout",
     "output_type": "stream",
     "text": [
      "Index(['Name', 'Sex', 'Ticket', 'Cabin', 'Embarked'], dtype='object')\n"
     ]
    },
    {
     "data": {
      "text/html": [
       "<div>\n",
       "<style scoped>\n",
       "    .dataframe tbody tr th:only-of-type {\n",
       "        vertical-align: middle;\n",
       "    }\n",
       "\n",
       "    .dataframe tbody tr th {\n",
       "        vertical-align: top;\n",
       "    }\n",
       "\n",
       "    .dataframe thead th {\n",
       "        text-align: right;\n",
       "    }\n",
       "</style>\n",
       "<table border=\"1\" class=\"dataframe\">\n",
       "  <thead>\n",
       "    <tr style=\"text-align: right;\">\n",
       "      <th></th>\n",
       "      <th>Name</th>\n",
       "      <th>Sex</th>\n",
       "      <th>Ticket</th>\n",
       "      <th>Cabin</th>\n",
       "      <th>Embarked</th>\n",
       "    </tr>\n",
       "  </thead>\n",
       "  <tbody>\n",
       "    <tr>\n",
       "      <th>count</th>\n",
       "      <td>891</td>\n",
       "      <td>891</td>\n",
       "      <td>891</td>\n",
       "      <td>204</td>\n",
       "      <td>889</td>\n",
       "    </tr>\n",
       "    <tr>\n",
       "      <th>unique</th>\n",
       "      <td>891</td>\n",
       "      <td>2</td>\n",
       "      <td>681</td>\n",
       "      <td>147</td>\n",
       "      <td>3</td>\n",
       "    </tr>\n",
       "    <tr>\n",
       "      <th>top</th>\n",
       "      <td>Connolly, Miss. Kate</td>\n",
       "      <td>male</td>\n",
       "      <td>CA. 2343</td>\n",
       "      <td>G6</td>\n",
       "      <td>S</td>\n",
       "    </tr>\n",
       "    <tr>\n",
       "      <th>freq</th>\n",
       "      <td>1</td>\n",
       "      <td>577</td>\n",
       "      <td>7</td>\n",
       "      <td>4</td>\n",
       "      <td>644</td>\n",
       "    </tr>\n",
       "  </tbody>\n",
       "</table>\n",
       "</div>"
      ],
      "text/plain": [
       "                        Name   Sex    Ticket Cabin Embarked\n",
       "count                    891   891       891   204      889\n",
       "unique                   891     2       681   147        3\n",
       "top     Connolly, Miss. Kate  male  CA. 2343    G6        S\n",
       "freq                       1   577         7     4      644"
      ]
     },
     "execution_count": 7,
     "metadata": {},
     "output_type": "execute_result"
    }
   ],
   "source": [
    "# Get the summary of categorial values by passing only those columns to describe()\n",
    "categorical = titanic_train.dtypes[titanic_train.dtypes == \"object\"].index\n",
    "\n",
    "print(categorical)\n",
    "\n",
    "titanic_train[categorical].describe()"
   ]
  },
  {
   "cell_type": "code",
   "execution_count": 8,
   "id": "e9aa2c04-6a40-42d7-aa15-f68926b1df7e",
   "metadata": {},
   "outputs": [],
   "source": [
    "# VARIABLE DESCRIPTIONS:\n",
    "# survival                Survival\n",
    "#                         (0 = No; 1 = Yes)\n",
    "# pclass                  Passenger class\n",
    "#                         (1 = 1st, 2 = 2nd, 3 = 3rd)\n",
    "# name                    Name\n",
    "# sex                     Sex\n",
    "# age                     Age\n",
    "# sibsp                   Number of siblings/ Spouses abroad\n",
    "# parch                   Number of parents/ Children abroad\n",
    "# ticket                  Ticket Number\n",
    "# fare                    Passenger fare\n",
    "# cabin                   Cabin\n",
    "# embarked                Port of embarkation\n",
    "#                         (C = Cherbourg; Q = Queenstown; S = Southampton)"
   ]
  },
  {
   "cell_type": "markdown",
   "id": "818d215a-33f2-4eff-9955-fae0697aa63a",
   "metadata": {},
   "source": [
    "Questions you should ask yourself after looking at the data for the first time:\n",
    "1. **Do I need all the variables?**\n",
    "\n",
    "2. **Should I transform any variables?**\n",
    "\n",
    "3. **Are there NA values, outliers or other strange values?**\n",
    "\n",
    "4. **Should I create new variables?**"
   ]
  },
  {
   "cell_type": "markdown",
   "id": "2873108f-17a9-407e-889e-d553380f6476",
   "metadata": {},
   "source": [
    "#### 1. Do I need all the variables?\n",
    "\n",
    "Good first step to reduce the complexity of the data set and makes computation a lot more faster. Wheter you get rid of a variable or not depends on the size of the data set and the goal of the analysis. In this case, it's a small data set, so from a computing perspective there's no need to drop any values. However, it can still be helpful to drop variables that will only distract you from your goal."
   ]
  },
  {
   "cell_type": "code",
   "execution_count": 9,
   "id": "e71a978e-a55e-4799-a5a4-b607c2a9e1ab",
   "metadata": {},
   "outputs": [],
   "source": [
    "# Remove passengerId \n",
    "del titanic_train[\"PassengerId\"]"
   ]
  },
  {
   "cell_type": "markdown",
   "id": "7b0d290d-0c40-4c1e-a254-50de1ddca1e0",
   "metadata": {},
   "source": [
    "We keep \"Survival\" because the goal is to predict survival. For predicting survival, features that describe passengers numerically or group them into a few broad categories could be useful. So we keep \"Pclass\", \"Sex\", \"Age\", \"SibSp\", \"Parch\", \"Fare\" and \"Embarked\". There's only \"Name\", \"Ticket\" and \"Cabin\" left. \n",
    "\n",
    "Name refers to the name of each passenger, let's look at it closer."
   ]
  },
  {
   "cell_type": "code",
   "execution_count": 10,
   "id": "3acf2566-d372-49a8-abfb-86aa9e657ff5",
   "metadata": {},
   "outputs": [
    {
     "data": {
      "text/plain": [
       "['Abbing, Mr. Anthony',\n",
       " 'Abbott, Mr. Rossmore Edward',\n",
       " 'Abbott, Mrs. Stanton (Rosa Hunt)',\n",
       " 'Abelson, Mr. Samuel',\n",
       " 'Abelson, Mrs. Samuel (Hannah Wizosky)',\n",
       " 'Adahl, Mr. Mauritz Nils Martin',\n",
       " 'Adams, Mr. John',\n",
       " 'Ahlin, Mrs. Johan (Johanna Persdotter Larsson)',\n",
       " 'Aks, Mrs. Sam (Leah Rosen)',\n",
       " 'Albimona, Mr. Nassef Cassem',\n",
       " 'Alexander, Mr. William',\n",
       " 'Alhomaki, Mr. Ilmari Rudolf',\n",
       " 'Ali, Mr. Ahmed',\n",
       " 'Ali, Mr. William',\n",
       " 'Allen, Miss. Elisabeth Walton']"
      ]
     },
     "execution_count": 10,
     "metadata": {},
     "output_type": "execute_result"
    }
   ],
   "source": [
    "# Check the first 15 sorted names\n",
    "\n",
    "sorted(titanic_train[\"Name\"])[0:15]"
   ]
  },
  {
   "cell_type": "code",
   "execution_count": 11,
   "id": "93030c79-c97f-4902-88a0-738bc30f9d2a",
   "metadata": {},
   "outputs": [
    {
     "data": {
      "text/plain": [
       "count                      891\n",
       "unique                     891\n",
       "top       Connolly, Miss. Kate\n",
       "freq                         1\n",
       "Name: Name, dtype: object"
      ]
     },
     "execution_count": 11,
     "metadata": {},
     "output_type": "execute_result"
    }
   ],
   "source": [
    "titanic_train[\"Name\"].describe()"
   ]
  },
  {
   "cell_type": "markdown",
   "id": "7378f3a6-9ed7-4191-93fc-0d365b1e0637",
   "metadata": {},
   "source": [
    "The name variable has 889 unique values. Since there are 889 rows in the data set we know each name is unique. It appears that married women have their maiden names listed in parentheses.\n",
    "\n",
    "In general, a categorical variable that is unique to each case isn't useful for prediction. We keep the variable to uniquely identify particular cases, but not for prediction.\n",
    "\n",
    "Now, we analyze \"Ticket\"."
   ]
  },
  {
   "cell_type": "code",
   "execution_count": 14,
   "id": "0e84f100-9c32-4e12-aba7-049015253715",
   "metadata": {},
   "outputs": [
    {
     "data": {
      "text/plain": [
       "0            A/5 21171\n",
       "1             PC 17599\n",
       "2     STON/O2. 3101282\n",
       "3               113803\n",
       "4               373450\n",
       "5               330877\n",
       "6                17463\n",
       "7               349909\n",
       "8               347742\n",
       "9               237736\n",
       "10             PP 9549\n",
       "11              113783\n",
       "12           A/5. 2151\n",
       "13              347082\n",
       "14              350406\n",
       "Name: Ticket, dtype: object"
      ]
     },
     "execution_count": 14,
     "metadata": {},
     "output_type": "execute_result"
    }
   ],
   "source": [
    "# Check the first 15 tickets\n",
    "titanic_train[\"Ticket\"][0:15]"
   ]
  },
  {
   "cell_type": "code",
   "execution_count": 15,
   "id": "b4503bea-8e58-45b2-b5e8-acc04172883a",
   "metadata": {},
   "outputs": [
    {
     "data": {
      "text/plain": [
       "count          891\n",
       "unique         681\n",
       "top       CA. 2343\n",
       "freq             7\n",
       "Name: Ticket, dtype: object"
      ]
     },
     "execution_count": 15,
     "metadata": {},
     "output_type": "execute_result"
    }
   ],
   "source": [
    "titanic_train[\"Ticket\"].describe()"
   ]
  },
  {
   "cell_type": "markdown",
   "id": "cb3bcdb0-fafb-477e-b7fd-afff6d3d049a",
   "metadata": {},
   "source": [
    "Ticket has 680 unique values: almost as many as there are passengers. Categorical values with almost as many levels as there are records are often not very useful for prediction. We could try to reduce the number of levels by grouping certain tickets together, but the ticket numbers don't appear to follow any logical pattern useful for grouping. Therefore we remove it."
   ]
  },
  {
   "cell_type": "code",
   "execution_count": 16,
   "id": "77ede282-24d9-477a-88d9-cf83cbd51b39",
   "metadata": {},
   "outputs": [],
   "source": [
    "del titanic_train[\"Ticket\"]"
   ]
  },
  {
   "cell_type": "markdown",
   "id": "1de92261-a43c-4ea2-9bbb-c1fe8a62aa43",
   "metadata": {},
   "source": [
    "Finally we consider \"Cabin\"."
   ]
  },
  {
   "cell_type": "code",
   "execution_count": 17,
   "id": "8ca14f92-e7e0-482b-bc4b-ad7bb7cc8dcc",
   "metadata": {},
   "outputs": [
    {
     "data": {
      "text/plain": [
       "0      NaN\n",
       "1      C85\n",
       "2      NaN\n",
       "3     C123\n",
       "4      NaN\n",
       "5      NaN\n",
       "6      E46\n",
       "7      NaN\n",
       "8      NaN\n",
       "9      NaN\n",
       "10      G6\n",
       "11    C103\n",
       "12     NaN\n",
       "13     NaN\n",
       "14     NaN\n",
       "Name: Cabin, dtype: object"
      ]
     },
     "execution_count": 17,
     "metadata": {},
     "output_type": "execute_result"
    }
   ],
   "source": [
    "# Check the first 15 \"Cabin\"\n",
    "titanic_train[\"Cabin\"][0:15]"
   ]
  },
  {
   "cell_type": "code",
   "execution_count": 18,
   "id": "4ec36472-7b50-4e06-ab46-8a144cfbb394",
   "metadata": {},
   "outputs": [
    {
     "data": {
      "text/plain": [
       "count     204\n",
       "unique    147\n",
       "top        G6\n",
       "freq        4\n",
       "Name: Cabin, dtype: object"
      ]
     },
     "execution_count": 18,
     "metadata": {},
     "output_type": "execute_result"
    }
   ],
   "source": [
    "# Check number of unique cabins\n",
    "titanic_train[\"Cabin\"].describe()"
   ]
  },
  {
   "cell_type": "markdown",
   "id": "fb768c9e-3a79-4308-8f13-13388e3cb1c3",
   "metadata": {},
   "source": [
    "Cabin has 145 unique values, which indicates it might not be particularly useful for prediction. However, the names of the levels for cabin seem to have a regular structure: capital letter followed by a number. We could use that to reduce the levels to make categories large enough that they may be useful for prediction. We keep Cabin for now."
   ]
  },
  {
   "cell_type": "markdown",
   "id": "06e42308-197f-4c4e-91a0-2d045fa6285a",
   "metadata": {},
   "source": [
    "#### 2. Should I transform any variables?\n",
    "When first loading the data set, some variables may be encoded as data types that do not fit well with what the data really is or what it means. \n",
    "\n",
    "For example, Survived is an integer variable that takes the value of 0 or 1 depending on wether the passenger survived or not respectively. **Variables that indicate a state or the presence or absence of something with the numbers 0 and 1 are sometimes called indicator variables or dummy variables (0 indicates absence and 1 presence).** We proceed to encode Survived as a categorical variable with more descriptive categories."
   ]
  },
  {
   "cell_type": "code",
   "execution_count": 19,
   "id": "19b4978f-1c49-43ea-89df-bcfbdba677b7",
   "metadata": {},
   "outputs": [
    {
     "data": {
      "text/html": [
       "<div>\n",
       "<style scoped>\n",
       "    .dataframe tbody tr th:only-of-type {\n",
       "        vertical-align: middle;\n",
       "    }\n",
       "\n",
       "    .dataframe tbody tr th {\n",
       "        vertical-align: top;\n",
       "    }\n",
       "\n",
       "    .dataframe thead th {\n",
       "        text-align: right;\n",
       "    }\n",
       "</style>\n",
       "<table border=\"1\" class=\"dataframe\">\n",
       "  <thead>\n",
       "    <tr style=\"text-align: right;\">\n",
       "      <th></th>\n",
       "      <th>counts</th>\n",
       "      <th>freqs</th>\n",
       "    </tr>\n",
       "    <tr>\n",
       "      <th>categories</th>\n",
       "      <th></th>\n",
       "      <th></th>\n",
       "    </tr>\n",
       "  </thead>\n",
       "  <tbody>\n",
       "    <tr>\n",
       "      <th>Died</th>\n",
       "      <td>549</td>\n",
       "      <td>0.616162</td>\n",
       "    </tr>\n",
       "    <tr>\n",
       "      <th>Survived</th>\n",
       "      <td>342</td>\n",
       "      <td>0.383838</td>\n",
       "    </tr>\n",
       "  </tbody>\n",
       "</table>\n",
       "</div>"
      ],
      "text/plain": [
       "            counts     freqs\n",
       "categories                  \n",
       "Died           549  0.616162\n",
       "Survived       342  0.383838"
      ]
     },
     "execution_count": 19,
     "metadata": {},
     "output_type": "execute_result"
    }
   ],
   "source": [
    "# Describe Survived as a categorical value with more descriptive categories\n",
    "new_survived = pd.Categorical(titanic_train[\"Survived\"])\n",
    "new_survived = new_survived.rename_categories([\"Died\",\"Survived\"])\n",
    "\n",
    "new_survived.describe()"
   ]
  },
  {
   "cell_type": "markdown",
   "id": "f6919aeb-b81c-4d76-9303-bc2f0d925a08",
   "metadata": {},
   "source": [
    "Because the goal is to predict survival in terms of 0 and 1, we do not change the Survival variable. \n",
    "\n",
    "Pclass is an integer that indicates a passenger's class. It's a category so it doesn't make sense to have it as a numerical variable. We proceed to transform Pclass into an ordered categorical variable."
   ]
  },
  {
   "cell_type": "code",
   "execution_count": 20,
   "id": "7e9fa77e-e077-4d6d-9106-7ed1c0a8198c",
   "metadata": {},
   "outputs": [
    {
     "data": {
      "text/html": [
       "<div>\n",
       "<style scoped>\n",
       "    .dataframe tbody tr th:only-of-type {\n",
       "        vertical-align: middle;\n",
       "    }\n",
       "\n",
       "    .dataframe tbody tr th {\n",
       "        vertical-align: top;\n",
       "    }\n",
       "\n",
       "    .dataframe thead th {\n",
       "        text-align: right;\n",
       "    }\n",
       "</style>\n",
       "<table border=\"1\" class=\"dataframe\">\n",
       "  <thead>\n",
       "    <tr style=\"text-align: right;\">\n",
       "      <th></th>\n",
       "      <th>counts</th>\n",
       "      <th>freqs</th>\n",
       "    </tr>\n",
       "    <tr>\n",
       "      <th>categories</th>\n",
       "      <th></th>\n",
       "      <th></th>\n",
       "    </tr>\n",
       "  </thead>\n",
       "  <tbody>\n",
       "    <tr>\n",
       "      <th>Class1</th>\n",
       "      <td>216</td>\n",
       "      <td>0.242424</td>\n",
       "    </tr>\n",
       "    <tr>\n",
       "      <th>Class2</th>\n",
       "      <td>184</td>\n",
       "      <td>0.206510</td>\n",
       "    </tr>\n",
       "    <tr>\n",
       "      <th>Class3</th>\n",
       "      <td>491</td>\n",
       "      <td>0.551066</td>\n",
       "    </tr>\n",
       "  </tbody>\n",
       "</table>\n",
       "</div>"
      ],
      "text/plain": [
       "            counts     freqs\n",
       "categories                  \n",
       "Class1         216  0.242424\n",
       "Class2         184  0.206510\n",
       "Class3         491  0.551066"
      ]
     },
     "execution_count": 20,
     "metadata": {},
     "output_type": "execute_result"
    }
   ],
   "source": [
    "# Transform Pclass into an ordered categorical variable\n",
    "new_Pclass = pd.Categorical(titanic_train[\"Pclass\"], ordered = True)\n",
    "\n",
    "new_Pclass = new_Pclass.rename_categories([\"Class1\",\"Class2\",\"Class3\"])\n",
    "new_Pclass.describe()"
   ]
  },
  {
   "cell_type": "code",
   "execution_count": 21,
   "id": "eac106ad-2e84-4be0-a666-ea00196d8f3c",
   "metadata": {},
   "outputs": [],
   "source": [
    "titanic_train[\"Pclass\"] = new_Pclass"
   ]
  },
  {
   "cell_type": "markdown",
   "id": "2aa7b249-a9df-4383-b8c4-3e98ecc3052c",
   "metadata": {},
   "source": [
    "Now we revisit the Cabin variable. It appears that each Cabin is in a general section of the ship indicated by the capital letter at the start of each factor level."
   ]
  },
  {
   "cell_type": "code",
   "execution_count": 22,
   "id": "520882c8-3851-4318-9617-077d1fe614b9",
   "metadata": {},
   "outputs": [
    {
     "data": {
      "text/plain": [
       "array([nan, 'C85', 'C123', 'E46', 'G6', 'C103', 'D56', 'A6',\n",
       "       'C23 C25 C27', 'B78', 'D33', 'B30', 'C52', 'B28', 'C83', 'F33',\n",
       "       'F G73', 'E31', 'A5', 'D10 D12', 'D26', 'C110', 'B58 B60', 'E101',\n",
       "       'F E69', 'D47', 'B86', 'F2', 'C2', 'E33', 'B19', 'A7', 'C49', 'F4',\n",
       "       'A32', 'B4', 'B80', 'A31', 'D36', 'D15', 'C93', 'C78', 'D35',\n",
       "       'C87', 'B77', 'E67', 'B94', 'C125', 'C99', 'C118', 'D7', 'A19',\n",
       "       'B49', 'D', 'C22 C26', 'C106', 'C65', 'E36', 'C54',\n",
       "       'B57 B59 B63 B66', 'C7', 'E34', 'C32', 'B18', 'C124', 'C91', 'E40',\n",
       "       'T', 'C128', 'D37', 'B35', 'E50', 'C82', 'B96 B98', 'E10', 'E44',\n",
       "       'A34', 'C104', 'C111', 'C92', 'E38', 'D21', 'E12', 'E63', 'A14',\n",
       "       'B37', 'C30', 'D20', 'B79', 'E25', 'D46', 'B73', 'C95', 'B38',\n",
       "       'B39', 'B22', 'C86', 'C70', 'A16', 'C101', 'C68', 'A10', 'E68',\n",
       "       'B41', 'A20', 'D19', 'D50', 'D9', 'A23', 'B50', 'A26', 'D48',\n",
       "       'E58', 'C126', 'B71', 'B51 B53 B55', 'D49', 'B5', 'B20', 'F G63',\n",
       "       'C62 C64', 'E24', 'C90', 'C45', 'E8', 'B101', 'D45', 'C46', 'D30',\n",
       "       'E121', 'D11', 'E77', 'F38', 'B3', 'D6', 'B82 B84', 'D17', 'A36',\n",
       "       'B102', 'B69', 'E49', 'C47', 'D28', 'E17', 'A24', 'C50', 'B42',\n",
       "       'C148'], dtype=object)"
      ]
     },
     "execution_count": 22,
     "metadata": {},
     "output_type": "execute_result"
    }
   ],
   "source": [
    "# Check unique cabins\n",
    "titanic_train[\"Cabin\"].unique()"
   ]
  },
  {
   "cell_type": "markdown",
   "id": "300d522d-121e-4302-9a94-b9afedd4be62",
   "metadata": {},
   "source": [
    "By groupin cabin just by the letter, we can reduce the number of levels while potentially extracting some useful information."
   ]
  },
  {
   "cell_type": "code",
   "execution_count": 23,
   "id": "fe52eb07-92cd-4edc-a1cc-718f1a934503",
   "metadata": {},
   "outputs": [
    {
     "data": {
      "text/html": [
       "<div>\n",
       "<style scoped>\n",
       "    .dataframe tbody tr th:only-of-type {\n",
       "        vertical-align: middle;\n",
       "    }\n",
       "\n",
       "    .dataframe tbody tr th {\n",
       "        vertical-align: top;\n",
       "    }\n",
       "\n",
       "    .dataframe thead th {\n",
       "        text-align: right;\n",
       "    }\n",
       "</style>\n",
       "<table border=\"1\" class=\"dataframe\">\n",
       "  <thead>\n",
       "    <tr style=\"text-align: right;\">\n",
       "      <th></th>\n",
       "      <th>counts</th>\n",
       "      <th>freqs</th>\n",
       "    </tr>\n",
       "    <tr>\n",
       "      <th>categories</th>\n",
       "      <th></th>\n",
       "      <th></th>\n",
       "    </tr>\n",
       "  </thead>\n",
       "  <tbody>\n",
       "    <tr>\n",
       "      <th>A</th>\n",
       "      <td>15</td>\n",
       "      <td>0.016835</td>\n",
       "    </tr>\n",
       "    <tr>\n",
       "      <th>B</th>\n",
       "      <td>47</td>\n",
       "      <td>0.052750</td>\n",
       "    </tr>\n",
       "    <tr>\n",
       "      <th>C</th>\n",
       "      <td>59</td>\n",
       "      <td>0.066218</td>\n",
       "    </tr>\n",
       "    <tr>\n",
       "      <th>D</th>\n",
       "      <td>33</td>\n",
       "      <td>0.037037</td>\n",
       "    </tr>\n",
       "    <tr>\n",
       "      <th>E</th>\n",
       "      <td>32</td>\n",
       "      <td>0.035915</td>\n",
       "    </tr>\n",
       "    <tr>\n",
       "      <th>F</th>\n",
       "      <td>13</td>\n",
       "      <td>0.014590</td>\n",
       "    </tr>\n",
       "    <tr>\n",
       "      <th>G</th>\n",
       "      <td>4</td>\n",
       "      <td>0.004489</td>\n",
       "    </tr>\n",
       "    <tr>\n",
       "      <th>T</th>\n",
       "      <td>1</td>\n",
       "      <td>0.001122</td>\n",
       "    </tr>\n",
       "    <tr>\n",
       "      <th>n</th>\n",
       "      <td>687</td>\n",
       "      <td>0.771044</td>\n",
       "    </tr>\n",
       "  </tbody>\n",
       "</table>\n",
       "</div>"
      ],
      "text/plain": [
       "            counts     freqs\n",
       "categories                  \n",
       "A               15  0.016835\n",
       "B               47  0.052750\n",
       "C               59  0.066218\n",
       "D               33  0.037037\n",
       "E               32  0.035915\n",
       "F               13  0.014590\n",
       "G                4  0.004489\n",
       "T                1  0.001122\n",
       "n              687  0.771044"
      ]
     },
     "execution_count": 23,
     "metadata": {},
     "output_type": "execute_result"
    }
   ],
   "source": [
    "# Group cabin by letter\n",
    "char_cabin = titanic_train[\"Cabin\"].astype(str)   # Convert data to str\n",
    "new_Cabin = np.array([cabin[0] for cabin in char_cabin])    # Take the first letter\n",
    "new_Cabin = pd.Categorical(new_Cabin)\n",
    "new_Cabin.describe()"
   ]
  },
  {
   "cell_type": "markdown",
   "id": "3869f2c7-cd8a-4715-b0b1-d33c4ecf9555",
   "metadata": {},
   "source": [
    "We therefore succeeded in considering Cabin into a handful of broader categories, but we also discovered something interesting: 668 of the records that have Cabin are \"n\" which is from \"nan\". In other words, more than 2/3 of the passengers do not have a cabin listed at all. \n",
    "\n",
    "Since there are so many missing variables, the Cabin variable might be devoid of useful information for prediction. On the other hand, a missing cabin variable could be an indicator that the passenger died, because he or she wasn't there to tell the tale. We keep the Cabin variable for now.  "
   ]
  },
  {
   "cell_type": "code",
   "execution_count": 24,
   "id": "91312f74-4d82-41e9-8efe-fc6ff4c72051",
   "metadata": {},
   "outputs": [],
   "source": [
    "# Keep cabin variable\n",
    "titanic_train[\"Cabin\"] = new_Cabin"
   ]
  },
  {
   "cell_type": "markdown",
   "id": "c108fd7b-c884-434f-9215-3b3d1d329987",
   "metadata": {},
   "source": [
    "#### 3. Are there any NA values, outliers or other strange values?\n",
    "Missing values, outliers and strange values can negatively affect statistical tests and models and may even cause certain functions to fail."
   ]
  },
  {
   "cell_type": "code",
   "execution_count": 25,
   "id": "cc872eab-192d-40dc-ac6e-ee34b827351a",
   "metadata": {},
   "outputs": [
    {
     "data": {
      "text/plain": [
       "0    False\n",
       "1     True\n",
       "2    False\n",
       "3     True\n",
       "4    False\n",
       "5    False\n",
       "dtype: bool"
      ]
     },
     "execution_count": 25,
     "metadata": {},
     "output_type": "execute_result"
    }
   ],
   "source": [
    "# Detect null values with pd.isnull()\n",
    "dummy_vector = pd.Series([1,None,3,None,7,8])\n",
    "dummy_vector.isnull()"
   ]
  },
  {
   "cell_type": "code",
   "execution_count": 26,
   "id": "73c6c404-5e1a-4903-8b81-b994b67f90a6",
   "metadata": {},
   "outputs": [
    {
     "data": {
      "text/plain": [
       "count    714.000000\n",
       "mean      29.699118\n",
       "std       14.526497\n",
       "min        0.420000\n",
       "25%       20.125000\n",
       "50%       28.000000\n",
       "75%       38.000000\n",
       "max       80.000000\n",
       "Name: Age, dtype: float64"
      ]
     },
     "execution_count": 26,
     "metadata": {},
     "output_type": "execute_result"
    }
   ],
   "source": [
    "titanic_train[\"Age\"].describe()"
   ]
  },
  {
   "cell_type": "markdown",
   "id": "98a4367c-a0b4-4f55-b584-29a2a192864f",
   "metadata": {},
   "source": [
    "The count of age is less than the total row count 889, which indicates missing data."
   ]
  },
  {
   "cell_type": "code",
   "execution_count": 27,
   "id": "13f464ec-f3e0-4344-935e-dbc165503422",
   "metadata": {},
   "outputs": [
    {
     "data": {
      "text/plain": [
       "(array([  5,  17,  19,  26,  28,  29,  31,  32,  36,  42,  45,  46,  47,\n",
       "         48,  55,  64,  65,  76,  77,  82,  87,  95, 101, 107, 109, 121,\n",
       "        126, 128, 140, 154, 158, 159, 166, 168, 176, 180, 181, 185, 186,\n",
       "        196, 198, 201, 214, 223, 229, 235, 240, 241, 250, 256, 260, 264,\n",
       "        270, 274, 277, 284, 295, 298, 300, 301, 303, 304, 306, 324, 330,\n",
       "        334, 335, 347, 351, 354, 358, 359, 364, 367, 368, 375, 384, 388,\n",
       "        409, 410, 411, 413, 415, 420, 425, 428, 431, 444, 451, 454, 457,\n",
       "        459, 464, 466, 468, 470, 475, 481, 485, 490, 495, 497, 502, 507,\n",
       "        511, 517, 522, 524, 527, 531, 533, 538, 547, 552, 557, 560, 563,\n",
       "        564, 568, 573, 578, 584, 589, 593, 596, 598, 601, 602, 611, 612,\n",
       "        613, 629, 633, 639, 643, 648, 650, 653, 656, 667, 669, 674, 680,\n",
       "        692, 697, 709, 711, 718, 727, 732, 738, 739, 740, 760, 766, 768,\n",
       "        773, 776, 778, 783, 790, 792, 793, 815, 825, 826, 828, 832, 837,\n",
       "        839, 846, 849, 859, 863, 868, 878, 888], dtype=int64),)"
      ]
     },
     "execution_count": 27,
     "metadata": {},
     "output_type": "execute_result"
    }
   ],
   "source": [
    "# Get the row indexes of the missing values with np.where()\n",
    "missing = np.where(titanic_train[\"Age\"].isnull() == True)\n",
    "missing"
   ]
  },
  {
   "cell_type": "code",
   "execution_count": 28,
   "id": "80982f9d-c678-4b9b-a1aa-20c6d59a8a65",
   "metadata": {},
   "outputs": [
    {
     "data": {
      "text/plain": [
       "177"
      ]
     },
     "execution_count": 28,
     "metadata": {},
     "output_type": "execute_result"
    }
   ],
   "source": [
    "len(missing[0])"
   ]
  },
  {
   "cell_type": "markdown",
   "id": "44a8196f-9204-431e-8477-ac15148c31fb",
   "metadata": {},
   "source": [
    "With 177 missing values in such a small data set it's probably not a good idea to throw all those records away. Here are some ways to deal with them: \n",
    "\n",
    "* 1. Replace the null values with 0s\n",
    "* 2. Replace the null values with some central value like the mean or median\n",
    "* 3. Impute some other value\n",
    "* 4. Split the data set into 2 parts: one set where records have an age value and another set where age is null\n",
    "\n",
    "A person's age can't be 0 so option 1 is discarded. To evaluate option 2 we get a sense of the distribution of ages by creating a histogram."
   ]
  },
  {
   "cell_type": "code",
   "execution_count": 29,
   "id": "55420dc0-26ee-4aed-9658-bd2da0be45da",
   "metadata": {},
   "outputs": [
    {
     "data": {
      "text/plain": [
       "array([[<AxesSubplot:title={'center':'Age'}>]], dtype=object)"
      ]
     },
     "execution_count": 29,
     "metadata": {},
     "output_type": "execute_result"
    },
    {
     "data": {
      "image/png": "[encoded data removed]",
      "text/plain": [
       "<Figure size 648x432 with 1 Axes>"
      ]
     },
     "metadata": {
      "needs_background": "light"
     },
     "output_type": "display_data"
    }
   ],
   "source": [
    "# Histogram of Age\n",
    "titanic_train.hist(column = \"Age\",      # Column to plot\n",
    "                   figsize = (9,6),     # Plot size\n",
    "                   bins = 20)           # Number of histogram bins"
   ]
  },
  {
   "cell_type": "markdown",
   "id": "e604b201-625e-475c-828e-7b34281822d1",
   "metadata": {},
   "source": [
    "From the histogram we see that ages between 20 and 30 are the most common, so filling in missing values with a central number like the mean or median wouldn't be entirely unreasonable. "
   ]
  },
  {
   "cell_type": "code",
   "execution_count": 31,
   "id": "555f1e4b-ec76-47fd-bc14-801a2d1c5cdb",
   "metadata": {},
   "outputs": [
    {
     "data": {
      "text/plain": [
       "28.0"
      ]
     },
     "execution_count": 31,
     "metadata": {},
     "output_type": "execute_result"
    }
   ],
   "source": [
    "# Get median\n",
    "titanic_train[\"Age\"].median()"
   ]
  },
  {
   "cell_type": "code",
   "execution_count": 32,
   "id": "3823aeb0-fb6e-4f98-8b1a-893006a57223",
   "metadata": {},
   "outputs": [
    {
     "data": {
      "text/plain": [
       "count    891.000000\n",
       "mean      29.361582\n",
       "std       13.019697\n",
       "min        0.420000\n",
       "25%       22.000000\n",
       "50%       28.000000\n",
       "75%       35.000000\n",
       "max       80.000000\n",
       "Name: Age, dtype: float64"
      ]
     },
     "execution_count": 32,
     "metadata": {},
     "output_type": "execute_result"
    }
   ],
   "source": [
    "# Replace missing values with median\n",
    "new_age_var = np.where(titanic_train[\"Age\"].isnull(),        # Logical check\n",
    "                      28,                                    # Value if check is true\n",
    "                      titanic_train[\"Age\"])                  # Value if check is false\n",
    "\n",
    "titanic_train[\"Age\"] = new_age_var\n",
    "\n",
    "titanic_train[\"Age\"].describe()"
   ]
  },
  {
   "cell_type": "markdown",
   "id": "cc643d5b-cd40-410c-b511-a67fbce31ad0",
   "metadata": {},
   "source": [
    "Since we added a bunch of 28s, the histogram should show the 28 bin much higher."
   ]
  },
  {
   "cell_type": "code",
   "execution_count": 33,
   "id": "8933080f-1619-46dd-a991-46cd0590bb24",
   "metadata": {},
   "outputs": [
    {
     "data": {
      "text/plain": [
       "array([[<AxesSubplot:title={'center':'Age'}>]], dtype=object)"
      ]
     },
     "execution_count": 33,
     "metadata": {},
     "output_type": "execute_result"
    },
    {
     "data": {
      "image/png": "[encoded data removed]",
      "text/plain": [
       "<Figure size 648x432 with 1 Axes>"
      ]
     },
     "metadata": {
      "needs_background": "light"
     },
     "output_type": "display_data"
    }
   ],
   "source": [
    "titanic_train.hist(column = \"Age\",    # Column to plot\n",
    "                  figsize = (9,6),    # Plot size\n",
    "                  bins = 20)          # Number of histogram bins"
   ]
  },
  {
   "cell_type": "markdown",
   "id": "d312c8f5-3819-4cdb-ab5a-297ea4bbb722",
   "metadata": {},
   "source": [
    "Next, we consider outliers. Outliers are extremely numerical values: values that lie far away from typical values a variables takes on. Creating plots is one of the fastest ways of detecting outliers. For instance, the histogram shows that at least one or two passengers were 80. "
   ]
  },
  {
   "cell_type": "code",
   "execution_count": 36,
   "id": "586c9e9b-82a3-4bea-81ed-c2762b094fe2",
   "metadata": {},
   "outputs": [
    {
     "data": {
      "text/plain": [
       "<AxesSubplot:>"
      ]
     },
     "execution_count": 36,
     "metadata": {},
     "output_type": "execute_result"
    },
    {
     "data": {
      "image/png": "[encoded data removed]",
      "text/plain": [
       "<Figure size 648x432 with 1 Axes>"
      ]
     },
     "metadata": {
      "needs_background": "light"
     },
     "output_type": "display_data"
    }
   ],
   "source": [
    "# Check outliers in Fare\n",
    "titanic_train[\"Fare\"].plot(kind = \"box\",\n",
    "                          figsize = (9,6))"
   ]
  },
  {
   "cell_type": "markdown",
   "id": "bc7cfade-3dfe-42a3-84a4-3ca951cfea0c",
   "metadata": {},
   "source": [
    "In a boxplot, the central box represents 50% of the data and the central bar represents the median. The dotted lines with bars on the ends are \"whiskers\" which encompass the great majority of the data and points beyond the whiskers indicate uncommon values. In this case, we have some uncommon values that are so far away from the typical value that the box appears squashed in the plot: **this is a clear indication of outliers**. It looks like one passenger paid almost twice as much as any other passenger. Let's check the name of the passenger who paid a lot."
   ]
  },
  {
   "cell_type": "code",
   "execution_count": 37,
   "id": "9128e2ab-df5b-4e58-a840-d9a81958d38a",
   "metadata": {},
   "outputs": [
    {
     "data": {
      "text/html": [
       "<div>\n",
       "<style scoped>\n",
       "    .dataframe tbody tr th:only-of-type {\n",
       "        vertical-align: middle;\n",
       "    }\n",
       "\n",
       "    .dataframe tbody tr th {\n",
       "        vertical-align: top;\n",
       "    }\n",
       "\n",
       "    .dataframe thead th {\n",
       "        text-align: right;\n",
       "    }\n",
       "</style>\n",
       "<table border=\"1\" class=\"dataframe\">\n",
       "  <thead>\n",
       "    <tr style=\"text-align: right;\">\n",
       "      <th></th>\n",
       "      <th>Survived</th>\n",
       "      <th>Pclass</th>\n",
       "      <th>Name</th>\n",
       "      <th>Sex</th>\n",
       "      <th>Age</th>\n",
       "      <th>SibSp</th>\n",
       "      <th>Parch</th>\n",
       "      <th>Fare</th>\n",
       "      <th>Cabin</th>\n",
       "      <th>Embarked</th>\n",
       "    </tr>\n",
       "  </thead>\n",
       "  <tbody>\n",
       "    <tr>\n",
       "      <th>258</th>\n",
       "      <td>1</td>\n",
       "      <td>Class1</td>\n",
       "      <td>Ward, Miss. Anna</td>\n",
       "      <td>female</td>\n",
       "      <td>35.0</td>\n",
       "      <td>0</td>\n",
       "      <td>0</td>\n",
       "      <td>512.3292</td>\n",
       "      <td>n</td>\n",
       "      <td>C</td>\n",
       "    </tr>\n",
       "    <tr>\n",
       "      <th>679</th>\n",
       "      <td>1</td>\n",
       "      <td>Class1</td>\n",
       "      <td>Cardeza, Mr. Thomas Drake Martinez</td>\n",
       "      <td>male</td>\n",
       "      <td>36.0</td>\n",
       "      <td>0</td>\n",
       "      <td>1</td>\n",
       "      <td>512.3292</td>\n",
       "      <td>B</td>\n",
       "      <td>C</td>\n",
       "    </tr>\n",
       "    <tr>\n",
       "      <th>737</th>\n",
       "      <td>1</td>\n",
       "      <td>Class1</td>\n",
       "      <td>Lesurer, Mr. Gustave J</td>\n",
       "      <td>male</td>\n",
       "      <td>35.0</td>\n",
       "      <td>0</td>\n",
       "      <td>0</td>\n",
       "      <td>512.3292</td>\n",
       "      <td>B</td>\n",
       "      <td>C</td>\n",
       "    </tr>\n",
       "  </tbody>\n",
       "</table>\n",
       "</div>"
      ],
      "text/plain": [
       "     Survived  Pclass                                Name     Sex   Age  \\\n",
       "258         1  Class1                    Ward, Miss. Anna  female  35.0   \n",
       "679         1  Class1  Cardeza, Mr. Thomas Drake Martinez    male  36.0   \n",
       "737         1  Class1              Lesurer, Mr. Gustave J    male  35.0   \n",
       "\n",
       "     SibSp  Parch      Fare Cabin Embarked  \n",
       "258      0      0  512.3292     n        C  \n",
       "679      0      1  512.3292     B        C  \n",
       "737      0      0  512.3292     B        C  "
      ]
     },
     "execution_count": 37,
     "metadata": {},
     "output_type": "execute_result"
    }
   ],
   "source": [
    "index = np.where(titanic_train[\"Fare\"] == max(titanic_train[\"Fare\"]))\n",
    "titanic_train.loc[index]"
   ]
  },
  {
   "cell_type": "markdown",
   "id": "428ae14e-179f-40c6-872c-12e6e285ddda",
   "metadata": {},
   "source": [
    "Looking at the boxplot it seemed there was only one passenger who paid a lot but the output above shows that there were 3 passengers who all paid the same fare. \n",
    "\n",
    "Similar to null values there's no single cure for outliers. You can keep them, delete them or transform them in some way to try to reduce their impact. Even if you decide to keep outliers unchanged it is still worth identifying them since they can have disproportionately large influence on your results. Let's keep the three high rollers unchanged.\n",
    "\n",
    "Data sets can have other strange values beyond missing values and outliers that you may need to address. Sometimes data is mislabeled or simply erroneous; bad data can corrupt any sort of analysis so it is important to address these sorts of issues before doing too much work."
   ]
  },
  {
   "cell_type": "markdown",
   "id": "a23b36d2-ebf3-42c2-9edd-dd24ca57e41f",
   "metadata": {},
   "source": [
    "#### 4. Should I create new variables?\n",
    "The variables present when you load a data set aren't always the most useful variables for analysis. Creating new variables that are derivations or combinations existing ones is a common step to take before jumping into an analysis or modeling task.\n"
   ]
  },
  {
   "cell_type": "code",
   "execution_count": 38,
   "id": "b1b9347c-27ae-49be-91f9-49d9ecd5aa8c",
   "metadata": {},
   "outputs": [],
   "source": [
    "# Create \"Family\" variable combining SibSp and Parch to indicate the total number of family members a passenger has on board\n",
    "titanic_train[\"Family\"] = titanic_train[\"SibSp\"] + titanic_train[\"Parch\"]"
   ]
  },
  {
   "cell_type": "code",
   "execution_count": 39,
   "id": "0ecfea15-9339-410b-acb0-cf58b55a497d",
   "metadata": {},
   "outputs": [
    {
     "data": {
      "text/html": [
       "<div>\n",
       "<style scoped>\n",
       "    .dataframe tbody tr th:only-of-type {\n",
       "        vertical-align: middle;\n",
       "    }\n",
       "\n",
       "    .dataframe tbody tr th {\n",
       "        vertical-align: top;\n",
       "    }\n",
       "\n",
       "    .dataframe thead th {\n",
       "        text-align: right;\n",
       "    }\n",
       "</style>\n",
       "<table border=\"1\" class=\"dataframe\">\n",
       "  <thead>\n",
       "    <tr style=\"text-align: right;\">\n",
       "      <th></th>\n",
       "      <th>Survived</th>\n",
       "      <th>Pclass</th>\n",
       "      <th>Name</th>\n",
       "      <th>Sex</th>\n",
       "      <th>Age</th>\n",
       "      <th>SibSp</th>\n",
       "      <th>Parch</th>\n",
       "      <th>Fare</th>\n",
       "      <th>Cabin</th>\n",
       "      <th>Embarked</th>\n",
       "      <th>Family</th>\n",
       "    </tr>\n",
       "  </thead>\n",
       "  <tbody>\n",
       "    <tr>\n",
       "      <th>159</th>\n",
       "      <td>0</td>\n",
       "      <td>Class3</td>\n",
       "      <td>Sage, Master. Thomas Henry</td>\n",
       "      <td>male</td>\n",
       "      <td>28.0</td>\n",
       "      <td>8</td>\n",
       "      <td>2</td>\n",
       "      <td>69.55</td>\n",
       "      <td>n</td>\n",
       "      <td>S</td>\n",
       "      <td>10</td>\n",
       "    </tr>\n",
       "    <tr>\n",
       "      <th>180</th>\n",
       "      <td>0</td>\n",
       "      <td>Class3</td>\n",
       "      <td>Sage, Miss. Constance Gladys</td>\n",
       "      <td>female</td>\n",
       "      <td>28.0</td>\n",
       "      <td>8</td>\n",
       "      <td>2</td>\n",
       "      <td>69.55</td>\n",
       "      <td>n</td>\n",
       "      <td>S</td>\n",
       "      <td>10</td>\n",
       "    </tr>\n",
       "    <tr>\n",
       "      <th>201</th>\n",
       "      <td>0</td>\n",
       "      <td>Class3</td>\n",
       "      <td>Sage, Mr. Frederick</td>\n",
       "      <td>male</td>\n",
       "      <td>28.0</td>\n",
       "      <td>8</td>\n",
       "      <td>2</td>\n",
       "      <td>69.55</td>\n",
       "      <td>n</td>\n",
       "      <td>S</td>\n",
       "      <td>10</td>\n",
       "    </tr>\n",
       "    <tr>\n",
       "      <th>324</th>\n",
       "      <td>0</td>\n",
       "      <td>Class3</td>\n",
       "      <td>Sage, Mr. George John Jr</td>\n",
       "      <td>male</td>\n",
       "      <td>28.0</td>\n",
       "      <td>8</td>\n",
       "      <td>2</td>\n",
       "      <td>69.55</td>\n",
       "      <td>n</td>\n",
       "      <td>S</td>\n",
       "      <td>10</td>\n",
       "    </tr>\n",
       "    <tr>\n",
       "      <th>792</th>\n",
       "      <td>0</td>\n",
       "      <td>Class3</td>\n",
       "      <td>Sage, Miss. Stella Anna</td>\n",
       "      <td>female</td>\n",
       "      <td>28.0</td>\n",
       "      <td>8</td>\n",
       "      <td>2</td>\n",
       "      <td>69.55</td>\n",
       "      <td>n</td>\n",
       "      <td>S</td>\n",
       "      <td>10</td>\n",
       "    </tr>\n",
       "    <tr>\n",
       "      <th>846</th>\n",
       "      <td>0</td>\n",
       "      <td>Class3</td>\n",
       "      <td>Sage, Mr. Douglas Bullen</td>\n",
       "      <td>male</td>\n",
       "      <td>28.0</td>\n",
       "      <td>8</td>\n",
       "      <td>2</td>\n",
       "      <td>69.55</td>\n",
       "      <td>n</td>\n",
       "      <td>S</td>\n",
       "      <td>10</td>\n",
       "    </tr>\n",
       "    <tr>\n",
       "      <th>863</th>\n",
       "      <td>0</td>\n",
       "      <td>Class3</td>\n",
       "      <td>Sage, Miss. Dorothy Edith \"Dolly\"</td>\n",
       "      <td>female</td>\n",
       "      <td>28.0</td>\n",
       "      <td>8</td>\n",
       "      <td>2</td>\n",
       "      <td>69.55</td>\n",
       "      <td>n</td>\n",
       "      <td>S</td>\n",
       "      <td>10</td>\n",
       "    </tr>\n",
       "  </tbody>\n",
       "</table>\n",
       "</div>"
      ],
      "text/plain": [
       "     Survived  Pclass                               Name     Sex   Age  SibSp  \\\n",
       "159         0  Class3         Sage, Master. Thomas Henry    male  28.0      8   \n",
       "180         0  Class3       Sage, Miss. Constance Gladys  female  28.0      8   \n",
       "201         0  Class3                Sage, Mr. Frederick    male  28.0      8   \n",
       "324         0  Class3           Sage, Mr. George John Jr    male  28.0      8   \n",
       "792         0  Class3            Sage, Miss. Stella Anna  female  28.0      8   \n",
       "846         0  Class3           Sage, Mr. Douglas Bullen    male  28.0      8   \n",
       "863         0  Class3  Sage, Miss. Dorothy Edith \"Dolly\"  female  28.0      8   \n",
       "\n",
       "     Parch   Fare Cabin Embarked  Family  \n",
       "159      2  69.55     n        S      10  \n",
       "180      2  69.55     n        S      10  \n",
       "201      2  69.55     n        S      10  \n",
       "324      2  69.55     n        S      10  \n",
       "792      2  69.55     n        S      10  \n",
       "846      2  69.55     n        S      10  \n",
       "863      2  69.55     n        S      10  "
      ]
     },
     "execution_count": 39,
     "metadata": {},
     "output_type": "execute_result"
    }
   ],
   "source": [
    "# Find who has the most amount of family members on board\n",
    "most_family = np.where(titanic_train[\"Family\"] == max(titanic_train[\"Family\"]))\n",
    "titanic_train.loc[most_family]"
   ]
  },
  {
   "cell_type": "markdown",
   "id": "5fc41056-2c50-4fa4-9932-fe1f64c0825c",
   "metadata": {},
   "source": [
    "There were 7 people on board with 8 siblings/spouses and 2 parents/children--they were probably all siblings of one another. Tragically, all 7 of them passed away. The 8th sibling is likely in the test data for which we are supposed make predictions."
   ]
  },
  {
   "cell_type": "markdown",
   "id": "40cb05f6-ec96-4ce9-b560-fd05c67ca14d",
   "metadata": {},
   "source": [
    "## 15. Working with text data\n",
    "Text data can be extremely difficult to work with because it contains all sorts of characters and symbols that may have little meaning for your analysis. "
   ]
  },
  {
   "cell_type": "code",
   "execution_count": 8,
   "id": "0eccb084-d4a3-4852-b153-cf550e3227fd",
   "metadata": {},
   "outputs": [
    {
     "data": {
      "text/plain": [
       "0    False\n",
       "1     True\n",
       "2     True\n",
       "dtype: bool"
      ]
     },
     "execution_count": 8,
     "metadata": {},
     "output_type": "execute_result"
    }
   ],
   "source": [
    "\"\"\"\n",
    "Regular expressions include several special character sets that allow to quickly specify certain common character types. They include:\n",
    "[a-z] - match any lowercase letter \n",
    "[A-Z] - match any uppercase letter \n",
    "[0-9] - match any digit \n",
    "[a-zA-Z0-9] - match any letter or digit\n",
    "Adding the \"^\" symbol inside the square brackets matches any characters NOT in the set:\n",
    "[^a-z] - match any character that is not a lowercase letter \n",
    "[^A-Z] - match any character that is not a uppercase letter \n",
    "[^0-9] - match any character that is not a digit \n",
    "[^a-zA-Z0-9] - match any character that is not a letter or digit\n",
    "Python regular expressions also include a shorthand for specifying common sequences:\n",
    "\\d - match any digit \n",
    "\\D - match any non digit \n",
    "\\w - match a word character\n",
    "\\W - match a non-word character \n",
    "\\s - match whitespace (spaces, tabs, newlines, etc.) \n",
    "\\S - match non-whitespace\n",
    "\"^\" - outside of square brackets, the caret symbol searches for matches at the beginning of a string:\n",
    "\"\"\"\n",
    "\n",
    "example_str1 = pd.Series([\"Where did he go\", \"He went to the mall\", \"he is good\"])\n",
    "\n",
    "# Matches He or he at the start of a string\n",
    "example_str1.str.contains(\"^(He|he)\")"
   ]
  },
  {
   "cell_type": "code",
   "execution_count": 9,
   "id": "7b007521-2c4b-4ec2-a685-85e170f3d715",
   "metadata": {},
   "outputs": [
    {
     "data": {
      "text/plain": [
       "0     True\n",
       "1    False\n",
       "2    False\n",
       "dtype: bool"
      ]
     },
     "execution_count": 9,
     "metadata": {},
     "output_type": "execute_result"
    }
   ],
   "source": [
    "# $ searches for matches at the end of a string\n",
    "example_str1.str.contains(\"(go)$\")   # Matches go at the end of a string"
   ]
  },
  {
   "cell_type": "code",
   "execution_count": 10,
   "id": "90701c2c-99fe-4335-8f81-bea80e6f3e17",
   "metadata": {},
   "outputs": [
    {
     "data": {
      "text/plain": [
       "0     True\n",
       "1    False\n",
       "2    False\n",
       "3     True\n",
       "4     True\n",
       "dtype: bool"
      ]
     },
     "execution_count": 10,
     "metadata": {},
     "output_type": "execute_result"
    }
   ],
   "source": [
    "\"\"\"\n",
    "\"( )\" - parentheses in regular expressions are used for grouping and to enforce the proper order of operations just like they are in math and logical expressions. In the examples above, the parentheses let us group the or expressions so that the \"^\" and \"$\" symbols operate on the entire or statement.\n",
    "\"*\" - an asterisk matches zero or more copies of the preceding character\n",
    "\"?\" - a question mark matches zero or 1 copy of the preceding character\n",
    "\"+\" - a plus matches 1 more copies of the preceding character\n",
    "\"\"\"\n",
    "\n",
    "example_str2 = pd.Series([\"abdominal\",\"b\",\"aa\",\"abbcc\",\"aba\"])\n",
    "\n",
    "# Match 0 or more a's, a single b, then 1 or characters\n",
    "example_str2.str.contains(\"a*b.+\")"
   ]
  },
  {
   "cell_type": "code",
   "execution_count": 11,
   "id": "cb4c667e-14fc-4927-aa7b-cee1412babff",
   "metadata": {},
   "outputs": [
    {
     "data": {
      "text/plain": [
       "0    False\n",
       "1    False\n",
       "2     True\n",
       "3    False\n",
       "4     True\n",
       "dtype: bool"
      ]
     },
     "execution_count": 11,
     "metadata": {},
     "output_type": "execute_result"
    }
   ],
   "source": [
    "# Match 1 or more a's, an optional b, then 1 or a's\n",
    "example_str2.str.contains(\"a+b?a+\")"
   ]
  },
  {
   "cell_type": "code",
   "execution_count": 13,
   "id": "9bd8770d-65a6-44ba-8b83-d067e7510461",
   "metadata": {},
   "outputs": [
    {
     "data": {
      "text/plain": [
       "0    False\n",
       "1    False\n",
       "2    False\n",
       "3     True\n",
       "dtype: bool"
      ]
     },
     "execution_count": 13,
     "metadata": {},
     "output_type": "execute_result"
    }
   ],
   "source": [
    "\"\"\"\n",
    "\"{ }\" - curly braces match a preceding character for a specified number of repetitions:\n",
    "\"{m}\" - the preceding element is matched m times\n",
    "\"{m,}\" - the preceding element is matched m times or more\n",
    "\"{m,n}\" - the preceding element is matched between m and n times\n",
    "\"\"\"\n",
    "\n",
    "example_str3 = pd.Series([\"aabcbcb\",\"abbb\",\"abbaab\",\"aabb\"])\n",
    "\n",
    "# Match 2 a'sthen 2 or more b's\n",
    "example_str3.str.contains(\"a{2}b{2,}\")"
   ]
  },
  {
   "cell_type": "markdown",
   "id": "5f528dcf-3265-420e-add2-d47a6af09218",
   "metadata": {},
   "source": [
    "\"\\\\\" - backslash let you \"escape\" metacharacters. You must escape metacharacters when you actually want to match the metacharacter symbol itself. For instance, if you want to match periods you can't use \".\" because it is a metacharacter that matches anything. Instead, you'd use \".\" to escape the period's metacharacter behavior and match the period itself"
   ]
  },
  {
   "cell_type": "code",
   "execution_count": 14,
   "id": "995b7f85-f478-420e-893d-aeb84dd46f4d",
   "metadata": {},
   "outputs": [
    {
     "data": {
      "text/plain": [
       "0     True\n",
       "1     True\n",
       "2    False\n",
       "dtype: bool"
      ]
     },
     "execution_count": 14,
     "metadata": {},
     "output_type": "execute_result"
    }
   ],
   "source": [
    "ex_str4 = pd.Series([\"Mr. Ed\",\"Dr. Mario\",\"Miss\\Mrs Granger.\"])\n",
    "# Matches a single period and then a space\n",
    "ex_str4.str.contains(\"\\. \")"
   ]
  },
  {
   "cell_type": "markdown",
   "id": "f556f454-319d-4768-a673-642813b5901b",
   "metadata": {},
   "source": [
    "If you want to match the escape character backslash itself, you either have to use four backslashes \"\\\" or encode the string as a raw string of the form r\"mystring\" and then use double backslashes. Raw strings are an alternate string representation in Python that simplify some oddities in performing regular expressions on normal strings."
   ]
  },
  {
   "cell_type": "code",
   "execution_count": 15,
   "id": "5261794c-36cd-498d-8aaf-bee94db4f898",
   "metadata": {},
   "outputs": [
    {
     "data": {
      "text/plain": [
       "0    False\n",
       "1    False\n",
       "2     True\n",
       "dtype: bool"
      ]
     },
     "execution_count": 15,
     "metadata": {},
     "output_type": "execute_result"
    }
   ],
   "source": [
    "# Match strings containing a backslash\n",
    "ex_str4.str.contains(r\"\\\\\") "
   ]
  },
  {
   "cell_type": "markdown",
   "id": "5f382e99-ef16-4c2e-b275-6d18df90cbda",
   "metadata": {},
   "source": [
    "Raw strings are often used for regular expression patterns because they avoid issues that may that arise when dealing with special string characters.\n",
    "\n",
    "There are more regular expression intricacies we won't cover here, but combinations of the few symbols we've covered give you a great amount of expressive power. Regular expressions are commonly used to perform tasks like matching phone numbers, email addresses and web addresses in blocks of text.\n",
    "\n",
    "To use regular expressions outside of pandas, you can import the regular expression library with: import re."
   ]
  },
  {
   "cell_type": "markdown",
   "id": "76447557-9aa6-4e70-82d6-b529d128f587",
   "metadata": {},
   "source": [
    "Complex regular expressions can be difficult to write and confusing to read. Sometimes it is easiest to simply search the web for a regular expression to perform a common task instead of writing one from scratch. You can test and troubleshoot Python regular expressions using: https://regex101.com/#python"
   ]
  },
  {
   "cell_type": "markdown",
   "id": "47e55b8a-adc3-41af-9013-c28f4aabb4b5",
   "metadata": {},
   "source": [
    "## 16. Preparing Numeric Data\n",
    "Better behaved than text data because all numbers have well defined values. There are a variety of preprocessing tasks you should consider before using numeric data"
   ]
  },
  {
   "cell_type": "markdown",
   "id": "8124b1b8-3f1e-42ab-a50d-7c2e304b2bd6",
   "metadata": {},
   "source": [
    "### Centering and Scaling\n",
    "Centering and scaling is a common preprocessing task that puts numeric variables on a common scale so no single variable will dominate others. It's important so that the variables can be easily compared.\n",
    "\n",
    "**The simplest way to center data is to substract the mean value from each data point.** Substracting the mean centers the data aroung 0 and sets the new mean to 0. "
   ]
  },
  {
   "cell_type": "code",
   "execution_count": 1,
   "id": "e9377acc-a7ac-441e-98b5-6067a61eda16",
   "metadata": {},
   "outputs": [],
   "source": [
    "%matplotlib inline\n",
    "import numpy as np\n",
    "import pandas as pd\n",
    "\n",
    "mtcars = pd.read_csv(\"C:/Users/Micaela Rodriguez/Mentorías/Python for Data Analysis/mtcars.csv\")"
   ]
  },
  {
   "cell_type": "code",
   "execution_count": 2,
   "id": "3d0fe692-f343-437c-833c-d91c694445ed",
   "metadata": {},
   "outputs": [
    {
     "name": "stdout",
     "output_type": "stream",
     "text": [
      "               model   mpg  cyl   disp   hp  drat     wt   qsec  vs  am  gear  \\\n",
      "0          Mazda RX4  21.0    6  160.0  110  3.90  2.620  16.46   0   1     4   \n",
      "1      Mazda RX4 Wag  21.0    6  160.0  110  3.90  2.875  17.02   0   1     4   \n",
      "2         Datsun 710  22.8    4  108.0   93  3.85  2.320  18.61   1   1     4   \n",
      "3     Hornet 4 Drive  21.4    6  258.0  110  3.08  3.215  19.44   1   0     3   \n",
      "4  Hornet Sportabout  18.7    8  360.0  175  3.15  3.440  17.02   0   0     3   \n",
      "\n",
      "   carb  \n",
      "0     4  \n",
      "1     4  \n",
      "2     1  \n",
      "3     1  \n",
      "4     2  \n"
     ]
    },
    {
     "data": {
      "text/plain": [
       "mpg      20.090625\n",
       "cyl       6.187500\n",
       "disp    230.721875\n",
       "hp      146.687500\n",
       "drat      3.596563\n",
       "wt        3.217250\n",
       "qsec     17.848750\n",
       "vs        0.437500\n",
       "am        0.406250\n",
       "gear      3.687500\n",
       "carb      2.812500\n",
       "dtype: float64"
      ]
     },
     "execution_count": 2,
     "metadata": {},
     "output_type": "execute_result"
    }
   ],
   "source": [
    "print(mtcars.head())\n",
    "\n",
    "mtcars.index = mtcars.model     # Set row index to car model\n",
    "del mtcars[\"model\"]             # Drop car name column\n",
    "\n",
    "colmeans = mtcars.sum()/mtcars.shape[0]     # Get column means\n",
    "\n",
    "colmeans"
   ]
  },
  {
   "cell_type": "markdown",
   "id": "cfc94005-0f66-4728-9e91-d28855d6fb91",
   "metadata": {},
   "source": [
    "With the column means in hand, we just need to subtract the column means from each row in an element-wise fashion to zero center the data. Pandas performs math operations involving DataFrames and columns on an element-wise row-by-row basis by default, so we can simply subtract our column means series from the data set to center it.\n",
    "\n",
    "With zero centered data, negative values are below average and positive values are above average."
   ]
  },
  {
   "cell_type": "code",
   "execution_count": 3,
   "id": "dc6793c1-e384-46e1-97aa-b8dfb626a6d3",
   "metadata": {},
   "outputs": [
    {
     "data": {
      "text/html": [
       "<div>\n",
       "<style scoped>\n",
       "    .dataframe tbody tr th:only-of-type {\n",
       "        vertical-align: middle;\n",
       "    }\n",
       "\n",
       "    .dataframe tbody tr th {\n",
       "        vertical-align: top;\n",
       "    }\n",
       "\n",
       "    .dataframe thead th {\n",
       "        text-align: right;\n",
       "    }\n",
       "</style>\n",
       "<table border=\"1\" class=\"dataframe\">\n",
       "  <thead>\n",
       "    <tr style=\"text-align: right;\">\n",
       "      <th></th>\n",
       "      <th>mpg</th>\n",
       "      <th>cyl</th>\n",
       "      <th>disp</th>\n",
       "      <th>hp</th>\n",
       "      <th>drat</th>\n",
       "      <th>wt</th>\n",
       "      <th>qsec</th>\n",
       "      <th>vs</th>\n",
       "      <th>am</th>\n",
       "      <th>gear</th>\n",
       "      <th>carb</th>\n",
       "    </tr>\n",
       "  </thead>\n",
       "  <tbody>\n",
       "    <tr>\n",
       "      <th>count</th>\n",
       "      <td>3.200000e+01</td>\n",
       "      <td>32.000000</td>\n",
       "      <td>3.200000e+01</td>\n",
       "      <td>32.000000</td>\n",
       "      <td>3.200000e+01</td>\n",
       "      <td>3.200000e+01</td>\n",
       "      <td>3.200000e+01</td>\n",
       "      <td>32.000000</td>\n",
       "      <td>32.000000</td>\n",
       "      <td>32.000000</td>\n",
       "      <td>32.0000</td>\n",
       "    </tr>\n",
       "    <tr>\n",
       "      <th>mean</th>\n",
       "      <td>-3.330669e-15</td>\n",
       "      <td>0.000000</td>\n",
       "      <td>1.953993e-14</td>\n",
       "      <td>0.000000</td>\n",
       "      <td>-1.526557e-16</td>\n",
       "      <td>-4.163336e-16</td>\n",
       "      <td>-2.609024e-15</td>\n",
       "      <td>0.000000</td>\n",
       "      <td>0.000000</td>\n",
       "      <td>0.000000</td>\n",
       "      <td>0.0000</td>\n",
       "    </tr>\n",
       "    <tr>\n",
       "      <th>std</th>\n",
       "      <td>6.026948e+00</td>\n",
       "      <td>1.785922</td>\n",
       "      <td>1.239387e+02</td>\n",
       "      <td>68.562868</td>\n",
       "      <td>5.346787e-01</td>\n",
       "      <td>9.784574e-01</td>\n",
       "      <td>1.786943e+00</td>\n",
       "      <td>0.504016</td>\n",
       "      <td>0.498991</td>\n",
       "      <td>0.737804</td>\n",
       "      <td>1.6152</td>\n",
       "    </tr>\n",
       "    <tr>\n",
       "      <th>min</th>\n",
       "      <td>-9.690625e+00</td>\n",
       "      <td>-2.187500</td>\n",
       "      <td>-1.596219e+02</td>\n",
       "      <td>-94.687500</td>\n",
       "      <td>-8.365625e-01</td>\n",
       "      <td>-1.704250e+00</td>\n",
       "      <td>-3.348750e+00</td>\n",
       "      <td>-0.437500</td>\n",
       "      <td>-0.406250</td>\n",
       "      <td>-0.687500</td>\n",
       "      <td>-1.8125</td>\n",
       "    </tr>\n",
       "    <tr>\n",
       "      <th>25%</th>\n",
       "      <td>-4.665625e+00</td>\n",
       "      <td>-2.187500</td>\n",
       "      <td>-1.098969e+02</td>\n",
       "      <td>-50.187500</td>\n",
       "      <td>-5.165625e-01</td>\n",
       "      <td>-6.360000e-01</td>\n",
       "      <td>-9.562500e-01</td>\n",
       "      <td>-0.437500</td>\n",
       "      <td>-0.406250</td>\n",
       "      <td>-0.687500</td>\n",
       "      <td>-0.8125</td>\n",
       "    </tr>\n",
       "    <tr>\n",
       "      <th>50%</th>\n",
       "      <td>-8.906250e-01</td>\n",
       "      <td>-0.187500</td>\n",
       "      <td>-3.442187e+01</td>\n",
       "      <td>-23.687500</td>\n",
       "      <td>9.843750e-02</td>\n",
       "      <td>1.077500e-01</td>\n",
       "      <td>-1.387500e-01</td>\n",
       "      <td>-0.437500</td>\n",
       "      <td>-0.406250</td>\n",
       "      <td>0.312500</td>\n",
       "      <td>-0.8125</td>\n",
       "    </tr>\n",
       "    <tr>\n",
       "      <th>75%</th>\n",
       "      <td>2.709375e+00</td>\n",
       "      <td>1.812500</td>\n",
       "      <td>9.527813e+01</td>\n",
       "      <td>33.312500</td>\n",
       "      <td>3.234375e-01</td>\n",
       "      <td>3.927500e-01</td>\n",
       "      <td>1.051250e+00</td>\n",
       "      <td>0.562500</td>\n",
       "      <td>0.593750</td>\n",
       "      <td>0.312500</td>\n",
       "      <td>1.1875</td>\n",
       "    </tr>\n",
       "    <tr>\n",
       "      <th>max</th>\n",
       "      <td>1.380937e+01</td>\n",
       "      <td>1.812500</td>\n",
       "      <td>2.412781e+02</td>\n",
       "      <td>188.312500</td>\n",
       "      <td>1.333437e+00</td>\n",
       "      <td>2.206750e+00</td>\n",
       "      <td>5.051250e+00</td>\n",
       "      <td>0.562500</td>\n",
       "      <td>0.593750</td>\n",
       "      <td>1.312500</td>\n",
       "      <td>5.1875</td>\n",
       "    </tr>\n",
       "  </tbody>\n",
       "</table>\n",
       "</div>"
      ],
      "text/plain": [
       "                mpg        cyl          disp          hp          drat  \\\n",
       "count  3.200000e+01  32.000000  3.200000e+01   32.000000  3.200000e+01   \n",
       "mean  -3.330669e-15   0.000000  1.953993e-14    0.000000 -1.526557e-16   \n",
       "std    6.026948e+00   1.785922  1.239387e+02   68.562868  5.346787e-01   \n",
       "min   -9.690625e+00  -2.187500 -1.596219e+02  -94.687500 -8.365625e-01   \n",
       "25%   -4.665625e+00  -2.187500 -1.098969e+02  -50.187500 -5.165625e-01   \n",
       "50%   -8.906250e-01  -0.187500 -3.442187e+01  -23.687500  9.843750e-02   \n",
       "75%    2.709375e+00   1.812500  9.527813e+01   33.312500  3.234375e-01   \n",
       "max    1.380937e+01   1.812500  2.412781e+02  188.312500  1.333437e+00   \n",
       "\n",
       "                 wt          qsec         vs         am       gear     carb  \n",
       "count  3.200000e+01  3.200000e+01  32.000000  32.000000  32.000000  32.0000  \n",
       "mean  -4.163336e-16 -2.609024e-15   0.000000   0.000000   0.000000   0.0000  \n",
       "std    9.784574e-01  1.786943e+00   0.504016   0.498991   0.737804   1.6152  \n",
       "min   -1.704250e+00 -3.348750e+00  -0.437500  -0.406250  -0.687500  -1.8125  \n",
       "25%   -6.360000e-01 -9.562500e-01  -0.437500  -0.406250  -0.687500  -0.8125  \n",
       "50%    1.077500e-01 -1.387500e-01  -0.437500  -0.406250   0.312500  -0.8125  \n",
       "75%    3.927500e-01  1.051250e+00   0.562500   0.593750   0.312500   1.1875  \n",
       "max    2.206750e+00  5.051250e+00   0.562500   0.593750   1.312500   5.1875  "
      ]
     },
     "execution_count": 3,
     "metadata": {},
     "output_type": "execute_result"
    }
   ],
   "source": [
    "# Substract column means from data set to center it\n",
    "centered = mtcars - colmeans\n",
    "\n",
    "centered.describe()"
   ]
  },
  {
   "cell_type": "markdown",
   "id": "0dba22b0-43f0-4862-ad0a-20b296af166f",
   "metadata": {},
   "source": [
    "Now we have to put the data on a common scale. One way to do this is to divide by the standard deviation (describes the spread of numeric data). **The higher the standard deviation, the further the data points tend to be spread away from the mean value.** "
   ]
  },
  {
   "cell_type": "code",
   "execution_count": 4,
   "id": "f09fb424-7b01-4740-b1b5-4ed0d5f4330b",
   "metadata": {},
   "outputs": [
    {
     "data": {
      "text/html": [
       "<div>\n",
       "<style scoped>\n",
       "    .dataframe tbody tr th:only-of-type {\n",
       "        vertical-align: middle;\n",
       "    }\n",
       "\n",
       "    .dataframe tbody tr th {\n",
       "        vertical-align: top;\n",
       "    }\n",
       "\n",
       "    .dataframe thead th {\n",
       "        text-align: right;\n",
       "    }\n",
       "</style>\n",
       "<table border=\"1\" class=\"dataframe\">\n",
       "  <thead>\n",
       "    <tr style=\"text-align: right;\">\n",
       "      <th></th>\n",
       "      <th>mpg</th>\n",
       "      <th>cyl</th>\n",
       "      <th>disp</th>\n",
       "      <th>hp</th>\n",
       "      <th>drat</th>\n",
       "      <th>wt</th>\n",
       "      <th>qsec</th>\n",
       "      <th>vs</th>\n",
       "      <th>am</th>\n",
       "      <th>gear</th>\n",
       "      <th>carb</th>\n",
       "    </tr>\n",
       "  </thead>\n",
       "  <tbody>\n",
       "    <tr>\n",
       "      <th>count</th>\n",
       "      <td>3.200000e+01</td>\n",
       "      <td>3.200000e+01</td>\n",
       "      <td>3.200000e+01</td>\n",
       "      <td>3.200000e+01</td>\n",
       "      <td>3.200000e+01</td>\n",
       "      <td>3.200000e+01</td>\n",
       "      <td>3.200000e+01</td>\n",
       "      <td>3.200000e+01</td>\n",
       "      <td>3.200000e+01</td>\n",
       "      <td>3.200000e+01</td>\n",
       "      <td>3.200000e+01</td>\n",
       "    </tr>\n",
       "    <tr>\n",
       "      <th>mean</th>\n",
       "      <td>-5.316927e-16</td>\n",
       "      <td>-6.938894e-18</td>\n",
       "      <td>1.491862e-16</td>\n",
       "      <td>-2.428613e-17</td>\n",
       "      <td>-2.810252e-16</td>\n",
       "      <td>-3.989864e-16</td>\n",
       "      <td>-1.465841e-15</td>\n",
       "      <td>1.387779e-17</td>\n",
       "      <td>8.326673e-17</td>\n",
       "      <td>-5.030698e-17</td>\n",
       "      <td>1.387779e-17</td>\n",
       "    </tr>\n",
       "    <tr>\n",
       "      <th>std</th>\n",
       "      <td>1.000000e+00</td>\n",
       "      <td>1.000000e+00</td>\n",
       "      <td>1.000000e+00</td>\n",
       "      <td>1.000000e+00</td>\n",
       "      <td>1.000000e+00</td>\n",
       "      <td>1.000000e+00</td>\n",
       "      <td>1.000000e+00</td>\n",
       "      <td>1.000000e+00</td>\n",
       "      <td>1.000000e+00</td>\n",
       "      <td>1.000000e+00</td>\n",
       "      <td>1.000000e+00</td>\n",
       "    </tr>\n",
       "    <tr>\n",
       "      <th>min</th>\n",
       "      <td>-1.607883e+00</td>\n",
       "      <td>-1.224858e+00</td>\n",
       "      <td>-1.287910e+00</td>\n",
       "      <td>-1.381032e+00</td>\n",
       "      <td>-1.564608e+00</td>\n",
       "      <td>-1.741772e+00</td>\n",
       "      <td>-1.874010e+00</td>\n",
       "      <td>-8.680278e-01</td>\n",
       "      <td>-8.141431e-01</td>\n",
       "      <td>-9.318192e-01</td>\n",
       "      <td>-1.122152e+00</td>\n",
       "    </tr>\n",
       "    <tr>\n",
       "      <th>25%</th>\n",
       "      <td>-7.741273e-01</td>\n",
       "      <td>-1.224858e+00</td>\n",
       "      <td>-8.867035e-01</td>\n",
       "      <td>-7.319924e-01</td>\n",
       "      <td>-9.661175e-01</td>\n",
       "      <td>-6.500027e-01</td>\n",
       "      <td>-5.351317e-01</td>\n",
       "      <td>-8.680278e-01</td>\n",
       "      <td>-8.141431e-01</td>\n",
       "      <td>-9.318192e-01</td>\n",
       "      <td>-5.030337e-01</td>\n",
       "    </tr>\n",
       "    <tr>\n",
       "      <th>50%</th>\n",
       "      <td>-1.477738e-01</td>\n",
       "      <td>-1.049878e-01</td>\n",
       "      <td>-2.777331e-01</td>\n",
       "      <td>-3.454858e-01</td>\n",
       "      <td>1.841059e-01</td>\n",
       "      <td>1.101223e-01</td>\n",
       "      <td>-7.764656e-02</td>\n",
       "      <td>-8.680278e-01</td>\n",
       "      <td>-8.141431e-01</td>\n",
       "      <td>4.235542e-01</td>\n",
       "      <td>-5.030337e-01</td>\n",
       "    </tr>\n",
       "    <tr>\n",
       "      <th>75%</th>\n",
       "      <td>4.495434e-01</td>\n",
       "      <td>1.014882e+00</td>\n",
       "      <td>7.687521e-01</td>\n",
       "      <td>4.858679e-01</td>\n",
       "      <td>6.049193e-01</td>\n",
       "      <td>4.013971e-01</td>\n",
       "      <td>5.882951e-01</td>\n",
       "      <td>1.116036e+00</td>\n",
       "      <td>1.189901e+00</td>\n",
       "      <td>4.235542e-01</td>\n",
       "      <td>7.352031e-01</td>\n",
       "    </tr>\n",
       "    <tr>\n",
       "      <th>max</th>\n",
       "      <td>2.291272e+00</td>\n",
       "      <td>1.014882e+00</td>\n",
       "      <td>1.946754e+00</td>\n",
       "      <td>2.746567e+00</td>\n",
       "      <td>2.493904e+00</td>\n",
       "      <td>2.255336e+00</td>\n",
       "      <td>2.826755e+00</td>\n",
       "      <td>1.116036e+00</td>\n",
       "      <td>1.189901e+00</td>\n",
       "      <td>1.778928e+00</td>\n",
       "      <td>3.211677e+00</td>\n",
       "    </tr>\n",
       "  </tbody>\n",
       "</table>\n",
       "</div>"
      ],
      "text/plain": [
       "                mpg           cyl          disp            hp          drat  \\\n",
       "count  3.200000e+01  3.200000e+01  3.200000e+01  3.200000e+01  3.200000e+01   \n",
       "mean  -5.316927e-16 -6.938894e-18  1.491862e-16 -2.428613e-17 -2.810252e-16   \n",
       "std    1.000000e+00  1.000000e+00  1.000000e+00  1.000000e+00  1.000000e+00   \n",
       "min   -1.607883e+00 -1.224858e+00 -1.287910e+00 -1.381032e+00 -1.564608e+00   \n",
       "25%   -7.741273e-01 -1.224858e+00 -8.867035e-01 -7.319924e-01 -9.661175e-01   \n",
       "50%   -1.477738e-01 -1.049878e-01 -2.777331e-01 -3.454858e-01  1.841059e-01   \n",
       "75%    4.495434e-01  1.014882e+00  7.687521e-01  4.858679e-01  6.049193e-01   \n",
       "max    2.291272e+00  1.014882e+00  1.946754e+00  2.746567e+00  2.493904e+00   \n",
       "\n",
       "                 wt          qsec            vs            am          gear  \\\n",
       "count  3.200000e+01  3.200000e+01  3.200000e+01  3.200000e+01  3.200000e+01   \n",
       "mean  -3.989864e-16 -1.465841e-15  1.387779e-17  8.326673e-17 -5.030698e-17   \n",
       "std    1.000000e+00  1.000000e+00  1.000000e+00  1.000000e+00  1.000000e+00   \n",
       "min   -1.741772e+00 -1.874010e+00 -8.680278e-01 -8.141431e-01 -9.318192e-01   \n",
       "25%   -6.500027e-01 -5.351317e-01 -8.680278e-01 -8.141431e-01 -9.318192e-01   \n",
       "50%    1.101223e-01 -7.764656e-02 -8.680278e-01 -8.141431e-01  4.235542e-01   \n",
       "75%    4.013971e-01  5.882951e-01  1.116036e+00  1.189901e+00  4.235542e-01   \n",
       "max    2.255336e+00  2.826755e+00  1.116036e+00  1.189901e+00  1.778928e+00   \n",
       "\n",
       "               carb  \n",
       "count  3.200000e+01  \n",
       "mean   1.387779e-17  \n",
       "std    1.000000e+00  \n",
       "min   -1.122152e+00  \n",
       "25%   -5.030337e-01  \n",
       "50%   -5.030337e-01  \n",
       "75%    7.352031e-01  \n",
       "max    3.211677e+00  "
      ]
     },
     "execution_count": 4,
     "metadata": {},
     "output_type": "execute_result"
    }
   ],
   "source": [
    "# Get the standard deviation with df.std()\n",
    "\n",
    "column_deviations = mtcars.std(axis = 0)\n",
    "centered_and_scaled = centered/column_deviations\n",
    "centered_and_scaled.describe()"
   ]
  },
  {
   "cell_type": "markdown",
   "id": "e4a33dff-c715-4324-94d9-42320d193b20",
   "metadata": {},
   "source": [
    "Notice that after dividing by the standard deviation, every variable now has a standard deviation closer to 1. At this point, all the columns have roughly the same mean and scale of spread about the mean. \n",
    "\n",
    "With the library scikit-learn, a popular package for predictive modeling and data analysis, has preprocessing tools including a scale() function centering and scaling data."
   ]
  },
  {
   "cell_type": "code",
   "execution_count": 5,
   "id": "8485cc6e-ada2-4c08-b3fc-f352a76430f7",
   "metadata": {},
   "outputs": [],
   "source": [
    "from sklearn import preprocessing"
   ]
  },
  {
   "cell_type": "code",
   "execution_count": 6,
   "id": "57f211e0-a67f-4d3f-84a1-9e9075901c03",
   "metadata": {},
   "outputs": [
    {
     "data": {
      "text/html": [
       "<div>\n",
       "<style scoped>\n",
       "    .dataframe tbody tr th:only-of-type {\n",
       "        vertical-align: middle;\n",
       "    }\n",
       "\n",
       "    .dataframe tbody tr th {\n",
       "        vertical-align: top;\n",
       "    }\n",
       "\n",
       "    .dataframe thead th {\n",
       "        text-align: right;\n",
       "    }\n",
       "</style>\n",
       "<table border=\"1\" class=\"dataframe\">\n",
       "  <thead>\n",
       "    <tr style=\"text-align: right;\">\n",
       "      <th></th>\n",
       "      <th>mpg</th>\n",
       "      <th>cyl</th>\n",
       "      <th>disp</th>\n",
       "      <th>hp</th>\n",
       "      <th>drat</th>\n",
       "      <th>wt</th>\n",
       "      <th>qsec</th>\n",
       "      <th>vs</th>\n",
       "      <th>am</th>\n",
       "      <th>gear</th>\n",
       "      <th>carb</th>\n",
       "    </tr>\n",
       "  </thead>\n",
       "  <tbody>\n",
       "    <tr>\n",
       "      <th>count</th>\n",
       "      <td>3.200000e+01</td>\n",
       "      <td>3.200000e+01</td>\n",
       "      <td>3.200000e+01</td>\n",
       "      <td>3.200000e+01</td>\n",
       "      <td>3.200000e+01</td>\n",
       "      <td>3.200000e+01</td>\n",
       "      <td>3.200000e+01</td>\n",
       "      <td>3.200000e+01</td>\n",
       "      <td>3.200000e+01</td>\n",
       "      <td>3.200000e+01</td>\n",
       "      <td>3.200000e+01</td>\n",
       "    </tr>\n",
       "    <tr>\n",
       "      <th>mean</th>\n",
       "      <td>-5.481726e-16</td>\n",
       "      <td>4.163336e-17</td>\n",
       "      <td>1.387779e-16</td>\n",
       "      <td>-1.734723e-17</td>\n",
       "      <td>-3.122502e-16</td>\n",
       "      <td>-4.510281e-16</td>\n",
       "      <td>-1.469311e-15</td>\n",
       "      <td>-6.938894e-18</td>\n",
       "      <td>5.551115e-17</td>\n",
       "      <td>-1.144917e-16</td>\n",
       "      <td>-6.938894e-18</td>\n",
       "    </tr>\n",
       "    <tr>\n",
       "      <th>std</th>\n",
       "      <td>1.016001e+00</td>\n",
       "      <td>1.016001e+00</td>\n",
       "      <td>1.016001e+00</td>\n",
       "      <td>1.016001e+00</td>\n",
       "      <td>1.016001e+00</td>\n",
       "      <td>1.016001e+00</td>\n",
       "      <td>1.016001e+00</td>\n",
       "      <td>1.016001e+00</td>\n",
       "      <td>1.016001e+00</td>\n",
       "      <td>1.016001e+00</td>\n",
       "      <td>1.016001e+00</td>\n",
       "    </tr>\n",
       "    <tr>\n",
       "      <th>min</th>\n",
       "      <td>-1.633610e+00</td>\n",
       "      <td>-1.244457e+00</td>\n",
       "      <td>-1.308518e+00</td>\n",
       "      <td>-1.403130e+00</td>\n",
       "      <td>-1.589643e+00</td>\n",
       "      <td>-1.769642e+00</td>\n",
       "      <td>-1.903996e+00</td>\n",
       "      <td>-8.819171e-01</td>\n",
       "      <td>-8.271702e-01</td>\n",
       "      <td>-9.467293e-01</td>\n",
       "      <td>-1.140108e+00</td>\n",
       "    </tr>\n",
       "    <tr>\n",
       "      <th>25%</th>\n",
       "      <td>-7.865141e-01</td>\n",
       "      <td>-1.244457e+00</td>\n",
       "      <td>-9.008917e-01</td>\n",
       "      <td>-7.437050e-01</td>\n",
       "      <td>-9.815764e-01</td>\n",
       "      <td>-6.604034e-01</td>\n",
       "      <td>-5.436944e-01</td>\n",
       "      <td>-8.819171e-01</td>\n",
       "      <td>-8.271702e-01</td>\n",
       "      <td>-9.467293e-01</td>\n",
       "      <td>-5.110827e-01</td>\n",
       "    </tr>\n",
       "    <tr>\n",
       "      <th>50%</th>\n",
       "      <td>-1.501383e-01</td>\n",
       "      <td>-1.066677e-01</td>\n",
       "      <td>-2.821771e-01</td>\n",
       "      <td>-3.510140e-01</td>\n",
       "      <td>1.870518e-01</td>\n",
       "      <td>1.118844e-01</td>\n",
       "      <td>-7.888899e-02</td>\n",
       "      <td>-8.819171e-01</td>\n",
       "      <td>-8.271702e-01</td>\n",
       "      <td>4.303315e-01</td>\n",
       "      <td>-5.110827e-01</td>\n",
       "    </tr>\n",
       "    <tr>\n",
       "      <th>75%</th>\n",
       "      <td>4.567366e-01</td>\n",
       "      <td>1.031121e+00</td>\n",
       "      <td>7.810529e-01</td>\n",
       "      <td>4.936423e-01</td>\n",
       "      <td>6.145986e-01</td>\n",
       "      <td>4.078199e-01</td>\n",
       "      <td>5.977084e-01</td>\n",
       "      <td>1.133893e+00</td>\n",
       "      <td>1.208941e+00</td>\n",
       "      <td>4.303315e-01</td>\n",
       "      <td>7.469671e-01</td>\n",
       "    </tr>\n",
       "    <tr>\n",
       "      <th>max</th>\n",
       "      <td>2.327934e+00</td>\n",
       "      <td>1.031121e+00</td>\n",
       "      <td>1.977904e+00</td>\n",
       "      <td>2.790515e+00</td>\n",
       "      <td>2.533809e+00</td>\n",
       "      <td>2.291423e+00</td>\n",
       "      <td>2.871986e+00</td>\n",
       "      <td>1.133893e+00</td>\n",
       "      <td>1.208941e+00</td>\n",
       "      <td>1.807392e+00</td>\n",
       "      <td>3.263067e+00</td>\n",
       "    </tr>\n",
       "  </tbody>\n",
       "</table>\n",
       "</div>"
      ],
      "text/plain": [
       "                mpg           cyl          disp            hp          drat  \\\n",
       "count  3.200000e+01  3.200000e+01  3.200000e+01  3.200000e+01  3.200000e+01   \n",
       "mean  -5.481726e-16  4.163336e-17  1.387779e-16 -1.734723e-17 -3.122502e-16   \n",
       "std    1.016001e+00  1.016001e+00  1.016001e+00  1.016001e+00  1.016001e+00   \n",
       "min   -1.633610e+00 -1.244457e+00 -1.308518e+00 -1.403130e+00 -1.589643e+00   \n",
       "25%   -7.865141e-01 -1.244457e+00 -9.008917e-01 -7.437050e-01 -9.815764e-01   \n",
       "50%   -1.501383e-01 -1.066677e-01 -2.821771e-01 -3.510140e-01  1.870518e-01   \n",
       "75%    4.567366e-01  1.031121e+00  7.810529e-01  4.936423e-01  6.145986e-01   \n",
       "max    2.327934e+00  1.031121e+00  1.977904e+00  2.790515e+00  2.533809e+00   \n",
       "\n",
       "                 wt          qsec            vs            am          gear  \\\n",
       "count  3.200000e+01  3.200000e+01  3.200000e+01  3.200000e+01  3.200000e+01   \n",
       "mean  -4.510281e-16 -1.469311e-15 -6.938894e-18  5.551115e-17 -1.144917e-16   \n",
       "std    1.016001e+00  1.016001e+00  1.016001e+00  1.016001e+00  1.016001e+00   \n",
       "min   -1.769642e+00 -1.903996e+00 -8.819171e-01 -8.271702e-01 -9.467293e-01   \n",
       "25%   -6.604034e-01 -5.436944e-01 -8.819171e-01 -8.271702e-01 -9.467293e-01   \n",
       "50%    1.118844e-01 -7.888899e-02 -8.819171e-01 -8.271702e-01  4.303315e-01   \n",
       "75%    4.078199e-01  5.977084e-01  1.133893e+00  1.208941e+00  4.303315e-01   \n",
       "max    2.291423e+00  2.871986e+00  1.133893e+00  1.208941e+00  1.807392e+00   \n",
       "\n",
       "               carb  \n",
       "count  3.200000e+01  \n",
       "mean  -6.938894e-18  \n",
       "std    1.016001e+00  \n",
       "min   -1.140108e+00  \n",
       "25%   -5.110827e-01  \n",
       "50%   -5.110827e-01  \n",
       "75%    7.469671e-01  \n",
       "max    3.263067e+00  "
      ]
     },
     "execution_count": 6,
     "metadata": {},
     "output_type": "execute_result"
    }
   ],
   "source": [
    "scaled_data = preprocessing.scale(mtcars)         # Scale the data\n",
    "\n",
    "scaled_cars = pd.DataFrame(scaled_data,           # Remake the df\n",
    "                          index = mtcars.index,\n",
    "                          columns = mtcars.columns)\n",
    "\n",
    "scaled_cars.describe()"
   ]
  },
  {
   "cell_type": "markdown",
   "id": "597c0011-e827-4130-b677-8d8ea2928e5b",
   "metadata": {},
   "source": [
    "*Note: preprocessing.scale() returns ndarrays so we convert it back into a DataFrame.*\n",
    "The values are almost the same as the ones we converted manually, but not exactly the same. The differences are likely due to rounding and details of the scikit-learn implementation of centering and scaling. "
   ]
  },
  {
   "cell_type": "markdown",
   "id": "e81ab036-5da1-4779-b2e9-86881eaaba6a",
   "metadata": {},
   "source": [
    "### Dealing with Skewed Data\n",
    "The distribution of data (overall shape and how it's spread out) can have a significant impact on analysis and modeling. \n",
    "* Well-behaved data: data that is roughly evenly spread around the mean value (known as normally distributed data with a bell-shaped curve)\n",
    "* Skewness, asymmetry"
   ]
  },
  {
   "cell_type": "code",
   "execution_count": 7,
   "id": "033885ff-5054-4a70-ab5d-92854aee43cf",
   "metadata": {},
   "outputs": [
    {
     "data": {
      "text/plain": [
       "array([[<AxesSubplot:title={'center':'0'}>]], dtype=object)"
      ]
     },
     "execution_count": 7,
     "metadata": {},
     "output_type": "execute_result"
    },
    {
     "data": {
      "image/png": "[encoded data removed]",
      "text/plain": [
       "<Figure size 576x576 with 1 Axes>"
      ]
     },
     "metadata": {
      "needs_background": "light"
     },
     "output_type": "display_data"
    }
   ],
   "source": [
    "# Generate normal data\n",
    "normally_distributed = np.random.normal(size=10000)\n",
    "normally_distributed = pd.DataFrame(normally_distributed)     # Convert to DF\n",
    "\n",
    "normally_distributed.hist(figsize=(8,8),bins=30)              # Plot histogram"
   ]
  },
  {
   "cell_type": "code",
   "execution_count": 9,
   "id": "51e346f7-5a52-432e-9f8d-892b63c1d04a",
   "metadata": {},
   "outputs": [
    {
     "data": {
      "text/plain": [
       "array([[<AxesSubplot:title={'center':'0'}>]], dtype=object)"
      ]
     },
     "execution_count": 9,
     "metadata": {},
     "output_type": "execute_result"
    },
    {
     "data": {
      "image/png": "[encoded data removed]",
      "text/plain": [
       "<Figure size 576x576 with 1 Axes>"
      ]
     },
     "metadata": {
      "needs_background": "light"
     },
     "output_type": "display_data"
    }
   ],
   "source": [
    "# Generate skewed data\n",
    "skewed = np.random.exponential(scale=2, size=10000)     # Generate skewed data\n",
    "\n",
    "skewed = pd.DataFrame(skewed)                           # Convert to DF\n",
    "\n",
    "skewed.hist(figsize=(8,8),bins=50)                       # Plot histogram"
   ]
  },
  {
   "cell_type": "markdown",
   "id": "c22f406e-149c-44f6-8bd4-d3a3e9989659",
   "metadata": {},
   "source": [
    "* Positively skewed, right skewed = data with a long tail that goes off to the right.\n",
    "* Negatively skewed, left skewed = data with a long tail that goes off to the left.\n",
    "\n",
    "When you have a skewed distribution like the one above, **the extreme values in the long tail can have a disproportionately large influence on wathever test you perform or models you build.** Reducing skew may improve your results. \n",
    "\n",
    "To reduce skew there are 2 simple transformations:\n",
    "* Take the square root of each data point\n",
    "* Take the natural logarithm of each data point\n",
    "\n",
    "After transformation, it still will not be normally distributed, but the amount of extreme data in the tails will have been reduced to the point where we might not be so worried about it having a large influence on our results."
   ]
  },
  {
   "cell_type": "code",
   "execution_count": 11,
   "id": "85a15cb5-a33d-4f94-a0c0-7b9440e82366",
   "metadata": {},
   "outputs": [
    {
     "data": {
      "text/plain": [
       "array([[<AxesSubplot:title={'center':'0'}>]], dtype=object)"
      ]
     },
     "execution_count": 11,
     "metadata": {},
     "output_type": "execute_result"
    },
    {
     "data": {
      "image/png": "[encoded data removed]",
      "text/plain": [
       "<Figure size 576x576 with 1 Axes>"
      ]
     },
     "metadata": {
      "needs_background": "light"
     },
     "output_type": "display_data"
    }
   ],
   "source": [
    "# Get the square root of data points\n",
    "\n",
    "sqrt_transformed = skewed.apply(np.sqrt)      # df.apply() applies a given function to each row or column of the df\n",
    "                                              # np.sqrt returns the square root of each value\n",
    "\n",
    "sqrt_transformed.hist(figsize=(8,8),bins=50)  # Plot histogram"
   ]
  },
  {
   "cell_type": "code",
   "execution_count": 13,
   "id": "bd89a858-5509-4b99-9302-e18d64eef9cf",
   "metadata": {},
   "outputs": [
    {
     "data": {
      "text/plain": [
       "array([[<AxesSubplot:title={'center':'0'}>]], dtype=object)"
      ]
     },
     "execution_count": 13,
     "metadata": {},
     "output_type": "execute_result"
    },
    {
     "data": {
      "image/png": "[encoded data removed]",
      "text/plain": [
       "<Figure size 576x576 with 1 Axes>"
      ]
     },
     "metadata": {
      "needs_background": "light"
     },
     "output_type": "display_data"
    }
   ],
   "source": [
    "# Log transformation\n",
    "log_transformed = (skewed+1).apply(np.log)             # Get the log of the data\n",
    "                                                       # Add 1 before taking the log ensures we don't end up with negative values\n",
    "log_transformed.hist(figsize=(8,8),bins=50)"
   ]
  },
  {
   "cell_type": "markdown",
   "id": "89ae06d1-32a2-46c7-9aa1-17f16ed25667",
   "metadata": {},
   "source": [
    "### Highly Correlated Variables\n",
    "In predictive modeling, each variable you use to construct a model would ideally represent some unique feature of the data. In other words, you want each variable to tell you something different. \n",
    "In reality, variables often exhibit collinearity -- a strong correlation or tendency to move together, typically due to some underlying similarity or common influencing factor. **Variables with strong correlations can interfere with one another when performing modeling and muddy results.**"
   ]
  },
  {
   "cell_type": "code",
   "execution_count": 14,
   "id": "3371d68e-4057-4679-b8a3-64d0040629f1",
   "metadata": {},
   "outputs": [
    {
     "data": {
      "text/html": [
       "<div>\n",
       "<style scoped>\n",
       "    .dataframe tbody tr th:only-of-type {\n",
       "        vertical-align: middle;\n",
       "    }\n",
       "\n",
       "    .dataframe tbody tr th {\n",
       "        vertical-align: top;\n",
       "    }\n",
       "\n",
       "    .dataframe thead th {\n",
       "        text-align: right;\n",
       "    }\n",
       "</style>\n",
       "<table border=\"1\" class=\"dataframe\">\n",
       "  <thead>\n",
       "    <tr style=\"text-align: right;\">\n",
       "      <th></th>\n",
       "      <th>mpg</th>\n",
       "      <th>cyl</th>\n",
       "      <th>disp</th>\n",
       "      <th>hp</th>\n",
       "      <th>drat</th>\n",
       "      <th>wt</th>\n",
       "    </tr>\n",
       "  </thead>\n",
       "  <tbody>\n",
       "    <tr>\n",
       "      <th>mpg</th>\n",
       "      <td>1.000000</td>\n",
       "      <td>-0.852162</td>\n",
       "      <td>-0.847551</td>\n",
       "      <td>-0.776168</td>\n",
       "      <td>0.681172</td>\n",
       "      <td>-0.867659</td>\n",
       "    </tr>\n",
       "    <tr>\n",
       "      <th>cyl</th>\n",
       "      <td>-0.852162</td>\n",
       "      <td>1.000000</td>\n",
       "      <td>0.902033</td>\n",
       "      <td>0.832447</td>\n",
       "      <td>-0.699938</td>\n",
       "      <td>0.782496</td>\n",
       "    </tr>\n",
       "    <tr>\n",
       "      <th>disp</th>\n",
       "      <td>-0.847551</td>\n",
       "      <td>0.902033</td>\n",
       "      <td>1.000000</td>\n",
       "      <td>0.790949</td>\n",
       "      <td>-0.710214</td>\n",
       "      <td>0.887980</td>\n",
       "    </tr>\n",
       "    <tr>\n",
       "      <th>hp</th>\n",
       "      <td>-0.776168</td>\n",
       "      <td>0.832447</td>\n",
       "      <td>0.790949</td>\n",
       "      <td>1.000000</td>\n",
       "      <td>-0.448759</td>\n",
       "      <td>0.658748</td>\n",
       "    </tr>\n",
       "    <tr>\n",
       "      <th>drat</th>\n",
       "      <td>0.681172</td>\n",
       "      <td>-0.699938</td>\n",
       "      <td>-0.710214</td>\n",
       "      <td>-0.448759</td>\n",
       "      <td>1.000000</td>\n",
       "      <td>-0.712441</td>\n",
       "    </tr>\n",
       "    <tr>\n",
       "      <th>wt</th>\n",
       "      <td>-0.867659</td>\n",
       "      <td>0.782496</td>\n",
       "      <td>0.887980</td>\n",
       "      <td>0.658748</td>\n",
       "      <td>-0.712441</td>\n",
       "      <td>1.000000</td>\n",
       "    </tr>\n",
       "  </tbody>\n",
       "</table>\n",
       "</div>"
      ],
      "text/plain": [
       "           mpg       cyl      disp        hp      drat        wt\n",
       "mpg   1.000000 -0.852162 -0.847551 -0.776168  0.681172 -0.867659\n",
       "cyl  -0.852162  1.000000  0.902033  0.832447 -0.699938  0.782496\n",
       "disp -0.847551  0.902033  1.000000  0.790949 -0.710214  0.887980\n",
       "hp   -0.776168  0.832447  0.790949  1.000000 -0.448759  0.658748\n",
       "drat  0.681172 -0.699938 -0.710214 -0.448759  1.000000 -0.712441\n",
       "wt   -0.867659  0.782496  0.887980  0.658748 -0.712441  1.000000"
      ]
     },
     "execution_count": 14,
     "metadata": {},
     "output_type": "execute_result"
    }
   ],
   "source": [
    "# Check the pairwise correlations between numeric variables using df.corr()\n",
    "\n",
    "mtcars.iloc[:,0:6].corr()"
   ]
  },
  {
   "cell_type": "markdown",
   "id": "cc939777-f6e0-4372-9434-7c66c3598635",
   "metadata": {},
   "source": [
    "* Positive correlation: when one variable goes up the other tends to go up as well.\n",
    "* Negative correlation: inverse relationship, when one variable goes up, the other tends to go down\n",
    "* Correlation near zero: low correlation\n",
    "* Correlation near -1 or 1: large negative or positive correlation\n",
    "\n",
    "Inspecting the data table, we see that the number of cylinders a car has (cyl) and its weight (wt) have fairly strong negative correlations to gas mileage (mpg.). This indicates that heavier cars and cars with more cylinders tend to get lower gas mileage.\n",
    "\n",
    "A scatter plot matrix can be a helpful visual aide for inspecting collinearity."
   ]
  },
  {
   "cell_type": "code",
   "execution_count": 19,
   "id": "f4380844-2f47-4a1b-97b8-dcaaba08906f",
   "metadata": {},
   "outputs": [
    {
     "data": {
      "image/png": "[encoded data removed]",
      "text/plain": [
       "<Figure size 720x720 with 36 Axes>"
      ]
     },
     "metadata": {
      "needs_background": "light"
     },
     "output_type": "display_data"
    }
   ],
   "source": [
    "# Scatter plot to visualize collinearity\n",
    "\n",
    "from pandas.plotting import scatter_matrix\n",
    "\n",
    "_=scatter_matrix(mtcars.iloc[:,0:6],           # Make a scatter matrix of 6 columns\n",
    "              figsize=(10,10),               # Set a plot size\n",
    "              diagonal=\"kde\")                # Show distribution estimates on diagonal"
   ]
  },
  {
   "cell_type": "markdown",
   "id": "1adc5361-08b0-4558-aef3-acc31d585909",
   "metadata": {},
   "source": [
    "A scatter plot matrix creates pairwise scatter plots that let you visually inspect the relationships between pairs of variables. It can also help identify oddities in the data, such as variables like cyl that only take on values in a small discrete set.\n",
    "\n",
    "If you find highly correlated variables, there are a few things you can do including:\n",
    "\n",
    "* Leave them be\n",
    "* Remove one or more variables\n",
    "* Combine them in some way\n",
    "\n",
    "Reducing the number of variables under consideration, either by removing some or by combining them some way is known as \"dimensionality reduction.\" How you choose to handle correlated variables is ultimately a subjective decision that should be informed by your goal."
   ]
  },
  {
   "cell_type": "markdown",
   "id": "eb188b5c-b669-496e-84d4-8190690cfe28",
   "metadata": {},
   "source": [
    "### Imputing with Sklearn\n",
    "In the lesson on initial data exploration, we explored Titanic survivor data and found that several passengers had missing listed for age. **Missing values in numeric data are troublesome because you can't simply treat them as a category: you have to either remove them or fill them in.**\n",
    "\n",
    "Imputation describes filling in missing data with estimates based on the rest of the data set. When working with the titanic data set, we set all the missing Age values to the median age for the data set. Other simple imputation methods include setting missing values to the mean or most common value (mode.). The scikit-learn offers an Imupter tool that can automatically carry out these imputations for us. Let's start by loading the Imputer and introducing some missing values into the mpg data"
   ]
  },
  {
   "cell_type": "code",
   "execution_count": 21,
   "id": "716ecadc-d0cc-4961-b4c6-65d4995e8c6b",
   "metadata": {},
   "outputs": [
    {
     "data": {
      "text/plain": [
       "model\n",
       "Mazda RX4              21.0\n",
       "Mazda RX4 Wag          21.0\n",
       "Datsun 710             None\n",
       "Hornet 4 Drive         21.4\n",
       "Hornet Sportabout      18.7\n",
       "Valiant                18.1\n",
       "Duster 360             14.3\n",
       "Merc 240D              None\n",
       "Merc 230               None\n",
       "Merc 280               19.2\n",
       "Merc 280C              17.8\n",
       "Merc 450SE             16.4\n",
       "Merc 450SL             17.3\n",
       "Merc 450SLC            15.2\n",
       "Cadillac Fleetwood     10.4\n",
       "Lincoln Continental    10.4\n",
       "Chrysler Imperial      14.7\n",
       "Fiat 128               None\n",
       "Honda Civic            None\n",
       "Toyota Corolla         None\n",
       "Toyota Corona          21.5\n",
       "Dodge Challenger       15.5\n",
       "AMC Javelin            15.2\n",
       "Camaro Z28             13.3\n",
       "Pontiac Firebird       19.2\n",
       "Fiat X1-9              None\n",
       "Porsche 914-2          None\n",
       "Lotus Europa           None\n",
       "Ford Pantera L         15.8\n",
       "Ferrari Dino           19.7\n",
       "Maserati Bora          15.0\n",
       "Volvo 142E             21.4\n",
       "Name: mpg, dtype: object"
      ]
     },
     "execution_count": 21,
     "metadata": {},
     "output_type": "execute_result"
    }
   ],
   "source": [
    "from sklearn.impute import SimpleImputer\n",
    "\n",
    "# The following line sets a few mpg values to None\n",
    "mtcars[\"mpg\"] = np.where(mtcars[\"mpg\"]>22, None, mtcars[\"mpg\"])\n",
    "\n",
    "mtcars[\"mpg\"]   # Confirm that missing values were added"
   ]
  },
  {
   "cell_type": "code",
   "execution_count": 25,
   "id": "f3903c26-fad8-40d3-9d65-9ac3814c7bca",
   "metadata": {},
   "outputs": [
    {
     "data": {
      "text/html": [
       "<div>\n",
       "<style scoped>\n",
       "    .dataframe tbody tr th:only-of-type {\n",
       "        vertical-align: middle;\n",
       "    }\n",
       "\n",
       "    .dataframe tbody tr th {\n",
       "        vertical-align: top;\n",
       "    }\n",
       "\n",
       "    .dataframe thead th {\n",
       "        text-align: right;\n",
       "    }\n",
       "</style>\n",
       "<table border=\"1\" class=\"dataframe\">\n",
       "  <thead>\n",
       "    <tr style=\"text-align: right;\">\n",
       "      <th></th>\n",
       "      <th>mpg</th>\n",
       "      <th>cyl</th>\n",
       "      <th>disp</th>\n",
       "      <th>hp</th>\n",
       "      <th>drat</th>\n",
       "      <th>wt</th>\n",
       "      <th>qsec</th>\n",
       "      <th>vs</th>\n",
       "      <th>am</th>\n",
       "      <th>gear</th>\n",
       "      <th>carb</th>\n",
       "    </tr>\n",
       "    <tr>\n",
       "      <th>model</th>\n",
       "      <th></th>\n",
       "      <th></th>\n",
       "      <th></th>\n",
       "      <th></th>\n",
       "      <th></th>\n",
       "      <th></th>\n",
       "      <th></th>\n",
       "      <th></th>\n",
       "      <th></th>\n",
       "      <th></th>\n",
       "      <th></th>\n",
       "    </tr>\n",
       "  </thead>\n",
       "  <tbody>\n",
       "    <tr>\n",
       "      <th>Mazda RX4</th>\n",
       "      <td>21.000000</td>\n",
       "      <td>6.0</td>\n",
       "      <td>160.0</td>\n",
       "      <td>110.0</td>\n",
       "      <td>3.90</td>\n",
       "      <td>2.620</td>\n",
       "      <td>16.46</td>\n",
       "      <td>0.0</td>\n",
       "      <td>1.0</td>\n",
       "      <td>4.0</td>\n",
       "      <td>4.0</td>\n",
       "    </tr>\n",
       "    <tr>\n",
       "      <th>Mazda RX4 Wag</th>\n",
       "      <td>21.000000</td>\n",
       "      <td>6.0</td>\n",
       "      <td>160.0</td>\n",
       "      <td>110.0</td>\n",
       "      <td>3.90</td>\n",
       "      <td>2.875</td>\n",
       "      <td>17.02</td>\n",
       "      <td>0.0</td>\n",
       "      <td>1.0</td>\n",
       "      <td>4.0</td>\n",
       "      <td>4.0</td>\n",
       "    </tr>\n",
       "    <tr>\n",
       "      <th>Datsun 710</th>\n",
       "      <td>17.065217</td>\n",
       "      <td>4.0</td>\n",
       "      <td>108.0</td>\n",
       "      <td>93.0</td>\n",
       "      <td>3.85</td>\n",
       "      <td>2.320</td>\n",
       "      <td>18.61</td>\n",
       "      <td>1.0</td>\n",
       "      <td>1.0</td>\n",
       "      <td>4.0</td>\n",
       "      <td>1.0</td>\n",
       "    </tr>\n",
       "    <tr>\n",
       "      <th>Hornet 4 Drive</th>\n",
       "      <td>21.400000</td>\n",
       "      <td>6.0</td>\n",
       "      <td>258.0</td>\n",
       "      <td>110.0</td>\n",
       "      <td>3.08</td>\n",
       "      <td>3.215</td>\n",
       "      <td>19.44</td>\n",
       "      <td>1.0</td>\n",
       "      <td>0.0</td>\n",
       "      <td>3.0</td>\n",
       "      <td>1.0</td>\n",
       "    </tr>\n",
       "    <tr>\n",
       "      <th>Hornet Sportabout</th>\n",
       "      <td>18.700000</td>\n",
       "      <td>8.0</td>\n",
       "      <td>360.0</td>\n",
       "      <td>175.0</td>\n",
       "      <td>3.15</td>\n",
       "      <td>3.440</td>\n",
       "      <td>17.02</td>\n",
       "      <td>0.0</td>\n",
       "      <td>0.0</td>\n",
       "      <td>3.0</td>\n",
       "      <td>2.0</td>\n",
       "    </tr>\n",
       "    <tr>\n",
       "      <th>Valiant</th>\n",
       "      <td>18.100000</td>\n",
       "      <td>6.0</td>\n",
       "      <td>225.0</td>\n",
       "      <td>105.0</td>\n",
       "      <td>2.76</td>\n",
       "      <td>3.460</td>\n",
       "      <td>20.22</td>\n",
       "      <td>1.0</td>\n",
       "      <td>0.0</td>\n",
       "      <td>3.0</td>\n",
       "      <td>1.0</td>\n",
       "    </tr>\n",
       "    <tr>\n",
       "      <th>Duster 360</th>\n",
       "      <td>14.300000</td>\n",
       "      <td>8.0</td>\n",
       "      <td>360.0</td>\n",
       "      <td>245.0</td>\n",
       "      <td>3.21</td>\n",
       "      <td>3.570</td>\n",
       "      <td>15.84</td>\n",
       "      <td>0.0</td>\n",
       "      <td>0.0</td>\n",
       "      <td>3.0</td>\n",
       "      <td>4.0</td>\n",
       "    </tr>\n",
       "    <tr>\n",
       "      <th>Merc 240D</th>\n",
       "      <td>17.065217</td>\n",
       "      <td>4.0</td>\n",
       "      <td>146.7</td>\n",
       "      <td>62.0</td>\n",
       "      <td>3.69</td>\n",
       "      <td>3.190</td>\n",
       "      <td>20.00</td>\n",
       "      <td>1.0</td>\n",
       "      <td>0.0</td>\n",
       "      <td>4.0</td>\n",
       "      <td>2.0</td>\n",
       "    </tr>\n",
       "    <tr>\n",
       "      <th>Merc 230</th>\n",
       "      <td>17.065217</td>\n",
       "      <td>4.0</td>\n",
       "      <td>140.8</td>\n",
       "      <td>95.0</td>\n",
       "      <td>3.92</td>\n",
       "      <td>3.150</td>\n",
       "      <td>22.90</td>\n",
       "      <td>1.0</td>\n",
       "      <td>0.0</td>\n",
       "      <td>4.0</td>\n",
       "      <td>2.0</td>\n",
       "    </tr>\n",
       "    <tr>\n",
       "      <th>Merc 280</th>\n",
       "      <td>19.200000</td>\n",
       "      <td>6.0</td>\n",
       "      <td>167.6</td>\n",
       "      <td>123.0</td>\n",
       "      <td>3.92</td>\n",
       "      <td>3.440</td>\n",
       "      <td>18.30</td>\n",
       "      <td>1.0</td>\n",
       "      <td>0.0</td>\n",
       "      <td>4.0</td>\n",
       "      <td>4.0</td>\n",
       "    </tr>\n",
       "  </tbody>\n",
       "</table>\n",
       "</div>"
      ],
      "text/plain": [
       "                         mpg  cyl   disp     hp  drat     wt   qsec   vs   am  \\\n",
       "model                                                                           \n",
       "Mazda RX4          21.000000  6.0  160.0  110.0  3.90  2.620  16.46  0.0  1.0   \n",
       "Mazda RX4 Wag      21.000000  6.0  160.0  110.0  3.90  2.875  17.02  0.0  1.0   \n",
       "Datsun 710         17.065217  4.0  108.0   93.0  3.85  2.320  18.61  1.0  1.0   \n",
       "Hornet 4 Drive     21.400000  6.0  258.0  110.0  3.08  3.215  19.44  1.0  0.0   \n",
       "Hornet Sportabout  18.700000  8.0  360.0  175.0  3.15  3.440  17.02  0.0  0.0   \n",
       "Valiant            18.100000  6.0  225.0  105.0  2.76  3.460  20.22  1.0  0.0   \n",
       "Duster 360         14.300000  8.0  360.0  245.0  3.21  3.570  15.84  0.0  0.0   \n",
       "Merc 240D          17.065217  4.0  146.7   62.0  3.69  3.190  20.00  1.0  0.0   \n",
       "Merc 230           17.065217  4.0  140.8   95.0  3.92  3.150  22.90  1.0  0.0   \n",
       "Merc 280           19.200000  6.0  167.6  123.0  3.92  3.440  18.30  1.0  0.0   \n",
       "\n",
       "                   gear  carb  \n",
       "model                          \n",
       "Mazda RX4           4.0   4.0  \n",
       "Mazda RX4 Wag       4.0   4.0  \n",
       "Datsun 710          4.0   1.0  \n",
       "Hornet 4 Drive      3.0   1.0  \n",
       "Hornet Sportabout   3.0   2.0  \n",
       "Valiant             3.0   1.0  \n",
       "Duster 360          3.0   4.0  \n",
       "Merc 240D           4.0   2.0  \n",
       "Merc 230            4.0   2.0  \n",
       "Merc 280            4.0   4.0  "
      ]
     },
     "execution_count": 25,
     "metadata": {},
     "output_type": "execute_result"
    }
   ],
   "source": [
    "# Use the Imputer fill in missing values based on the mean\n",
    "imp = SimpleImputer(missing_values=np.nan,     # Create imputation model\n",
    "                   strategy=\"mean\")           # Use mean imputation\n",
    "\n",
    "imputed_cars = imp.fit_transform(mtcars)      # Use imputation model to get values\n",
    "\n",
    "imputed_cars = pd.DataFrame(imputed_cars,     # Remake the df with new values\n",
    "                           index=mtcars.index,\n",
    "                           columns=mtcars.columns)\n",
    "\n",
    "imputed_cars.head(10)"
   ]
  },
  {
   "cell_type": "markdown",
   "id": "05f28180-5b9c-4a69-b3b8-a2e33afe3359",
   "metadata": {},
   "source": [
    "SimpleImputer supports the \"mean\", \"median\" and \"most_frequent\" (mode) as strategies for imputation.\n",
    "\n",
    "Other imputation methods include filling in values based on \"similar\" or \"neighboring\" records (K-nearest-neighbors imputation) and filling in values based on regression models. Using predictive models to fill in missing values adds an extra layer of complexity to an analysis and can significantly increase processing time, although it may result in better predictive performance."
   ]
  },
  {
   "cell_type": "markdown",
   "id": "5fd50e06-451f-4862-84fb-63ae28cace5c",
   "metadata": {},
   "source": [
    "## 17. Dealing with Dates\n",
    "Common date formats contain numbers and sometimes text as well to specify months and days. Getting dates into a friendly format and extracting features of dates like month and year into new variables can be useful preprocessing steps.\n",
    "\n",
    "Pandas includes a variety of more advanced date and time functionality beyond the basics covered in this lesson, particularly for dealing time series data (data consisting of many periodic measurements over time.): https://pandas.pydata.org/pandas-docs/version/0.17.0/timeseries.html"
   ]
  },
  {
   "cell_type": "code",
   "execution_count": 26,
   "id": "9e0f6206-607a-43cd-96ba-e154cf740148",
   "metadata": {},
   "outputs": [],
   "source": [
    "import numpy as np\n",
    "import pandas as pd"
   ]
  },
  {
   "cell_type": "code",
   "execution_count": 27,
   "id": "03c724c1-6d62-45a7-b54f-31208300acc8",
   "metadata": {},
   "outputs": [
    {
     "data": {
      "text/html": [
       "<div>\n",
       "<style scoped>\n",
       "    .dataframe tbody tr th:only-of-type {\n",
       "        vertical-align: middle;\n",
       "    }\n",
       "\n",
       "    .dataframe tbody tr th {\n",
       "        vertical-align: top;\n",
       "    }\n",
       "\n",
       "    .dataframe thead th {\n",
       "        text-align: right;\n",
       "    }\n",
       "</style>\n",
       "<table border=\"1\" class=\"dataframe\">\n",
       "  <thead>\n",
       "    <tr style=\"text-align: right;\">\n",
       "      <th></th>\n",
       "      <th>month_day_year</th>\n",
       "      <th>day_month_year</th>\n",
       "      <th>date_time</th>\n",
       "      <th>year_month_day</th>\n",
       "    </tr>\n",
       "  </thead>\n",
       "  <tbody>\n",
       "    <tr>\n",
       "      <th>0</th>\n",
       "      <td>04/22/96</td>\n",
       "      <td>22-Apr-96</td>\n",
       "      <td>Tue Aug 11 09:50:35 1996</td>\n",
       "      <td>2007-06-22</td>\n",
       "    </tr>\n",
       "    <tr>\n",
       "      <th>1</th>\n",
       "      <td>04/23/96</td>\n",
       "      <td>23-Apr-96</td>\n",
       "      <td>Tue May 12 19:50:35 2016</td>\n",
       "      <td>2017-01-09</td>\n",
       "    </tr>\n",
       "    <tr>\n",
       "      <th>2</th>\n",
       "      <td>05/14/96</td>\n",
       "      <td>14-May-96</td>\n",
       "      <td>Mon Oct 14 09:50:35 2017</td>\n",
       "      <td>1998-04-12</td>\n",
       "    </tr>\n",
       "    <tr>\n",
       "      <th>3</th>\n",
       "      <td>05/15/96</td>\n",
       "      <td>15-May-96</td>\n",
       "      <td>Tue Jan 11 09:50:35 2018</td>\n",
       "      <td>2027-07-22</td>\n",
       "    </tr>\n",
       "    <tr>\n",
       "      <th>4</th>\n",
       "      <td>05/16/01</td>\n",
       "      <td>16-May-01</td>\n",
       "      <td>Fri Mar 11 07:30:36 2019</td>\n",
       "      <td>1945-11-15</td>\n",
       "    </tr>\n",
       "    <tr>\n",
       "      <th>5</th>\n",
       "      <td>05/17/02</td>\n",
       "      <td>17-May-02</td>\n",
       "      <td>Tue Aug 11 09:50:35 2020</td>\n",
       "      <td>1942-06-22</td>\n",
       "    </tr>\n",
       "    <tr>\n",
       "      <th>6</th>\n",
       "      <td>05/18/03</td>\n",
       "      <td>18-May-03</td>\n",
       "      <td>Wed Dec 21 09:50:35 2021</td>\n",
       "      <td>1887-06-13</td>\n",
       "    </tr>\n",
       "    <tr>\n",
       "      <th>7</th>\n",
       "      <td>05/19/04</td>\n",
       "      <td>19-May-04</td>\n",
       "      <td>Tue Jan 11 09:50:35 2022</td>\n",
       "      <td>1912-01-25</td>\n",
       "    </tr>\n",
       "    <tr>\n",
       "      <th>8</th>\n",
       "      <td>05/20/05</td>\n",
       "      <td>20-May-05</td>\n",
       "      <td>Sun Jul 10 19:40:25 2023</td>\n",
       "      <td>2007-06-22</td>\n",
       "    </tr>\n",
       "  </tbody>\n",
       "</table>\n",
       "</div>"
      ],
      "text/plain": [
       "  month_day_year day_month_year                 date_time year_month_day\n",
       "0       04/22/96      22-Apr-96  Tue Aug 11 09:50:35 1996     2007-06-22\n",
       "1       04/23/96      23-Apr-96  Tue May 12 19:50:35 2016     2017-01-09\n",
       "2       05/14/96      14-May-96  Mon Oct 14 09:50:35 2017     1998-04-12\n",
       "3       05/15/96      15-May-96  Tue Jan 11 09:50:35 2018     2027-07-22\n",
       "4       05/16/01      16-May-01  Fri Mar 11 07:30:36 2019     1945-11-15\n",
       "5       05/17/02      17-May-02  Tue Aug 11 09:50:35 2020     1942-06-22\n",
       "6       05/18/03      18-May-03  Wed Dec 21 09:50:35 2021     1887-06-13\n",
       "7       05/19/04      19-May-04  Tue Jan 11 09:50:35 2022     1912-01-25\n",
       "8       05/20/05      20-May-05  Sun Jul 10 19:40:25 2023     2007-06-22"
      ]
     },
     "execution_count": 27,
     "metadata": {},
     "output_type": "execute_result"
    }
   ],
   "source": [
    "dates = pd.read_csv(\"C:/Users/Micaela Rodriguez/Mentorías/Python for Data Analysis/dates_lesson_16.csv\")\n",
    "dates # Check the dates"
   ]
  },
  {
   "cell_type": "markdown",
   "id": "5dcf98c5-ce85-48e7-9b67-f100b41510c0",
   "metadata": {},
   "source": [
    "When you load data with Pandas, dates are typically loaded as strings by default. Let's check the type of data in each column."
   ]
  },
  {
   "cell_type": "code",
   "execution_count": 28,
   "id": "57029a86-44c7-4582-8db8-f57e594da3ac",
   "metadata": {},
   "outputs": [
    {
     "name": "stdout",
     "output_type": "stream",
     "text": [
      "<class 'str'>\n",
      "<class 'str'>\n",
      "<class 'str'>\n",
      "<class 'str'>\n"
     ]
    }
   ],
   "source": [
    "for col in dates:\n",
    "    print(type(dates[col][1]))"
   ]
  },
  {
   "cell_type": "markdown",
   "id": "4e05e970-76fd-4c53-a508-38671b933a3d",
   "metadata": {},
   "source": [
    "The output confirms that all the date data is currently in string form. To work with dates, we need to convert them from strings into a data format built for processing dates. The pandas library comes with a Timestamp data object for storing and working with dates. You can instruct pandas to automatically convert a date column in your data into Timestamps when you read your data by adding the \"parse_dates\" argument to the data reading function with a list of column indices indicated the columns you wish to convert to Timestamps. Let's re-read the data with parse_dates turned on for each column."
   ]
  },
  {
   "cell_type": "code",
   "execution_count": 29,
   "id": "205b2cf2-7726-4611-ad8b-e62423a012a0",
   "metadata": {},
   "outputs": [],
   "source": [
    "dates = pd.read_csv(\"C:/Users/Micaela Rodriguez/Mentorías/Python for Data Analysis/dates_lesson_16.csv\", \n",
    "                    parse_dates=[0,1,2,3])    # Convert cols to Timestamp"
   ]
  },
  {
   "cell_type": "code",
   "execution_count": 30,
   "id": "0927d359-75f8-48fd-b108-6465af07e0d0",
   "metadata": {},
   "outputs": [
    {
     "name": "stdout",
     "output_type": "stream",
     "text": [
      "<class 'pandas._libs.tslibs.timestamps.Timestamp'>\n",
      "<class 'pandas._libs.tslibs.timestamps.Timestamp'>\n",
      "<class 'pandas._libs.tslibs.timestamps.Timestamp'>\n",
      "<class 'pandas._libs.tslibs.timestamps.Timestamp'>\n"
     ]
    }
   ],
   "source": [
    "# Check the types again\n",
    "for col in dates:\n",
    "    print(type(dates[col][1]))"
   ]
  },
  {
   "cell_type": "markdown",
   "id": "6d70297e-76a2-41c1-b228-554294f0727d",
   "metadata": {},
   "source": [
    "The output shows that all 4 columns were successfully parsed and translated into Timestamps. The default date parser works on many common date formats. You can also convert date strings to Timestamps using the function pd.to_datetime().\n",
    "\n",
    "If you have oddly formatted date time objects, you might have to specify the exact format to get it to convert correctly into a Timestamp."
   ]
  },
  {
   "cell_type": "code",
   "execution_count": 31,
   "id": "cc512142-0b15-41b2-8e45-3cd582f5ef8b",
   "metadata": {},
   "outputs": [
    {
     "data": {
      "text/plain": [
       "Timestamp('2015-11-29 12:30:15')"
      ]
     },
     "execution_count": 31,
     "metadata": {},
     "output_type": "execute_result"
    }
   ],
   "source": [
    "# Consider a date format that gives date times of the form hour:minute:second year-day-month:\n",
    "odd_date = \"12:30:15 2015-29-11\"\n",
    "\n",
    "# The default to_datetime parser will fail to convert this date because it expects dates in the form year-month-day\n",
    "# In cases like this, specify the date's format to convert it to Timestamp:\n",
    "\n",
    "pd.to_datetime(odd_date,\n",
    "              format = \"%H:%M:%S %Y-%d-%m\")"
   ]
  },
  {
   "cell_type": "markdown",
   "id": "c71a8eb1-5c7f-4040-8a09-86dda898ca68",
   "metadata": {},
   "source": [
    "Once you have your dates in the Timestamp format, you can extract a variety of properties like the year, month and day. Converting dates into several simpler features can make the data easier to analyze and use in predictive models. Access date properties from a Series of Timestamps with the syntax: Series.dt.property."
   ]
  },
  {
   "cell_type": "code",
   "execution_count": 34,
   "id": "decef23f-0530-47c8-a73b-9a83c8b9617b",
   "metadata": {},
   "outputs": [
    {
     "data": {
      "text/html": [
       "<div>\n",
       "<style scoped>\n",
       "    .dataframe tbody tr th:only-of-type {\n",
       "        vertical-align: middle;\n",
       "    }\n",
       "\n",
       "    .dataframe tbody tr th {\n",
       "        vertical-align: top;\n",
       "    }\n",
       "\n",
       "    .dataframe thead th {\n",
       "        text-align: right;\n",
       "    }\n",
       "</style>\n",
       "<table border=\"1\" class=\"dataframe\">\n",
       "  <thead>\n",
       "    <tr style=\"text-align: right;\">\n",
       "      <th></th>\n",
       "      <th>year</th>\n",
       "      <th>month</th>\n",
       "      <th>day</th>\n",
       "      <th>hour</th>\n",
       "      <th>dayofyear</th>\n",
       "      <th>week</th>\n",
       "      <th>weekofyear</th>\n",
       "      <th>dayofweek</th>\n",
       "      <th>weekday</th>\n",
       "      <th>quarter</th>\n",
       "    </tr>\n",
       "  </thead>\n",
       "  <tbody>\n",
       "    <tr>\n",
       "      <th>0</th>\n",
       "      <td>1996</td>\n",
       "      <td>4</td>\n",
       "      <td>22</td>\n",
       "      <td>0</td>\n",
       "      <td>113</td>\n",
       "      <td>&lt;bound method DatetimeProperties.isocalendar o...</td>\n",
       "      <td>&lt;bound method DatetimeProperties.isocalendar o...</td>\n",
       "      <td>0</td>\n",
       "      <td>0</td>\n",
       "      <td>2</td>\n",
       "    </tr>\n",
       "    <tr>\n",
       "      <th>1</th>\n",
       "      <td>1996</td>\n",
       "      <td>4</td>\n",
       "      <td>23</td>\n",
       "      <td>0</td>\n",
       "      <td>114</td>\n",
       "      <td>&lt;bound method DatetimeProperties.isocalendar o...</td>\n",
       "      <td>&lt;bound method DatetimeProperties.isocalendar o...</td>\n",
       "      <td>1</td>\n",
       "      <td>1</td>\n",
       "      <td>2</td>\n",
       "    </tr>\n",
       "    <tr>\n",
       "      <th>2</th>\n",
       "      <td>1996</td>\n",
       "      <td>5</td>\n",
       "      <td>14</td>\n",
       "      <td>0</td>\n",
       "      <td>135</td>\n",
       "      <td>&lt;bound method DatetimeProperties.isocalendar o...</td>\n",
       "      <td>&lt;bound method DatetimeProperties.isocalendar o...</td>\n",
       "      <td>1</td>\n",
       "      <td>1</td>\n",
       "      <td>2</td>\n",
       "    </tr>\n",
       "    <tr>\n",
       "      <th>3</th>\n",
       "      <td>1996</td>\n",
       "      <td>5</td>\n",
       "      <td>15</td>\n",
       "      <td>0</td>\n",
       "      <td>136</td>\n",
       "      <td>&lt;bound method DatetimeProperties.isocalendar o...</td>\n",
       "      <td>&lt;bound method DatetimeProperties.isocalendar o...</td>\n",
       "      <td>2</td>\n",
       "      <td>2</td>\n",
       "      <td>2</td>\n",
       "    </tr>\n",
       "    <tr>\n",
       "      <th>4</th>\n",
       "      <td>2001</td>\n",
       "      <td>5</td>\n",
       "      <td>16</td>\n",
       "      <td>0</td>\n",
       "      <td>136</td>\n",
       "      <td>&lt;bound method DatetimeProperties.isocalendar o...</td>\n",
       "      <td>&lt;bound method DatetimeProperties.isocalendar o...</td>\n",
       "      <td>2</td>\n",
       "      <td>2</td>\n",
       "      <td>2</td>\n",
       "    </tr>\n",
       "    <tr>\n",
       "      <th>5</th>\n",
       "      <td>2002</td>\n",
       "      <td>5</td>\n",
       "      <td>17</td>\n",
       "      <td>0</td>\n",
       "      <td>137</td>\n",
       "      <td>&lt;bound method DatetimeProperties.isocalendar o...</td>\n",
       "      <td>&lt;bound method DatetimeProperties.isocalendar o...</td>\n",
       "      <td>4</td>\n",
       "      <td>4</td>\n",
       "      <td>2</td>\n",
       "    </tr>\n",
       "    <tr>\n",
       "      <th>6</th>\n",
       "      <td>2003</td>\n",
       "      <td>5</td>\n",
       "      <td>18</td>\n",
       "      <td>0</td>\n",
       "      <td>138</td>\n",
       "      <td>&lt;bound method DatetimeProperties.isocalendar o...</td>\n",
       "      <td>&lt;bound method DatetimeProperties.isocalendar o...</td>\n",
       "      <td>6</td>\n",
       "      <td>6</td>\n",
       "      <td>2</td>\n",
       "    </tr>\n",
       "    <tr>\n",
       "      <th>7</th>\n",
       "      <td>2004</td>\n",
       "      <td>5</td>\n",
       "      <td>19</td>\n",
       "      <td>0</td>\n",
       "      <td>140</td>\n",
       "      <td>&lt;bound method DatetimeProperties.isocalendar o...</td>\n",
       "      <td>&lt;bound method DatetimeProperties.isocalendar o...</td>\n",
       "      <td>2</td>\n",
       "      <td>2</td>\n",
       "      <td>2</td>\n",
       "    </tr>\n",
       "    <tr>\n",
       "      <th>8</th>\n",
       "      <td>2005</td>\n",
       "      <td>5</td>\n",
       "      <td>20</td>\n",
       "      <td>0</td>\n",
       "      <td>140</td>\n",
       "      <td>&lt;bound method DatetimeProperties.isocalendar o...</td>\n",
       "      <td>&lt;bound method DatetimeProperties.isocalendar o...</td>\n",
       "      <td>4</td>\n",
       "      <td>4</td>\n",
       "      <td>2</td>\n",
       "    </tr>\n",
       "  </tbody>\n",
       "</table>\n",
       "</div>"
      ],
      "text/plain": [
       "   year  month  day  hour  dayofyear  \\\n",
       "0  1996      4   22     0        113   \n",
       "1  1996      4   23     0        114   \n",
       "2  1996      5   14     0        135   \n",
       "3  1996      5   15     0        136   \n",
       "4  2001      5   16     0        136   \n",
       "5  2002      5   17     0        137   \n",
       "6  2003      5   18     0        138   \n",
       "7  2004      5   19     0        140   \n",
       "8  2005      5   20     0        140   \n",
       "\n",
       "                                                week  \\\n",
       "0  <bound method DatetimeProperties.isocalendar o...   \n",
       "1  <bound method DatetimeProperties.isocalendar o...   \n",
       "2  <bound method DatetimeProperties.isocalendar o...   \n",
       "3  <bound method DatetimeProperties.isocalendar o...   \n",
       "4  <bound method DatetimeProperties.isocalendar o...   \n",
       "5  <bound method DatetimeProperties.isocalendar o...   \n",
       "6  <bound method DatetimeProperties.isocalendar o...   \n",
       "7  <bound method DatetimeProperties.isocalendar o...   \n",
       "8  <bound method DatetimeProperties.isocalendar o...   \n",
       "\n",
       "                                          weekofyear  dayofweek  weekday  \\\n",
       "0  <bound method DatetimeProperties.isocalendar o...          0        0   \n",
       "1  <bound method DatetimeProperties.isocalendar o...          1        1   \n",
       "2  <bound method DatetimeProperties.isocalendar o...          1        1   \n",
       "3  <bound method DatetimeProperties.isocalendar o...          2        2   \n",
       "4  <bound method DatetimeProperties.isocalendar o...          2        2   \n",
       "5  <bound method DatetimeProperties.isocalendar o...          4        4   \n",
       "6  <bound method DatetimeProperties.isocalendar o...          6        6   \n",
       "7  <bound method DatetimeProperties.isocalendar o...          2        2   \n",
       "8  <bound method DatetimeProperties.isocalendar o...          4        4   \n",
       "\n",
       "   quarter  \n",
       "0        2  \n",
       "1        2  \n",
       "2        2  \n",
       "3        2  \n",
       "4        2  \n",
       "5        2  \n",
       "6        2  \n",
       "7        2  \n",
       "8        2  "
      ]
     },
     "execution_count": 34,
     "metadata": {},
     "output_type": "execute_result"
    }
   ],
   "source": [
    "column_1 = dates.iloc[:,0]\n",
    "\n",
    "pd.DataFrame({\"year\": column_1.dt.year,\n",
    "              \"month\": column_1.dt.month,\n",
    "              \"day\": column_1.dt.day,\n",
    "              \"hour\": column_1.dt.hour,\n",
    "              \"dayofyear\": column_1.dt.dayofyear,\n",
    "              \"week\": column_1.dt.isocalendar,\n",
    "              \"weekofyear\": column_1.dt.isocalendar,\n",
    "              \"dayofweek\": column_1.dt.dayofweek,\n",
    "              \"weekday\": column_1.dt.weekday,\n",
    "              \"quarter\": column_1.dt.quarter,\n",
    "             })"
   ]
  },
  {
   "cell_type": "code",
   "execution_count": 35,
   "id": "9d9755f3-be91-4fa5-9732-47bbba5e07ae",
   "metadata": {},
   "outputs": [
    {
     "name": "stdout",
     "output_type": "stream",
     "text": [
      "1996-04-23 00:00:00\n",
      "1996-05-15 00:00:00\n",
      "22 days 00:00:00\n"
     ]
    }
   ],
   "source": [
    "# Use the subtraction operator on Timestamp objects to determine the amount of time between two different dates:\n",
    "\n",
    "print(dates.iloc[1,0])\n",
    "print(dates.iloc[3,0])\n",
    "print(dates.iloc[3,0]-dates.iloc[1,0])"
   ]
  },
  {
   "cell_type": "markdown",
   "id": "e2c97810-f391-442b-957b-840b3bbe00d8",
   "metadata": {},
   "source": [
    "## 18. Merging \n",
    "\n",
    "Data is often split across different tables that you need to combine in some way. DataFrames can be joined together if they have columns in common. You can join DataFrames in Python using functions included in pandas."
   ]
  },
  {
   "cell_type": "code",
   "execution_count": 1,
   "id": "df481103",
   "metadata": {},
   "outputs": [],
   "source": [
    "import numpy as np\n",
    "import pandas as pd\n",
    "import os"
   ]
  },
  {
   "cell_type": "code",
   "execution_count": 2,
   "id": "abb95ade",
   "metadata": {},
   "outputs": [
    {
     "data": {
      "text/html": [
       "<div>\n",
       "<style scoped>\n",
       "    .dataframe tbody tr th:only-of-type {\n",
       "        vertical-align: middle;\n",
       "    }\n",
       "\n",
       "    .dataframe tbody tr th {\n",
       "        vertical-align: top;\n",
       "    }\n",
       "\n",
       "    .dataframe thead th {\n",
       "        text-align: right;\n",
       "    }\n",
       "</style>\n",
       "<table border=\"1\" class=\"dataframe\">\n",
       "  <thead>\n",
       "    <tr style=\"text-align: right;\">\n",
       "      <th></th>\n",
       "      <th>P_ID</th>\n",
       "      <th>gender</th>\n",
       "      <th>height</th>\n",
       "      <th>weight</th>\n",
       "    </tr>\n",
       "  </thead>\n",
       "  <tbody>\n",
       "    <tr>\n",
       "      <th>0</th>\n",
       "      <td>1</td>\n",
       "      <td>male</td>\n",
       "      <td>71</td>\n",
       "      <td>175</td>\n",
       "    </tr>\n",
       "    <tr>\n",
       "      <th>1</th>\n",
       "      <td>2</td>\n",
       "      <td>male</td>\n",
       "      <td>73</td>\n",
       "      <td>225</td>\n",
       "    </tr>\n",
       "    <tr>\n",
       "      <th>2</th>\n",
       "      <td>3</td>\n",
       "      <td>female</td>\n",
       "      <td>64</td>\n",
       "      <td>130</td>\n",
       "    </tr>\n",
       "    <tr>\n",
       "      <th>3</th>\n",
       "      <td>4</td>\n",
       "      <td>female</td>\n",
       "      <td>64</td>\n",
       "      <td>125</td>\n",
       "    </tr>\n",
       "    <tr>\n",
       "      <th>4</th>\n",
       "      <td>5</td>\n",
       "      <td>female</td>\n",
       "      <td>66</td>\n",
       "      <td>165</td>\n",
       "    </tr>\n",
       "    <tr>\n",
       "      <th>5</th>\n",
       "      <td>6</td>\n",
       "      <td>male</td>\n",
       "      <td>69</td>\n",
       "      <td>160</td>\n",
       "    </tr>\n",
       "    <tr>\n",
       "      <th>6</th>\n",
       "      <td>7</td>\n",
       "      <td>female</td>\n",
       "      <td>62</td>\n",
       "      <td>115</td>\n",
       "    </tr>\n",
       "    <tr>\n",
       "      <th>7</th>\n",
       "      <td>8</td>\n",
       "      <td>male</td>\n",
       "      <td>72</td>\n",
       "      <td>250</td>\n",
       "    </tr>\n",
       "  </tbody>\n",
       "</table>\n",
       "</div>"
      ],
      "text/plain": [
       "   P_ID  gender  height  weight\n",
       "0     1    male      71     175\n",
       "1     2    male      73     225\n",
       "2     3  female      64     130\n",
       "3     4  female      64     125\n",
       "4     5  female      66     165\n",
       "5     6    male      69     160\n",
       "6     7  female      62     115\n",
       "7     8    male      72     250"
      ]
     },
     "execution_count": 2,
     "metadata": {},
     "output_type": "execute_result"
    }
   ],
   "source": [
    "# Create a dummy table\n",
    "\n",
    "table1 = pd.DataFrame({\"P_ID\" : (1,2,3,4,5,6,7,8),\n",
    "                     \"gender\" : (\"male\", \"male\", \"female\",\"female\",\n",
    "                                \"female\", \"male\", \"female\", \"male\"),\n",
    "                     \"height\" : (71,73,64,64,66,69,62,72),\n",
    "                     \"weight\" : (175,225,130,125,165,160,115,250)})\n",
    "\n",
    "table1"
   ]
  },
  {
   "cell_type": "code",
   "execution_count": 3,
   "id": "de650f4b",
   "metadata": {},
   "outputs": [
    {
     "data": {
      "text/html": [
       "<div>\n",
       "<style scoped>\n",
       "    .dataframe tbody tr th:only-of-type {\n",
       "        vertical-align: middle;\n",
       "    }\n",
       "\n",
       "    .dataframe tbody tr th {\n",
       "        vertical-align: top;\n",
       "    }\n",
       "\n",
       "    .dataframe thead th {\n",
       "        text-align: right;\n",
       "    }\n",
       "</style>\n",
       "<table border=\"1\" class=\"dataframe\">\n",
       "  <thead>\n",
       "    <tr style=\"text-align: right;\">\n",
       "      <th></th>\n",
       "      <th>P_ID</th>\n",
       "      <th>sex</th>\n",
       "      <th>visits</th>\n",
       "      <th>checkup</th>\n",
       "      <th>follow_up</th>\n",
       "      <th>illness</th>\n",
       "      <th>surgery</th>\n",
       "      <th>ER</th>\n",
       "    </tr>\n",
       "  </thead>\n",
       "  <tbody>\n",
       "    <tr>\n",
       "      <th>0</th>\n",
       "      <td>1</td>\n",
       "      <td>male</td>\n",
       "      <td>1</td>\n",
       "      <td>1</td>\n",
       "      <td>0</td>\n",
       "      <td>0</td>\n",
       "      <td>0</td>\n",
       "      <td>0</td>\n",
       "    </tr>\n",
       "    <tr>\n",
       "      <th>1</th>\n",
       "      <td>2</td>\n",
       "      <td>male</td>\n",
       "      <td>2</td>\n",
       "      <td>1</td>\n",
       "      <td>0</td>\n",
       "      <td>0</td>\n",
       "      <td>0</td>\n",
       "      <td>1</td>\n",
       "    </tr>\n",
       "    <tr>\n",
       "      <th>2</th>\n",
       "      <td>4</td>\n",
       "      <td>female</td>\n",
       "      <td>4</td>\n",
       "      <td>1</td>\n",
       "      <td>1</td>\n",
       "      <td>2</td>\n",
       "      <td>0</td>\n",
       "      <td>0</td>\n",
       "    </tr>\n",
       "    <tr>\n",
       "      <th>3</th>\n",
       "      <td>5</td>\n",
       "      <td>female</td>\n",
       "      <td>12</td>\n",
       "      <td>1</td>\n",
       "      <td>2</td>\n",
       "      <td>7</td>\n",
       "      <td>2</td>\n",
       "      <td>0</td>\n",
       "    </tr>\n",
       "    <tr>\n",
       "      <th>4</th>\n",
       "      <td>7</td>\n",
       "      <td>female</td>\n",
       "      <td>2</td>\n",
       "      <td>1</td>\n",
       "      <td>0</td>\n",
       "      <td>1</td>\n",
       "      <td>0</td>\n",
       "      <td>0</td>\n",
       "    </tr>\n",
       "    <tr>\n",
       "      <th>5</th>\n",
       "      <td>8</td>\n",
       "      <td>male</td>\n",
       "      <td>2</td>\n",
       "      <td>1</td>\n",
       "      <td>0</td>\n",
       "      <td>1</td>\n",
       "      <td>0</td>\n",
       "      <td>0</td>\n",
       "    </tr>\n",
       "    <tr>\n",
       "      <th>6</th>\n",
       "      <td>9</td>\n",
       "      <td>male</td>\n",
       "      <td>1</td>\n",
       "      <td>0</td>\n",
       "      <td>0</td>\n",
       "      <td>0</td>\n",
       "      <td>0</td>\n",
       "      <td>1</td>\n",
       "    </tr>\n",
       "    <tr>\n",
       "      <th>7</th>\n",
       "      <td>10</td>\n",
       "      <td>female</td>\n",
       "      <td>1</td>\n",
       "      <td>0</td>\n",
       "      <td>0</td>\n",
       "      <td>0</td>\n",
       "      <td>0</td>\n",
       "      <td>1</td>\n",
       "    </tr>\n",
       "  </tbody>\n",
       "</table>\n",
       "</div>"
      ],
      "text/plain": [
       "   P_ID     sex  visits  checkup  follow_up  illness  surgery  ER\n",
       "0     1    male       1        1          0        0        0   0\n",
       "1     2    male       2        1          0        0        0   1\n",
       "2     4  female       4        1          1        2        0   0\n",
       "3     5  female      12        1          2        7        2   0\n",
       "4     7  female       2        1          0        1        0   0\n",
       "5     8    male       2        1          0        1        0   0\n",
       "6     9    male       1        0          0        0        0   1\n",
       "7    10  female       1        0          0        0        0   1"
      ]
     },
     "execution_count": 3,
     "metadata": {},
     "output_type": "execute_result"
    }
   ],
   "source": [
    "# Second table with more data\n",
    "\n",
    "table2 = pd.DataFrame({\"P_ID\" : (1, 2, 4, 5, 7, 8, 9, 10),\n",
    "                     \"sex\" : (\"male\", \"male\", \"female\",\"female\",\n",
    "                            \"female\", \"male\", \"male\", \"female\"),\n",
    "                     \"visits\" : (1,2,4,12,2,2,1,1),\n",
    "                     \"checkup\" : (1,1,1,1,1,1,0,0),\n",
    "                     \"follow_up\" : (0,0,1,2,0,0,0,0),\n",
    "                     \"illness\" : (0,0,2,7,1,1,0,0),\n",
    "                     \"surgery\" : (0,0,0,2,0,0,0,0),\n",
    "                     \"ER\" : ( 0,1,0,0,0,0,1,1) } ) \n",
    "\n",
    "table2"
   ]
  },
  {
   "cell_type": "markdown",
   "id": "923bb96d",
   "metadata": {},
   "source": [
    "Both dataframes contain the column \"P_ID\" but the other columns are different. The ID unique identifier is a good key for joining two dataframes together."
   ]
  },
  {
   "cell_type": "code",
   "execution_count": 4,
   "id": "8b672153",
   "metadata": {},
   "outputs": [
    {
     "data": {
      "text/html": [
       "<div>\n",
       "<style scoped>\n",
       "    .dataframe tbody tr th:only-of-type {\n",
       "        vertical-align: middle;\n",
       "    }\n",
       "\n",
       "    .dataframe tbody tr th {\n",
       "        vertical-align: top;\n",
       "    }\n",
       "\n",
       "    .dataframe thead th {\n",
       "        text-align: right;\n",
       "    }\n",
       "</style>\n",
       "<table border=\"1\" class=\"dataframe\">\n",
       "  <thead>\n",
       "    <tr style=\"text-align: right;\">\n",
       "      <th></th>\n",
       "      <th>P_ID</th>\n",
       "      <th>gender</th>\n",
       "      <th>height</th>\n",
       "      <th>weight</th>\n",
       "      <th>sex</th>\n",
       "      <th>visits</th>\n",
       "      <th>checkup</th>\n",
       "      <th>follow_up</th>\n",
       "      <th>illness</th>\n",
       "      <th>surgery</th>\n",
       "      <th>ER</th>\n",
       "    </tr>\n",
       "  </thead>\n",
       "  <tbody>\n",
       "    <tr>\n",
       "      <th>0</th>\n",
       "      <td>1</td>\n",
       "      <td>male</td>\n",
       "      <td>71</td>\n",
       "      <td>175</td>\n",
       "      <td>male</td>\n",
       "      <td>1</td>\n",
       "      <td>1</td>\n",
       "      <td>0</td>\n",
       "      <td>0</td>\n",
       "      <td>0</td>\n",
       "      <td>0</td>\n",
       "    </tr>\n",
       "    <tr>\n",
       "      <th>1</th>\n",
       "      <td>2</td>\n",
       "      <td>male</td>\n",
       "      <td>73</td>\n",
       "      <td>225</td>\n",
       "      <td>male</td>\n",
       "      <td>2</td>\n",
       "      <td>1</td>\n",
       "      <td>0</td>\n",
       "      <td>0</td>\n",
       "      <td>0</td>\n",
       "      <td>1</td>\n",
       "    </tr>\n",
       "    <tr>\n",
       "      <th>2</th>\n",
       "      <td>4</td>\n",
       "      <td>female</td>\n",
       "      <td>64</td>\n",
       "      <td>125</td>\n",
       "      <td>female</td>\n",
       "      <td>4</td>\n",
       "      <td>1</td>\n",
       "      <td>1</td>\n",
       "      <td>2</td>\n",
       "      <td>0</td>\n",
       "      <td>0</td>\n",
       "    </tr>\n",
       "    <tr>\n",
       "      <th>3</th>\n",
       "      <td>5</td>\n",
       "      <td>female</td>\n",
       "      <td>66</td>\n",
       "      <td>165</td>\n",
       "      <td>female</td>\n",
       "      <td>12</td>\n",
       "      <td>1</td>\n",
       "      <td>2</td>\n",
       "      <td>7</td>\n",
       "      <td>2</td>\n",
       "      <td>0</td>\n",
       "    </tr>\n",
       "    <tr>\n",
       "      <th>4</th>\n",
       "      <td>7</td>\n",
       "      <td>female</td>\n",
       "      <td>62</td>\n",
       "      <td>115</td>\n",
       "      <td>female</td>\n",
       "      <td>2</td>\n",
       "      <td>1</td>\n",
       "      <td>0</td>\n",
       "      <td>1</td>\n",
       "      <td>0</td>\n",
       "      <td>0</td>\n",
       "    </tr>\n",
       "    <tr>\n",
       "      <th>5</th>\n",
       "      <td>8</td>\n",
       "      <td>male</td>\n",
       "      <td>72</td>\n",
       "      <td>250</td>\n",
       "      <td>male</td>\n",
       "      <td>2</td>\n",
       "      <td>1</td>\n",
       "      <td>0</td>\n",
       "      <td>1</td>\n",
       "      <td>0</td>\n",
       "      <td>0</td>\n",
       "    </tr>\n",
       "  </tbody>\n",
       "</table>\n",
       "</div>"
      ],
      "text/plain": [
       "   P_ID  gender  height  weight     sex  visits  checkup  follow_up  illness  \\\n",
       "0     1    male      71     175    male       1        1          0        0   \n",
       "1     2    male      73     225    male       2        1          0        0   \n",
       "2     4  female      64     125  female       4        1          1        2   \n",
       "3     5  female      66     165  female      12        1          2        7   \n",
       "4     7  female      62     115  female       2        1          0        1   \n",
       "5     8    male      72     250    male       2        1          0        1   \n",
       "\n",
       "   surgery  ER  \n",
       "0        0   0  \n",
       "1        0   1  \n",
       "2        0   0  \n",
       "3        2   0  \n",
       "4        0   0  \n",
       "5        0   0  "
      ]
     },
     "execution_count": 4,
     "metadata": {},
     "output_type": "execute_result"
    }
   ],
   "source": [
    "# Join 2 dataframes by a common column with merge()\n",
    "combined1 = pd.merge(table1,             # First table\n",
    "                    table2,              # Second table\n",
    "                    how = \"inner\",       # Merge method\n",
    "                    on = \"P_ID\")         # Column(s) to join on\n",
    "\n",
    "combined1"
   ]
  },
  {
   "cell_type": "markdown",
   "id": "1b684354",
   "metadata": {},
   "source": [
    "The number of records dropped from 8 in the original tables to 6 in the combined data. **An inner join only merges records that appear in both columns used for the join.** Since patients 3 and 6 only appear in table1 and patients 9 and 10 only appear in table2, those four patients were dropped when we merged the tables together. **Inner joins ensure that we don't end up introducing missing values in our data..**"
   ]
  },
  {
   "cell_type": "code",
   "execution_count": 5,
   "id": "3f594994",
   "metadata": {},
   "outputs": [
    {
     "data": {
      "text/html": [
       "<div>\n",
       "<style scoped>\n",
       "    .dataframe tbody tr th:only-of-type {\n",
       "        vertical-align: middle;\n",
       "    }\n",
       "\n",
       "    .dataframe tbody tr th {\n",
       "        vertical-align: top;\n",
       "    }\n",
       "\n",
       "    .dataframe thead th {\n",
       "        text-align: right;\n",
       "    }\n",
       "</style>\n",
       "<table border=\"1\" class=\"dataframe\">\n",
       "  <thead>\n",
       "    <tr style=\"text-align: right;\">\n",
       "      <th></th>\n",
       "      <th>P_ID</th>\n",
       "      <th>gender</th>\n",
       "      <th>height</th>\n",
       "      <th>weight</th>\n",
       "      <th>sex</th>\n",
       "      <th>visits</th>\n",
       "      <th>checkup</th>\n",
       "      <th>follow_up</th>\n",
       "      <th>illness</th>\n",
       "      <th>surgery</th>\n",
       "      <th>ER</th>\n",
       "    </tr>\n",
       "  </thead>\n",
       "  <tbody>\n",
       "    <tr>\n",
       "      <th>0</th>\n",
       "      <td>1</td>\n",
       "      <td>male</td>\n",
       "      <td>71</td>\n",
       "      <td>175</td>\n",
       "      <td>male</td>\n",
       "      <td>1.0</td>\n",
       "      <td>1.0</td>\n",
       "      <td>0.0</td>\n",
       "      <td>0.0</td>\n",
       "      <td>0.0</td>\n",
       "      <td>0.0</td>\n",
       "    </tr>\n",
       "    <tr>\n",
       "      <th>1</th>\n",
       "      <td>2</td>\n",
       "      <td>male</td>\n",
       "      <td>73</td>\n",
       "      <td>225</td>\n",
       "      <td>male</td>\n",
       "      <td>2.0</td>\n",
       "      <td>1.0</td>\n",
       "      <td>0.0</td>\n",
       "      <td>0.0</td>\n",
       "      <td>0.0</td>\n",
       "      <td>1.0</td>\n",
       "    </tr>\n",
       "    <tr>\n",
       "      <th>2</th>\n",
       "      <td>3</td>\n",
       "      <td>female</td>\n",
       "      <td>64</td>\n",
       "      <td>130</td>\n",
       "      <td>NaN</td>\n",
       "      <td>NaN</td>\n",
       "      <td>NaN</td>\n",
       "      <td>NaN</td>\n",
       "      <td>NaN</td>\n",
       "      <td>NaN</td>\n",
       "      <td>NaN</td>\n",
       "    </tr>\n",
       "    <tr>\n",
       "      <th>3</th>\n",
       "      <td>4</td>\n",
       "      <td>female</td>\n",
       "      <td>64</td>\n",
       "      <td>125</td>\n",
       "      <td>female</td>\n",
       "      <td>4.0</td>\n",
       "      <td>1.0</td>\n",
       "      <td>1.0</td>\n",
       "      <td>2.0</td>\n",
       "      <td>0.0</td>\n",
       "      <td>0.0</td>\n",
       "    </tr>\n",
       "    <tr>\n",
       "      <th>4</th>\n",
       "      <td>5</td>\n",
       "      <td>female</td>\n",
       "      <td>66</td>\n",
       "      <td>165</td>\n",
       "      <td>female</td>\n",
       "      <td>12.0</td>\n",
       "      <td>1.0</td>\n",
       "      <td>2.0</td>\n",
       "      <td>7.0</td>\n",
       "      <td>2.0</td>\n",
       "      <td>0.0</td>\n",
       "    </tr>\n",
       "    <tr>\n",
       "      <th>5</th>\n",
       "      <td>6</td>\n",
       "      <td>male</td>\n",
       "      <td>69</td>\n",
       "      <td>160</td>\n",
       "      <td>NaN</td>\n",
       "      <td>NaN</td>\n",
       "      <td>NaN</td>\n",
       "      <td>NaN</td>\n",
       "      <td>NaN</td>\n",
       "      <td>NaN</td>\n",
       "      <td>NaN</td>\n",
       "    </tr>\n",
       "    <tr>\n",
       "      <th>6</th>\n",
       "      <td>7</td>\n",
       "      <td>female</td>\n",
       "      <td>62</td>\n",
       "      <td>115</td>\n",
       "      <td>female</td>\n",
       "      <td>2.0</td>\n",
       "      <td>1.0</td>\n",
       "      <td>0.0</td>\n",
       "      <td>1.0</td>\n",
       "      <td>0.0</td>\n",
       "      <td>0.0</td>\n",
       "    </tr>\n",
       "    <tr>\n",
       "      <th>7</th>\n",
       "      <td>8</td>\n",
       "      <td>male</td>\n",
       "      <td>72</td>\n",
       "      <td>250</td>\n",
       "      <td>male</td>\n",
       "      <td>2.0</td>\n",
       "      <td>1.0</td>\n",
       "      <td>0.0</td>\n",
       "      <td>1.0</td>\n",
       "      <td>0.0</td>\n",
       "      <td>0.0</td>\n",
       "    </tr>\n",
       "  </tbody>\n",
       "</table>\n",
       "</div>"
      ],
      "text/plain": [
       "   P_ID  gender  height  weight     sex  visits  checkup  follow_up  illness  \\\n",
       "0     1    male      71     175    male     1.0      1.0        0.0      0.0   \n",
       "1     2    male      73     225    male     2.0      1.0        0.0      0.0   \n",
       "2     3  female      64     130     NaN     NaN      NaN        NaN      NaN   \n",
       "3     4  female      64     125  female     4.0      1.0        1.0      2.0   \n",
       "4     5  female      66     165  female    12.0      1.0        2.0      7.0   \n",
       "5     6    male      69     160     NaN     NaN      NaN        NaN      NaN   \n",
       "6     7  female      62     115  female     2.0      1.0        0.0      1.0   \n",
       "7     8    male      72     250    male     2.0      1.0        0.0      1.0   \n",
       "\n",
       "   surgery   ER  \n",
       "0      0.0  0.0  \n",
       "1      0.0  1.0  \n",
       "2      NaN  NaN  \n",
       "3      0.0  0.0  \n",
       "4      2.0  0.0  \n",
       "5      NaN  NaN  \n",
       "6      0.0  0.0  \n",
       "7      0.0  0.0  "
      ]
     },
     "execution_count": 5,
     "metadata": {},
     "output_type": "execute_result"
    }
   ],
   "source": [
    "# A left join keeps all key values in the first (left) data frame\n",
    "\n",
    "left_join = pd.merge(table1,\n",
    "                    table2,\n",
    "                    how=\"left\",\n",
    "                    on=\"P_ID\")\n",
    "\n",
    "left_join"
   ]
  },
  {
   "cell_type": "code",
   "execution_count": 6,
   "id": "2c2054ad",
   "metadata": {},
   "outputs": [
    {
     "data": {
      "text/html": [
       "<div>\n",
       "<style scoped>\n",
       "    .dataframe tbody tr th:only-of-type {\n",
       "        vertical-align: middle;\n",
       "    }\n",
       "\n",
       "    .dataframe tbody tr th {\n",
       "        vertical-align: top;\n",
       "    }\n",
       "\n",
       "    .dataframe thead th {\n",
       "        text-align: right;\n",
       "    }\n",
       "</style>\n",
       "<table border=\"1\" class=\"dataframe\">\n",
       "  <thead>\n",
       "    <tr style=\"text-align: right;\">\n",
       "      <th></th>\n",
       "      <th>P_ID</th>\n",
       "      <th>gender</th>\n",
       "      <th>height</th>\n",
       "      <th>weight</th>\n",
       "      <th>sex</th>\n",
       "      <th>visits</th>\n",
       "      <th>checkup</th>\n",
       "      <th>follow_up</th>\n",
       "      <th>illness</th>\n",
       "      <th>surgery</th>\n",
       "      <th>ER</th>\n",
       "    </tr>\n",
       "  </thead>\n",
       "  <tbody>\n",
       "    <tr>\n",
       "      <th>0</th>\n",
       "      <td>1</td>\n",
       "      <td>male</td>\n",
       "      <td>71.0</td>\n",
       "      <td>175.0</td>\n",
       "      <td>male</td>\n",
       "      <td>1</td>\n",
       "      <td>1</td>\n",
       "      <td>0</td>\n",
       "      <td>0</td>\n",
       "      <td>0</td>\n",
       "      <td>0</td>\n",
       "    </tr>\n",
       "    <tr>\n",
       "      <th>1</th>\n",
       "      <td>2</td>\n",
       "      <td>male</td>\n",
       "      <td>73.0</td>\n",
       "      <td>225.0</td>\n",
       "      <td>male</td>\n",
       "      <td>2</td>\n",
       "      <td>1</td>\n",
       "      <td>0</td>\n",
       "      <td>0</td>\n",
       "      <td>0</td>\n",
       "      <td>1</td>\n",
       "    </tr>\n",
       "    <tr>\n",
       "      <th>2</th>\n",
       "      <td>4</td>\n",
       "      <td>female</td>\n",
       "      <td>64.0</td>\n",
       "      <td>125.0</td>\n",
       "      <td>female</td>\n",
       "      <td>4</td>\n",
       "      <td>1</td>\n",
       "      <td>1</td>\n",
       "      <td>2</td>\n",
       "      <td>0</td>\n",
       "      <td>0</td>\n",
       "    </tr>\n",
       "    <tr>\n",
       "      <th>3</th>\n",
       "      <td>5</td>\n",
       "      <td>female</td>\n",
       "      <td>66.0</td>\n",
       "      <td>165.0</td>\n",
       "      <td>female</td>\n",
       "      <td>12</td>\n",
       "      <td>1</td>\n",
       "      <td>2</td>\n",
       "      <td>7</td>\n",
       "      <td>2</td>\n",
       "      <td>0</td>\n",
       "    </tr>\n",
       "    <tr>\n",
       "      <th>4</th>\n",
       "      <td>7</td>\n",
       "      <td>female</td>\n",
       "      <td>62.0</td>\n",
       "      <td>115.0</td>\n",
       "      <td>female</td>\n",
       "      <td>2</td>\n",
       "      <td>1</td>\n",
       "      <td>0</td>\n",
       "      <td>1</td>\n",
       "      <td>0</td>\n",
       "      <td>0</td>\n",
       "    </tr>\n",
       "    <tr>\n",
       "      <th>5</th>\n",
       "      <td>8</td>\n",
       "      <td>male</td>\n",
       "      <td>72.0</td>\n",
       "      <td>250.0</td>\n",
       "      <td>male</td>\n",
       "      <td>2</td>\n",
       "      <td>1</td>\n",
       "      <td>0</td>\n",
       "      <td>1</td>\n",
       "      <td>0</td>\n",
       "      <td>0</td>\n",
       "    </tr>\n",
       "    <tr>\n",
       "      <th>6</th>\n",
       "      <td>9</td>\n",
       "      <td>NaN</td>\n",
       "      <td>NaN</td>\n",
       "      <td>NaN</td>\n",
       "      <td>male</td>\n",
       "      <td>1</td>\n",
       "      <td>0</td>\n",
       "      <td>0</td>\n",
       "      <td>0</td>\n",
       "      <td>0</td>\n",
       "      <td>1</td>\n",
       "    </tr>\n",
       "    <tr>\n",
       "      <th>7</th>\n",
       "      <td>10</td>\n",
       "      <td>NaN</td>\n",
       "      <td>NaN</td>\n",
       "      <td>NaN</td>\n",
       "      <td>female</td>\n",
       "      <td>1</td>\n",
       "      <td>0</td>\n",
       "      <td>0</td>\n",
       "      <td>0</td>\n",
       "      <td>0</td>\n",
       "      <td>1</td>\n",
       "    </tr>\n",
       "  </tbody>\n",
       "</table>\n",
       "</div>"
      ],
      "text/plain": [
       "   P_ID  gender  height  weight     sex  visits  checkup  follow_up  illness  \\\n",
       "0     1    male    71.0   175.0    male       1        1          0        0   \n",
       "1     2    male    73.0   225.0    male       2        1          0        0   \n",
       "2     4  female    64.0   125.0  female       4        1          1        2   \n",
       "3     5  female    66.0   165.0  female      12        1          2        7   \n",
       "4     7  female    62.0   115.0  female       2        1          0        1   \n",
       "5     8    male    72.0   250.0    male       2        1          0        1   \n",
       "6     9     NaN     NaN     NaN    male       1        0          0        0   \n",
       "7    10     NaN     NaN     NaN  female       1        0          0        0   \n",
       "\n",
       "   surgery  ER  \n",
       "0        0   0  \n",
       "1        0   1  \n",
       "2        0   0  \n",
       "3        2   0  \n",
       "4        0   0  \n",
       "5        0   0  \n",
       "6        0   1  \n",
       "7        0   1  "
      ]
     },
     "execution_count": 6,
     "metadata": {},
     "output_type": "execute_result"
    }
   ],
   "source": [
    "# A right join keeps all key values in the second (right) data frame\n",
    "\n",
    "right_join = pd.merge(table1,\n",
    "                    table2,\n",
    "                    how=\"right\",\n",
    "                    on=\"P_ID\")\n",
    "\n",
    "right_join"
   ]
  },
  {
   "cell_type": "code",
   "execution_count": 7,
   "id": "5bf6dfdd",
   "metadata": {},
   "outputs": [
    {
     "data": {
      "text/html": [
       "<div>\n",
       "<style scoped>\n",
       "    .dataframe tbody tr th:only-of-type {\n",
       "        vertical-align: middle;\n",
       "    }\n",
       "\n",
       "    .dataframe tbody tr th {\n",
       "        vertical-align: top;\n",
       "    }\n",
       "\n",
       "    .dataframe thead th {\n",
       "        text-align: right;\n",
       "    }\n",
       "</style>\n",
       "<table border=\"1\" class=\"dataframe\">\n",
       "  <thead>\n",
       "    <tr style=\"text-align: right;\">\n",
       "      <th></th>\n",
       "      <th>P_ID</th>\n",
       "      <th>gender</th>\n",
       "      <th>height</th>\n",
       "      <th>weight</th>\n",
       "      <th>sex</th>\n",
       "      <th>visits</th>\n",
       "      <th>checkup</th>\n",
       "      <th>follow_up</th>\n",
       "      <th>illness</th>\n",
       "      <th>surgery</th>\n",
       "      <th>ER</th>\n",
       "    </tr>\n",
       "  </thead>\n",
       "  <tbody>\n",
       "    <tr>\n",
       "      <th>0</th>\n",
       "      <td>1</td>\n",
       "      <td>male</td>\n",
       "      <td>71.0</td>\n",
       "      <td>175.0</td>\n",
       "      <td>male</td>\n",
       "      <td>1.0</td>\n",
       "      <td>1.0</td>\n",
       "      <td>0.0</td>\n",
       "      <td>0.0</td>\n",
       "      <td>0.0</td>\n",
       "      <td>0.0</td>\n",
       "    </tr>\n",
       "    <tr>\n",
       "      <th>1</th>\n",
       "      <td>2</td>\n",
       "      <td>male</td>\n",
       "      <td>73.0</td>\n",
       "      <td>225.0</td>\n",
       "      <td>male</td>\n",
       "      <td>2.0</td>\n",
       "      <td>1.0</td>\n",
       "      <td>0.0</td>\n",
       "      <td>0.0</td>\n",
       "      <td>0.0</td>\n",
       "      <td>1.0</td>\n",
       "    </tr>\n",
       "    <tr>\n",
       "      <th>2</th>\n",
       "      <td>3</td>\n",
       "      <td>female</td>\n",
       "      <td>64.0</td>\n",
       "      <td>130.0</td>\n",
       "      <td>NaN</td>\n",
       "      <td>NaN</td>\n",
       "      <td>NaN</td>\n",
       "      <td>NaN</td>\n",
       "      <td>NaN</td>\n",
       "      <td>NaN</td>\n",
       "      <td>NaN</td>\n",
       "    </tr>\n",
       "    <tr>\n",
       "      <th>3</th>\n",
       "      <td>4</td>\n",
       "      <td>female</td>\n",
       "      <td>64.0</td>\n",
       "      <td>125.0</td>\n",
       "      <td>female</td>\n",
       "      <td>4.0</td>\n",
       "      <td>1.0</td>\n",
       "      <td>1.0</td>\n",
       "      <td>2.0</td>\n",
       "      <td>0.0</td>\n",
       "      <td>0.0</td>\n",
       "    </tr>\n",
       "    <tr>\n",
       "      <th>4</th>\n",
       "      <td>5</td>\n",
       "      <td>female</td>\n",
       "      <td>66.0</td>\n",
       "      <td>165.0</td>\n",
       "      <td>female</td>\n",
       "      <td>12.0</td>\n",
       "      <td>1.0</td>\n",
       "      <td>2.0</td>\n",
       "      <td>7.0</td>\n",
       "      <td>2.0</td>\n",
       "      <td>0.0</td>\n",
       "    </tr>\n",
       "    <tr>\n",
       "      <th>5</th>\n",
       "      <td>6</td>\n",
       "      <td>male</td>\n",
       "      <td>69.0</td>\n",
       "      <td>160.0</td>\n",
       "      <td>NaN</td>\n",
       "      <td>NaN</td>\n",
       "      <td>NaN</td>\n",
       "      <td>NaN</td>\n",
       "      <td>NaN</td>\n",
       "      <td>NaN</td>\n",
       "      <td>NaN</td>\n",
       "    </tr>\n",
       "    <tr>\n",
       "      <th>6</th>\n",
       "      <td>7</td>\n",
       "      <td>female</td>\n",
       "      <td>62.0</td>\n",
       "      <td>115.0</td>\n",
       "      <td>female</td>\n",
       "      <td>2.0</td>\n",
       "      <td>1.0</td>\n",
       "      <td>0.0</td>\n",
       "      <td>1.0</td>\n",
       "      <td>0.0</td>\n",
       "      <td>0.0</td>\n",
       "    </tr>\n",
       "    <tr>\n",
       "      <th>7</th>\n",
       "      <td>8</td>\n",
       "      <td>male</td>\n",
       "      <td>72.0</td>\n",
       "      <td>250.0</td>\n",
       "      <td>male</td>\n",
       "      <td>2.0</td>\n",
       "      <td>1.0</td>\n",
       "      <td>0.0</td>\n",
       "      <td>1.0</td>\n",
       "      <td>0.0</td>\n",
       "      <td>0.0</td>\n",
       "    </tr>\n",
       "    <tr>\n",
       "      <th>8</th>\n",
       "      <td>9</td>\n",
       "      <td>NaN</td>\n",
       "      <td>NaN</td>\n",
       "      <td>NaN</td>\n",
       "      <td>male</td>\n",
       "      <td>1.0</td>\n",
       "      <td>0.0</td>\n",
       "      <td>0.0</td>\n",
       "      <td>0.0</td>\n",
       "      <td>0.0</td>\n",
       "      <td>1.0</td>\n",
       "    </tr>\n",
       "    <tr>\n",
       "      <th>9</th>\n",
       "      <td>10</td>\n",
       "      <td>NaN</td>\n",
       "      <td>NaN</td>\n",
       "      <td>NaN</td>\n",
       "      <td>female</td>\n",
       "      <td>1.0</td>\n",
       "      <td>0.0</td>\n",
       "      <td>0.0</td>\n",
       "      <td>0.0</td>\n",
       "      <td>0.0</td>\n",
       "      <td>1.0</td>\n",
       "    </tr>\n",
       "  </tbody>\n",
       "</table>\n",
       "</div>"
      ],
      "text/plain": [
       "   P_ID  gender  height  weight     sex  visits  checkup  follow_up  illness  \\\n",
       "0     1    male    71.0   175.0    male     1.0      1.0        0.0      0.0   \n",
       "1     2    male    73.0   225.0    male     2.0      1.0        0.0      0.0   \n",
       "2     3  female    64.0   130.0     NaN     NaN      NaN        NaN      NaN   \n",
       "3     4  female    64.0   125.0  female     4.0      1.0        1.0      2.0   \n",
       "4     5  female    66.0   165.0  female    12.0      1.0        2.0      7.0   \n",
       "5     6    male    69.0   160.0     NaN     NaN      NaN        NaN      NaN   \n",
       "6     7  female    62.0   115.0  female     2.0      1.0        0.0      1.0   \n",
       "7     8    male    72.0   250.0    male     2.0      1.0        0.0      1.0   \n",
       "8     9     NaN     NaN     NaN    male     1.0      0.0        0.0      0.0   \n",
       "9    10     NaN     NaN     NaN  female     1.0      0.0        0.0      0.0   \n",
       "\n",
       "   surgery   ER  \n",
       "0      0.0  0.0  \n",
       "1      0.0  1.0  \n",
       "2      NaN  NaN  \n",
       "3      0.0  0.0  \n",
       "4      2.0  0.0  \n",
       "5      NaN  NaN  \n",
       "6      0.0  0.0  \n",
       "7      0.0  0.0  \n",
       "8      0.0  1.0  \n",
       "9      0.0  1.0  "
      ]
     },
     "execution_count": 7,
     "metadata": {},
     "output_type": "execute_result"
    }
   ],
   "source": [
    "# An outer join keeps all key values in both data frames\n",
    "\n",
    "outer_join = pd.merge(table1,\n",
    "                    table2,\n",
    "                    how=\"outer\",\n",
    "                    on=\"P_ID\")\n",
    "\n",
    "outer_join\n"
   ]
  },
  {
   "cell_type": "markdown",
   "id": "03efd4e6",
   "metadata": {},
   "source": [
    "Notice that both tables have a second column in common but with different name \"gender\" and \"sex\". We can solve this issue by first renaming one of the two columns so that their names are the same and then supplying that column's name as a second to merge upon:"
   ]
  },
  {
   "cell_type": "code",
   "execution_count": 8,
   "id": "64e83166",
   "metadata": {},
   "outputs": [
    {
     "data": {
      "text/html": [
       "<div>\n",
       "<style scoped>\n",
       "    .dataframe tbody tr th:only-of-type {\n",
       "        vertical-align: middle;\n",
       "    }\n",
       "\n",
       "    .dataframe tbody tr th {\n",
       "        vertical-align: top;\n",
       "    }\n",
       "\n",
       "    .dataframe thead th {\n",
       "        text-align: right;\n",
       "    }\n",
       "</style>\n",
       "<table border=\"1\" class=\"dataframe\">\n",
       "  <thead>\n",
       "    <tr style=\"text-align: right;\">\n",
       "      <th></th>\n",
       "      <th>P_ID</th>\n",
       "      <th>sex</th>\n",
       "      <th>height</th>\n",
       "      <th>weight</th>\n",
       "      <th>visits</th>\n",
       "      <th>checkup</th>\n",
       "      <th>follow_up</th>\n",
       "      <th>illness</th>\n",
       "      <th>surgery</th>\n",
       "      <th>ER</th>\n",
       "    </tr>\n",
       "  </thead>\n",
       "  <tbody>\n",
       "    <tr>\n",
       "      <th>0</th>\n",
       "      <td>1</td>\n",
       "      <td>male</td>\n",
       "      <td>71.0</td>\n",
       "      <td>175.0</td>\n",
       "      <td>1.0</td>\n",
       "      <td>1.0</td>\n",
       "      <td>0.0</td>\n",
       "      <td>0.0</td>\n",
       "      <td>0.0</td>\n",
       "      <td>0.0</td>\n",
       "    </tr>\n",
       "    <tr>\n",
       "      <th>1</th>\n",
       "      <td>2</td>\n",
       "      <td>male</td>\n",
       "      <td>73.0</td>\n",
       "      <td>225.0</td>\n",
       "      <td>2.0</td>\n",
       "      <td>1.0</td>\n",
       "      <td>0.0</td>\n",
       "      <td>0.0</td>\n",
       "      <td>0.0</td>\n",
       "      <td>1.0</td>\n",
       "    </tr>\n",
       "    <tr>\n",
       "      <th>2</th>\n",
       "      <td>3</td>\n",
       "      <td>female</td>\n",
       "      <td>64.0</td>\n",
       "      <td>130.0</td>\n",
       "      <td>NaN</td>\n",
       "      <td>NaN</td>\n",
       "      <td>NaN</td>\n",
       "      <td>NaN</td>\n",
       "      <td>NaN</td>\n",
       "      <td>NaN</td>\n",
       "    </tr>\n",
       "    <tr>\n",
       "      <th>3</th>\n",
       "      <td>4</td>\n",
       "      <td>female</td>\n",
       "      <td>64.0</td>\n",
       "      <td>125.0</td>\n",
       "      <td>4.0</td>\n",
       "      <td>1.0</td>\n",
       "      <td>1.0</td>\n",
       "      <td>2.0</td>\n",
       "      <td>0.0</td>\n",
       "      <td>0.0</td>\n",
       "    </tr>\n",
       "    <tr>\n",
       "      <th>4</th>\n",
       "      <td>5</td>\n",
       "      <td>female</td>\n",
       "      <td>66.0</td>\n",
       "      <td>165.0</td>\n",
       "      <td>12.0</td>\n",
       "      <td>1.0</td>\n",
       "      <td>2.0</td>\n",
       "      <td>7.0</td>\n",
       "      <td>2.0</td>\n",
       "      <td>0.0</td>\n",
       "    </tr>\n",
       "    <tr>\n",
       "      <th>5</th>\n",
       "      <td>6</td>\n",
       "      <td>male</td>\n",
       "      <td>69.0</td>\n",
       "      <td>160.0</td>\n",
       "      <td>NaN</td>\n",
       "      <td>NaN</td>\n",
       "      <td>NaN</td>\n",
       "      <td>NaN</td>\n",
       "      <td>NaN</td>\n",
       "      <td>NaN</td>\n",
       "    </tr>\n",
       "    <tr>\n",
       "      <th>6</th>\n",
       "      <td>7</td>\n",
       "      <td>female</td>\n",
       "      <td>62.0</td>\n",
       "      <td>115.0</td>\n",
       "      <td>2.0</td>\n",
       "      <td>1.0</td>\n",
       "      <td>0.0</td>\n",
       "      <td>1.0</td>\n",
       "      <td>0.0</td>\n",
       "      <td>0.0</td>\n",
       "    </tr>\n",
       "    <tr>\n",
       "      <th>7</th>\n",
       "      <td>8</td>\n",
       "      <td>male</td>\n",
       "      <td>72.0</td>\n",
       "      <td>250.0</td>\n",
       "      <td>2.0</td>\n",
       "      <td>1.0</td>\n",
       "      <td>0.0</td>\n",
       "      <td>1.0</td>\n",
       "      <td>0.0</td>\n",
       "      <td>0.0</td>\n",
       "    </tr>\n",
       "    <tr>\n",
       "      <th>8</th>\n",
       "      <td>9</td>\n",
       "      <td>male</td>\n",
       "      <td>NaN</td>\n",
       "      <td>NaN</td>\n",
       "      <td>1.0</td>\n",
       "      <td>0.0</td>\n",
       "      <td>0.0</td>\n",
       "      <td>0.0</td>\n",
       "      <td>0.0</td>\n",
       "      <td>1.0</td>\n",
       "    </tr>\n",
       "    <tr>\n",
       "      <th>9</th>\n",
       "      <td>10</td>\n",
       "      <td>female</td>\n",
       "      <td>NaN</td>\n",
       "      <td>NaN</td>\n",
       "      <td>1.0</td>\n",
       "      <td>0.0</td>\n",
       "      <td>0.0</td>\n",
       "      <td>0.0</td>\n",
       "      <td>0.0</td>\n",
       "      <td>1.0</td>\n",
       "    </tr>\n",
       "  </tbody>\n",
       "</table>\n",
       "</div>"
      ],
      "text/plain": [
       "   P_ID     sex  height  weight  visits  checkup  follow_up  illness  surgery  \\\n",
       "0     1    male    71.0   175.0     1.0      1.0        0.0      0.0      0.0   \n",
       "1     2    male    73.0   225.0     2.0      1.0        0.0      0.0      0.0   \n",
       "2     3  female    64.0   130.0     NaN      NaN        NaN      NaN      NaN   \n",
       "3     4  female    64.0   125.0     4.0      1.0        1.0      2.0      0.0   \n",
       "4     5  female    66.0   165.0    12.0      1.0        2.0      7.0      2.0   \n",
       "5     6    male    69.0   160.0     NaN      NaN        NaN      NaN      NaN   \n",
       "6     7  female    62.0   115.0     2.0      1.0        0.0      1.0      0.0   \n",
       "7     8    male    72.0   250.0     2.0      1.0        0.0      1.0      0.0   \n",
       "8     9    male     NaN     NaN     1.0      0.0        0.0      0.0      0.0   \n",
       "9    10  female     NaN     NaN     1.0      0.0        0.0      0.0      0.0   \n",
       "\n",
       "    ER  \n",
       "0  0.0  \n",
       "1  1.0  \n",
       "2  NaN  \n",
       "3  0.0  \n",
       "4  0.0  \n",
       "5  NaN  \n",
       "6  0.0  \n",
       "7  0.0  \n",
       "8  1.0  \n",
       "9  1.0  "
      ]
     },
     "execution_count": 8,
     "metadata": {},
     "output_type": "execute_result"
    }
   ],
   "source": [
    "table1.rename(columns={\"gender\":\"sex\"}, inplace=True)          # Rename gender column to \"sex\"\n",
    "\n",
    "combined2 = pd.merge(table1,\n",
    "                    table2,\n",
    "                    how=\"outer\",\n",
    "                    on=[\"P_ID\",\"sex\"])\n",
    "\n",
    "combined2"
   ]
  },
  {
   "cell_type": "markdown",
   "id": "9122b0be",
   "metadata": {},
   "source": [
    "By renaming and merging on the sex column, we've managed to eliminate some NA values in the outer join. **Although an outer joins can introduce NA values, they can also be helpful for discovering patterns in the data.** For example, in our combined data, notice that the two patients who did not have values listed for height and weight only made visits to the ER. It could be that the hospital did not have patients 9 and 10 on record previously and that it does not take height and weight measurements for ER visits. Using the same type of intuition, it could be that patients 3 and 6 have height and weight measurements on file from visits in the past, but perhaps they did not visit the hospital during the time period for which the visit data was collected."
   ]
  },
  {
   "cell_type": "markdown",
   "id": "7d3e5867",
   "metadata": {},
   "source": [
    "## 19. Frequency Tables\n",
    "\n",
    "Frequency tables are a basic tool used to explore data and get an idea of the relationships between variables. It's a data table that shows the counts of one or more categorical variables. "
   ]
  },
  {
   "cell_type": "code",
   "execution_count": 1,
   "id": "2f474257",
   "metadata": {},
   "outputs": [],
   "source": [
    "import numpy as np\n",
    "import pandas as pd"
   ]
  },
  {
   "cell_type": "code",
   "execution_count": 2,
   "id": "26c3f87f",
   "metadata": {},
   "outputs": [],
   "source": [
    "# Read titanic data\n",
    "\n",
    "titanic_train = pd.read_csv(\"C:/Users/Micaela Rodriguez/Mentorías/Python for Data Analysis/train.csv\")\n",
    "\n",
    "# Convert cabin to string\n",
    "\n",
    "char_cabin = titanic_train[\"Cabin\"].astype(str)\n",
    "\n",
    "# Take first letter\n",
    "\n",
    "new_Cabin = np.array([cabin[0] for cabin in char_cabin])\n",
    "\n",
    "# Save the new cabin variable\n",
    "\n",
    "titanic_train[\"Cabin\"] = pd.Categorical(new_Cabin)"
   ]
  },
  {
   "cell_type": "markdown",
   "id": "a8fdb246",
   "metadata": {},
   "source": [
    "### One-Way Tables\n",
    "Create frequency tables (also known as crosstables) in pandas using pd.crosstab() function. The function takes one or more array-like objects as indexes or columns and then constructs a new DataFrame of variable counts based on the supplied arrays."
   ]
  },
  {
   "cell_type": "code",
   "execution_count": 3,
   "id": "7e0a307b",
   "metadata": {},
   "outputs": [
    {
     "data": {
      "text/html": [
       "<div>\n",
       "<style scoped>\n",
       "    .dataframe tbody tr th:only-of-type {\n",
       "        vertical-align: middle;\n",
       "    }\n",
       "\n",
       "    .dataframe tbody tr th {\n",
       "        vertical-align: top;\n",
       "    }\n",
       "\n",
       "    .dataframe thead th {\n",
       "        text-align: right;\n",
       "    }\n",
       "</style>\n",
       "<table border=\"1\" class=\"dataframe\">\n",
       "  <thead>\n",
       "    <tr style=\"text-align: right;\">\n",
       "      <th>col_0</th>\n",
       "      <th>count</th>\n",
       "    </tr>\n",
       "    <tr>\n",
       "      <th>Survived</th>\n",
       "      <th></th>\n",
       "    </tr>\n",
       "  </thead>\n",
       "  <tbody>\n",
       "    <tr>\n",
       "      <th>0</th>\n",
       "      <td>549</td>\n",
       "    </tr>\n",
       "    <tr>\n",
       "      <th>1</th>\n",
       "      <td>342</td>\n",
       "    </tr>\n",
       "  </tbody>\n",
       "</table>\n",
       "</div>"
      ],
      "text/plain": [
       "col_0     count\n",
       "Survived       \n",
       "0           549\n",
       "1           342"
      ]
     },
     "execution_count": 3,
     "metadata": {},
     "output_type": "execute_result"
    }
   ],
   "source": [
    "# Make a one-way table of the survived variable\n",
    "\n",
    "my_tab = pd.crosstab(index = titanic_train[\"Survived\"],    # Make a crosstab\n",
    "                        columns = \"count\")                 # Make the count column\n",
    "my_tab"
   ]
  },
  {
   "cell_type": "code",
   "execution_count": 4,
   "id": "bd232f8c",
   "metadata": {},
   "outputs": [
    {
     "data": {
      "text/plain": [
       "pandas.core.frame.DataFrame"
      ]
     },
     "execution_count": 4,
     "metadata": {},
     "output_type": "execute_result"
    }
   ],
   "source": [
    "# Confirm that the crosstab is a DataFrame\n",
    "type(my_tab)"
   ]
  },
  {
   "cell_type": "code",
   "execution_count": 5,
   "id": "3b5ed347",
   "metadata": {},
   "outputs": [
    {
     "data": {
      "text/html": [
       "<div>\n",
       "<style scoped>\n",
       "    .dataframe tbody tr th:only-of-type {\n",
       "        vertical-align: middle;\n",
       "    }\n",
       "\n",
       "    .dataframe tbody tr th {\n",
       "        vertical-align: top;\n",
       "    }\n",
       "\n",
       "    .dataframe thead th {\n",
       "        text-align: right;\n",
       "    }\n",
       "</style>\n",
       "<table border=\"1\" class=\"dataframe\">\n",
       "  <thead>\n",
       "    <tr style=\"text-align: right;\">\n",
       "      <th>col_0</th>\n",
       "      <th>count</th>\n",
       "    </tr>\n",
       "    <tr>\n",
       "      <th>Pclass</th>\n",
       "      <th></th>\n",
       "    </tr>\n",
       "  </thead>\n",
       "  <tbody>\n",
       "    <tr>\n",
       "      <th>1</th>\n",
       "      <td>216</td>\n",
       "    </tr>\n",
       "    <tr>\n",
       "      <th>2</th>\n",
       "      <td>184</td>\n",
       "    </tr>\n",
       "    <tr>\n",
       "      <th>3</th>\n",
       "      <td>491</td>\n",
       "    </tr>\n",
       "  </tbody>\n",
       "</table>\n",
       "</div>"
      ],
      "text/plain": [
       "col_0   count\n",
       "Pclass       \n",
       "1         216\n",
       "2         184\n",
       "3         491"
      ]
     },
     "execution_count": 5,
     "metadata": {},
     "output_type": "execute_result"
    }
   ],
   "source": [
    "# Make a crosstab to explore other variables\n",
    "pd.crosstab(index=titanic_train[\"Pclass\"],       # Make a crosstab\n",
    "            columns=\"count\")                     # Name the count column"
   ]
  },
  {
   "cell_type": "code",
   "execution_count": 6,
   "id": "d613e8b4",
   "metadata": {},
   "outputs": [
    {
     "data": {
      "text/html": [
       "<div>\n",
       "<style scoped>\n",
       "    .dataframe tbody tr th:only-of-type {\n",
       "        vertical-align: middle;\n",
       "    }\n",
       "\n",
       "    .dataframe tbody tr th {\n",
       "        vertical-align: top;\n",
       "    }\n",
       "\n",
       "    .dataframe thead th {\n",
       "        text-align: right;\n",
       "    }\n",
       "</style>\n",
       "<table border=\"1\" class=\"dataframe\">\n",
       "  <thead>\n",
       "    <tr style=\"text-align: right;\">\n",
       "      <th>col_0</th>\n",
       "      <th>count</th>\n",
       "    </tr>\n",
       "    <tr>\n",
       "      <th>Sex</th>\n",
       "      <th></th>\n",
       "    </tr>\n",
       "  </thead>\n",
       "  <tbody>\n",
       "    <tr>\n",
       "      <th>female</th>\n",
       "      <td>314</td>\n",
       "    </tr>\n",
       "    <tr>\n",
       "      <th>male</th>\n",
       "      <td>577</td>\n",
       "    </tr>\n",
       "  </tbody>\n",
       "</table>\n",
       "</div>"
      ],
      "text/plain": [
       "col_0   count\n",
       "Sex          \n",
       "female    314\n",
       "male      577"
      ]
     },
     "execution_count": 6,
     "metadata": {},
     "output_type": "execute_result"
    }
   ],
   "source": [
    "# Make a crosstab \n",
    "pd.crosstab(index=titanic_train[\"Sex\"],columns=\"count\")"
   ]
  },
  {
   "cell_type": "code",
   "execution_count": 7,
   "id": "9985c4d4",
   "metadata": {},
   "outputs": [
    {
     "data": {
      "text/html": [
       "<div>\n",
       "<style scoped>\n",
       "    .dataframe tbody tr th:only-of-type {\n",
       "        vertical-align: middle;\n",
       "    }\n",
       "\n",
       "    .dataframe tbody tr th {\n",
       "        vertical-align: top;\n",
       "    }\n",
       "\n",
       "    .dataframe thead th {\n",
       "        text-align: right;\n",
       "    }\n",
       "</style>\n",
       "<table border=\"1\" class=\"dataframe\">\n",
       "  <thead>\n",
       "    <tr style=\"text-align: right;\">\n",
       "      <th>col_0</th>\n",
       "      <th>count</th>\n",
       "    </tr>\n",
       "    <tr>\n",
       "      <th>Cabin</th>\n",
       "      <th></th>\n",
       "    </tr>\n",
       "  </thead>\n",
       "  <tbody>\n",
       "    <tr>\n",
       "      <th>A</th>\n",
       "      <td>15</td>\n",
       "    </tr>\n",
       "    <tr>\n",
       "      <th>B</th>\n",
       "      <td>47</td>\n",
       "    </tr>\n",
       "    <tr>\n",
       "      <th>C</th>\n",
       "      <td>59</td>\n",
       "    </tr>\n",
       "    <tr>\n",
       "      <th>D</th>\n",
       "      <td>33</td>\n",
       "    </tr>\n",
       "    <tr>\n",
       "      <th>E</th>\n",
       "      <td>32</td>\n",
       "    </tr>\n",
       "    <tr>\n",
       "      <th>F</th>\n",
       "      <td>13</td>\n",
       "    </tr>\n",
       "    <tr>\n",
       "      <th>G</th>\n",
       "      <td>4</td>\n",
       "    </tr>\n",
       "    <tr>\n",
       "      <th>T</th>\n",
       "      <td>1</td>\n",
       "    </tr>\n",
       "    <tr>\n",
       "      <th>n</th>\n",
       "      <td>687</td>\n",
       "    </tr>\n",
       "  </tbody>\n",
       "</table>\n",
       "</div>"
      ],
      "text/plain": [
       "col_0  count\n",
       "Cabin       \n",
       "A         15\n",
       "B         47\n",
       "C         59\n",
       "D         33\n",
       "E         32\n",
       "F         13\n",
       "G          4\n",
       "T          1\n",
       "n        687"
      ]
     },
     "execution_count": 7,
     "metadata": {},
     "output_type": "execute_result"
    }
   ],
   "source": [
    "cabin_tab = pd.crosstab(index=titanic_train[\"Cabin\"],columns=\"count\")\n",
    "cabin_tab"
   ]
  },
  {
   "cell_type": "code",
   "execution_count": 8,
   "id": "649e4fb9",
   "metadata": {},
   "outputs": [
    {
     "data": {
      "text/plain": [
       "male      577\n",
       "female    314\n",
       "Name: Sex, dtype: int64"
      ]
     },
     "execution_count": 8,
     "metadata": {},
     "output_type": "execute_result"
    }
   ],
   "source": [
    "# Use the value_count() function\n",
    "titanic_train.Sex.value_counts()"
   ]
  },
  {
   "cell_type": "markdown",
   "id": "7695bd2f",
   "metadata": {},
   "source": [
    "We get a sense of distribution of records across the categories:\n",
    "* Males outnumbered females by a significant margin\n",
    "* There were more 3rd class passengers than 1st class and 2nd class passengers combined\n",
    "\n",
    "If you pass a variable with many unique values to table(), such a numeric variable, it will still produce a table of counts for each unique value, but the counts may not be particularly meaningful.\n",
    "\n",
    "The dataframe operations work on crosstabs"
   ]
  },
  {
   "cell_type": "code",
   "execution_count": 9,
   "id": "095c651e",
   "metadata": {},
   "outputs": [
    {
     "name": "stdout",
     "output_type": "stream",
     "text": [
      "col_0\n",
      "count    891\n",
      "dtype: int64 \n",
      "\n",
      "(9, 1) \n",
      "\n"
     ]
    },
    {
     "data": {
      "text/html": [
       "<div>\n",
       "<style scoped>\n",
       "    .dataframe tbody tr th:only-of-type {\n",
       "        vertical-align: middle;\n",
       "    }\n",
       "\n",
       "    .dataframe tbody tr th {\n",
       "        vertical-align: top;\n",
       "    }\n",
       "\n",
       "    .dataframe thead th {\n",
       "        text-align: right;\n",
       "    }\n",
       "</style>\n",
       "<table border=\"1\" class=\"dataframe\">\n",
       "  <thead>\n",
       "    <tr style=\"text-align: right;\">\n",
       "      <th>col_0</th>\n",
       "      <th>count</th>\n",
       "    </tr>\n",
       "    <tr>\n",
       "      <th>Cabin</th>\n",
       "      <th></th>\n",
       "    </tr>\n",
       "  </thead>\n",
       "  <tbody>\n",
       "    <tr>\n",
       "      <th>B</th>\n",
       "      <td>47</td>\n",
       "    </tr>\n",
       "    <tr>\n",
       "      <th>C</th>\n",
       "      <td>59</td>\n",
       "    </tr>\n",
       "    <tr>\n",
       "      <th>D</th>\n",
       "      <td>33</td>\n",
       "    </tr>\n",
       "    <tr>\n",
       "      <th>E</th>\n",
       "      <td>32</td>\n",
       "    </tr>\n",
       "    <tr>\n",
       "      <th>F</th>\n",
       "      <td>13</td>\n",
       "    </tr>\n",
       "    <tr>\n",
       "      <th>G</th>\n",
       "      <td>4</td>\n",
       "    </tr>\n",
       "  </tbody>\n",
       "</table>\n",
       "</div>"
      ],
      "text/plain": [
       "col_0  count\n",
       "Cabin       \n",
       "B         47\n",
       "C         59\n",
       "D         33\n",
       "E         32\n",
       "F         13\n",
       "G          4"
      ]
     },
     "execution_count": 9,
     "metadata": {},
     "output_type": "execute_result"
    }
   ],
   "source": [
    "print (cabin_tab.sum(), \"\\n\")    # Sum the counts\n",
    "\n",
    "print (cabin_tab.shape, \"\\n\")    # Check number of rows and columns\n",
    "\n",
    "cabin_tab.iloc[1:7]              # Slice rows 1-6"
   ]
  },
  {
   "cell_type": "markdown",
   "id": "884d9711",
   "metadata": {},
   "source": [
    "**Frequency tables allow you to extract the proportion of data that belongs to each category.** With a one-way table you can do this by dividing each table value by the total number of records in the table."
   ]
  },
  {
   "cell_type": "code",
   "execution_count": 10,
   "id": "705dfde1",
   "metadata": {},
   "outputs": [
    {
     "data": {
      "text/html": [
       "<div>\n",
       "<style scoped>\n",
       "    .dataframe tbody tr th:only-of-type {\n",
       "        vertical-align: middle;\n",
       "    }\n",
       "\n",
       "    .dataframe tbody tr th {\n",
       "        vertical-align: top;\n",
       "    }\n",
       "\n",
       "    .dataframe thead th {\n",
       "        text-align: right;\n",
       "    }\n",
       "</style>\n",
       "<table border=\"1\" class=\"dataframe\">\n",
       "  <thead>\n",
       "    <tr style=\"text-align: right;\">\n",
       "      <th>col_0</th>\n",
       "      <th>count</th>\n",
       "    </tr>\n",
       "    <tr>\n",
       "      <th>Cabin</th>\n",
       "      <th></th>\n",
       "    </tr>\n",
       "  </thead>\n",
       "  <tbody>\n",
       "    <tr>\n",
       "      <th>A</th>\n",
       "      <td>0.016835</td>\n",
       "    </tr>\n",
       "    <tr>\n",
       "      <th>B</th>\n",
       "      <td>0.052750</td>\n",
       "    </tr>\n",
       "    <tr>\n",
       "      <th>C</th>\n",
       "      <td>0.066218</td>\n",
       "    </tr>\n",
       "    <tr>\n",
       "      <th>D</th>\n",
       "      <td>0.037037</td>\n",
       "    </tr>\n",
       "    <tr>\n",
       "      <th>E</th>\n",
       "      <td>0.035915</td>\n",
       "    </tr>\n",
       "    <tr>\n",
       "      <th>F</th>\n",
       "      <td>0.014590</td>\n",
       "    </tr>\n",
       "    <tr>\n",
       "      <th>G</th>\n",
       "      <td>0.004489</td>\n",
       "    </tr>\n",
       "    <tr>\n",
       "      <th>T</th>\n",
       "      <td>0.001122</td>\n",
       "    </tr>\n",
       "    <tr>\n",
       "      <th>n</th>\n",
       "      <td>0.771044</td>\n",
       "    </tr>\n",
       "  </tbody>\n",
       "</table>\n",
       "</div>"
      ],
      "text/plain": [
       "col_0     count\n",
       "Cabin          \n",
       "A      0.016835\n",
       "B      0.052750\n",
       "C      0.066218\n",
       "D      0.037037\n",
       "E      0.035915\n",
       "F      0.014590\n",
       "G      0.004489\n",
       "T      0.001122\n",
       "n      0.771044"
      ]
     },
     "execution_count": 10,
     "metadata": {},
     "output_type": "execute_result"
    }
   ],
   "source": [
    "cabin_tab/cabin_tab.sum()"
   ]
  },
  {
   "cell_type": "markdown",
   "id": "90be2819",
   "metadata": {},
   "source": [
    "### Two-Way Tables\n",
    "Two-way frequency tables (or contingency tables) are tables of counts with 2 dimensions each where each dimension is a different variable. They can give insight into the relationship between 2 variables.  "
   ]
  },
  {
   "cell_type": "code",
   "execution_count": 13,
   "id": "a29fe013",
   "metadata": {},
   "outputs": [
    {
     "data": {
      "text/html": [
       "<div>\n",
       "<style scoped>\n",
       "    .dataframe tbody tr th:only-of-type {\n",
       "        vertical-align: middle;\n",
       "    }\n",
       "\n",
       "    .dataframe tbody tr th {\n",
       "        vertical-align: top;\n",
       "    }\n",
       "\n",
       "    .dataframe thead th {\n",
       "        text-align: right;\n",
       "    }\n",
       "</style>\n",
       "<table border=\"1\" class=\"dataframe\">\n",
       "  <thead>\n",
       "    <tr style=\"text-align: right;\">\n",
       "      <th>Sex</th>\n",
       "      <th>female</th>\n",
       "      <th>male</th>\n",
       "    </tr>\n",
       "  </thead>\n",
       "  <tbody>\n",
       "    <tr>\n",
       "      <th>died</th>\n",
       "      <td>81</td>\n",
       "      <td>468</td>\n",
       "    </tr>\n",
       "    <tr>\n",
       "      <th>survived</th>\n",
       "      <td>233</td>\n",
       "      <td>109</td>\n",
       "    </tr>\n",
       "  </tbody>\n",
       "</table>\n",
       "</div>"
      ],
      "text/plain": [
       "Sex       female  male\n",
       "died          81   468\n",
       "survived     233   109"
      ]
     },
     "execution_count": 13,
     "metadata": {},
     "output_type": "execute_result"
    }
   ],
   "source": [
    "# Creata a 2-way table with pd.crosstable() \n",
    "# Table of survival vs sex\n",
    "survived_sex = pd.crosstab(index=titanic_train[\"Survived\"],\n",
    "                            columns=titanic_train[\"Sex\"])\n",
    "survived_sex.index=[\"died\",\"survived\"]\n",
    "survived_sex"
   ]
  },
  {
   "cell_type": "code",
   "execution_count": 16,
   "id": "d102fb99",
   "metadata": {},
   "outputs": [
    {
     "data": {
      "text/html": [
       "<div>\n",
       "<style scoped>\n",
       "    .dataframe tbody tr th:only-of-type {\n",
       "        vertical-align: middle;\n",
       "    }\n",
       "\n",
       "    .dataframe tbody tr th {\n",
       "        vertical-align: top;\n",
       "    }\n",
       "\n",
       "    .dataframe thead th {\n",
       "        text-align: right;\n",
       "    }\n",
       "</style>\n",
       "<table border=\"1\" class=\"dataframe\">\n",
       "  <thead>\n",
       "    <tr style=\"text-align: right;\">\n",
       "      <th>Pclass</th>\n",
       "      <th>1</th>\n",
       "      <th>2</th>\n",
       "      <th>3</th>\n",
       "    </tr>\n",
       "  </thead>\n",
       "  <tbody>\n",
       "    <tr>\n",
       "      <th>died</th>\n",
       "      <td>80</td>\n",
       "      <td>97</td>\n",
       "      <td>372</td>\n",
       "    </tr>\n",
       "    <tr>\n",
       "      <th>survived</th>\n",
       "      <td>136</td>\n",
       "      <td>87</td>\n",
       "      <td>119</td>\n",
       "    </tr>\n",
       "  </tbody>\n",
       "</table>\n",
       "</div>"
      ],
      "text/plain": [
       "Pclass      1   2    3\n",
       "died       80  97  372\n",
       "survived  136  87  119"
      ]
     },
     "execution_count": 16,
     "metadata": {},
     "output_type": "execute_result"
    }
   ],
   "source": [
    "# Table of survival vs passenger class\n",
    "survived_class = pd.crosstab(index=titanic_train[\"Survived\"],\n",
    "                            columns=titanic_train[\"Pclass\"])\n",
    "survived_class.index=[\"died\",\"survived\"]\n",
    "survived_class"
   ]
  },
  {
   "cell_type": "code",
   "execution_count": 18,
   "id": "42c8208b",
   "metadata": {},
   "outputs": [
    {
     "data": {
      "text/html": [
       "<div>\n",
       "<style scoped>\n",
       "    .dataframe tbody tr th:only-of-type {\n",
       "        vertical-align: middle;\n",
       "    }\n",
       "\n",
       "    .dataframe tbody tr th {\n",
       "        vertical-align: top;\n",
       "    }\n",
       "\n",
       "    .dataframe thead th {\n",
       "        text-align: right;\n",
       "    }\n",
       "</style>\n",
       "<table border=\"1\" class=\"dataframe\">\n",
       "  <thead>\n",
       "    <tr style=\"text-align: right;\">\n",
       "      <th></th>\n",
       "      <th>class1</th>\n",
       "      <th>class2</th>\n",
       "      <th>class3</th>\n",
       "      <th>rowtotal</th>\n",
       "    </tr>\n",
       "  </thead>\n",
       "  <tbody>\n",
       "    <tr>\n",
       "      <th>died</th>\n",
       "      <td>80</td>\n",
       "      <td>97</td>\n",
       "      <td>372</td>\n",
       "      <td>549</td>\n",
       "    </tr>\n",
       "    <tr>\n",
       "      <th>survived</th>\n",
       "      <td>136</td>\n",
       "      <td>87</td>\n",
       "      <td>119</td>\n",
       "      <td>342</td>\n",
       "    </tr>\n",
       "    <tr>\n",
       "      <th>coltotal</th>\n",
       "      <td>216</td>\n",
       "      <td>184</td>\n",
       "      <td>491</td>\n",
       "      <td>891</td>\n",
       "    </tr>\n",
       "  </tbody>\n",
       "</table>\n",
       "</div>"
      ],
      "text/plain": [
       "          class1  class2  class3  rowtotal\n",
       "died          80      97     372       549\n",
       "survived     136      87     119       342\n",
       "coltotal     216     184     491       891"
      ]
     },
     "execution_count": 18,
     "metadata": {},
     "output_type": "execute_result"
    }
   ],
   "source": [
    "# Include the argument margins=True to get the totals for each row and column\n",
    "# Table of survival vs passenger class\n",
    "survived_class=pd.crosstab(index=titanic_train[\"Survived\"],\n",
    "                            columns=titanic_train[\"Pclass\"],\n",
    "                            margins=True)                    # Include row and column totals\n",
    "survived_class.columns=[\"class1\",\"class2\",\"class3\",\"rowtotal\"]\n",
    "survived_class.index=[\"died\",\"survived\",\"coltotal\"]\n",
    "survived_class"
   ]
  },
  {
   "cell_type": "code",
   "execution_count": 19,
   "id": "8ce78e8c",
   "metadata": {},
   "outputs": [
    {
     "data": {
      "text/html": [
       "<div>\n",
       "<style scoped>\n",
       "    .dataframe tbody tr th:only-of-type {\n",
       "        vertical-align: middle;\n",
       "    }\n",
       "\n",
       "    .dataframe tbody tr th {\n",
       "        vertical-align: top;\n",
       "    }\n",
       "\n",
       "    .dataframe thead th {\n",
       "        text-align: right;\n",
       "    }\n",
       "</style>\n",
       "<table border=\"1\" class=\"dataframe\">\n",
       "  <thead>\n",
       "    <tr style=\"text-align: right;\">\n",
       "      <th></th>\n",
       "      <th>class1</th>\n",
       "      <th>class2</th>\n",
       "      <th>class3</th>\n",
       "      <th>rowtotal</th>\n",
       "    </tr>\n",
       "  </thead>\n",
       "  <tbody>\n",
       "    <tr>\n",
       "      <th>died</th>\n",
       "      <td>0.089787</td>\n",
       "      <td>0.108866</td>\n",
       "      <td>0.417508</td>\n",
       "      <td>0.616162</td>\n",
       "    </tr>\n",
       "    <tr>\n",
       "      <th>survived</th>\n",
       "      <td>0.152637</td>\n",
       "      <td>0.097643</td>\n",
       "      <td>0.133558</td>\n",
       "      <td>0.383838</td>\n",
       "    </tr>\n",
       "    <tr>\n",
       "      <th>coltotal</th>\n",
       "      <td>0.242424</td>\n",
       "      <td>0.206510</td>\n",
       "      <td>0.551066</td>\n",
       "      <td>1.000000</td>\n",
       "    </tr>\n",
       "  </tbody>\n",
       "</table>\n",
       "</div>"
      ],
      "text/plain": [
       "            class1    class2    class3  rowtotal\n",
       "died      0.089787  0.108866  0.417508  0.616162\n",
       "survived  0.152637  0.097643  0.133558  0.383838\n",
       "coltotal  0.242424  0.206510  0.551066  1.000000"
      ]
     },
     "execution_count": 19,
     "metadata": {},
     "output_type": "execute_result"
    }
   ],
   "source": [
    "# To get the total proportion of counts in each cell, we divide the table by the grand total\n",
    "survived_class/survived_class.loc[\"coltotal\",\"rowtotal\"]"
   ]
  },
  {
   "cell_type": "code",
   "execution_count": 20,
   "id": "80bd2089",
   "metadata": {},
   "outputs": [
    {
     "data": {
      "text/html": [
       "<div>\n",
       "<style scoped>\n",
       "    .dataframe tbody tr th:only-of-type {\n",
       "        vertical-align: middle;\n",
       "    }\n",
       "\n",
       "    .dataframe tbody tr th {\n",
       "        vertical-align: top;\n",
       "    }\n",
       "\n",
       "    .dataframe thead th {\n",
       "        text-align: right;\n",
       "    }\n",
       "</style>\n",
       "<table border=\"1\" class=\"dataframe\">\n",
       "  <thead>\n",
       "    <tr style=\"text-align: right;\">\n",
       "      <th></th>\n",
       "      <th>class1</th>\n",
       "      <th>class2</th>\n",
       "      <th>class3</th>\n",
       "      <th>rowtotal</th>\n",
       "    </tr>\n",
       "  </thead>\n",
       "  <tbody>\n",
       "    <tr>\n",
       "      <th>died</th>\n",
       "      <td>0.37037</td>\n",
       "      <td>0.527174</td>\n",
       "      <td>0.757637</td>\n",
       "      <td>0.616162</td>\n",
       "    </tr>\n",
       "    <tr>\n",
       "      <th>survived</th>\n",
       "      <td>0.62963</td>\n",
       "      <td>0.472826</td>\n",
       "      <td>0.242363</td>\n",
       "      <td>0.383838</td>\n",
       "    </tr>\n",
       "    <tr>\n",
       "      <th>coltotal</th>\n",
       "      <td>1.00000</td>\n",
       "      <td>1.000000</td>\n",
       "      <td>1.000000</td>\n",
       "      <td>1.000000</td>\n",
       "    </tr>\n",
       "  </tbody>\n",
       "</table>\n",
       "</div>"
      ],
      "text/plain": [
       "           class1    class2    class3  rowtotal\n",
       "died      0.37037  0.527174  0.757637  0.616162\n",
       "survived  0.62963  0.472826  0.242363  0.383838\n",
       "coltotal  1.00000  1.000000  1.000000  1.000000"
      ]
     },
     "execution_count": 20,
     "metadata": {},
     "output_type": "execute_result"
    }
   ],
   "source": [
    "# To get the proportion of counts along each column (survival rate within each passenger class) divide by the column totals\n",
    "survived_class/survived_class.loc[\"coltotal\"]"
   ]
  },
  {
   "cell_type": "code",
   "execution_count": 21,
   "id": "a899697b",
   "metadata": {},
   "outputs": [
    {
     "data": {
      "text/html": [
       "<div>\n",
       "<style scoped>\n",
       "    .dataframe tbody tr th:only-of-type {\n",
       "        vertical-align: middle;\n",
       "    }\n",
       "\n",
       "    .dataframe tbody tr th {\n",
       "        vertical-align: top;\n",
       "    }\n",
       "\n",
       "    .dataframe thead th {\n",
       "        text-align: right;\n",
       "    }\n",
       "</style>\n",
       "<table border=\"1\" class=\"dataframe\">\n",
       "  <thead>\n",
       "    <tr style=\"text-align: right;\">\n",
       "      <th></th>\n",
       "      <th>class1</th>\n",
       "      <th>class2</th>\n",
       "      <th>class3</th>\n",
       "      <th>rowtotal</th>\n",
       "    </tr>\n",
       "  </thead>\n",
       "  <tbody>\n",
       "    <tr>\n",
       "      <th>died</th>\n",
       "      <td>0.145719</td>\n",
       "      <td>0.176685</td>\n",
       "      <td>0.677596</td>\n",
       "      <td>1.0</td>\n",
       "    </tr>\n",
       "    <tr>\n",
       "      <th>survived</th>\n",
       "      <td>0.397661</td>\n",
       "      <td>0.254386</td>\n",
       "      <td>0.347953</td>\n",
       "      <td>1.0</td>\n",
       "    </tr>\n",
       "    <tr>\n",
       "      <th>coltotal</th>\n",
       "      <td>0.242424</td>\n",
       "      <td>0.206510</td>\n",
       "      <td>0.551066</td>\n",
       "      <td>1.0</td>\n",
       "    </tr>\n",
       "  </tbody>\n",
       "</table>\n",
       "</div>"
      ],
      "text/plain": [
       "            class1    class2    class3  rowtotal\n",
       "died      0.145719  0.176685  0.677596       1.0\n",
       "survived  0.397661  0.254386  0.347953       1.0\n",
       "coltotal  0.242424  0.206510  0.551066       1.0"
      ]
     },
     "execution_count": 21,
     "metadata": {},
     "output_type": "execute_result"
    }
   ],
   "source": [
    "# To get the proportion of counts along each row divide by row totals\n",
    "# The division operator functions on a row-by-row basis when used in df\n",
    "# To get the division to work on a column by column basis use df.div() with axis=0\n",
    "survived_class.div(survived_class[\"rowtotal\"],axis=0)"
   ]
  },
  {
   "cell_type": "code",
   "execution_count": 22,
   "id": "3b69cc0e",
   "metadata": {},
   "outputs": [
    {
     "data": {
      "text/html": [
       "<div>\n",
       "<style scoped>\n",
       "    .dataframe tbody tr th:only-of-type {\n",
       "        vertical-align: middle;\n",
       "    }\n",
       "\n",
       "    .dataframe tbody tr th {\n",
       "        vertical-align: top;\n",
       "    }\n",
       "\n",
       "    .dataframe thead th {\n",
       "        text-align: right;\n",
       "    }\n",
       "</style>\n",
       "<table border=\"1\" class=\"dataframe\">\n",
       "  <thead>\n",
       "    <tr style=\"text-align: right;\">\n",
       "      <th></th>\n",
       "      <th>died</th>\n",
       "      <th>survived</th>\n",
       "      <th>coltotal</th>\n",
       "    </tr>\n",
       "  </thead>\n",
       "  <tbody>\n",
       "    <tr>\n",
       "      <th>class1</th>\n",
       "      <td>0.145719</td>\n",
       "      <td>0.397661</td>\n",
       "      <td>0.242424</td>\n",
       "    </tr>\n",
       "    <tr>\n",
       "      <th>class2</th>\n",
       "      <td>0.176685</td>\n",
       "      <td>0.254386</td>\n",
       "      <td>0.206510</td>\n",
       "    </tr>\n",
       "    <tr>\n",
       "      <th>class3</th>\n",
       "      <td>0.677596</td>\n",
       "      <td>0.347953</td>\n",
       "      <td>0.551066</td>\n",
       "    </tr>\n",
       "    <tr>\n",
       "      <th>rowtotal</th>\n",
       "      <td>1.000000</td>\n",
       "      <td>1.000000</td>\n",
       "      <td>1.000000</td>\n",
       "    </tr>\n",
       "  </tbody>\n",
       "</table>\n",
       "</div>"
      ],
      "text/plain": [
       "              died  survived  coltotal\n",
       "class1    0.145719  0.397661  0.242424\n",
       "class2    0.176685  0.254386  0.206510\n",
       "class3    0.677596  0.347953  0.551066\n",
       "rowtotal  1.000000  1.000000  1.000000"
      ]
     },
     "execution_count": 22,
     "metadata": {},
     "output_type": "execute_result"
    }
   ],
   "source": [
    "# Transpose the table with df.T to swap rows and columns and perform row-by-row division as normal\n",
    "survived_class.T/survived_class[\"rowtotal\"]"
   ]
  },
  {
   "cell_type": "markdown",
   "id": "410c1bc3",
   "metadata": {},
   "source": [
    "### High Dimensional Tables\n",
    "Higher dimensional tables can yield finer-grained insight"
   ]
  },
  {
   "cell_type": "code",
   "execution_count": 24,
   "id": "3aa86c6a",
   "metadata": {},
   "outputs": [
    {
     "data": {
      "text/html": [
       "<div>\n",
       "<style scoped>\n",
       "    .dataframe tbody tr th:only-of-type {\n",
       "        vertical-align: middle;\n",
       "    }\n",
       "\n",
       "    .dataframe tbody tr th {\n",
       "        vertical-align: top;\n",
       "    }\n",
       "\n",
       "    .dataframe thead tr th {\n",
       "        text-align: left;\n",
       "    }\n",
       "\n",
       "    .dataframe thead tr:last-of-type th {\n",
       "        text-align: right;\n",
       "    }\n",
       "</style>\n",
       "<table border=\"1\" class=\"dataframe\">\n",
       "  <thead>\n",
       "    <tr>\n",
       "      <th>Pclass</th>\n",
       "      <th colspan=\"2\" halign=\"left\">1</th>\n",
       "      <th colspan=\"2\" halign=\"left\">2</th>\n",
       "      <th colspan=\"2\" halign=\"left\">3</th>\n",
       "      <th>All</th>\n",
       "    </tr>\n",
       "    <tr>\n",
       "      <th>Sex</th>\n",
       "      <th>female</th>\n",
       "      <th>male</th>\n",
       "      <th>female</th>\n",
       "      <th>male</th>\n",
       "      <th>female</th>\n",
       "      <th>male</th>\n",
       "      <th></th>\n",
       "    </tr>\n",
       "    <tr>\n",
       "      <th>Survived</th>\n",
       "      <th></th>\n",
       "      <th></th>\n",
       "      <th></th>\n",
       "      <th></th>\n",
       "      <th></th>\n",
       "      <th></th>\n",
       "      <th></th>\n",
       "    </tr>\n",
       "  </thead>\n",
       "  <tbody>\n",
       "    <tr>\n",
       "      <th>0</th>\n",
       "      <td>3</td>\n",
       "      <td>77</td>\n",
       "      <td>6</td>\n",
       "      <td>91</td>\n",
       "      <td>72</td>\n",
       "      <td>300</td>\n",
       "      <td>549</td>\n",
       "    </tr>\n",
       "    <tr>\n",
       "      <th>1</th>\n",
       "      <td>91</td>\n",
       "      <td>45</td>\n",
       "      <td>70</td>\n",
       "      <td>17</td>\n",
       "      <td>72</td>\n",
       "      <td>47</td>\n",
       "      <td>342</td>\n",
       "    </tr>\n",
       "    <tr>\n",
       "      <th>All</th>\n",
       "      <td>94</td>\n",
       "      <td>122</td>\n",
       "      <td>76</td>\n",
       "      <td>108</td>\n",
       "      <td>144</td>\n",
       "      <td>347</td>\n",
       "      <td>891</td>\n",
       "    </tr>\n",
       "  </tbody>\n",
       "</table>\n",
       "</div>"
      ],
      "text/plain": [
       "Pclass        1           2           3       All\n",
       "Sex      female male female male female male     \n",
       "Survived                                         \n",
       "0             3   77      6   91     72  300  549\n",
       "1            91   45     70   17     72   47  342\n",
       "All          94  122     76  108    144  347  891"
      ]
     },
     "execution_count": 24,
     "metadata": {},
     "output_type": "execute_result"
    }
   ],
   "source": [
    "# Create a 3-way table inspecting survival, sex and passenger class\n",
    "surv_sex_class = pd.crosstab(index=titanic_train[\"Survived\"],\n",
    "                            columns=[titanic_train[\"Pclass\"],\n",
    "                                titanic_train[\"Sex\"]],\n",
    "                                margins=True)                 # Include row totals\n",
    "surv_sex_class"
   ]
  },
  {
   "cell_type": "code",
   "execution_count": 25,
   "id": "61f7988c",
   "metadata": {},
   "outputs": [
    {
     "data": {
      "text/html": [
       "<div>\n",
       "<style scoped>\n",
       "    .dataframe tbody tr th:only-of-type {\n",
       "        vertical-align: middle;\n",
       "    }\n",
       "\n",
       "    .dataframe tbody tr th {\n",
       "        vertical-align: top;\n",
       "    }\n",
       "\n",
       "    .dataframe thead th {\n",
       "        text-align: right;\n",
       "    }\n",
       "</style>\n",
       "<table border=\"1\" class=\"dataframe\">\n",
       "  <thead>\n",
       "    <tr style=\"text-align: right;\">\n",
       "      <th>Sex</th>\n",
       "      <th>female</th>\n",
       "      <th>male</th>\n",
       "    </tr>\n",
       "    <tr>\n",
       "      <th>Survived</th>\n",
       "      <th></th>\n",
       "      <th></th>\n",
       "    </tr>\n",
       "  </thead>\n",
       "  <tbody>\n",
       "    <tr>\n",
       "      <th>0</th>\n",
       "      <td>6</td>\n",
       "      <td>91</td>\n",
       "    </tr>\n",
       "    <tr>\n",
       "      <th>1</th>\n",
       "      <td>70</td>\n",
       "      <td>17</td>\n",
       "    </tr>\n",
       "    <tr>\n",
       "      <th>All</th>\n",
       "      <td>76</td>\n",
       "      <td>108</td>\n",
       "    </tr>\n",
       "  </tbody>\n",
       "</table>\n",
       "</div>"
      ],
      "text/plain": [
       "Sex       female  male\n",
       "Survived              \n",
       "0              6    91\n",
       "1             70    17\n",
       "All           76   108"
      ]
     },
     "execution_count": 25,
     "metadata": {},
     "output_type": "execute_result"
    }
   ],
   "source": [
    "# Get the subtable under Pclass 2\n",
    "# The outermost index (Pclass) returns sections of table instead of individual columns\n",
    "surv_sex_class[2]"
   ]
  },
  {
   "cell_type": "code",
   "execution_count": 26,
   "id": "b21d5c1f",
   "metadata": {},
   "outputs": [
    {
     "data": {
      "text/plain": [
       "Survived\n",
       "0       6\n",
       "1      70\n",
       "All    76\n",
       "Name: female, dtype: int64"
      ]
     },
     "execution_count": 26,
     "metadata": {},
     "output_type": "execute_result"
    }
   ],
   "source": [
    "# The secondary column (Sex) cannot be used as a top level index, but it can be used within a Pclass\n",
    "# Get female column within Pclass 2\n",
    "surv_sex_class[2][\"female\"]"
   ]
  },
  {
   "cell_type": "code",
   "execution_count": 27,
   "id": "8d1c6a65",
   "metadata": {},
   "outputs": [
    {
     "data": {
      "text/html": [
       "<div>\n",
       "<style scoped>\n",
       "    .dataframe tbody tr th:only-of-type {\n",
       "        vertical-align: middle;\n",
       "    }\n",
       "\n",
       "    .dataframe tbody tr th {\n",
       "        vertical-align: top;\n",
       "    }\n",
       "\n",
       "    .dataframe thead tr th {\n",
       "        text-align: left;\n",
       "    }\n",
       "\n",
       "    .dataframe thead tr:last-of-type th {\n",
       "        text-align: right;\n",
       "    }\n",
       "</style>\n",
       "<table border=\"1\" class=\"dataframe\">\n",
       "  <thead>\n",
       "    <tr>\n",
       "      <th>Pclass</th>\n",
       "      <th colspan=\"2\" halign=\"left\">1</th>\n",
       "      <th colspan=\"2\" halign=\"left\">2</th>\n",
       "      <th colspan=\"2\" halign=\"left\">3</th>\n",
       "      <th>All</th>\n",
       "    </tr>\n",
       "    <tr>\n",
       "      <th>Sex</th>\n",
       "      <th>female</th>\n",
       "      <th>male</th>\n",
       "      <th>female</th>\n",
       "      <th>male</th>\n",
       "      <th>female</th>\n",
       "      <th>male</th>\n",
       "      <th></th>\n",
       "    </tr>\n",
       "    <tr>\n",
       "      <th>Survived</th>\n",
       "      <th></th>\n",
       "      <th></th>\n",
       "      <th></th>\n",
       "      <th></th>\n",
       "      <th></th>\n",
       "      <th></th>\n",
       "      <th></th>\n",
       "    </tr>\n",
       "  </thead>\n",
       "  <tbody>\n",
       "    <tr>\n",
       "      <th>0</th>\n",
       "      <td>0.031915</td>\n",
       "      <td>0.631148</td>\n",
       "      <td>0.078947</td>\n",
       "      <td>0.842593</td>\n",
       "      <td>0.5</td>\n",
       "      <td>0.864553</td>\n",
       "      <td>0.616162</td>\n",
       "    </tr>\n",
       "    <tr>\n",
       "      <th>1</th>\n",
       "      <td>0.968085</td>\n",
       "      <td>0.368852</td>\n",
       "      <td>0.921053</td>\n",
       "      <td>0.157407</td>\n",
       "      <td>0.5</td>\n",
       "      <td>0.135447</td>\n",
       "      <td>0.383838</td>\n",
       "    </tr>\n",
       "    <tr>\n",
       "      <th>All</th>\n",
       "      <td>1.000000</td>\n",
       "      <td>1.000000</td>\n",
       "      <td>1.000000</td>\n",
       "      <td>1.000000</td>\n",
       "      <td>1.0</td>\n",
       "      <td>1.000000</td>\n",
       "      <td>1.000000</td>\n",
       "    </tr>\n",
       "  </tbody>\n",
       "</table>\n",
       "</div>"
      ],
      "text/plain": [
       "Pclass           1                   2                3                 All\n",
       "Sex         female      male    female      male female      male          \n",
       "Survived                                                                   \n",
       "0         0.031915  0.631148  0.078947  0.842593    0.5  0.864553  0.616162\n",
       "1         0.968085  0.368852  0.921053  0.157407    0.5  0.135447  0.383838\n",
       "All       1.000000  1.000000  1.000000  1.000000    1.0  1.000000  1.000000"
      ]
     },
     "execution_count": 27,
     "metadata": {},
     "output_type": "execute_result"
    }
   ],
   "source": [
    "# Use the division to get the proportion of survival across each column\n",
    "surv_sex_class/surv_sex_class.loc[\"All\"]   # Divide by column totals"
   ]
  },
  {
   "cell_type": "markdown",
   "id": "293041ed",
   "metadata": {},
   "source": [
    "Over 90% of women in 1st class and 2nd class survived, but only 50% of women in 3rd class survived. Men in first class also survived at a greater rate than men in lower classes. Passenger class seems to have a significant impact on survival. This would likely be a convenient variable to use for the prediction model."
   ]
  },
  {
   "cell_type": "markdown",
   "id": "ff2ab040",
   "metadata": {},
   "source": [
    "## 20. Plotting with Pandas\n",
    "Plots in pandas are built in matplotlib."
   ]
  },
  {
   "cell_type": "code",
   "execution_count": 28,
   "id": "dd06747e",
   "metadata": {},
   "outputs": [],
   "source": [
    "import matplotlib"
   ]
  },
  {
   "cell_type": "code",
   "execution_count": 34,
   "id": "0959d99d",
   "metadata": {},
   "outputs": [
    {
     "name": "stdout",
     "output_type": "stream",
     "text": [
      "(53940, 10)\n"
     ]
    },
    {
     "data": {
      "text/html": [
       "<div>\n",
       "<style scoped>\n",
       "    .dataframe tbody tr th:only-of-type {\n",
       "        vertical-align: middle;\n",
       "    }\n",
       "\n",
       "    .dataframe tbody tr th {\n",
       "        vertical-align: top;\n",
       "    }\n",
       "\n",
       "    .dataframe thead th {\n",
       "        text-align: right;\n",
       "    }\n",
       "</style>\n",
       "<table border=\"1\" class=\"dataframe\">\n",
       "  <thead>\n",
       "    <tr style=\"text-align: right;\">\n",
       "      <th></th>\n",
       "      <th>carat</th>\n",
       "      <th>cut</th>\n",
       "      <th>color</th>\n",
       "      <th>clarity</th>\n",
       "      <th>depth</th>\n",
       "      <th>table</th>\n",
       "      <th>price</th>\n",
       "      <th>x</th>\n",
       "      <th>y</th>\n",
       "      <th>z</th>\n",
       "    </tr>\n",
       "  </thead>\n",
       "  <tbody>\n",
       "    <tr>\n",
       "      <th>0</th>\n",
       "      <td>0.23</td>\n",
       "      <td>Ideal</td>\n",
       "      <td>E</td>\n",
       "      <td>SI2</td>\n",
       "      <td>61.5</td>\n",
       "      <td>55.0</td>\n",
       "      <td>326</td>\n",
       "      <td>3.95</td>\n",
       "      <td>3.98</td>\n",
       "      <td>2.43</td>\n",
       "    </tr>\n",
       "    <tr>\n",
       "      <th>1</th>\n",
       "      <td>0.21</td>\n",
       "      <td>Premium</td>\n",
       "      <td>E</td>\n",
       "      <td>SI1</td>\n",
       "      <td>59.8</td>\n",
       "      <td>61.0</td>\n",
       "      <td>326</td>\n",
       "      <td>3.89</td>\n",
       "      <td>3.84</td>\n",
       "      <td>2.31</td>\n",
       "    </tr>\n",
       "    <tr>\n",
       "      <th>2</th>\n",
       "      <td>0.23</td>\n",
       "      <td>Good</td>\n",
       "      <td>E</td>\n",
       "      <td>VS1</td>\n",
       "      <td>56.9</td>\n",
       "      <td>65.0</td>\n",
       "      <td>327</td>\n",
       "      <td>4.05</td>\n",
       "      <td>4.07</td>\n",
       "      <td>2.31</td>\n",
       "    </tr>\n",
       "    <tr>\n",
       "      <th>3</th>\n",
       "      <td>0.29</td>\n",
       "      <td>Premium</td>\n",
       "      <td>I</td>\n",
       "      <td>VS2</td>\n",
       "      <td>62.4</td>\n",
       "      <td>58.0</td>\n",
       "      <td>334</td>\n",
       "      <td>4.20</td>\n",
       "      <td>4.23</td>\n",
       "      <td>2.63</td>\n",
       "    </tr>\n",
       "    <tr>\n",
       "      <th>4</th>\n",
       "      <td>0.31</td>\n",
       "      <td>Good</td>\n",
       "      <td>J</td>\n",
       "      <td>SI2</td>\n",
       "      <td>63.3</td>\n",
       "      <td>58.0</td>\n",
       "      <td>335</td>\n",
       "      <td>4.34</td>\n",
       "      <td>4.35</td>\n",
       "      <td>2.75</td>\n",
       "    </tr>\n",
       "  </tbody>\n",
       "</table>\n",
       "</div>"
      ],
      "text/plain": [
       "   carat      cut color clarity  depth  table  price     x     y     z\n",
       "0   0.23    Ideal     E     SI2   61.5   55.0    326  3.95  3.98  2.43\n",
       "1   0.21  Premium     E     SI1   59.8   61.0    326  3.89  3.84  2.31\n",
       "2   0.23     Good     E     VS1   56.9   65.0    327  4.05  4.07  2.31\n",
       "3   0.29  Premium     I     VS2   62.4   58.0    334  4.20  4.23  2.63\n",
       "4   0.31     Good     J     SI2   63.3   58.0    335  4.34  4.35  2.75"
      ]
     },
     "execution_count": 34,
     "metadata": {},
     "output_type": "execute_result"
    }
   ],
   "source": [
    "diamonds = pd.read_csv(\"C:/Users/Micaela Rodriguez/Documents/GitHub/PythonForDataAnalysis/diamonds.csv\")\n",
    "diamonds = diamonds.drop(\"Unnamed: 0\",axis=1)\n",
    "print(diamonds.shape)   # Check data shape\n",
    "diamonds.head(5)"
   ]
  },
  {
   "cell_type": "markdown",
   "id": "21dc20ea",
   "metadata": {},
   "source": [
    "### Histograms\n",
    "A univariate plot (displays only one variable) that groups a numeric variable into bins and displays the number of observations that fall within each bin. Useful for getting a sense of the distribution. "
   ]
  },
  {
   "cell_type": "code",
   "execution_count": 35,
   "id": "fec47ef4",
   "metadata": {},
   "outputs": [
    {
     "data": {
      "text/plain": [
       "array([[<AxesSubplot:title={'center':'carat'}>]], dtype=object)"
      ]
     },
     "execution_count": 35,
     "metadata": {},
     "output_type": "execute_result"
    },
    {
     "data": {
      "image/png": "[encoded data removed]",
      "text/plain": [
       "<Figure size 576x576 with 1 Axes>"
      ]
     },
     "metadata": {
      "needs_background": "light"
     },
     "output_type": "display_data"
    }
   ],
   "source": [
    "# Create a histogram using df.hist()\n",
    "diamonds.hist(column=\"carat\",    # Column to plot\n",
    "            figsize=(8,8),       # Plot size\n",
    "            color=\"blue\")        # Plot color"
   ]
  },
  {
   "cell_type": "markdown",
   "id": "6dfe18b8",
   "metadata": {},
   "source": [
    "The carat weights are positively skewed: most diamonds are around 1 carat or below but there are extreme cases of larger diamonds."
   ]
  },
  {
   "cell_type": "code",
   "execution_count": 36,
   "id": "ca51d630",
   "metadata": {},
   "outputs": [
    {
     "data": {
      "text/plain": [
       "array([[<AxesSubplot:title={'center':'carat'}>]], dtype=object)"
      ]
     },
     "execution_count": 36,
     "metadata": {},
     "output_type": "execute_result"
    },
    {
     "data": {
      "image/png": "[encoded data removed]",
      "text/plain": [
       "<Figure size 576x576 with 1 Axes>"
      ]
     },
     "metadata": {
      "needs_background": "light"
     },
     "output_type": "display_data"
    }
   ],
   "source": [
    "# Add arguments to control the size of the bins and limits of x-axis\n",
    "diamonds.hist(column=\"carat\",     # Column to plot\n",
    "                figsize=(8,8),    # Plot size\n",
    "                color=\"red\",      # Plot color\n",
    "                bins=50,          # Number of bins\n",
    "                range=(0,3.5))    # Limit x-axis range"
   ]
  },
  {
   "cell_type": "markdown",
   "id": "e72d3226",
   "metadata": {},
   "source": [
    "The second histogram gives a better sense of some subtleties within the distribution, but we can't be sure that it contains all the data. Limiting the X-axis might have cut out some outliers with counts so low that they didn't show up as bars on the original histogram. "
   ]
  },
  {
   "cell_type": "code",
   "execution_count": 37,
   "id": "592a71f2",
   "metadata": {},
   "outputs": [
    {
     "data": {
      "text/html": [
       "<div>\n",
       "<style scoped>\n",
       "    .dataframe tbody tr th:only-of-type {\n",
       "        vertical-align: middle;\n",
       "    }\n",
       "\n",
       "    .dataframe tbody tr th {\n",
       "        vertical-align: top;\n",
       "    }\n",
       "\n",
       "    .dataframe thead th {\n",
       "        text-align: right;\n",
       "    }\n",
       "</style>\n",
       "<table border=\"1\" class=\"dataframe\">\n",
       "  <thead>\n",
       "    <tr style=\"text-align: right;\">\n",
       "      <th></th>\n",
       "      <th>carat</th>\n",
       "      <th>cut</th>\n",
       "      <th>color</th>\n",
       "      <th>clarity</th>\n",
       "      <th>depth</th>\n",
       "      <th>table</th>\n",
       "      <th>price</th>\n",
       "      <th>x</th>\n",
       "      <th>y</th>\n",
       "      <th>z</th>\n",
       "    </tr>\n",
       "  </thead>\n",
       "  <tbody>\n",
       "    <tr>\n",
       "      <th>23644</th>\n",
       "      <td>3.65</td>\n",
       "      <td>Fair</td>\n",
       "      <td>H</td>\n",
       "      <td>I1</td>\n",
       "      <td>67.1</td>\n",
       "      <td>53.0</td>\n",
       "      <td>11668</td>\n",
       "      <td>9.53</td>\n",
       "      <td>9.48</td>\n",
       "      <td>6.38</td>\n",
       "    </tr>\n",
       "    <tr>\n",
       "      <th>25998</th>\n",
       "      <td>4.01</td>\n",
       "      <td>Premium</td>\n",
       "      <td>I</td>\n",
       "      <td>I1</td>\n",
       "      <td>61.0</td>\n",
       "      <td>61.0</td>\n",
       "      <td>15223</td>\n",
       "      <td>10.14</td>\n",
       "      <td>10.10</td>\n",
       "      <td>6.17</td>\n",
       "    </tr>\n",
       "    <tr>\n",
       "      <th>25999</th>\n",
       "      <td>4.01</td>\n",
       "      <td>Premium</td>\n",
       "      <td>J</td>\n",
       "      <td>I1</td>\n",
       "      <td>62.5</td>\n",
       "      <td>62.0</td>\n",
       "      <td>15223</td>\n",
       "      <td>10.02</td>\n",
       "      <td>9.94</td>\n",
       "      <td>6.24</td>\n",
       "    </tr>\n",
       "    <tr>\n",
       "      <th>26444</th>\n",
       "      <td>4.00</td>\n",
       "      <td>Very Good</td>\n",
       "      <td>I</td>\n",
       "      <td>I1</td>\n",
       "      <td>63.3</td>\n",
       "      <td>58.0</td>\n",
       "      <td>15984</td>\n",
       "      <td>10.01</td>\n",
       "      <td>9.94</td>\n",
       "      <td>6.31</td>\n",
       "    </tr>\n",
       "    <tr>\n",
       "      <th>26534</th>\n",
       "      <td>3.67</td>\n",
       "      <td>Premium</td>\n",
       "      <td>I</td>\n",
       "      <td>I1</td>\n",
       "      <td>62.4</td>\n",
       "      <td>56.0</td>\n",
       "      <td>16193</td>\n",
       "      <td>9.86</td>\n",
       "      <td>9.81</td>\n",
       "      <td>6.13</td>\n",
       "    </tr>\n",
       "    <tr>\n",
       "      <th>27130</th>\n",
       "      <td>4.13</td>\n",
       "      <td>Fair</td>\n",
       "      <td>H</td>\n",
       "      <td>I1</td>\n",
       "      <td>64.8</td>\n",
       "      <td>61.0</td>\n",
       "      <td>17329</td>\n",
       "      <td>10.00</td>\n",
       "      <td>9.85</td>\n",
       "      <td>6.43</td>\n",
       "    </tr>\n",
       "    <tr>\n",
       "      <th>27415</th>\n",
       "      <td>5.01</td>\n",
       "      <td>Fair</td>\n",
       "      <td>J</td>\n",
       "      <td>I1</td>\n",
       "      <td>65.5</td>\n",
       "      <td>59.0</td>\n",
       "      <td>18018</td>\n",
       "      <td>10.74</td>\n",
       "      <td>10.54</td>\n",
       "      <td>6.98</td>\n",
       "    </tr>\n",
       "    <tr>\n",
       "      <th>27630</th>\n",
       "      <td>4.50</td>\n",
       "      <td>Fair</td>\n",
       "      <td>J</td>\n",
       "      <td>I1</td>\n",
       "      <td>65.8</td>\n",
       "      <td>58.0</td>\n",
       "      <td>18531</td>\n",
       "      <td>10.23</td>\n",
       "      <td>10.16</td>\n",
       "      <td>6.72</td>\n",
       "    </tr>\n",
       "    <tr>\n",
       "      <th>27679</th>\n",
       "      <td>3.51</td>\n",
       "      <td>Premium</td>\n",
       "      <td>J</td>\n",
       "      <td>VS2</td>\n",
       "      <td>62.5</td>\n",
       "      <td>59.0</td>\n",
       "      <td>18701</td>\n",
       "      <td>9.66</td>\n",
       "      <td>9.63</td>\n",
       "      <td>6.03</td>\n",
       "    </tr>\n",
       "  </tbody>\n",
       "</table>\n",
       "</div>"
      ],
      "text/plain": [
       "       carat        cut color clarity  depth  table  price      x      y     z\n",
       "23644   3.65       Fair     H      I1   67.1   53.0  11668   9.53   9.48  6.38\n",
       "25998   4.01    Premium     I      I1   61.0   61.0  15223  10.14  10.10  6.17\n",
       "25999   4.01    Premium     J      I1   62.5   62.0  15223  10.02   9.94  6.24\n",
       "26444   4.00  Very Good     I      I1   63.3   58.0  15984  10.01   9.94  6.31\n",
       "26534   3.67    Premium     I      I1   62.4   56.0  16193   9.86   9.81  6.13\n",
       "27130   4.13       Fair     H      I1   64.8   61.0  17329  10.00   9.85  6.43\n",
       "27415   5.01       Fair     J      I1   65.5   59.0  18018  10.74  10.54  6.98\n",
       "27630   4.50       Fair     J      I1   65.8   58.0  18531  10.23  10.16  6.72\n",
       "27679   3.51    Premium     J     VS2   62.5   59.0  18701   9.66   9.63  6.03"
      ]
     },
     "execution_count": 37,
     "metadata": {},
     "output_type": "execute_result"
    }
   ],
   "source": [
    "# Check if any diamonds are bigger than 3.5 carats\n",
    "diamonds[diamonds[\"carat\"]>3.5]"
   ]
  },
  {
   "cell_type": "markdown",
   "id": "cc576323",
   "metadata": {},
   "source": [
    "9 diamonds are bigger than 3.5 carats. For future studies it would be better including a note that 9 diamonds lie beyond th e3.5 carats limit, so that the chart won't be misleading."
   ]
  },
  {
   "cell_type": "markdown",
   "id": "a76ebd25",
   "metadata": {},
   "source": [
    "### Boxplots\n",
    "Univariate plot for summarizing distributions of numeric datagraphically. \n",
    "* Central box of the boxplot represents the middle 50% of the observations\n",
    "* Central bar is the median\n",
    "* Whiskers (bars at the end of the dotted lines) encapsulate the great majority of the observations\n",
    "* Circles that lie beyond the whiskers may be outliers "
   ]
  },
  {
   "cell_type": "code",
   "execution_count": 42,
   "id": "91ce6329",
   "metadata": {},
   "outputs": [
    {
     "data": {
      "image/png": "[encoded data removed]",
      "text/plain": [
       "<Figure size 432x288 with 1 Axes>"
      ]
     },
     "metadata": {
      "needs_background": "dark"
     },
     "output_type": "display_data"
    }
   ],
   "source": [
    "boxplot = diamonds.boxplot(column=\"carat\")\n",
    "boxplot.spines[\"bottom\"].set_color(\"white\")\n",
    "boxplot.tick_params(colors=\"white\",which=\"both\")"
   ]
  },
  {
   "cell_type": "markdown",
   "id": "26857208",
   "metadata": {},
   "source": [
    "We see a lot of data points beyond the top whisker. We probably don't want to classify all of them as outliers, but the handful that is bigger than 4 carats are definitely outside the norm. \n",
    "\n",
    "**A side-by-side boxplot takes a numeric variable and splits it on based on some categorical variable, drawing a different boxplot for each level of the categorical variable.**"
   ]
  },
  {
   "cell_type": "code",
   "execution_count": 46,
   "id": "a4964728",
   "metadata": {},
   "outputs": [
    {
     "data": {
      "image/png": "[encoded data removed]",
      "text/plain": [
       "<Figure size 576x576 with 1 Axes>"
      ]
     },
     "metadata": {
      "needs_background": "dark"
     },
     "output_type": "display_data"
    }
   ],
   "source": [
    "# Side-by-side boxplot of diamond price split by diamond clarity\n",
    "boxplot2 = diamonds.boxplot(column=\"price\",      # Column to plot\n",
    "                by=\"clarity\",         # Column to split upon\n",
    "                figsize=(8,8))        # Figure size\n",
    "\n",
    "boxplot2.spines[\"bottom\"].set_color(\"white\")\n",
    "boxplot2.tick_params(colors=\"white\",which=\"both\")\n",
    "boxplot2.xaxis.label.set_color(\"white\")\n",
    "boxplot2.yaxis.label.set_color(\"white\")\n",
    "boxplot2.title.set_color(\"white\")"
   ]
  },
  {
   "cell_type": "markdown",
   "id": "3370a319",
   "metadata": {},
   "source": [
    "We'd expect the diamonds with better clarity to be the ones with higher prices and yet diamonds on the highest end of the clarity spectrum (IF=internally flawless) actually have lower median prices than low clarity diamonds. "
   ]
  },
  {
   "cell_type": "code",
   "execution_count": 48,
   "id": "21cb0531",
   "metadata": {},
   "outputs": [
    {
     "data": {
      "image/png": "[encoded data removed]",
      "text/plain": [
       "<Figure size 504x504 with 1 Axes>"
      ]
     },
     "metadata": {
      "needs_background": "dark"
     },
     "output_type": "display_data"
    }
   ],
   "source": [
    "# Plot carat and density\n",
    "boxplot3 = diamonds.boxplot(column=\"carat\",by=\"clarity\",figsize=(7,7))\n",
    "\n",
    "boxplot3.spines[\"bottom\"].set_color(\"white\")\n",
    "boxplot3.tick_params(colors=\"white\",which=\"both\")\n",
    "boxplot3.xaxis.label.set_color(\"white\")\n",
    "boxplot3.yaxis.label.set_color(\"white\")\n",
    "boxplot3.title.set_color(\"white\")"
   ]
  },
  {
   "cell_type": "markdown",
   "id": "7d67feee",
   "metadata": {},
   "source": [
    "The plot shows that diamonds with low clarity ratings also tend to be larger. Since size is an important factor in determining a diamond's value, it isn't too surprising that low clarity diamonds have higher median prices."
   ]
  },
  {
   "cell_type": "markdown",
   "id": "4b80be80",
   "metadata": {},
   "source": [
    "### Density plots\n",
    "A density plot shows the distribution of a numeric variable with a continuos curve. It is similar to a histogram but without the bins. It gives a better picture of the underlying distribution."
   ]
  },
  {
   "cell_type": "code",
   "execution_count": 49,
   "id": "c49fef31",
   "metadata": {},
   "outputs": [
    {
     "data": {
      "image/png": "[encoded data removed]",
      "text/plain": [
       "<Figure size 504x504 with 1 Axes>"
      ]
     },
     "metadata": {
      "needs_background": "dark"
     },
     "output_type": "display_data"
    }
   ],
   "source": [
    "# Create a density plot with series.plot(kind=\"density\")\n",
    "density1 = diamonds[\"carat\"].plot(kind=\"density\",   # create density plot\n",
    "                                figsize=(7,7),      # set figure size\n",
    "                                xlim=(0,5))         # limit x axis values\n",
    "\n",
    "\n",
    "density1.spines[\"bottom\"].set_color(\"white\")\n",
    "density1.tick_params(colors=\"white\",which=\"both\")\n",
    "density1.xaxis.label.set_color(\"white\")\n",
    "density1.yaxis.label.set_color(\"white\")\n",
    "density1.title.set_color(\"white\")"
   ]
  },
  {
   "cell_type": "code",
   "execution_count": 52,
   "id": "e7068f61",
   "metadata": {},
   "outputs": [],
   "source": [
    "# Create a function that colors the axes, labels and title of a plot to white\n",
    "def plot_white(plot):\n",
    "    plot.spines[\"bottom\"].set_color(\"white\")\n",
    "    plot.tick_params(colors=\"white\",which=\"both\")\n",
    "    plot.xaxis.label.set_color(\"white\")\n",
    "    plot.yaxis.label.set_color(\"white\")\n",
    "    plot.title.set_color(\"white\")"
   ]
  },
  {
   "cell_type": "markdown",
   "id": "891cad54",
   "metadata": {},
   "source": [
    "### Barplots\n",
    "Barplots are graphs that visually display counts of categorical variables. We can create a barplot by creating a table of counts for a certain variable using the pd.crosstable() function and then passing the counts to df.plot(kind=\"bar\")"
   ]
  },
  {
   "cell_type": "code",
   "execution_count": 53,
   "id": "44252051",
   "metadata": {},
   "outputs": [
    {
     "data": {
      "text/html": [
       "<div>\n",
       "<style scoped>\n",
       "    .dataframe tbody tr th:only-of-type {\n",
       "        vertical-align: middle;\n",
       "    }\n",
       "\n",
       "    .dataframe tbody tr th {\n",
       "        vertical-align: top;\n",
       "    }\n",
       "\n",
       "    .dataframe thead th {\n",
       "        text-align: right;\n",
       "    }\n",
       "</style>\n",
       "<table border=\"1\" class=\"dataframe\">\n",
       "  <thead>\n",
       "    <tr style=\"text-align: right;\">\n",
       "      <th>col_0</th>\n",
       "      <th>count</th>\n",
       "    </tr>\n",
       "    <tr>\n",
       "      <th>clarity</th>\n",
       "      <th></th>\n",
       "    </tr>\n",
       "  </thead>\n",
       "  <tbody>\n",
       "    <tr>\n",
       "      <th>I1</th>\n",
       "      <td>741</td>\n",
       "    </tr>\n",
       "    <tr>\n",
       "      <th>IF</th>\n",
       "      <td>1790</td>\n",
       "    </tr>\n",
       "    <tr>\n",
       "      <th>SI1</th>\n",
       "      <td>13065</td>\n",
       "    </tr>\n",
       "    <tr>\n",
       "      <th>SI2</th>\n",
       "      <td>9194</td>\n",
       "    </tr>\n",
       "    <tr>\n",
       "      <th>VS1</th>\n",
       "      <td>8171</td>\n",
       "    </tr>\n",
       "    <tr>\n",
       "      <th>VS2</th>\n",
       "      <td>12258</td>\n",
       "    </tr>\n",
       "    <tr>\n",
       "      <th>VVS1</th>\n",
       "      <td>3655</td>\n",
       "    </tr>\n",
       "    <tr>\n",
       "      <th>VVS2</th>\n",
       "      <td>5066</td>\n",
       "    </tr>\n",
       "  </tbody>\n",
       "</table>\n",
       "</div>"
      ],
      "text/plain": [
       "col_0    count\n",
       "clarity       \n",
       "I1         741\n",
       "IF        1790\n",
       "SI1      13065\n",
       "SI2       9194\n",
       "VS1       8171\n",
       "VS2      12258\n",
       "VVS1      3655\n",
       "VVS2      5066"
      ]
     },
     "execution_count": 53,
     "metadata": {},
     "output_type": "execute_result"
    }
   ],
   "source": [
    "# Create cross table\n",
    "carat_table = pd.crosstab(index=diamonds[\"clarity\"],columns=\"count\")\n",
    "carat_table"
   ]
  },
  {
   "cell_type": "code",
   "execution_count": 54,
   "id": "9f7de905",
   "metadata": {},
   "outputs": [
    {
     "data": {
      "image/png": "[encoded data removed]",
      "text/plain": [
       "<Figure size 504x504 with 1 Axes>"
      ]
     },
     "metadata": {
      "needs_background": "dark"
     },
     "output_type": "display_data"
    }
   ],
   "source": [
    "# Do a bar plot and color it white\n",
    "plot_white(carat_table.plot(kind=\"bar\",figsize=(7,7)))"
   ]
  },
  {
   "cell_type": "code",
   "execution_count": 55,
   "id": "dcb3639f",
   "metadata": {},
   "outputs": [
    {
     "data": {
      "text/html": [
       "<div>\n",
       "<style scoped>\n",
       "    .dataframe tbody tr th:only-of-type {\n",
       "        vertical-align: middle;\n",
       "    }\n",
       "\n",
       "    .dataframe tbody tr th {\n",
       "        vertical-align: top;\n",
       "    }\n",
       "\n",
       "    .dataframe thead th {\n",
       "        text-align: right;\n",
       "    }\n",
       "</style>\n",
       "<table border=\"1\" class=\"dataframe\">\n",
       "  <thead>\n",
       "    <tr style=\"text-align: right;\">\n",
       "      <th>color</th>\n",
       "      <th>D</th>\n",
       "      <th>E</th>\n",
       "      <th>F</th>\n",
       "      <th>G</th>\n",
       "      <th>H</th>\n",
       "      <th>I</th>\n",
       "      <th>J</th>\n",
       "    </tr>\n",
       "    <tr>\n",
       "      <th>clarity</th>\n",
       "      <th></th>\n",
       "      <th></th>\n",
       "      <th></th>\n",
       "      <th></th>\n",
       "      <th></th>\n",
       "      <th></th>\n",
       "      <th></th>\n",
       "    </tr>\n",
       "  </thead>\n",
       "  <tbody>\n",
       "    <tr>\n",
       "      <th>I1</th>\n",
       "      <td>42</td>\n",
       "      <td>102</td>\n",
       "      <td>143</td>\n",
       "      <td>150</td>\n",
       "      <td>162</td>\n",
       "      <td>92</td>\n",
       "      <td>50</td>\n",
       "    </tr>\n",
       "    <tr>\n",
       "      <th>IF</th>\n",
       "      <td>73</td>\n",
       "      <td>158</td>\n",
       "      <td>385</td>\n",
       "      <td>681</td>\n",
       "      <td>299</td>\n",
       "      <td>143</td>\n",
       "      <td>51</td>\n",
       "    </tr>\n",
       "    <tr>\n",
       "      <th>SI1</th>\n",
       "      <td>2083</td>\n",
       "      <td>2426</td>\n",
       "      <td>2131</td>\n",
       "      <td>1976</td>\n",
       "      <td>2275</td>\n",
       "      <td>1424</td>\n",
       "      <td>750</td>\n",
       "    </tr>\n",
       "    <tr>\n",
       "      <th>SI2</th>\n",
       "      <td>1370</td>\n",
       "      <td>1713</td>\n",
       "      <td>1609</td>\n",
       "      <td>1548</td>\n",
       "      <td>1563</td>\n",
       "      <td>912</td>\n",
       "      <td>479</td>\n",
       "    </tr>\n",
       "    <tr>\n",
       "      <th>VS1</th>\n",
       "      <td>705</td>\n",
       "      <td>1281</td>\n",
       "      <td>1364</td>\n",
       "      <td>2148</td>\n",
       "      <td>1169</td>\n",
       "      <td>962</td>\n",
       "      <td>542</td>\n",
       "    </tr>\n",
       "    <tr>\n",
       "      <th>VS2</th>\n",
       "      <td>1697</td>\n",
       "      <td>2470</td>\n",
       "      <td>2201</td>\n",
       "      <td>2347</td>\n",
       "      <td>1643</td>\n",
       "      <td>1169</td>\n",
       "      <td>731</td>\n",
       "    </tr>\n",
       "    <tr>\n",
       "      <th>VVS1</th>\n",
       "      <td>252</td>\n",
       "      <td>656</td>\n",
       "      <td>734</td>\n",
       "      <td>999</td>\n",
       "      <td>585</td>\n",
       "      <td>355</td>\n",
       "      <td>74</td>\n",
       "    </tr>\n",
       "    <tr>\n",
       "      <th>VVS2</th>\n",
       "      <td>553</td>\n",
       "      <td>991</td>\n",
       "      <td>975</td>\n",
       "      <td>1443</td>\n",
       "      <td>608</td>\n",
       "      <td>365</td>\n",
       "      <td>131</td>\n",
       "    </tr>\n",
       "  </tbody>\n",
       "</table>\n",
       "</div>"
      ],
      "text/plain": [
       "color       D     E     F     G     H     I    J\n",
       "clarity                                         \n",
       "I1         42   102   143   150   162    92   50\n",
       "IF         73   158   385   681   299   143   51\n",
       "SI1      2083  2426  2131  1976  2275  1424  750\n",
       "SI2      1370  1713  1609  1548  1563   912  479\n",
       "VS1       705  1281  1364  2148  1169   962  542\n",
       "VS2      1697  2470  2201  2347  1643  1169  731\n",
       "VVS1      252   656   734   999   585   355   74\n",
       "VVS2      553   991   975  1443   608   365  131"
      ]
     },
     "execution_count": 55,
     "metadata": {},
     "output_type": "execute_result"
    }
   ],
   "source": [
    "# Create a stacked barplot to show the distribution of a second categorical variable within each bar\n",
    "carat_table=pd.crosstab(index=diamonds[\"clarity\"],columns=diamonds[\"color\"])\n",
    "carat_table "
   ]
  },
  {
   "cell_type": "code",
   "execution_count": 56,
   "id": "ae356c9a",
   "metadata": {},
   "outputs": [
    {
     "data": {
      "image/png": "[encoded data removed]",
      "text/plain": [
       "<Figure size 504x504 with 1 Axes>"
      ]
     },
     "metadata": {
      "needs_background": "dark"
     },
     "output_type": "display_data"
    }
   ],
   "source": [
    "# Create a stacked plot\n",
    "plot_white (carat_table.plot(kind=\"bar\",figsize=(7,7),stacked=True))"
   ]
  },
  {
   "cell_type": "code",
   "execution_count": 57,
   "id": "ad6651b4",
   "metadata": {},
   "outputs": [
    {
     "data": {
      "image/png": "[encoded data removed]",
      "text/plain": [
       "<Figure size 504x504 with 1 Axes>"
      ]
     },
     "metadata": {
      "needs_background": "dark"
     },
     "output_type": "display_data"
    }
   ],
   "source": [
    "# A grouped barplot is another alternative, it gives each stacked section its own bar\n",
    "plot_white (carat_table.plot(kind=\"bar\",figsize=(7,7),stacked=False))"
   ]
  },
  {
   "cell_type": "markdown",
   "id": "73824e86",
   "metadata": {},
   "source": [
    "### Scatterplots\n",
    "Scatterplots are bivariate (2 variables) plots that take 2 numeric variables and plot data points on the x/y plane. "
   ]
  },
  {
   "cell_type": "code",
   "execution_count": 58,
   "id": "38f23db8",
   "metadata": {},
   "outputs": [
    {
     "data": {
      "image/png": "[encoded data removed]",
      "text/plain": [
       "<Figure size 504x504 with 1 Axes>"
      ]
     },
     "metadata": {
      "needs_background": "dark"
     },
     "output_type": "display_data"
    }
   ],
   "source": [
    "# Create a scatterplot using the df.plot(kind=\"scatter\")\n",
    "plot_white (diamonds.plot(kind=\"scatter\",      # Create scatterplot\n",
    "                x=\"carat\",         # Put carat on the x axis\n",
    "                y=\"price\",         # Put price on the y axis\n",
    "                figsize=(7,7),\n",
    "                ylim=(0,20000)))"
   ]
  },
  {
   "cell_type": "markdown",
   "id": "92528454",
   "metadata": {},
   "source": [
    "Although there are many overlapping points, the plot still gives some insight: bigger diamonds are generally more expensive."
   ]
  },
  {
   "cell_type": "markdown",
   "id": "bc7dcf56",
   "metadata": {},
   "source": [
    "### Line Plots\n",
    "Line plots are charts used to show the change in a numeric variable based on some other ordered variable. Usually they are used to show the evolution of a variable over time. They are the default type of plot when using df.plot()"
   ]
  },
  {
   "cell_type": "code",
   "execution_count": 59,
   "id": "94e19c18",
   "metadata": {},
   "outputs": [
    {
     "data": {
      "image/png": "[encoded data removed]",
      "text/plain": [
       "<Figure size 648x648 with 1 Axes>"
      ]
     },
     "metadata": {
      "needs_background": "dark"
     },
     "output_type": "display_data"
    }
   ],
   "source": [
    "# Create some data\n",
    "years = [y for y in range(1950,2016)]\n",
    "\n",
    "readings = [(y+np.random.uniform(0,20)-1900) for y in years]\n",
    "\n",
    "time_df = pd.DataFrame({\"year\":years,\n",
    "                        \"readings\":readings})\n",
    "\n",
    "# Plot the data\n",
    "plot_white (time_df.plot(x=\"year\",\n",
    "                        y=\"readings\",\n",
    "                        figsize=(9,9)))"
   ]
  },
  {
   "cell_type": "markdown",
   "id": "a6d54939",
   "metadata": {},
   "source": [
    "### Saving plots\n",
    "You can export the plot figure (plot information) to a file. First get the plot figure with plot.get_figure() and then save it with figure.save_figure(\"filename\"). You can save the image as png, jpeg or pdf."
   ]
  },
  {
   "cell_type": "code",
   "execution_count": 62,
   "id": "433f495f",
   "metadata": {},
   "outputs": [
    {
     "data": {
      "image/png": "[encoded data removed]",
      "text/plain": [
       "<Figure size 504x504 with 1 Axes>"
      ]
     },
     "metadata": {
      "needs_background": "light"
     },
     "output_type": "display_data"
    }
   ],
   "source": [
    "# Create a plot\n",
    "my_plot = carat_table.plot(kind=\"bar\",figsize=(7,7),stacked=True)\n",
    "\n",
    "# Get the figure\n",
    "my_figure = my_plot.get_figure()\n",
    "\n",
    "# Save the file\n",
    "my_figure.savefig(\"Diamond_stackedbarplot.png\")"
   ]
  },
  {
   "cell_type": "markdown",
   "id": "c6165b82",
   "metadata": {},
   "source": [
    "## 21. Descriptive statistics\n",
    "Descriptive statistics are measures that summarize important features of data, often with a single number. It's a common next step after cleaning and preparing the data for analysis. "
   ]
  },
  {
   "cell_type": "markdown",
   "id": "6834b0f0",
   "metadata": {},
   "source": [
    "### Measures of center\n",
    "Measures of center give us a sense of the \"middle\" of a numeric variable. Centrality measures give you a sense of a typical value you'd expect to see. Common measures of center are: mean, median and mode."
   ]
  },
  {
   "cell_type": "code",
   "execution_count": 69,
   "id": "0c2aef48",
   "metadata": {},
   "outputs": [
    {
     "data": {
      "text/html": [
       "<div>\n",
       "<style scoped>\n",
       "    .dataframe tbody tr th:only-of-type {\n",
       "        vertical-align: middle;\n",
       "    }\n",
       "\n",
       "    .dataframe tbody tr th {\n",
       "        vertical-align: top;\n",
       "    }\n",
       "\n",
       "    .dataframe thead th {\n",
       "        text-align: right;\n",
       "    }\n",
       "</style>\n",
       "<table border=\"1\" class=\"dataframe\">\n",
       "  <thead>\n",
       "    <tr style=\"text-align: right;\">\n",
       "      <th></th>\n",
       "      <th>mpg</th>\n",
       "      <th>cyl</th>\n",
       "      <th>disp</th>\n",
       "      <th>hp</th>\n",
       "      <th>drat</th>\n",
       "      <th>wt</th>\n",
       "      <th>qsec</th>\n",
       "      <th>vs</th>\n",
       "      <th>am</th>\n",
       "      <th>gear</th>\n",
       "      <th>carb</th>\n",
       "    </tr>\n",
       "    <tr>\n",
       "      <th>model</th>\n",
       "      <th></th>\n",
       "      <th></th>\n",
       "      <th></th>\n",
       "      <th></th>\n",
       "      <th></th>\n",
       "      <th></th>\n",
       "      <th></th>\n",
       "      <th></th>\n",
       "      <th></th>\n",
       "      <th></th>\n",
       "      <th></th>\n",
       "    </tr>\n",
       "  </thead>\n",
       "  <tbody>\n",
       "    <tr>\n",
       "      <th>Mazda RX4</th>\n",
       "      <td>21.0</td>\n",
       "      <td>6</td>\n",
       "      <td>160.0</td>\n",
       "      <td>110</td>\n",
       "      <td>3.90</td>\n",
       "      <td>2.620</td>\n",
       "      <td>16.46</td>\n",
       "      <td>0</td>\n",
       "      <td>1</td>\n",
       "      <td>4</td>\n",
       "      <td>4</td>\n",
       "    </tr>\n",
       "    <tr>\n",
       "      <th>Mazda RX4 Wag</th>\n",
       "      <td>21.0</td>\n",
       "      <td>6</td>\n",
       "      <td>160.0</td>\n",
       "      <td>110</td>\n",
       "      <td>3.90</td>\n",
       "      <td>2.875</td>\n",
       "      <td>17.02</td>\n",
       "      <td>0</td>\n",
       "      <td>1</td>\n",
       "      <td>4</td>\n",
       "      <td>4</td>\n",
       "    </tr>\n",
       "    <tr>\n",
       "      <th>Datsun 710</th>\n",
       "      <td>22.8</td>\n",
       "      <td>4</td>\n",
       "      <td>108.0</td>\n",
       "      <td>93</td>\n",
       "      <td>3.85</td>\n",
       "      <td>2.320</td>\n",
       "      <td>18.61</td>\n",
       "      <td>1</td>\n",
       "      <td>1</td>\n",
       "      <td>4</td>\n",
       "      <td>1</td>\n",
       "    </tr>\n",
       "    <tr>\n",
       "      <th>Hornet 4 Drive</th>\n",
       "      <td>21.4</td>\n",
       "      <td>6</td>\n",
       "      <td>258.0</td>\n",
       "      <td>110</td>\n",
       "      <td>3.08</td>\n",
       "      <td>3.215</td>\n",
       "      <td>19.44</td>\n",
       "      <td>1</td>\n",
       "      <td>0</td>\n",
       "      <td>3</td>\n",
       "      <td>1</td>\n",
       "    </tr>\n",
       "    <tr>\n",
       "      <th>Hornet Sportabout</th>\n",
       "      <td>18.7</td>\n",
       "      <td>8</td>\n",
       "      <td>360.0</td>\n",
       "      <td>175</td>\n",
       "      <td>3.15</td>\n",
       "      <td>3.440</td>\n",
       "      <td>17.02</td>\n",
       "      <td>0</td>\n",
       "      <td>0</td>\n",
       "      <td>3</td>\n",
       "      <td>2</td>\n",
       "    </tr>\n",
       "  </tbody>\n",
       "</table>\n",
       "</div>"
      ],
      "text/plain": [
       "                    mpg  cyl   disp   hp  drat     wt   qsec  vs  am  gear  \\\n",
       "model                                                                        \n",
       "Mazda RX4          21.0    6  160.0  110  3.90  2.620  16.46   0   1     4   \n",
       "Mazda RX4 Wag      21.0    6  160.0  110  3.90  2.875  17.02   0   1     4   \n",
       "Datsun 710         22.8    4  108.0   93  3.85  2.320  18.61   1   1     4   \n",
       "Hornet 4 Drive     21.4    6  258.0  110  3.08  3.215  19.44   1   0     3   \n",
       "Hornet Sportabout  18.7    8  360.0  175  3.15  3.440  17.02   0   0     3   \n",
       "\n",
       "                   carb  \n",
       "model                    \n",
       "Mazda RX4             4  \n",
       "Mazda RX4 Wag         4  \n",
       "Datsun 710            1  \n",
       "Hornet 4 Drive        1  \n",
       "Hornet Sportabout     2  "
      ]
     },
     "execution_count": 69,
     "metadata": {},
     "output_type": "execute_result"
    }
   ],
   "source": [
    "# Read mtcars\n",
    "mtcars = pd.read_csv(\"C:/Users/Micaela Rodriguez/Documents/GitHub/PythonForDataAnalysis/mtcars.csv\")\n",
    "mtcars = mtcars.rename(columns={\"Unnamed: 0\":\"model\"})\n",
    "mtcars.index=mtcars.model\n",
    "del mtcars[\"model\"]\n",
    "mtcars.head()"
   ]
  },
  {
   "cell_type": "code",
   "execution_count": 70,
   "id": "afdac5e6",
   "metadata": {},
   "outputs": [
    {
     "data": {
      "text/plain": [
       "mpg      20.090625\n",
       "cyl       6.187500\n",
       "disp    230.721875\n",
       "hp      146.687500\n",
       "drat      3.596563\n",
       "wt        3.217250\n",
       "qsec     17.848750\n",
       "vs        0.437500\n",
       "am        0.406250\n",
       "gear      3.687500\n",
       "carb      2.812500\n",
       "dtype: float64"
      ]
     },
     "execution_count": 70,
     "metadata": {},
     "output_type": "execute_result"
    }
   ],
   "source": [
    "# Get the mean of each column\n",
    "mtcars.mean()"
   ]
  },
  {
   "cell_type": "code",
   "execution_count": 72,
   "id": "4d199187",
   "metadata": {},
   "outputs": [
    {
     "data": {
      "text/plain": [
       "model\n",
       "Mazda RX4            29.907273\n",
       "Mazda RX4 Wag        29.981364\n",
       "Datsun 710           23.598182\n",
       "Hornet 4 Drive       38.739545\n",
       "Hornet Sportabout    53.664545\n",
       "dtype: float64"
      ]
     },
     "execution_count": 72,
     "metadata": {},
     "output_type": "execute_result"
    }
   ],
   "source": [
    "# Supply an axis argument to get the mean of each row\n",
    "mtcars.mean(axis=1).head(5)"
   ]
  },
  {
   "cell_type": "markdown",
   "id": "3985f338",
   "metadata": {},
   "source": [
    "The median is the value where 50% of the data lines below it and 50% lies above it. The meadian splits the data in half. It's the 50% percentile. "
   ]
  },
  {
   "cell_type": "code",
   "execution_count": 73,
   "id": "715dd83b",
   "metadata": {},
   "outputs": [
    {
     "data": {
      "text/plain": [
       "mpg      19.200\n",
       "cyl       6.000\n",
       "disp    196.300\n",
       "hp      123.000\n",
       "drat      3.695\n",
       "wt        3.325\n",
       "qsec     17.710\n",
       "vs        0.000\n",
       "am        0.000\n",
       "gear      4.000\n",
       "carb      2.000\n",
       "dtype: float64"
      ]
     },
     "execution_count": 73,
     "metadata": {},
     "output_type": "execute_result"
    }
   ],
   "source": [
    "# Get the median with the df.median()\n",
    "mtcars.median()"
   ]
  },
  {
   "cell_type": "markdown",
   "id": "59b93fe7",
   "metadata": {},
   "source": [
    "The mean and median are both so close to zero that the red median line lies on top of the thicker black line drawn at the mean."
   ]
  },
  {
   "cell_type": "code",
   "execution_count": 75,
   "id": "b3915711",
   "metadata": {},
   "outputs": [
    {
     "data": {
      "text/plain": [
       "<matplotlib.collections.LineCollection at 0x2156dddcac0>"
      ]
     },
     "execution_count": 75,
     "metadata": {},
     "output_type": "execute_result"
    },
    {
     "data": {
      "image/png": "[encoded data removed]",
      "text/plain": [
       "<Figure size 720x720 with 1 Axes>"
      ]
     },
     "metadata": {
      "needs_background": "light"
     },
     "output_type": "display_data"
    }
   ],
   "source": [
    "import matplotlib.pyplot as plt\n",
    "\n",
    "norm_data = pd.DataFrame(np.random.normal(size=100000))\n",
    "\n",
    "norm_data.plot(kind=\"density\",\n",
    "              figsize=(10,10));\n",
    "\n",
    "\n",
    "plt.vlines(norm_data.mean(),     # Plot black line at mean\n",
    "           ymin=0, \n",
    "           ymax=0.4,\n",
    "           linewidth=5.0);\n",
    "\n",
    "plt.vlines(norm_data.median(),   # Plot red line at median\n",
    "           ymin=0, \n",
    "           ymax=0.4, \n",
    "           linewidth=2.0,\n",
    "           color=\"red\")"
   ]
  },
  {
   "cell_type": "markdown",
   "id": "5c672732",
   "metadata": {},
   "source": [
    "In skewed distributions, the mean tends to get pulled in the direction of the skew, while the median tends to resist the effects of skew."
   ]
  },
  {
   "cell_type": "code",
   "execution_count": 76,
   "id": "9f46363f",
   "metadata": {},
   "outputs": [
    {
     "data": {
      "text/plain": [
       "<matplotlib.collections.LineCollection at 0x2156d89b070>"
      ]
     },
     "execution_count": 76,
     "metadata": {},
     "output_type": "execute_result"
    },
    {
     "data": {
      "image/png": "[encoded data removed]",
      "text/plain": [
       "<Figure size 720x720 with 1 Axes>"
      ]
     },
     "metadata": {
      "needs_background": "light"
     },
     "output_type": "display_data"
    }
   ],
   "source": [
    "skewed_data = pd.DataFrame(np.random.exponential(size=100000))\n",
    "\n",
    "skewed_data.plot(kind=\"density\",\n",
    "              figsize=(10,10),\n",
    "              xlim=(-1,5));\n",
    "\n",
    "\n",
    "plt.vlines(skewed_data.mean(),     # Plot black line at mean\n",
    "           ymin=0, \n",
    "           ymax=0.8,\n",
    "           linewidth=5.0);\n",
    "\n",
    "plt.vlines(skewed_data.median(),   # Plot red line at median\n",
    "           ymin=0, \n",
    "           ymax=0.8, \n",
    "           linewidth=2.0,\n",
    "           color=\"red\")"
   ]
  },
  {
   "cell_type": "markdown",
   "id": "1ffd2a01",
   "metadata": {},
   "source": [
    "The mean is also influenced by outliers, while the median also resists the influence of outliers."
   ]
  },
  {
   "cell_type": "code",
   "execution_count": 77,
   "id": "c93caa1a",
   "metadata": {},
   "outputs": [
    {
     "data": {
      "text/plain": [
       "<matplotlib.collections.LineCollection at 0x2156dde2520>"
      ]
     },
     "execution_count": 77,
     "metadata": {},
     "output_type": "execute_result"
    },
    {
     "data": {
      "image/png": "[encoded data removed]",
      "text/plain": [
       "<Figure size 720x720 with 1 Axes>"
      ]
     },
     "metadata": {
      "needs_background": "light"
     },
     "output_type": "display_data"
    }
   ],
   "source": [
    "norm_data = np.random.normal(size=50)\n",
    "outliers = np.random.normal(15, size=3)\n",
    "combined_data = pd.DataFrame(np.concatenate((norm_data, outliers), axis=0))\n",
    "\n",
    "combined_data.plot(kind=\"density\",\n",
    "              figsize=(10,10),\n",
    "              xlim=(-5,20));\n",
    "\n",
    "\n",
    "plt.vlines(combined_data.mean(),     # Plot black line at mean\n",
    "           ymin=0, \n",
    "           ymax=0.2,\n",
    "           linewidth=5.0);\n",
    "\n",
    "plt.vlines(combined_data.median(),   # Plot red line at median\n",
    "           ymin=0, \n",
    "           ymax=0.2, \n",
    "           linewidth=2.0,\n",
    "           color=\"red\")"
   ]
  },
  {
   "cell_type": "markdown",
   "id": "b47df55d",
   "metadata": {},
   "source": [
    "**Since the median tends to resist the effects of skewness and outliers, it is known a \"robust\" statistic. The median generally gives a better sense of the typical value in a distribution with significant skew or outliers.**\n",
    "\n",
    "The mode of a variable is simply the value that appears most frequently. Unlike mean and median, you can take the mode of a categorical variable and it is possible to have multiple modes. Find the mode with df.mode()"
   ]
  },
  {
   "cell_type": "code",
   "execution_count": 79,
   "id": "9cf044c7",
   "metadata": {},
   "outputs": [
    {
     "data": {
      "text/html": [
       "<div>\n",
       "<style scoped>\n",
       "    .dataframe tbody tr th:only-of-type {\n",
       "        vertical-align: middle;\n",
       "    }\n",
       "\n",
       "    .dataframe tbody tr th {\n",
       "        vertical-align: top;\n",
       "    }\n",
       "\n",
       "    .dataframe thead th {\n",
       "        text-align: right;\n",
       "    }\n",
       "</style>\n",
       "<table border=\"1\" class=\"dataframe\">\n",
       "  <thead>\n",
       "    <tr style=\"text-align: right;\">\n",
       "      <th></th>\n",
       "      <th>mpg</th>\n",
       "      <th>cyl</th>\n",
       "      <th>disp</th>\n",
       "      <th>hp</th>\n",
       "      <th>drat</th>\n",
       "      <th>wt</th>\n",
       "      <th>qsec</th>\n",
       "      <th>vs</th>\n",
       "      <th>am</th>\n",
       "      <th>gear</th>\n",
       "      <th>carb</th>\n",
       "    </tr>\n",
       "  </thead>\n",
       "  <tbody>\n",
       "    <tr>\n",
       "      <th>0</th>\n",
       "      <td>10.4</td>\n",
       "      <td>8.0</td>\n",
       "      <td>275.8</td>\n",
       "      <td>110.0</td>\n",
       "      <td>3.07</td>\n",
       "      <td>3.44</td>\n",
       "      <td>17.02</td>\n",
       "      <td>0.0</td>\n",
       "      <td>0.0</td>\n",
       "      <td>3.0</td>\n",
       "      <td>2.0</td>\n",
       "    </tr>\n",
       "    <tr>\n",
       "      <th>1</th>\n",
       "      <td>15.2</td>\n",
       "      <td>NaN</td>\n",
       "      <td>NaN</td>\n",
       "      <td>175.0</td>\n",
       "      <td>3.92</td>\n",
       "      <td>NaN</td>\n",
       "      <td>18.90</td>\n",
       "      <td>NaN</td>\n",
       "      <td>NaN</td>\n",
       "      <td>NaN</td>\n",
       "      <td>4.0</td>\n",
       "    </tr>\n",
       "    <tr>\n",
       "      <th>2</th>\n",
       "      <td>19.2</td>\n",
       "      <td>NaN</td>\n",
       "      <td>NaN</td>\n",
       "      <td>180.0</td>\n",
       "      <td>NaN</td>\n",
       "      <td>NaN</td>\n",
       "      <td>NaN</td>\n",
       "      <td>NaN</td>\n",
       "      <td>NaN</td>\n",
       "      <td>NaN</td>\n",
       "      <td>NaN</td>\n",
       "    </tr>\n",
       "    <tr>\n",
       "      <th>3</th>\n",
       "      <td>21.0</td>\n",
       "      <td>NaN</td>\n",
       "      <td>NaN</td>\n",
       "      <td>NaN</td>\n",
       "      <td>NaN</td>\n",
       "      <td>NaN</td>\n",
       "      <td>NaN</td>\n",
       "      <td>NaN</td>\n",
       "      <td>NaN</td>\n",
       "      <td>NaN</td>\n",
       "      <td>NaN</td>\n",
       "    </tr>\n",
       "    <tr>\n",
       "      <th>4</th>\n",
       "      <td>21.4</td>\n",
       "      <td>NaN</td>\n",
       "      <td>NaN</td>\n",
       "      <td>NaN</td>\n",
       "      <td>NaN</td>\n",
       "      <td>NaN</td>\n",
       "      <td>NaN</td>\n",
       "      <td>NaN</td>\n",
       "      <td>NaN</td>\n",
       "      <td>NaN</td>\n",
       "      <td>NaN</td>\n",
       "    </tr>\n",
       "    <tr>\n",
       "      <th>5</th>\n",
       "      <td>22.8</td>\n",
       "      <td>NaN</td>\n",
       "      <td>NaN</td>\n",
       "      <td>NaN</td>\n",
       "      <td>NaN</td>\n",
       "      <td>NaN</td>\n",
       "      <td>NaN</td>\n",
       "      <td>NaN</td>\n",
       "      <td>NaN</td>\n",
       "      <td>NaN</td>\n",
       "      <td>NaN</td>\n",
       "    </tr>\n",
       "    <tr>\n",
       "      <th>6</th>\n",
       "      <td>30.4</td>\n",
       "      <td>NaN</td>\n",
       "      <td>NaN</td>\n",
       "      <td>NaN</td>\n",
       "      <td>NaN</td>\n",
       "      <td>NaN</td>\n",
       "      <td>NaN</td>\n",
       "      <td>NaN</td>\n",
       "      <td>NaN</td>\n",
       "      <td>NaN</td>\n",
       "      <td>NaN</td>\n",
       "    </tr>\n",
       "  </tbody>\n",
       "</table>\n",
       "</div>"
      ],
      "text/plain": [
       "    mpg  cyl   disp     hp  drat    wt   qsec   vs   am  gear  carb\n",
       "0  10.4  8.0  275.8  110.0  3.07  3.44  17.02  0.0  0.0   3.0   2.0\n",
       "1  15.2  NaN    NaN  175.0  3.92   NaN  18.90  NaN  NaN   NaN   4.0\n",
       "2  19.2  NaN    NaN  180.0   NaN   NaN    NaN  NaN  NaN   NaN   NaN\n",
       "3  21.0  NaN    NaN    NaN   NaN   NaN    NaN  NaN  NaN   NaN   NaN\n",
       "4  21.4  NaN    NaN    NaN   NaN   NaN    NaN  NaN  NaN   NaN   NaN\n",
       "5  22.8  NaN    NaN    NaN   NaN   NaN    NaN  NaN  NaN   NaN   NaN\n",
       "6  30.4  NaN    NaN    NaN   NaN   NaN    NaN  NaN  NaN   NaN   NaN"
      ]
     },
     "execution_count": 79,
     "metadata": {},
     "output_type": "execute_result"
    }
   ],
   "source": [
    "# Get the mode\n",
    "# The columns with multiple modes (multiple values with the same count) return multiple values as the mode. \n",
    "# Columns with no mode (no value that appears more than once) return NaN\n",
    "mtcars.mode()"
   ]
  },
  {
   "cell_type": "markdown",
   "id": "10c45e97",
   "metadata": {},
   "source": [
    "### Measures of Spread\n",
    "Measures of spread (dispersion) are statistics that describe how data varies. While measures of center give us an idea of the typical value, measures of spread give us a sense of how much the data tends to diverge from the typical value.\n",
    "\n",
    "One of the simplest measures of spread is the range. Range is the distance between the maximum and minimum observations."
   ]
  },
  {
   "cell_type": "code",
   "execution_count": 80,
   "id": "c75ef303",
   "metadata": {},
   "outputs": [
    {
     "data": {
      "text/plain": [
       "23.5"
      ]
     },
     "execution_count": 80,
     "metadata": {},
     "output_type": "execute_result"
    }
   ],
   "source": [
    "# Get the range\n",
    "max(mtcars[\"mpg\"]) - min(mtcars[\"mpg\"])"
   ]
  },
  {
   "cell_type": "markdown",
   "id": "f1afc3df",
   "metadata": {},
   "source": [
    "As noted earlier, the median represents the 50th percentile of a data set. A summary of several percentiles can be used to describe a variable's spread. We can extract the minimum value (0th percentile), first quartile (25th percentile), median, third quartile(75th percentile) and maximum value (100th percentile) using the quantile() function."
   ]
  },
  {
   "cell_type": "code",
   "execution_count": 81,
   "id": "cf4343c7",
   "metadata": {},
   "outputs": [
    {
     "data": {
      "text/plain": [
       "[10.4, 15.425, 19.2, 22.8, 33.9]"
      ]
     },
     "execution_count": 81,
     "metadata": {},
     "output_type": "execute_result"
    }
   ],
   "source": [
    "# Quantile() function\n",
    "# These five numbers are known as the \"five number summary\"\n",
    "\n",
    "five_num = [mtcars[\"mpg\"].quantile(0),   \n",
    "            mtcars[\"mpg\"].quantile(0.25),\n",
    "            mtcars[\"mpg\"].quantile(0.50),\n",
    "            mtcars[\"mpg\"].quantile(0.75),\n",
    "            mtcars[\"mpg\"].quantile(1)]\n",
    "\n",
    "five_num"
   ]
  },
  {
   "cell_type": "code",
   "execution_count": 82,
   "id": "2910b007",
   "metadata": {},
   "outputs": [
    {
     "data": {
      "text/plain": [
       "count    32.000000\n",
       "mean     20.090625\n",
       "std       6.026948\n",
       "min      10.400000\n",
       "25%      15.425000\n",
       "50%      19.200000\n",
       "75%      22.800000\n",
       "max      33.900000\n",
       "Name: mpg, dtype: float64"
      ]
     },
     "execution_count": 82,
     "metadata": {},
     "output_type": "execute_result"
    }
   ],
   "source": [
    "# Use the describe() function\n",
    "mtcars[\"mpg\"].describe()"
   ]
  },
  {
   "cell_type": "code",
   "execution_count": 83,
   "id": "8aef6876",
   "metadata": {},
   "outputs": [
    {
     "data": {
      "text/plain": [
       "7.375"
      ]
     },
     "execution_count": 83,
     "metadata": {},
     "output_type": "execute_result"
    }
   ],
   "source": [
    "# Interquartile (IQR) range is another common measure of spread. \n",
    "# IQR is the distance between the 3rd quartile and the 1st quartile\n",
    "mtcars[\"mpg\"].quantile(0.75) - mtcars[\"mpg\"].quantile(0.25)"
   ]
  },
  {
   "cell_type": "code",
   "execution_count": 84,
   "id": "ab07e0fe",
   "metadata": {},
   "outputs": [
    {
     "data": {
      "text/plain": [
       "Text(0.7, 19.5, 'IQR')"
      ]
     },
     "execution_count": 84,
     "metadata": {},
     "output_type": "execute_result"
    },
    {
     "data": {
      "image/png": "[encoded data removed]",
      "text/plain": [
       "<Figure size 576x576 with 1 Axes>"
      ]
     },
     "metadata": {
      "needs_background": "light"
     },
     "output_type": "display_data"
    }
   ],
   "source": [
    "# Boxplots are summaries of the spread\n",
    "mtcars.boxplot(column=\"mpg\",\n",
    "               return_type='axes',\n",
    "               figsize=(8,8))\n",
    "\n",
    "plt.text(x=0.74, y=22.25, s=\"3rd Quartile\")\n",
    "plt.text(x=0.8, y=18.75, s=\"Median\")\n",
    "plt.text(x=0.75, y=15.5, s=\"1st Quartile\")\n",
    "plt.text(x=0.9, y=10, s=\"Min\")\n",
    "plt.text(x=0.9, y=33.5, s=\"Max\")\n",
    "plt.text(x=0.7, y=19.5, s=\"IQR\", rotation=90, size=25)"
   ]
  },
  {
   "cell_type": "code",
   "execution_count": 85,
   "id": "cb31984f",
   "metadata": {},
   "outputs": [
    {
     "data": {
      "text/plain": [
       "36.32410282258065"
      ]
     },
     "execution_count": 85,
     "metadata": {},
     "output_type": "execute_result"
    }
   ],
   "source": [
    "# The variance of a distribution is the average of the squared deviations (differences) from the mean. \n",
    "# Use df.var() to check variance\n",
    "mtcars[\"mpg\"].var()"
   ]
  },
  {
   "cell_type": "code",
   "execution_count": 86,
   "id": "278519ee",
   "metadata": {},
   "outputs": [
    {
     "data": {
      "text/plain": [
       "6.026948052089105"
      ]
     },
     "execution_count": 86,
     "metadata": {},
     "output_type": "execute_result"
    }
   ],
   "source": [
    "# The standard deviation is the square root of the variance. \n",
    "# Standard deviation can be more interpretable than variance, \n",
    "# since the standard deviation is expressed in terms of the same units as the variable in question \n",
    "# while variance is expressed in terms of units squared. \n",
    "# Use df.std() to check the standard deviation\n",
    "mtcars[\"mpg\"].std()"
   ]
  },
  {
   "cell_type": "markdown",
   "id": "1a787b8d",
   "metadata": {},
   "source": [
    "Since variance and standard deviation are both derived from the mean, **they are susceptible to the influence of data skew and outliers**. Median absolute deviation is an alternative measure of spread based on the median, which inherits the median's robustness against the influence of skew and outliers. It is the median of the absolute value of the deviations from the median."
   ]
  },
  {
   "cell_type": "code",
   "execution_count": 87,
   "id": "2d03b095",
   "metadata": {},
   "outputs": [
    {
     "data": {
      "text/plain": [
       "5.411490000000001"
      ]
     },
     "execution_count": 87,
     "metadata": {},
     "output_type": "execute_result"
    }
   ],
   "source": [
    "# Calculate the MAD\n",
    "abs_median_devs = abs(mtcars[\"mpg\"] - mtcars[\"mpg\"].median())\n",
    "\n",
    "abs_median_devs.median() * 1.4826"
   ]
  },
  {
   "cell_type": "markdown",
   "id": "96622f77",
   "metadata": {},
   "source": [
    "### Skewness and Kurtosis\n",
    "Beyond measures of center and spread, descriptive statistics include measures that give you a sense of the shape of a distribution. \n",
    "* Skewness measures the skew or asymmetry of a distribution\n",
    "* Kurtosis measures how much data is in the tails of a distribution v.s. the center. \n",
    "\n",
    "We won't go into the exact calculations behind skewness and kurtosis, but they are essentially just statistics that take the idea of variance a step further: while variance involves squaring deviations from the mean, skewness involves cubing deviations from the mean and kurtosis involves raising deviations from the mean to the 4th power.\n",
    "\n",
    "Pandas has built in functions for checking skewness and kurtosis, df.skew() and df.kurt() respectively."
   ]
  },
  {
   "cell_type": "code",
   "execution_count": 89,
   "id": "63f9aec4",
   "metadata": {},
   "outputs": [
    {
     "name": "stdout",
     "output_type": "stream",
     "text": [
      "0.6723771376290805\n",
      "-0.0220062914240855\n"
     ]
    }
   ],
   "source": [
    "# Skewness\n",
    "print (mtcars[\"mpg\"].skew())\n",
    "\n",
    "# Kurtosis\n",
    "print (mtcars[\"mpg\"].kurt())"
   ]
  },
  {
   "cell_type": "code",
   "execution_count": 90,
   "id": "c8088395",
   "metadata": {},
   "outputs": [
    {
     "data": {
      "text/plain": [
       "<AxesSubplot:ylabel='Density'>"
      ]
     },
     "execution_count": 90,
     "metadata": {},
     "output_type": "execute_result"
    },
    {
     "data": {
      "image/png": "[encoded data removed]",
      "text/plain": [
       "<Figure size 720x720 with 1 Axes>"
      ]
     },
     "metadata": {
      "needs_background": "light"
     },
     "output_type": "display_data"
    }
   ],
   "source": [
    "# Create some dummy data to show these variables\n",
    "norm_data = np.random.normal(size=100000)\n",
    "skewed_data = np.concatenate((np.random.normal(size=35000)+2, \n",
    "                             np.random.exponential(size=65000)), \n",
    "                             axis=0)\n",
    "uniform_data = np.random.uniform(0,2, size=100000)\n",
    "peaked_data = np.concatenate((np.random.exponential(size=50000),\n",
    "                             np.random.exponential(size=50000)*(-1)),\n",
    "                             axis=0)\n",
    "\n",
    "data_df = pd.DataFrame({\"norm\":norm_data,\n",
    "                       \"skewed\":skewed_data,\n",
    "                       \"uniform\":uniform_data,\n",
    "                        \"peaked\":peaked_data})\n",
    "\n",
    "data_df.plot(kind=\"density\",\n",
    "            figsize=(10,10),\n",
    "            xlim=(-5,5))"
   ]
  },
  {
   "cell_type": "markdown",
   "id": "47cd2050",
   "metadata": {},
   "source": [
    "Now let's check the skewness of each of the distributions. Since skewness measures asymmetry, we'd expect to see low skewness for all of the distributions except the skewed one, because all the others are roughly symmetric."
   ]
  },
  {
   "cell_type": "code",
   "execution_count": 91,
   "id": "6ef3a124",
   "metadata": {},
   "outputs": [
    {
     "data": {
      "text/plain": [
       "norm       0.002765\n",
       "skewed     1.025063\n",
       "uniform   -0.003500\n",
       "peaked     0.020483\n",
       "dtype: float64"
      ]
     },
     "execution_count": 91,
     "metadata": {},
     "output_type": "execute_result"
    }
   ],
   "source": [
    "data_df.skew()"
   ]
  },
  {
   "cell_type": "code",
   "execution_count": 92,
   "id": "253e2004",
   "metadata": {},
   "outputs": [
    {
     "data": {
      "text/plain": [
       "norm      -0.014158\n",
       "skewed     1.487789\n",
       "uniform   -1.199212\n",
       "peaked     3.094139\n",
       "dtype: float64"
      ]
     },
     "execution_count": 92,
     "metadata": {},
     "output_type": "execute_result"
    }
   ],
   "source": [
    "data_df.kurt()"
   ]
  },
  {
   "cell_type": "markdown",
   "id": "4a2dc29c",
   "metadata": {},
   "source": [
    "As we can see from the output, the normally distributed data has a kurtosis near zero, the flat distribution has negative kurtosis and the two distributions with more data in the tails vs the center have higher kurtosis."
   ]
  },
  {
   "cell_type": "markdown",
   "id": "306e14d2",
   "metadata": {},
   "source": [
    "## 22. Probability Distributions"
   ]
  },
  {
   "cell_type": "markdown",
   "id": "3210140e",
   "metadata": {},
   "source": []
  }
 ],
 "metadata": {
  "kernelspec": {
   "display_name": "Python 3",
   "language": "python",
   "name": "python3"
  },
  "language_info": {
   "codemirror_mode": {
    "name": "ipython",
    "version": 3
   },
   "file_extension": ".py",
   "mimetype": "text/x-python",
   "name": "python",
   "nbconvert_exporter": "python",
   "pygments_lexer": "ipython3",
   "version": "3.8.8"
  },
  "toc-showcode": false
 },
 "nbformat": 4,
 "nbformat_minor": 5
}
